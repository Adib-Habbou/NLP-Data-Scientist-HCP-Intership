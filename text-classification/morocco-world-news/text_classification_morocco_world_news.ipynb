{
  "nbformat": 4,
  "nbformat_minor": 0,
  "metadata": {
    "colab": {
      "name": "text_classification_morocco_world_news.ipynb",
      "provenance": [],
      "collapsed_sections": []
    },
    "kernelspec": {
      "name": "python3",
      "display_name": "Python 3"
    },
    "language_info": {
      "name": "python"
    }
  },
  "cells": [
    {
      "cell_type": "markdown",
      "source": [
        "## Importation des librairies nécessaires"
      ],
      "metadata": {
        "id": "3VGxLkuNEPo9"
      }
    },
    {
      "cell_type": "code",
      "source": [
        "import pandas as pd\n",
        "import numpy as np\n",
        "import pickle\n",
        "import re"
      ],
      "metadata": {
        "id": "X0Kt4BqaAHKG"
      },
      "execution_count": 24,
      "outputs": []
    },
    {
      "cell_type": "code",
      "source": [
        "import nltk\n",
        "from nltk.corpus import stopwords\n",
        "from nltk.stem import WordNetLemmatizer"
      ],
      "metadata": {
        "id": "ml0LMlaGJa3F"
      },
      "execution_count": 25,
      "outputs": []
    },
    {
      "cell_type": "code",
      "source": [
        "from sklearn.feature_extraction.text import CountVectorizer\n",
        "from sklearn.feature_extraction.text import TfidfTransformer\n",
        "from sklearn.model_selection import train_test_split\n",
        "from sklearn.ensemble import RandomForestClassifier\n",
        "from sklearn.metrics import classification_report, accuracy_score"
      ],
      "metadata": {
        "id": "Ybsqw1YzJbPK"
      },
      "execution_count": 26,
      "outputs": []
    },
    {
      "cell_type": "markdown",
      "source": [
        "## Importation des données"
      ],
      "metadata": {
        "id": "nOXia9l1EXIl"
      }
    },
    {
      "cell_type": "code",
      "source": [
        "data = pd.read_csv('morocco_world_news_articles.csv')\n",
        "X, y = data.content, data.category"
      ],
      "metadata": {
        "id": "u175dOiV8fj9"
      },
      "execution_count": 27,
      "outputs": []
    },
    {
      "cell_type": "markdown",
      "source": [
        "## Visualisation des catégories"
      ],
      "metadata": {
        "id": "fvg8xKC8Hhh3"
      }
    },
    {
      "cell_type": "code",
      "source": [
        "data.groupby('category').count().plot.bar(ylim=0)"
      ],
      "metadata": {
        "colab": {
          "base_uri": "https://localhost:8080/",
          "height": 362
        },
        "id": "kcj47t2dHg82",
        "outputId": "c99ed7c1-fd9f-490f-f25e-ba58010237c2"
      },
      "execution_count": 28,
      "outputs": [
        {
          "output_type": "execute_result",
          "data": {
            "text/plain": [
              "<matplotlib.axes._subplots.AxesSubplot at 0x7fa03e128cd0>"
            ]
          },
          "metadata": {},
          "execution_count": 28
        },
        {
          "output_type": "display_data",
          "data": {
            "text/plain": [
              "<Figure size 432x288 with 1 Axes>"
            ],
            "image/png": "[encoded data removed]"
          },
          "metadata": {
            "needs_background": "light"
          }
        }
      ]
    },
    {
      "cell_type": "markdown",
      "source": [
        "## Preprocessing des données"
      ],
      "metadata": {
        "id": "V2y34duNEeyS"
      }
    },
    {
      "cell_type": "code",
      "source": [
        "stemmer = WordNetLemmatizer()\n",
        "\n",
        "documents = []\n",
        "\n",
        "for sen in range(0, len(X)):\n",
        "  # suppresion des caractères spéciaux\n",
        "  document = re.sub(r'\\W', ' ', str(X[sen]))\n",
        "  # suppresion des caractères uniques\n",
        "  document = re.sub(r'\\s+[a-zA-Z]\\s+', ' ', document)\n",
        "  document = re.sub(r'\\^[a-zA-Z]\\s+', ' ', document) \n",
        "  # suppresion des espaces multiples\n",
        "  document = re.sub(r'\\s+', ' ', document, flags=re.I)\n",
        "  # suppresion des préfixes b\n",
        "  document = re.sub(r'^b\\s+', '', document)\n",
        "  # concersion en minuscule\n",
        "  document = document.lower()\n",
        "  # lemmatisation\n",
        "  document = document.split()\n",
        "  document = [stemmer.lemmatize(word) for word in document]\n",
        "  document = ' '.join(document)\n",
        "  # ajout à la liste\n",
        "  documents.append(document)"
      ],
      "metadata": {
        "id": "KSiRu9Jn-0pX"
      },
      "execution_count": 29,
      "outputs": []
    },
    {
      "cell_type": "markdown",
      "source": [
        "## Bag Of Words"
      ],
      "metadata": {
        "id": "79Rbh1klEzcm"
      }
    },
    {
      "cell_type": "code",
      "source": [
        "# conversion des données textuelles en données numériques\n",
        "vectorizer = CountVectorizer(max_features=1500, min_df=5, max_df=0.7, stop_words=stopwords.words('english'))\n",
        "X = vectorizer.fit_transform(documents).toarray()"
      ],
      "metadata": {
        "id": "l8AcxPXnB3jH"
      },
      "execution_count": 30,
      "outputs": []
    },
    {
      "cell_type": "markdown",
      "source": [
        "## TF - IDF"
      ],
      "metadata": {
        "id": "W-fOtaWCF9Cz"
      }
    },
    {
      "cell_type": "code",
      "source": [
        "# Term Frequency = Nombre d'occurences d'un mot / Nombre total des mots dans le document\n",
        "# Inverse Document Frequency = log(Nombre total de documents / Nombre de documents contenant le mot)\n",
        "tfidfconverter = TfidfTransformer()\n",
        "X = tfidfconverter.fit_transform(X).toarray()"
      ],
      "metadata": {
        "id": "dhJtz-HcB4dC"
      },
      "execution_count": 32,
      "outputs": []
    },
    {
      "cell_type": "markdown",
      "source": [
        "## Entraînement du modèle"
      ],
      "metadata": {
        "id": "Nz0BiIlpHQbR"
      }
    },
    {
      "cell_type": "code",
      "source": [
        "# division des données en données d'entrapînement (80%) et données de test (20%)\n",
        "X_train, X_test, y_train, y_test = train_test_split(X, y, test_size=0.2, random_state=0)"
      ],
      "metadata": {
        "id": "BTwVkAZWCQBI"
      },
      "execution_count": 34,
      "outputs": []
    },
    {
      "cell_type": "code",
      "source": [
        "# utilisation de l'algorithme des forêts aléatoires sur nos données d'netraînement\n",
        "classifier = RandomForestClassifier(n_estimators=1000, random_state=0)\n",
        "classifier.fit(X_train, y_train)"
      ],
      "metadata": {
        "id": "PRDfcpUrB84b"
      },
      "execution_count": null,
      "outputs": []
    },
    {
      "cell_type": "code",
      "source": [
        "# prédiction à partir de nos données de test\n",
        "y_pred = classifier.predict(X_test)"
      ],
      "metadata": {
        "id": "e1GS7s1qCaMf"
      },
      "execution_count": 36,
      "outputs": []
    },
    {
      "cell_type": "markdown",
      "source": [
        "## Evaluation du modèle"
      ],
      "metadata": {
        "id": "1iyyc0plHZpj"
      }
    },
    {
      "cell_type": "code",
      "source": [
        "# évaluation du score globale du modèle\n",
        "print(accuracy_score(y_test, y_pred))"
      ],
      "metadata": {
        "colab": {
          "base_uri": "https://localhost:8080/"
        },
        "id": "F095eh0tPEOH",
        "outputId": "db5b28b4-5d56-417b-aaac-846b959db4ae"
      },
      "execution_count": 40,
      "outputs": [
        {
          "output_type": "stream",
          "name": "stdout",
          "text": [
            "0.8304597701149425\n"
          ]
        }
      ]
    },
    {
      "cell_type": "code",
      "source": [
        "# évaluation de la précision : taux de prédictions positives correctes\n",
        "# évaluation du recall : taux de positifs correctement prédits\n",
        "# évaluation du f1-score : capacité d'un modèle à bien prédire les individus positifs\n",
        "print(classification_report(y_test, y_pred))"
      ],
      "metadata": {
        "colab": {
          "base_uri": "https://localhost:8080/"
        },
        "id": "7rrXF-aVCdER",
        "outputId": "99fab783-d9dd-4012-9b5a-1a94d0677d17"
      },
      "execution_count": 41,
      "outputs": [
        {
          "output_type": "stream",
          "name": "stdout",
          "text": [
            "              precision    recall  f1-score   support\n",
            "\n",
            "    covid-19       0.88      0.92      0.90       277\n",
            "     economy       0.75      0.79      0.77       130\n",
            "   education       0.80      0.88      0.84       279\n",
            "maghreb-news       0.83      0.88      0.86       294\n",
            "     opinion       0.84      0.92      0.88       280\n",
            "    politics       0.89      0.37      0.52        84\n",
            "     society       1.00      0.12      0.22        48\n",
            "\n",
            "    accuracy                           0.83      1392\n",
            "   macro avg       0.85      0.70      0.71      1392\n",
            "weighted avg       0.84      0.83      0.82      1392\n",
            "\n"
          ]
        }
      ]
    },
    {
      "cell_type": "markdown",
      "source": [
        "## Sauvegarde du modèle"
      ],
      "metadata": {
        "id": "ymR7ZwU-HiRO"
      }
    },
    {
      "cell_type": "code",
      "source": [
        "# sauvegarde du modèle en tant qu'objet pickle\n",
        "with open('morocco_world_news_classifier', 'wb') as picklefile:\n",
        "  pickle.dump(classifier, picklefile)"
      ],
      "metadata": {
        "id": "UpgmGTEBCuku"
      },
      "execution_count": 42,
      "outputs": []
    },
    {
      "cell_type": "markdown",
      "source": [
        "## Chargement du modèle"
      ],
      "metadata": {
        "id": "ABC-iQL6ITqY"
      }
    },
    {
      "cell_type": "code",
      "source": [
        "# chargement du modèle à partir du fichier morocco_world_news_classifier\n",
        "with open('morocco_world_news_classifier', 'rb') as training_model:\n",
        "  model = pickle.load(training_model)"
      ],
      "metadata": {
        "id": "6J-uU_vkC2XU"
      },
      "execution_count": 43,
      "outputs": []
    },
    {
      "cell_type": "markdown",
      "source": [
        "## Vérification du modèle"
      ],
      "metadata": {
        "id": "vIqFP2hUQkSJ"
      }
    },
    {
      "cell_type": "code",
      "source": [
        "# prédiction à partir des données de test\n",
        "y_pred2 = model.predict(X_test)"
      ],
      "metadata": {
        "id": "mUOqGQF8C4hH"
      },
      "execution_count": 44,
      "outputs": []
    },
    {
      "cell_type": "code",
      "source": [
        "# évaluation du score global\n",
        "print(accuracy_score(y_test, y_pred))"
      ],
      "metadata": {
        "colab": {
          "base_uri": "https://localhost:8080/"
        },
        "id": "jTNAnratQsQp",
        "outputId": "47fb71f3-2572-448d-8f75-286fa43ce44f"
      },
      "execution_count": 45,
      "outputs": [
        {
          "output_type": "stream",
          "name": "stdout",
          "text": [
            "0.8304597701149425\n"
          ]
        }
      ]
    },
    {
      "cell_type": "code",
      "source": [
        "# évaluation de la précision, du recall et du f1-score\n",
        "print(classification_report(y_test, y_pred2))"
      ],
      "metadata": {
        "colab": {
          "base_uri": "https://localhost:8080/"
        },
        "id": "zjm9UxsQQszN",
        "outputId": "e2220eba-a54a-4e62-bb3d-28c0f50ac044"
      },
      "execution_count": 46,
      "outputs": [
        {
          "output_type": "stream",
          "name": "stdout",
          "text": [
            "              precision    recall  f1-score   support\n",
            "\n",
            "    covid-19       0.88      0.92      0.90       277\n",
            "     economy       0.75      0.79      0.77       130\n",
            "   education       0.80      0.88      0.84       279\n",
            "maghreb-news       0.83      0.88      0.86       294\n",
            "     opinion       0.84      0.92      0.88       280\n",
            "    politics       0.89      0.37      0.52        84\n",
            "     society       1.00      0.12      0.22        48\n",
            "\n",
            "    accuracy                           0.83      1392\n",
            "   macro avg       0.85      0.70      0.71      1392\n",
            "weighted avg       0.84      0.83      0.82      1392\n",
            "\n"
          ]
        }
      ]
    }
  ]
}