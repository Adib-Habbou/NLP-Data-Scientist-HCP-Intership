{
  "cells": [
    {
      "cell_type": "markdown",
      "metadata": {
        "id": "5iQNJxKzq_iH"
      },
      "source": [
        "# Text Classification Morocco World News"
      ]
    },
    {
      "cell_type": "markdown",
      "metadata": {
        "id": "3VGxLkuNEPo9"
      },
      "source": [
        "## Importation des librairies nécessaires"
      ]
    },
    {
      "cell_type": "code",
      "execution_count": 73,
      "metadata": {
        "id": "X0Kt4BqaAHKG"
      },
      "outputs": [],
      "source": [
        "import matplotlib.pyplot as plt\n",
        "import seaborn as sns\n",
        "import pandas as pd\n",
        "import numpy as np\n",
        "import pickle\n",
        "import re"
      ]
    },
    {
      "cell_type": "code",
      "execution_count": null,
      "metadata": {
        "id": "ml0LMlaGJa3F"
      },
      "outputs": [],
      "source": [
        "import nltk\n",
        "nltk.download('wordnet')\n",
        "nltk.download('omw-1.4')\n",
        "nltk.download('stopwords')\n",
        "from nltk.corpus import stopwords\n",
        "from nltk.stem import WordNetLemmatizer"
      ]
    },
    {
      "cell_type": "code",
      "execution_count": 75,
      "metadata": {
        "id": "Ybsqw1YzJbPK"
      },
      "outputs": [],
      "source": [
        "from sklearn.feature_extraction.text import CountVectorizer\n",
        "from sklearn.feature_extraction.text import TfidfTransformer\n",
        "from sklearn.model_selection import train_test_split\n",
        "from sklearn.ensemble import RandomForestClassifier\n",
        "from sklearn.linear_model import LogisticRegression\n",
        "from sklearn.tree import DecisionTreeClassifier\n",
        "from sklearn.neighbors import KNeighborsClassifier\n",
        "from sklearn.linear_model import SGDClassifier\n",
        "from sklearn.naive_bayes import MultinomialNB\n",
        "from sklearn.neural_network import MLPClassifier\n",
        "from sklearn.svm import SVC\n",
        "from sklearn.metrics import classification_report, accuracy_score"
      ]
    },
    {
      "cell_type": "markdown",
      "metadata": {
        "id": "nOXia9l1EXIl"
      },
      "source": [
        "## Importation des données"
      ]
    },
    {
      "cell_type": "code",
      "execution_count": 76,
      "metadata": {
        "id": "u175dOiV8fj9"
      },
      "outputs": [],
      "source": [
        "data = pd.read_csv('morocco_world_news_articles.csv')\n",
        "X, y = data.content, data.category\n",
        "data.drop(columns=['Unnamed: 0'], inplace = True)\n",
        "data.dropna(inplace = True)"
      ]
    },
    {
      "cell_type": "markdown",
      "metadata": {
        "id": "fvg8xKC8Hhh3"
      },
      "source": [
        "## Visualisation des catégories"
      ]
    },
    {
      "cell_type": "code",
      "execution_count": 77,
      "metadata": {
        "colab": {
          "base_uri": "https://localhost:8080/"
        },
        "id": "yVvWqts_bs_r",
        "outputId": "74dc9dd8-c18a-4866-b922-323a268ce161"
      },
      "outputs": [
        {
          "output_type": "execute_result",
          "data": {
            "text/plain": [
              "opinion         1476\n",
              "education       1390\n",
              "maghreb-news    1370\n",
              "covid-19        1359\n",
              "economy          715\n",
              "politics         407\n",
              "society          203\n",
              "Name: category, dtype: int64"
            ]
          },
          "metadata": {},
          "execution_count": 77
        }
      ],
      "source": [
        "data[\"category\"].value_counts()"
      ]
    },
    {
      "cell_type": "code",
      "execution_count": 78,
      "metadata": {
        "colab": {
          "base_uri": "https://localhost:8080/",
          "height": 362
        },
        "id": "kcj47t2dHg82",
        "outputId": "5437086b-2eee-4e05-be51-72736302889d"
      },
      "outputs": [
        {
          "output_type": "execute_result",
          "data": {
            "text/plain": [
              "<matplotlib.axes._subplots.AxesSubplot at 0x7f0fde569990>"
            ]
          },
          "metadata": {},
          "execution_count": 78
        },
        {
          "output_type": "display_data",
          "data": {
            "text/plain": [
              "<Figure size 432x288 with 1 Axes>"
            ],
            "image/png": "[encoded data removed]"
          },
          "metadata": {
            "needs_background": "light"
          }
        }
      ],
      "source": [
        "data.groupby('category').count().plot.bar(ylim=0)"
      ]
    },
    {
      "cell_type": "markdown",
      "metadata": {
        "id": "V2y34duNEeyS"
      },
      "source": [
        "## Preprocessing des données"
      ]
    },
    {
      "cell_type": "code",
      "execution_count": 79,
      "metadata": {
        "id": "KSiRu9Jn-0pX"
      },
      "outputs": [],
      "source": [
        "stemmer = WordNetLemmatizer()\n",
        "\n",
        "documents = []\n",
        "\n",
        "for sen in range(0, len(X)):\n",
        "  # suppression des caractères spéciaux\n",
        "  document = re.sub(r'\\W', ' ', str(X[sen]))\n",
        "  # suppression des caractères uniques\n",
        "  document = re.sub(r'\\s+[a-zA-Z]\\s+', ' ', document)\n",
        "  document = re.sub(r'\\^[a-zA-Z]\\s+', ' ', document) \n",
        "  # suppression des espaces multiples\n",
        "  document = re.sub(r'\\s+', ' ', document, flags=re.I)\n",
        "  # suppression des préfixes b\n",
        "  document = re.sub(r'^b\\s+', '', document)\n",
        "  # concersion en minuscule\n",
        "  document = document.lower()\n",
        "  # lemmatisation\n",
        "  document = document.split()\n",
        "  document = [stemmer.lemmatize(word) for word in document]\n",
        "  document = ' '.join(document)\n",
        "  # ajout à la liste\n",
        "  documents.append(document)"
      ]
    },
    {
      "cell_type": "markdown",
      "metadata": {
        "id": "79Rbh1klEzcm"
      },
      "source": [
        "## Bag Of Words"
      ]
    },
    {
      "cell_type": "code",
      "execution_count": 80,
      "metadata": {
        "id": "l8AcxPXnB3jH"
      },
      "outputs": [],
      "source": [
        "# conversion des données textuelles en données numériques\n",
        "vectorizer = CountVectorizer(max_features=1500, min_df=5, max_df=0.7, stop_words=stopwords.words('english'))\n",
        "X = vectorizer.fit_transform(documents).toarray()"
      ]
    },
    {
      "cell_type": "markdown",
      "metadata": {
        "id": "W-fOtaWCF9Cz"
      },
      "source": [
        "## TF - IDF"
      ]
    },
    {
      "cell_type": "code",
      "execution_count": 81,
      "metadata": {
        "id": "dhJtz-HcB4dC"
      },
      "outputs": [],
      "source": [
        "# Term Frequency = Nombre d'occurences d'un mot / Nombre total des mots dans le document\n",
        "# Inverse Document Frequency = log(Nombre total de documents / Nombre de documents contenant le mot)\n",
        "tfidfconverter = TfidfTransformer()\n",
        "X = tfidfconverter.fit_transform(X).toarray()"
      ]
    },
    {
      "cell_type": "markdown",
      "metadata": {
        "id": "5FUSZnAze5Mv"
      },
      "source": [
        "## Division des données"
      ]
    },
    {
      "cell_type": "code",
      "execution_count": 82,
      "metadata": {
        "id": "BTwVkAZWCQBI"
      },
      "outputs": [],
      "source": [
        "# division des données en données d'entrapînement (80%) et données de test (20%)\n",
        "X_train, X_test, y_train, y_test = train_test_split(X, y, test_size=0.2, random_state=0)"
      ]
    },
    {
      "cell_type": "markdown",
      "metadata": {
        "id": "Nz0BiIlpHQbR"
      },
      "source": [
        "## Forêts Aléatoires"
      ]
    },
    {
      "cell_type": "markdown",
      "metadata": {
        "id": "8CvyJ0OXfGgi"
      },
      "source": [
        "### Entraînement du modèle"
      ]
    },
    {
      "cell_type": "code",
      "execution_count": null,
      "metadata": {
        "id": "PRDfcpUrB84b"
      },
      "outputs": [],
      "source": [
        "# utilisation de l'algorithme des forêts aléatoires sur nos données d'entraînement\n",
        "model_randomforest = RandomForestClassifier(n_estimators=1000, random_state=0)\n",
        "model_randomforest.fit(X_train, y_train)"
      ]
    },
    {
      "cell_type": "code",
      "execution_count": 84,
      "metadata": {
        "id": "e1GS7s1qCaMf"
      },
      "outputs": [],
      "source": [
        "# prédiction à partir de nos données de test\n",
        "y_pred = model_randomforest.predict(X_test)"
      ]
    },
    {
      "cell_type": "markdown",
      "metadata": {
        "id": "7RVrR044fIuv"
      },
      "source": [
        "### Evaluation du modèle"
      ]
    },
    {
      "cell_type": "code",
      "execution_count": 85,
      "metadata": {
        "colab": {
          "base_uri": "https://localhost:8080/"
        },
        "id": "F095eh0tPEOH",
        "outputId": "52a23355-05e3-4f34-8d56-f8c5895cde46"
      },
      "outputs": [
        {
          "output_type": "stream",
          "name": "stdout",
          "text": [
            "0.8304597701149425\n"
          ]
        }
      ],
      "source": [
        "# évaluation du score globale du modèle\n",
        "print(accuracy_score(y_test, y_pred))"
      ]
    },
    {
      "cell_type": "code",
      "execution_count": 86,
      "metadata": {
        "colab": {
          "base_uri": "https://localhost:8080/"
        },
        "id": "7rrXF-aVCdER",
        "outputId": "2d100453-f94e-4d54-b068-53296801f1c8"
      },
      "outputs": [
        {
          "output_type": "stream",
          "name": "stdout",
          "text": [
            "              precision    recall  f1-score   support\n",
            "\n",
            "    covid-19       0.88      0.92      0.90       277\n",
            "     economy       0.75      0.79      0.77       130\n",
            "   education       0.80      0.88      0.84       279\n",
            "maghreb-news       0.83      0.88      0.86       294\n",
            "     opinion       0.84      0.92      0.88       280\n",
            "    politics       0.89      0.37      0.52        84\n",
            "     society       1.00      0.12      0.22        48\n",
            "\n",
            "    accuracy                           0.83      1392\n",
            "   macro avg       0.85      0.70      0.71      1392\n",
            "weighted avg       0.84      0.83      0.82      1392\n",
            "\n"
          ]
        }
      ],
      "source": [
        "# évaluation de la précision : taux de prédictions positives correctes\n",
        "# évaluation du recall : taux de positifs correctement prédits\n",
        "# évaluation du f1-score : capacité d'un modèle à bien prédire les individus positifs\n",
        "print(classification_report(y_test, y_pred))"
      ]
    },
    {
      "cell_type": "markdown",
      "metadata": {
        "id": "jaHV0BHhfR5x"
      },
      "source": [
        "## Régression Logistique"
      ]
    },
    {
      "cell_type": "markdown",
      "metadata": {
        "id": "esS354vxfTyl"
      },
      "source": [
        "### Entraînement du modèle"
      ]
    },
    {
      "cell_type": "code",
      "execution_count": null,
      "metadata": {
        "id": "ZDjvA05dfqCG"
      },
      "outputs": [],
      "source": [
        "# utilisation de la régression logistique sur nos données d'entraînement\n",
        "model_logisticregression = LogisticRegression(random_state=0)\n",
        "model_logisticregression.fit(X_train, y_train)"
      ]
    },
    {
      "cell_type": "code",
      "execution_count": 88,
      "metadata": {
        "id": "qtUf8-sFeKLm"
      },
      "outputs": [],
      "source": [
        "# prédiction à partir de nos données de test\n",
        "y_pred = model_logisticregression.predict(X_test)"
      ]
    },
    {
      "cell_type": "markdown",
      "metadata": {
        "id": "1iyyc0plHZpj"
      },
      "source": [
        "### Evaluation du modèle"
      ]
    },
    {
      "cell_type": "code",
      "execution_count": 89,
      "metadata": {
        "colab": {
          "base_uri": "https://localhost:8080/"
        },
        "id": "G4jR7qiLgpu1",
        "outputId": "9eb929dc-4499-4135-d61e-881191716858"
      },
      "outputs": [
        {
          "output_type": "stream",
          "name": "stdout",
          "text": [
            "0.8505747126436781\n"
          ]
        }
      ],
      "source": [
        "# évaluation du score globale du modèle\n",
        "print(accuracy_score(y_test, y_pred))"
      ]
    },
    {
      "cell_type": "code",
      "execution_count": 90,
      "metadata": {
        "colab": {
          "base_uri": "https://localhost:8080/"
        },
        "id": "r4UPKXGBgp05",
        "outputId": "d6678b16-968a-40f9-f4b2-fe0dbe580156"
      },
      "outputs": [
        {
          "output_type": "stream",
          "name": "stdout",
          "text": [
            "              precision    recall  f1-score   support\n",
            "\n",
            "    covid-19       0.91      0.88      0.90       277\n",
            "     economy       0.74      0.85      0.79       130\n",
            "   education       0.88      0.90      0.89       279\n",
            "maghreb-news       0.83      0.90      0.87       294\n",
            "     opinion       0.85      0.93      0.89       280\n",
            "    politics       0.82      0.48      0.60        84\n",
            "     society       0.73      0.23      0.35        48\n",
            "\n",
            "    accuracy                           0.85      1392\n",
            "   macro avg       0.82      0.74      0.76      1392\n",
            "weighted avg       0.85      0.85      0.84      1392\n",
            "\n"
          ]
        }
      ],
      "source": [
        "# évaluation de la précision : taux de prédictions positives correctes\n",
        "# évaluation du recall : taux de positifs correctement prédits\n",
        "# évaluation du f1-score : capacité d'un modèle à bien prédire les individus positifs\n",
        "print(classification_report(y_test, y_pred))"
      ]
    },
    {
      "cell_type": "markdown",
      "metadata": {
        "id": "xk1fIVBdiwJF"
      },
      "source": [
        "## Arbre de décision"
      ]
    },
    {
      "cell_type": "markdown",
      "metadata": {
        "id": "U66T0MaYjHCn"
      },
      "source": [
        "### Entraînement du modèle"
      ]
    },
    {
      "cell_type": "code",
      "execution_count": null,
      "metadata": {
        "id": "yMUXWkhhjRUa"
      },
      "outputs": [],
      "source": [
        "# utilisation d'arbres de décision sur nos données d'entraînement\n",
        "model_decisiontree = DecisionTreeClassifier()\n",
        "model_decisiontree.fit(X_train, y_train)"
      ]
    },
    {
      "cell_type": "code",
      "execution_count": 92,
      "metadata": {
        "id": "zCkaZENtjWE2"
      },
      "outputs": [],
      "source": [
        "# prédiction à partir de nos données de test\n",
        "y_pred = model_decisiontree.predict(X_test)"
      ]
    },
    {
      "cell_type": "markdown",
      "metadata": {
        "id": "26QO2nuSjM5p"
      },
      "source": [
        "### Evaluation du modèle"
      ]
    },
    {
      "cell_type": "code",
      "execution_count": 93,
      "metadata": {
        "colab": {
          "base_uri": "https://localhost:8080/"
        },
        "id": "N29ufNt6jYsd",
        "outputId": "b38f2587-8b19-4030-d24a-8f74e7757e68"
      },
      "outputs": [
        {
          "output_type": "stream",
          "name": "stdout",
          "text": [
            "0.7248563218390804\n"
          ]
        }
      ],
      "source": [
        "# évaluation du score globale du modèle\n",
        "print(accuracy_score(y_test, y_pred))"
      ]
    },
    {
      "cell_type": "code",
      "execution_count": 94,
      "metadata": {
        "colab": {
          "base_uri": "https://localhost:8080/"
        },
        "id": "uBiWaw2qjdGc",
        "outputId": "eeaa4076-5d64-4f6e-9c21-220ae5a81866"
      },
      "outputs": [
        {
          "output_type": "stream",
          "name": "stdout",
          "text": [
            "              precision    recall  f1-score   support\n",
            "\n",
            "    covid-19       0.83      0.85      0.84       277\n",
            "     economy       0.59      0.65      0.62       130\n",
            "   education       0.75      0.78      0.77       279\n",
            "maghreb-news       0.78      0.75      0.77       294\n",
            "     opinion       0.75      0.75      0.75       280\n",
            "    politics       0.38      0.32      0.35        84\n",
            "     society       0.33      0.27      0.30        48\n",
            "\n",
            "    accuracy                           0.72      1392\n",
            "   macro avg       0.63      0.62      0.63      1392\n",
            "weighted avg       0.72      0.72      0.72      1392\n",
            "\n"
          ]
        }
      ],
      "source": [
        "# évaluation de la précision : taux de prédictions positives correctes\n",
        "# évaluation du recall : taux de positifs correctement prédits\n",
        "# évaluation du f1-score : capacité d'un modèle à bien prédire les individus positifs\n",
        "print(classification_report(y_test, y_pred))"
      ]
    },
    {
      "cell_type": "markdown",
      "metadata": {
        "id": "LL51RQYGiyCn"
      },
      "source": [
        "## K Nearest Neighbour"
      ]
    },
    {
      "cell_type": "markdown",
      "metadata": {
        "id": "verke2HTjKCr"
      },
      "source": [
        "### Entraînement du modèle"
      ]
    },
    {
      "cell_type": "code",
      "execution_count": null,
      "metadata": {
        "id": "exjcQS9mjSOr"
      },
      "outputs": [],
      "source": [
        "# utilisation de l'algorithme des k plus proches voisins sur nos données d'entraînement\n",
        "model_knn = KNeighborsClassifier(n_neighbors=10 , metric= 'minkowski' , p = 4)\n",
        "model_knn.fit(X_train, y_train)"
      ]
    },
    {
      "cell_type": "code",
      "execution_count": 96,
      "metadata": {
        "id": "E8kwTQBMjWh-"
      },
      "outputs": [],
      "source": [
        "# prédiction à partir de nos données de test\n",
        "y_pred = model_knn.predict(X_test)"
      ]
    },
    {
      "cell_type": "markdown",
      "metadata": {
        "id": "7WxrXmFOjN0f"
      },
      "source": [
        "### Evaluation du modèle"
      ]
    },
    {
      "cell_type": "code",
      "execution_count": 97,
      "metadata": {
        "colab": {
          "base_uri": "https://localhost:8080/"
        },
        "id": "9-gy1UeHjZaf",
        "outputId": "43be2974-ae56-4342-b8d4-79aafc8f3616"
      },
      "outputs": [
        {
          "output_type": "stream",
          "name": "stdout",
          "text": [
            "0.7047413793103449\n"
          ]
        }
      ],
      "source": [
        "# évaluation du score globale du modèle\n",
        "print(accuracy_score(y_test, y_pred))"
      ]
    },
    {
      "cell_type": "code",
      "execution_count": 98,
      "metadata": {
        "colab": {
          "base_uri": "https://localhost:8080/"
        },
        "id": "ai5Degu2jdzu",
        "outputId": "4b5f1ba3-f549-4a5f-977f-f1ec05bfc935"
      },
      "outputs": [
        {
          "output_type": "stream",
          "name": "stdout",
          "text": [
            "              precision    recall  f1-score   support\n",
            "\n",
            "    covid-19       0.80      0.82      0.81       277\n",
            "     economy       0.69      0.62      0.65       130\n",
            "   education       0.73      0.83      0.78       279\n",
            "maghreb-news       0.83      0.68      0.75       294\n",
            "     opinion       0.57      0.79      0.66       280\n",
            "    politics       0.44      0.21      0.29        84\n",
            "     society       0.75      0.06      0.12        48\n",
            "\n",
            "    accuracy                           0.70      1392\n",
            "   macro avg       0.69      0.57      0.58      1392\n",
            "weighted avg       0.71      0.70      0.69      1392\n",
            "\n"
          ]
        }
      ],
      "source": [
        "# évaluation de la précision : taux de prédictions positives correctes\n",
        "# évaluation du recall : taux de positifs correctement prédits\n",
        "# évaluation du f1-score : capacité d'un modèle à bien prédire les individus positifs\n",
        "print(classification_report(y_test, y_pred))"
      ]
    },
    {
      "cell_type": "markdown",
      "metadata": {
        "id": "kWQHZNa1i8KN"
      },
      "source": [
        "## Machine à vecteurs de support"
      ]
    },
    {
      "cell_type": "markdown",
      "metadata": {
        "id": "Q6UUPcCAjKg9"
      },
      "source": [
        "### Entraînement du modèle"
      ]
    },
    {
      "cell_type": "code",
      "execution_count": null,
      "metadata": {
        "id": "CF0RJ-hrjS1p"
      },
      "outputs": [],
      "source": [
        "# utilisation de la machine à vecteurs de support sur nos données d'entraînement\n",
        "model_svc = SVC()\n",
        "model_svc.fit(X_train, y_train)"
      ]
    },
    {
      "cell_type": "code",
      "execution_count": 100,
      "metadata": {
        "id": "zFjbI9_RjXDq"
      },
      "outputs": [],
      "source": [
        "# prédiction à partir de nos données de test\n",
        "y_pred = model_svc.predict(X_test)"
      ]
    },
    {
      "cell_type": "markdown",
      "metadata": {
        "id": "JB1HgaPejO9r"
      },
      "source": [
        "### Evaluation du modèle"
      ]
    },
    {
      "cell_type": "code",
      "execution_count": 101,
      "metadata": {
        "colab": {
          "base_uri": "https://localhost:8080/"
        },
        "id": "2yPkmN8jjZ9M",
        "outputId": "889ac17e-34c2-41e1-bf9a-b339903d013c"
      },
      "outputs": [
        {
          "output_type": "stream",
          "name": "stdout",
          "text": [
            "0.853448275862069\n"
          ]
        }
      ],
      "source": [
        "# évaluation du score globale du modèle\n",
        "print(accuracy_score(y_test, y_pred))"
      ]
    },
    {
      "cell_type": "code",
      "execution_count": 102,
      "metadata": {
        "colab": {
          "base_uri": "https://localhost:8080/"
        },
        "id": "ecAP-O1-jehQ",
        "outputId": "1057e46c-0542-4a95-f19f-5c15bfc98ba8"
      },
      "outputs": [
        {
          "output_type": "stream",
          "name": "stdout",
          "text": [
            "              precision    recall  f1-score   support\n",
            "\n",
            "    covid-19       0.92      0.89      0.90       277\n",
            "     economy       0.75      0.86      0.80       130\n",
            "   education       0.85      0.92      0.88       279\n",
            "maghreb-news       0.85      0.90      0.88       294\n",
            "     opinion       0.87      0.91      0.89       280\n",
            "    politics       0.78      0.45      0.57        84\n",
            "     society       0.79      0.31      0.45        48\n",
            "\n",
            "    accuracy                           0.85      1392\n",
            "   macro avg       0.83      0.75      0.77      1392\n",
            "weighted avg       0.85      0.85      0.85      1392\n",
            "\n"
          ]
        }
      ],
      "source": [
        "# évaluation de la précision : taux de prédictions positives correctes\n",
        "# évaluation du recall : taux de positifs correctement prédits\n",
        "# évaluation du f1-score : capacité d'un modèle à bien prédire les individus positifs\n",
        "print(classification_report(y_test, y_pred))"
      ]
    },
    {
      "cell_type": "markdown",
      "metadata": {
        "id": "-y8JMzZ-2meQ"
      },
      "source": [
        "## Gradient Stochastique"
      ]
    },
    {
      "cell_type": "markdown",
      "source": [
        "### Entraînement du modèle"
      ],
      "metadata": {
        "id": "kuYkuvUPC1xM"
      }
    },
    {
      "cell_type": "code",
      "execution_count": null,
      "metadata": {
        "id": "XxofdS_O2ure"
      },
      "outputs": [],
      "source": [
        "# utilisation de l'aglorithme du gradient stochastique sur nos données d'entraînement\n",
        "model_sgd = SGDClassifier()\n",
        "model_sgd.fit(X_train, y_train)"
      ]
    },
    {
      "cell_type": "code",
      "execution_count": 104,
      "metadata": {
        "id": "iyWMoDKkvkFp"
      },
      "outputs": [],
      "source": [
        "# prédiction à partir de nos données de test\n",
        "y_pred = model_sgd.predict(X_test)"
      ]
    },
    {
      "cell_type": "markdown",
      "source": [
        "### Evaluation du modèle"
      ],
      "metadata": {
        "id": "RI9K1CfdC3C8"
      }
    },
    {
      "cell_type": "code",
      "source": [
        "# évaluation du score globale du modèle\n",
        "print(accuracy_score(y_test, y_pred))"
      ],
      "metadata": {
        "colab": {
          "base_uri": "https://localhost:8080/"
        },
        "id": "ezeeW15LC6zv",
        "outputId": "d58a566b-8f5c-4a5a-9351-89647cd4c1b6"
      },
      "execution_count": 105,
      "outputs": [
        {
          "output_type": "stream",
          "name": "stdout",
          "text": [
            "0.853448275862069\n"
          ]
        }
      ]
    },
    {
      "cell_type": "code",
      "source": [
        "# évaluation de la précision : taux de prédictions positives correctes\n",
        "# évaluation du recall : taux de positifs correctement prédits\n",
        "# évaluation du f1-score : capacité d'un modèle à bien prédire les individus positifs\n",
        "print(classification_report(y_test, y_pred))"
      ],
      "metadata": {
        "colab": {
          "base_uri": "https://localhost:8080/"
        },
        "id": "v6zO4G30C8ex",
        "outputId": "ae1329d0-3372-473d-de35-7d2a142b2975"
      },
      "execution_count": 106,
      "outputs": [
        {
          "output_type": "stream",
          "name": "stdout",
          "text": [
            "              precision    recall  f1-score   support\n",
            "\n",
            "    covid-19       0.93      0.87      0.90       277\n",
            "     economy       0.76      0.85      0.80       130\n",
            "   education       0.86      0.91      0.89       279\n",
            "maghreb-news       0.85      0.90      0.87       294\n",
            "     opinion       0.87      0.91      0.89       280\n",
            "    politics       0.78      0.54      0.63        84\n",
            "     society       0.67      0.33      0.44        48\n",
            "\n",
            "    accuracy                           0.85      1392\n",
            "   macro avg       0.81      0.76      0.78      1392\n",
            "weighted avg       0.85      0.85      0.85      1392\n",
            "\n"
          ]
        }
      ]
    },
    {
      "cell_type": "markdown",
      "source": [
        "## Perceptron Multicouche"
      ],
      "metadata": {
        "id": "BDWUcbRzDVGj"
      }
    },
    {
      "cell_type": "markdown",
      "source": [
        "### Entraînement du modèle"
      ],
      "metadata": {
        "id": "zuskwQt1Dgvz"
      }
    },
    {
      "cell_type": "code",
      "source": [
        "# utilisation d'un perceptron multicouche sur nos données d'entraînement\n",
        "model_mlp = MLPClassifier()\n",
        "model_mlp.fit(X_train, y_train)"
      ],
      "metadata": {
        "id": "38-TfWGmDjdO"
      },
      "execution_count": null,
      "outputs": []
    },
    {
      "cell_type": "code",
      "source": [
        "# prédiction à partir de nos données de test\n",
        "y_pred = model_mlp.predict(X_test)"
      ],
      "metadata": {
        "id": "AutiycpgDjfj"
      },
      "execution_count": 108,
      "outputs": []
    },
    {
      "cell_type": "markdown",
      "source": [
        "### Evaluation du modèle"
      ],
      "metadata": {
        "id": "kqO6Xs6VDfOV"
      }
    },
    {
      "cell_type": "code",
      "source": [
        "# évaluation du score globale du modèle\n",
        "print(accuracy_score(y_test, y_pred))"
      ],
      "metadata": {
        "colab": {
          "base_uri": "https://localhost:8080/"
        },
        "id": "rCPZGj0ZDj6O",
        "outputId": "6a727d14-6183-42c3-ab55-540d16acb3f2"
      },
      "execution_count": 109,
      "outputs": [
        {
          "output_type": "stream",
          "name": "stdout",
          "text": [
            "0.8283045977011494\n"
          ]
        }
      ]
    },
    {
      "cell_type": "code",
      "source": [
        "# évaluation de la précision : taux de prédictions positives correctes\n",
        "# évaluation du recall : taux de positifs correctement prédits\n",
        "# évaluation du f1-score : capacité d'un modèle à bien prédire les individus positifs\n",
        "print(classification_report(y_test, y_pred))"
      ],
      "metadata": {
        "colab": {
          "base_uri": "https://localhost:8080/"
        },
        "id": "LW_rDReTDj8G",
        "outputId": "d1c552b1-8713-435b-8a62-e8e8802b2542"
      },
      "execution_count": 110,
      "outputs": [
        {
          "output_type": "stream",
          "name": "stdout",
          "text": [
            "              precision    recall  f1-score   support\n",
            "\n",
            "    covid-19       0.88      0.87      0.88       277\n",
            "     economy       0.74      0.79      0.76       130\n",
            "   education       0.80      0.86      0.83       279\n",
            "maghreb-news       0.86      0.87      0.87       294\n",
            "     opinion       0.85      0.86      0.86       280\n",
            "    politics       0.75      0.56      0.64        84\n",
            "     society       0.67      0.46      0.54        48\n",
            "\n",
            "    accuracy                           0.83      1392\n",
            "   macro avg       0.79      0.75      0.77      1392\n",
            "weighted avg       0.83      0.83      0.83      1392\n",
            "\n"
          ]
        }
      ]
    }
  ],
  "metadata": {
    "colab": {
      "collapsed_sections": [],
      "name": "text_classification_morocco_world_news.ipynb",
      "provenance": []
    },
    "kernelspec": {
      "display_name": "Python 3",
      "name": "python3"
    },
    "language_info": {
      "name": "python"
    }
  },
  "nbformat": 4,
  "nbformat_minor": 0
}