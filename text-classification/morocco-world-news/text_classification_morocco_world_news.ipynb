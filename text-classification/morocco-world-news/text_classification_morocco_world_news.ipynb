{
  "nbformat": 4,
  "nbformat_minor": 0,
  "metadata": {
    "colab": {
      "name": "text_classification_morocco_world_news.ipynb",
      "provenance": [],
      "collapsed_sections": []
    },
    "kernelspec": {
      "name": "python3",
      "display_name": "Python 3"
    },
    "language_info": {
      "name": "python"
    }
  },
  "cells": [
    {
      "cell_type": "markdown",
      "source": [
        "## Importation des librairies nécessaires"
      ],
      "metadata": {
        "id": "3VGxLkuNEPo9"
      }
    },
    {
      "cell_type": "code",
      "source": [
        "import pandas as pd\n",
        "import numpy as np\n",
        "import re\n",
        "import nltk\n",
        "nltk.download('stopwords')\n",
        "nltk.download('wordnet')\n",
        "nltk.download('omw-1.4')\n",
        "import pickle"
      ],
      "metadata": {
        "id": "X0Kt4BqaAHKG"
      },
      "execution_count": null,
      "outputs": []
    },
    {
      "cell_type": "markdown",
      "source": [
        "## Importation des données"
      ],
      "metadata": {
        "id": "nOXia9l1EXIl"
      }
    },
    {
      "cell_type": "code",
      "source": [
        "data = pd.read_csv('morocco_world_news_articles.csv')\n",
        "X, y = data.content, data.category"
      ],
      "metadata": {
        "id": "u175dOiV8fj9"
      },
      "execution_count": 54,
      "outputs": []
    },
    {
      "cell_type": "markdown",
      "source": [
        "## Text Preprocessing"
      ],
      "metadata": {
        "id": "V2y34duNEeyS"
      }
    },
    {
      "cell_type": "code",
      "source": [
        "from nltk.stem import WordNetLemmatizer\n",
        "stemmer = WordNetLemmatizer()\n",
        "\n",
        "documents = []\n",
        "\n",
        "for sen in range(0, len(X)):\n",
        "  document = re.sub(r'\\W', ' ', str(X[sen]))\n",
        "  document = re.sub(r'\\s+[a-zA-Z]\\s+', ' ', document)\n",
        "  document = re.sub(r'\\^[a-zA-Z]\\s+', ' ', document) \n",
        "  document = re.sub(r'\\s+', ' ', document, flags=re.I)\n",
        "  document = re.sub(r'^b\\s+', '', document)\n",
        "  document = document.lower()\n",
        "  document = document.split()\n",
        "  document = [stemmer.lemmatize(word) for word in document]\n",
        "  document = ' '.join(document)\n",
        "  documents.append(document)"
      ],
      "metadata": {
        "id": "KSiRu9Jn-0pX"
      },
      "execution_count": 55,
      "outputs": []
    },
    {
      "cell_type": "markdown",
      "source": [
        "## Bag Of Words"
      ],
      "metadata": {
        "id": "79Rbh1klEzcm"
      }
    },
    {
      "cell_type": "code",
      "source": [
        "from sklearn.feature_extraction.text import CountVectorizer\n",
        "vectorizer = CountVectorizer(max_features=1500, min_df=5, max_df=0.7, stop_words=stopwords.words('english'))\n",
        "X = vectorizer.fit_transform(documents).toarray()"
      ],
      "metadata": {
        "id": "l8AcxPXnB3jH"
      },
      "execution_count": 56,
      "outputs": []
    },
    {
      "cell_type": "markdown",
      "source": [
        "## TF-IDF"
      ],
      "metadata": {
        "id": "W-fOtaWCF9Cz"
      }
    },
    {
      "cell_type": "code",
      "source": [
        "from sklearn.feature_extraction.text import TfidfTransformer\n",
        "tfidfconverter = TfidfTransformer()\n",
        "X = tfidfconverter.fit_transform(X).toarray()"
      ],
      "metadata": {
        "id": "dhJtz-HcB4dC"
      },
      "execution_count": 57,
      "outputs": []
    },
    {
      "cell_type": "markdown",
      "source": [
        "## Training Model"
      ],
      "metadata": {
        "id": "Nz0BiIlpHQbR"
      }
    },
    {
      "cell_type": "code",
      "source": [
        "from sklearn.model_selection import train_test_split\n",
        "X_train, X_test, y_train, y_test = train_test_split(X, y, test_size=0.2, random_state=0)"
      ],
      "metadata": {
        "id": "BTwVkAZWCQBI"
      },
      "execution_count": 58,
      "outputs": []
    },
    {
      "cell_type": "code",
      "source": [
        "from sklearn.ensemble import RandomForestClassifier\n",
        "classifier = RandomForestClassifier(n_estimators=1000, random_state=0)\n",
        "classifier.fit(X_train, y_train)"
      ],
      "metadata": {
        "id": "PRDfcpUrB84b"
      },
      "execution_count": null,
      "outputs": []
    },
    {
      "cell_type": "code",
      "source": [
        "y_pred = classifier.predict(X_test)"
      ],
      "metadata": {
        "id": "e1GS7s1qCaMf"
      },
      "execution_count": 60,
      "outputs": []
    },
    {
      "cell_type": "markdown",
      "source": [
        "## Model Evaluation"
      ],
      "metadata": {
        "id": "1iyyc0plHZpj"
      }
    },
    {
      "cell_type": "code",
      "source": [
        "from sklearn.metrics import classification_report, confusion_matrix, accuracy_score\n",
        "print(classification_report(y_test,y_pred))"
      ],
      "metadata": {
        "colab": {
          "base_uri": "https://localhost:8080/"
        },
        "id": "7rrXF-aVCdER",
        "outputId": "f6bf2aad-3975-49c3-aedd-71d3da8cd19b"
      },
      "execution_count": 61,
      "outputs": [
        {
          "output_type": "stream",
          "name": "stdout",
          "text": [
            "              precision    recall  f1-score   support\n",
            "\n",
            "    covid-19       0.88      0.92      0.90       277\n",
            "     economy       0.75      0.79      0.77       130\n",
            "   education       0.80      0.88      0.84       279\n",
            "maghreb-news       0.83      0.88      0.86       294\n",
            "     opinion       0.84      0.92      0.88       280\n",
            "    politics       0.89      0.37      0.52        84\n",
            "     society       1.00      0.12      0.22        48\n",
            "\n",
            "    accuracy                           0.83      1392\n",
            "   macro avg       0.85      0.70      0.71      1392\n",
            "weighted avg       0.84      0.83      0.82      1392\n",
            "\n"
          ]
        }
      ]
    },
    {
      "cell_type": "markdown",
      "source": [
        "## Saving Model"
      ],
      "metadata": {
        "id": "ymR7ZwU-HiRO"
      }
    },
    {
      "cell_type": "code",
      "source": [
        "with open('text_classifier', 'wb') as picklefile:\n",
        "  pickle.dump(classifier,picklefile)"
      ],
      "metadata": {
        "id": "UpgmGTEBCuku"
      },
      "execution_count": 62,
      "outputs": []
    },
    {
      "cell_type": "markdown",
      "source": [
        "## Loading Model"
      ],
      "metadata": {
        "id": "ABC-iQL6ITqY"
      }
    },
    {
      "cell_type": "code",
      "source": [
        "with open('text_classifier', 'rb') as training_model:\n",
        "  model = pickle.load(training_model)"
      ],
      "metadata": {
        "id": "6J-uU_vkC2XU"
      },
      "execution_count": 63,
      "outputs": []
    },
    {
      "cell_type": "code",
      "source": [
        "y_pred2 = model.predict(X_test)\n",
        "print(classification_report(y_test, y_pred2))"
      ],
      "metadata": {
        "colab": {
          "base_uri": "https://localhost:8080/"
        },
        "id": "mUOqGQF8C4hH",
        "outputId": "fe6a1d25-042e-48d4-9346-675786d59e6d"
      },
      "execution_count": 64,
      "outputs": [
        {
          "output_type": "stream",
          "name": "stdout",
          "text": [
            "              precision    recall  f1-score   support\n",
            "\n",
            "    covid-19       0.88      0.92      0.90       277\n",
            "     economy       0.75      0.79      0.77       130\n",
            "   education       0.80      0.88      0.84       279\n",
            "maghreb-news       0.83      0.88      0.86       294\n",
            "     opinion       0.84      0.92      0.88       280\n",
            "    politics       0.89      0.37      0.52        84\n",
            "     society       1.00      0.12      0.22        48\n",
            "\n",
            "    accuracy                           0.83      1392\n",
            "   macro avg       0.85      0.70      0.71      1392\n",
            "weighted avg       0.84      0.83      0.82      1392\n",
            "\n"
          ]
        }
      ]
    }
  ]
}