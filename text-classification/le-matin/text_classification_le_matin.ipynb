{
  "nbformat": 4,
  "nbformat_minor": 0,
  "metadata": {
    "colab": {
      "name": "text_classification_le_matin.ipynb",
      "provenance": [],
      "collapsed_sections": []
    },
    "kernelspec": {
      "name": "python3",
      "display_name": "Python 3"
    },
    "language_info": {
      "name": "python"
    }
  },
  "cells": [
    {
      "cell_type": "markdown",
      "source": [
        "# Text Classification Le Matin"
      ],
      "metadata": {
        "id": "ulIZZ7pTq6gt"
      }
    },
    {
      "cell_type": "markdown",
      "source": [
        "## Importation des librairies nécessaires"
      ],
      "metadata": {
        "id": "3VGxLkuNEPo9"
      }
    },
    {
      "cell_type": "code",
      "source": [
        "import pandas as pd\n",
        "import numpy as np\n",
        "import pickle\n",
        "import re"
      ],
      "metadata": {
        "id": "X0Kt4BqaAHKG"
      },
      "execution_count": 1,
      "outputs": []
    },
    {
      "cell_type": "code",
      "source": [
        "import nltk\n",
        "nltk.download('wordnet')\n",
        "nltk.download('omw-1.4')\n",
        "nltk.download('stopwords')\n",
        "from nltk.corpus import stopwords\n",
        "from nltk.stem import WordNetLemmatizer"
      ],
      "metadata": {
        "id": "ml0LMlaGJa3F"
      },
      "execution_count": null,
      "outputs": []
    },
    {
      "cell_type": "code",
      "source": [
        "from sklearn.feature_extraction.text import CountVectorizer\n",
        "from sklearn.feature_extraction.text import TfidfTransformer\n",
        "from sklearn.model_selection import train_test_split\n",
        "from sklearn.ensemble import RandomForestClassifier\n",
        "from sklearn.linear_model import LogisticRegression\n",
        "from sklearn.naive_bayes import MultinomialNB, GaussianNB\n",
        "from sklearn.tree import DecisionTreeClassifier\n",
        "from sklearn.neighbors import KNeighborsClassifier\n",
        "from sklearn.svm import SVC\n",
        "from sklearn.metrics import classification_report, accuracy_score"
      ],
      "metadata": {
        "id": "Ybsqw1YzJbPK"
      },
      "execution_count": 3,
      "outputs": []
    },
    {
      "cell_type": "markdown",
      "source": [
        "## Importation des données"
      ],
      "metadata": {
        "id": "nOXia9l1EXIl"
      }
    },
    {
      "cell_type": "code",
      "source": [
        "data = pd.read_csv('le_matin_articles.csv')\n",
        "X, y = data.content, data.category\n",
        "data.drop(columns=['Unnamed: 0', 'Unnamed: 0.1'], inplace = True)\n",
        "data.dropna(inplace = True)"
      ],
      "metadata": {
        "id": "u175dOiV8fj9"
      },
      "execution_count": 4,
      "outputs": []
    },
    {
      "cell_type": "markdown",
      "source": [
        "## Visualisation des catégories"
      ],
      "metadata": {
        "id": "fvg8xKC8Hhh3"
      }
    },
    {
      "cell_type": "code",
      "source": [
        "data[\"category\"].value_counts()"
      ],
      "metadata": {
        "colab": {
          "base_uri": "https://localhost:8080/"
        },
        "id": "yVvWqts_bs_r",
        "outputId": "05cfd0c7-5aaa-4ae6-af39-3adae0a16a6e"
      },
      "execution_count": 5,
      "outputs": [
        {
          "output_type": "execute_result",
          "data": {
            "text/plain": [
              "economie             1439\n",
              "nation               1437\n",
              "societe              1375\n",
              "monde                1288\n",
              "culture              1134\n",
              "regions              1075\n",
              "activites-royales     975\n",
              "emploi                262\n",
              "Name: category, dtype: int64"
            ]
          },
          "metadata": {},
          "execution_count": 5
        }
      ]
    },
    {
      "cell_type": "code",
      "source": [
        "data.groupby('category').count().plot.bar(ylim=0)"
      ],
      "metadata": {
        "colab": {
          "base_uri": "https://localhost:8080/",
          "height": 369
        },
        "id": "kcj47t2dHg82",
        "outputId": "5852d06d-5712-4771-f46f-43610b1047c3"
      },
      "execution_count": 6,
      "outputs": [
        {
          "output_type": "execute_result",
          "data": {
            "text/plain": [
              "<matplotlib.axes._subplots.AxesSubplot at 0x7efc0ff15fd0>"
            ]
          },
          "metadata": {},
          "execution_count": 6
        },
        {
          "output_type": "display_data",
          "data": {
            "text/plain": [
              "<Figure size 432x288 with 1 Axes>"
            ],
            "image/png": "[encoded data removed]"
          },
          "metadata": {
            "needs_background": "light"
          }
        }
      ]
    },
    {
      "cell_type": "markdown",
      "source": [
        "## Preprocessing des données"
      ],
      "metadata": {
        "id": "V2y34duNEeyS"
      }
    },
    {
      "cell_type": "code",
      "source": [
        "stemmer = WordNetLemmatizer()\n",
        "\n",
        "documents = []\n",
        "\n",
        "for sen in range(0, len(X)):\n",
        "  # suppresion des caractères spéciaux\n",
        "  document = re.sub(r'\\W', ' ', str(X[sen]))\n",
        "  # suppresion des caractères uniques\n",
        "  document = re.sub(r'\\s+[a-zA-Z]\\s+', ' ', document)\n",
        "  document = re.sub(r'\\^[a-zA-Z]\\s+', ' ', document) \n",
        "  # suppresion des espaces multiples\n",
        "  document = re.sub(r'\\s+', ' ', document, flags=re.I)\n",
        "  # suppresion des préfixes b\n",
        "  document = re.sub(r'^b\\s+', '', document)\n",
        "  # concersion en minuscule\n",
        "  document = document.lower()\n",
        "  # lemmatisation\n",
        "  document = document.split()\n",
        "  document = [stemmer.lemmatize(word) for word in document]\n",
        "  document = ' '.join(document)\n",
        "  # ajout à la liste\n",
        "  documents.append(document)"
      ],
      "metadata": {
        "id": "KSiRu9Jn-0pX"
      },
      "execution_count": 7,
      "outputs": []
    },
    {
      "cell_type": "markdown",
      "source": [
        "## Bag Of Words"
      ],
      "metadata": {
        "id": "79Rbh1klEzcm"
      }
    },
    {
      "cell_type": "code",
      "source": [
        "# conversion des données textuelles en données numériques\n",
        "vectorizer = CountVectorizer(max_features=1500, min_df=5, max_df=0.7, stop_words=stopwords.words('english'))\n",
        "X = vectorizer.fit_transform(documents).toarray()"
      ],
      "metadata": {
        "id": "l8AcxPXnB3jH"
      },
      "execution_count": 8,
      "outputs": []
    },
    {
      "cell_type": "markdown",
      "source": [
        "## TF - IDF"
      ],
      "metadata": {
        "id": "W-fOtaWCF9Cz"
      }
    },
    {
      "cell_type": "code",
      "source": [
        "# Term Frequency = Nombre d'occurences d'un mot / Nombre total des mots dans le document\n",
        "# Inverse Document Frequency = log(Nombre total de documents / Nombre de documents contenant le mot)\n",
        "tfidfconverter = TfidfTransformer()\n",
        "X = tfidfconverter.fit_transform(X).toarray()"
      ],
      "metadata": {
        "id": "dhJtz-HcB4dC"
      },
      "execution_count": 9,
      "outputs": []
    },
    {
      "cell_type": "markdown",
      "source": [
        "## Division des données"
      ],
      "metadata": {
        "id": "5FUSZnAze5Mv"
      }
    },
    {
      "cell_type": "code",
      "source": [
        "# division des données en données d'entrapînement (80%) et données de test (20%)\n",
        "X_train, X_test, y_train, y_test = train_test_split(X, y, test_size=0.2, random_state=0)"
      ],
      "metadata": {
        "id": "BTwVkAZWCQBI"
      },
      "execution_count": 10,
      "outputs": []
    },
    {
      "cell_type": "markdown",
      "source": [
        "## Forêts Aléatoires"
      ],
      "metadata": {
        "id": "Nz0BiIlpHQbR"
      }
    },
    {
      "cell_type": "markdown",
      "source": [
        "### Entraînement du modèle"
      ],
      "metadata": {
        "id": "8CvyJ0OXfGgi"
      }
    },
    {
      "cell_type": "code",
      "source": [
        "# utilisation de l'algorithme des forêts aléatoires sur nos données d'entraînement\n",
        "model_randomforest = RandomForestClassifier(n_estimators=1000, random_state=0)\n",
        "model_randomforest.fit(X_train, y_train)"
      ],
      "metadata": {
        "id": "PRDfcpUrB84b"
      },
      "execution_count": null,
      "outputs": []
    },
    {
      "cell_type": "code",
      "source": [
        "# prédiction à partir de nos données de test\n",
        "y_pred = model_randomforest.predict(X_test)"
      ],
      "metadata": {
        "id": "e1GS7s1qCaMf"
      },
      "execution_count": 12,
      "outputs": []
    },
    {
      "cell_type": "markdown",
      "source": [
        "### Evaluation du modèle"
      ],
      "metadata": {
        "id": "7RVrR044fIuv"
      }
    },
    {
      "cell_type": "code",
      "source": [
        "# évaluation du score globale du modèle\n",
        "print(accuracy_score(y_test, y_pred))"
      ],
      "metadata": {
        "colab": {
          "base_uri": "https://localhost:8080/"
        },
        "id": "F095eh0tPEOH",
        "outputId": "b5c27f8f-7e9c-42c2-d13f-a5d3b3956f62"
      },
      "execution_count": 13,
      "outputs": [
        {
          "output_type": "stream",
          "name": "stdout",
          "text": [
            "0.4216666666666667\n"
          ]
        }
      ]
    },
    {
      "cell_type": "code",
      "source": [
        "# évaluation de la précision : taux de prédictions positives correctes\n",
        "# évaluation du recall : taux de positifs correctement prédits\n",
        "# évaluation du f1-score : capacité d'un modèle à bien prédire les individus positifs\n",
        "print(classification_report(y_test, y_pred))"
      ],
      "metadata": {
        "colab": {
          "base_uri": "https://localhost:8080/"
        },
        "id": "7rrXF-aVCdER",
        "outputId": "354eccca-209d-4ed4-e4d1-3747fd1687ae"
      },
      "execution_count": 14,
      "outputs": [
        {
          "output_type": "stream",
          "name": "stdout",
          "text": [
            "                   precision    recall  f1-score   support\n",
            "\n",
            "activites-royales       0.32      0.39      0.35       192\n",
            "          culture       0.83      0.40      0.54       230\n",
            "         economie       0.42      0.52      0.46       295\n",
            "           emploi       0.90      0.17      0.29        52\n",
            "            monde       0.51      0.45      0.48       253\n",
            "           nation       0.40      0.48      0.44       284\n",
            "          regions       0.37      0.24      0.29       228\n",
            "          societe       0.34      0.45      0.39       266\n",
            "\n",
            "         accuracy                           0.42      1800\n",
            "        macro avg       0.51      0.39      0.41      1800\n",
            "     weighted avg       0.47      0.42      0.42      1800\n",
            "\n"
          ]
        }
      ]
    },
    {
      "cell_type": "markdown",
      "source": [
        "## Régression Logistique"
      ],
      "metadata": {
        "id": "jaHV0BHhfR5x"
      }
    },
    {
      "cell_type": "markdown",
      "source": [
        "### Entraînement du modèle"
      ],
      "metadata": {
        "id": "esS354vxfTyl"
      }
    },
    {
      "cell_type": "code",
      "source": [
        "# utilisation de la régression logistique sur nos données d'entraînement\n",
        "model_logisticregression = LogisticRegression(random_state=0)\n",
        "model_logisticregression.fit(X_train, y_train)"
      ],
      "metadata": {
        "id": "ZDjvA05dfqCG"
      },
      "execution_count": null,
      "outputs": []
    },
    {
      "cell_type": "code",
      "source": [
        "# prédiction à partir de nos données de test\n",
        "y_pred = model_logisticregression.predict(X_test)"
      ],
      "metadata": {
        "id": "qtUf8-sFeKLm"
      },
      "execution_count": 16,
      "outputs": []
    },
    {
      "cell_type": "markdown",
      "source": [
        "### Evaluation du modèle"
      ],
      "metadata": {
        "id": "1iyyc0plHZpj"
      }
    },
    {
      "cell_type": "code",
      "source": [
        "# évaluation du score globale du modèle\n",
        "print(accuracy_score(y_test, y_pred))"
      ],
      "metadata": {
        "colab": {
          "base_uri": "https://localhost:8080/"
        },
        "id": "G4jR7qiLgpu1",
        "outputId": "3b40c5b3-67a1-468d-a98a-256986c8d01d"
      },
      "execution_count": 17,
      "outputs": [
        {
          "output_type": "stream",
          "name": "stdout",
          "text": [
            "0.43333333333333335\n"
          ]
        }
      ]
    },
    {
      "cell_type": "code",
      "source": [
        "# évaluation de la précision : taux de prédictions positives correctes\n",
        "# évaluation du recall : taux de positifs correctement prédits\n",
        "# évaluation du f1-score : capacité d'un modèle à bien prédire les individus positifs\n",
        "print(classification_report(y_test, y_pred))"
      ],
      "metadata": {
        "colab": {
          "base_uri": "https://localhost:8080/"
        },
        "id": "r4UPKXGBgp05",
        "outputId": "6fd6a8b9-3fb1-4096-aaa8-e7cfb39f1c79"
      },
      "execution_count": 18,
      "outputs": [
        {
          "output_type": "stream",
          "name": "stdout",
          "text": [
            "                   precision    recall  f1-score   support\n",
            "\n",
            "activites-royales       0.49      0.30      0.37       192\n",
            "          culture       0.52      0.47      0.49       230\n",
            "         economie       0.39      0.57      0.46       295\n",
            "           emploi       0.65      0.21      0.32        52\n",
            "            monde       0.44      0.48      0.46       253\n",
            "           nation       0.56      0.40      0.47       284\n",
            "          regions       0.39      0.29      0.33       228\n",
            "          societe       0.35      0.50      0.41       266\n",
            "\n",
            "         accuracy                           0.43      1800\n",
            "        macro avg       0.47      0.40      0.42      1800\n",
            "     weighted avg       0.45      0.43      0.43      1800\n",
            "\n"
          ]
        }
      ]
    },
    {
      "cell_type": "markdown",
      "source": [
        "## Arbre de décision"
      ],
      "metadata": {
        "id": "xk1fIVBdiwJF"
      }
    },
    {
      "cell_type": "markdown",
      "source": [
        "### Entraînement du modèle"
      ],
      "metadata": {
        "id": "U66T0MaYjHCn"
      }
    },
    {
      "cell_type": "code",
      "source": [
        "# utilisation d'arbres de décision sur nos données d'entraînement\n",
        "model_decisiontree = DecisionTreeClassifier()\n",
        "model_decisiontree.fit(X_train, y_train)"
      ],
      "metadata": {
        "id": "yMUXWkhhjRUa"
      },
      "execution_count": null,
      "outputs": []
    },
    {
      "cell_type": "code",
      "source": [
        "# prédiction à partir de nos données de test\n",
        "y_pred = model_decisiontree.predict(X_test)"
      ],
      "metadata": {
        "id": "zCkaZENtjWE2"
      },
      "execution_count": 20,
      "outputs": []
    },
    {
      "cell_type": "markdown",
      "source": [
        "### Evaluation du modèle"
      ],
      "metadata": {
        "id": "26QO2nuSjM5p"
      }
    },
    {
      "cell_type": "code",
      "source": [
        "# évaluation du score globale du modèle\n",
        "print(accuracy_score(y_test, y_pred))"
      ],
      "metadata": {
        "colab": {
          "base_uri": "https://localhost:8080/"
        },
        "id": "N29ufNt6jYsd",
        "outputId": "4a9825f9-df15-403e-998f-3c42aa2c1f07"
      },
      "execution_count": 21,
      "outputs": [
        {
          "output_type": "stream",
          "name": "stdout",
          "text": [
            "0.33055555555555555\n"
          ]
        }
      ]
    },
    {
      "cell_type": "code",
      "source": [
        "# évaluation de la précision : taux de prédictions positives correctes\n",
        "# évaluation du recall : taux de positifs correctement prédits\n",
        "# évaluation du f1-score : capacité d'un modèle à bien prédire les individus positifs\n",
        "print(classification_report(y_test, y_pred))"
      ],
      "metadata": {
        "colab": {
          "base_uri": "https://localhost:8080/"
        },
        "id": "uBiWaw2qjdGc",
        "outputId": "ca6de1ab-6128-4f53-bc1c-5c6a8903c04d"
      },
      "execution_count": 22,
      "outputs": [
        {
          "output_type": "stream",
          "name": "stdout",
          "text": [
            "                   precision    recall  f1-score   support\n",
            "\n",
            "activites-royales       0.25      0.39      0.30       192\n",
            "          culture       0.61      0.29      0.39       230\n",
            "         economie       0.31      0.40      0.35       295\n",
            "           emploi       0.48      0.23      0.31        52\n",
            "            monde       0.34      0.36      0.35       253\n",
            "           nation       0.41      0.35      0.38       284\n",
            "          regions       0.24      0.15      0.18       228\n",
            "          societe       0.30      0.38      0.33       266\n",
            "\n",
            "         accuracy                           0.33      1800\n",
            "        macro avg       0.37      0.32      0.32      1800\n",
            "     weighted avg       0.36      0.33      0.33      1800\n",
            "\n"
          ]
        }
      ]
    },
    {
      "cell_type": "markdown",
      "source": [
        "## K Nearest Neighbour"
      ],
      "metadata": {
        "id": "LL51RQYGiyCn"
      }
    },
    {
      "cell_type": "markdown",
      "source": [
        "### Entraînement du modèle"
      ],
      "metadata": {
        "id": "verke2HTjKCr"
      }
    },
    {
      "cell_type": "code",
      "source": [
        "# utilisation de l'algorithme des k plus proches voisins sur nos données d'entraînement\n",
        "model_knn = KNeighborsClassifier(n_neighbors=10 , metric= 'minkowski' , p = 4)\n",
        "model_knn.fit(X_train, y_train)"
      ],
      "metadata": {
        "id": "exjcQS9mjSOr"
      },
      "execution_count": null,
      "outputs": []
    },
    {
      "cell_type": "code",
      "source": [
        "# prédiction à partir de nos données de test\n",
        "y_pred = model_knn.predict(X_test)"
      ],
      "metadata": {
        "id": "E8kwTQBMjWh-"
      },
      "execution_count": 24,
      "outputs": []
    },
    {
      "cell_type": "markdown",
      "source": [
        "### Evaluation du modèle"
      ],
      "metadata": {
        "id": "7WxrXmFOjN0f"
      }
    },
    {
      "cell_type": "code",
      "source": [
        "# évaluation du score globale du modèle\n",
        "print(accuracy_score(y_test, y_pred))"
      ],
      "metadata": {
        "id": "9-gy1UeHjZaf",
        "colab": {
          "base_uri": "https://localhost:8080/"
        },
        "outputId": "c2c083d8-0c88-4d9f-9cf8-0aa1458a214c"
      },
      "execution_count": 25,
      "outputs": [
        {
          "output_type": "stream",
          "name": "stdout",
          "text": [
            "0.3566666666666667\n"
          ]
        }
      ]
    },
    {
      "cell_type": "code",
      "source": [
        "# évaluation de la précision : taux de prédictions positives correctes\n",
        "# évaluation du recall : taux de positifs correctement prédits\n",
        "# évaluation du f1-score : capacité d'un modèle à bien prédire les individus positifs\n",
        "print(classification_report(y_test, y_pred))"
      ],
      "metadata": {
        "id": "ai5Degu2jdzu",
        "colab": {
          "base_uri": "https://localhost:8080/"
        },
        "outputId": "cb0868cf-0574-4c56-8911-fec1ae4bbc07"
      },
      "execution_count": 26,
      "outputs": [
        {
          "output_type": "stream",
          "name": "stdout",
          "text": [
            "                   precision    recall  f1-score   support\n",
            "\n",
            "activites-royales       0.23      0.48      0.31       192\n",
            "          culture       0.29      0.44      0.35       230\n",
            "         economie       0.44      0.39      0.42       295\n",
            "           emploi       0.39      0.13      0.20        52\n",
            "            monde       0.68      0.30      0.41       253\n",
            "           nation       0.40      0.35      0.37       284\n",
            "          regions       0.34      0.19      0.24       228\n",
            "          societe       0.38      0.41      0.39       266\n",
            "\n",
            "         accuracy                           0.36      1800\n",
            "        macro avg       0.39      0.34      0.34      1800\n",
            "     weighted avg       0.40      0.36      0.36      1800\n",
            "\n"
          ]
        }
      ]
    },
    {
      "cell_type": "markdown",
      "source": [
        "## Machine à vecteurs de support"
      ],
      "metadata": {
        "id": "kWQHZNa1i8KN"
      }
    },
    {
      "cell_type": "markdown",
      "source": [
        "### Entraînement du modèle"
      ],
      "metadata": {
        "id": "Q6UUPcCAjKg9"
      }
    },
    {
      "cell_type": "code",
      "source": [
        "# utilisation de la machine à vecteyrs de support sur nos données d'entraînement\n",
        "model_svc = SVC()\n",
        "model_svc.fit(X_train, y_train)"
      ],
      "metadata": {
        "id": "CF0RJ-hrjS1p"
      },
      "execution_count": null,
      "outputs": []
    },
    {
      "cell_type": "code",
      "source": [
        "# prédiction à partir de nos données de test\n",
        "y_pred = model_svc.predict(X_test)"
      ],
      "metadata": {
        "id": "zFjbI9_RjXDq"
      },
      "execution_count": 28,
      "outputs": []
    },
    {
      "cell_type": "markdown",
      "source": [
        "### Evaluation du modèle"
      ],
      "metadata": {
        "id": "JB1HgaPejO9r"
      }
    },
    {
      "cell_type": "code",
      "source": [
        "# évaluation du score globale du modèle\n",
        "print(accuracy_score(y_test, y_pred))"
      ],
      "metadata": {
        "id": "2yPkmN8jjZ9M",
        "colab": {
          "base_uri": "https://localhost:8080/"
        },
        "outputId": "998a6fc3-b67e-48bb-9a63-cf56f6822d39"
      },
      "execution_count": 29,
      "outputs": [
        {
          "output_type": "stream",
          "name": "stdout",
          "text": [
            "0.43777777777777777\n"
          ]
        }
      ]
    },
    {
      "cell_type": "code",
      "source": [
        "# évaluation de la précision : taux de prédictions positives correctes\n",
        "# évaluation du recall : taux de positifs correctement prédits\n",
        "# évaluation du f1-score : capacité d'un modèle à bien prédire les individus positifs\n",
        "print(classification_report(y_test, y_pred))"
      ],
      "metadata": {
        "id": "ecAP-O1-jehQ",
        "colab": {
          "base_uri": "https://localhost:8080/"
        },
        "outputId": "1a3da6d0-ea8a-4b52-f2dd-543e4a337fb5"
      },
      "execution_count": 30,
      "outputs": [
        {
          "output_type": "stream",
          "name": "stdout",
          "text": [
            "                   precision    recall  f1-score   support\n",
            "\n",
            "activites-royales       0.38      0.34      0.36       192\n",
            "          culture       0.90      0.40      0.55       230\n",
            "         economie       0.41      0.57      0.48       295\n",
            "           emploi       0.65      0.21      0.32        52\n",
            "            monde       0.53      0.46      0.49       253\n",
            "           nation       0.46      0.45      0.46       284\n",
            "          regions       0.40      0.30      0.34       228\n",
            "          societe       0.32      0.53      0.40       266\n",
            "\n",
            "         accuracy                           0.44      1800\n",
            "        macro avg       0.51      0.41      0.42      1800\n",
            "     weighted avg       0.49      0.44      0.44      1800\n",
            "\n"
          ]
        }
      ]
    }
  ]
}