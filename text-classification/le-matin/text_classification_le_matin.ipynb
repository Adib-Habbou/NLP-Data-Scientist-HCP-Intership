{
  "nbformat": 4,
  "nbformat_minor": 0,
  "metadata": {
    "colab": {
      "name": "text_classification_le_matin.ipynb",
      "provenance": [],
      "collapsed_sections": []
    },
    "kernelspec": {
      "name": "python3",
      "display_name": "Python 3"
    },
    "language_info": {
      "name": "python"
    }
  },
  "cells": [
    {
      "cell_type": "markdown",
      "source": [
        "## Importation des librairies nécessaires"
      ],
      "metadata": {
        "id": "3VGxLkuNEPo9"
      }
    },
    {
      "cell_type": "code",
      "source": [
        "import pandas as pd\n",
        "import numpy as np\n",
        "import pickle\n",
        "import re"
      ],
      "metadata": {
        "id": "X0Kt4BqaAHKG"
      },
      "execution_count": 21,
      "outputs": []
    },
    {
      "cell_type": "code",
      "source": [
        "import nltk\n",
        "nltk.download('wordnet')\n",
        "nltk.download('omw-1.4')\n",
        "nltk.download('stopwords')\n",
        "from nltk.corpus import stopwords\n",
        "from nltk.stem import WordNetLemmatizer"
      ],
      "metadata": {
        "id": "ml0LMlaGJa3F"
      },
      "execution_count": null,
      "outputs": []
    },
    {
      "cell_type": "code",
      "source": [
        "from sklearn.feature_extraction.text import CountVectorizer\n",
        "from sklearn.feature_extraction.text import TfidfTransformer\n",
        "from sklearn.model_selection import train_test_split\n",
        "from sklearn.ensemble import RandomForestClassifier\n",
        "from sklearn.metrics import classification_report, accuracy_score"
      ],
      "metadata": {
        "id": "Ybsqw1YzJbPK"
      },
      "execution_count": 23,
      "outputs": []
    },
    {
      "cell_type": "markdown",
      "source": [
        "## Importation des données"
      ],
      "metadata": {
        "id": "nOXia9l1EXIl"
      }
    },
    {
      "cell_type": "code",
      "source": [
        "data = pd.read_csv('le_matin_articles.csv')\n",
        "X, y = data.content, data.category"
      ],
      "metadata": {
        "id": "u175dOiV8fj9"
      },
      "execution_count": 24,
      "outputs": []
    },
    {
      "cell_type": "markdown",
      "source": [
        "## Visualisation des catégories"
      ],
      "metadata": {
        "id": "fvg8xKC8Hhh3"
      }
    },
    {
      "cell_type": "code",
      "source": [
        "data.groupby('category').count().plot.bar(ylim=0)"
      ],
      "metadata": {
        "colab": {
          "base_uri": "https://localhost:8080/",
          "height": 369
        },
        "id": "kcj47t2dHg82",
        "outputId": "4ebf8556-1ab0-4adc-dd97-bea65fe1e9ae"
      },
      "execution_count": 25,
      "outputs": [
        {
          "output_type": "execute_result",
          "data": {
            "text/plain": [
              "<matplotlib.axes._subplots.AxesSubplot at 0x7f72f3ac4390>"
            ]
          },
          "metadata": {},
          "execution_count": 25
        },
        {
          "output_type": "display_data",
          "data": {
            "text/plain": [
              "<Figure size 432x288 with 1 Axes>"
            ],
            "image/png": "[encoded data removed]"
          },
          "metadata": {
            "needs_background": "light"
          }
        }
      ]
    },
    {
      "cell_type": "markdown",
      "source": [
        "## Preprocessing des données"
      ],
      "metadata": {
        "id": "V2y34duNEeyS"
      }
    },
    {
      "cell_type": "code",
      "source": [
        "stemmer = WordNetLemmatizer()\n",
        "\n",
        "documents = []\n",
        "\n",
        "for sen in range(0, len(X)):\n",
        "  # suppresion des caractères spéciaux\n",
        "  document = re.sub(r'\\W', ' ', str(X[sen]))\n",
        "  # suppresion des caractères uniques\n",
        "  document = re.sub(r'\\s+[a-zA-Z]\\s+', ' ', document)\n",
        "  document = re.sub(r'\\^[a-zA-Z]\\s+', ' ', document) \n",
        "  # suppresion des espaces multiples\n",
        "  document = re.sub(r'\\s+', ' ', document, flags=re.I)\n",
        "  # suppresion des préfixes b\n",
        "  document = re.sub(r'^b\\s+', '', document)\n",
        "  # concersion en minuscule\n",
        "  document = document.lower()\n",
        "  # lemmatisation\n",
        "  document = document.split()\n",
        "  document = [stemmer.lemmatize(word) for word in document]\n",
        "  document = ' '.join(document)\n",
        "  # ajout à la liste\n",
        "  documents.append(document)"
      ],
      "metadata": {
        "id": "KSiRu9Jn-0pX"
      },
      "execution_count": 26,
      "outputs": []
    },
    {
      "cell_type": "markdown",
      "source": [
        "## Bag Of Words"
      ],
      "metadata": {
        "id": "79Rbh1klEzcm"
      }
    },
    {
      "cell_type": "code",
      "source": [
        "# conversion des données textuelles en données numériques\n",
        "vectorizer = CountVectorizer(max_features=1500, min_df=5, max_df=0.7, stop_words=stopwords.words('french'))\n",
        "X = vectorizer.fit_transform(documents).toarray()"
      ],
      "metadata": {
        "id": "l8AcxPXnB3jH"
      },
      "execution_count": null,
      "outputs": []
    },
    {
      "cell_type": "markdown",
      "source": [
        "## TF - IDF"
      ],
      "metadata": {
        "id": "W-fOtaWCF9Cz"
      }
    },
    {
      "cell_type": "code",
      "source": [
        "# Term Frequency = Nombre d'occurences d'un mot / Nombre total des mots dans le document\n",
        "# Inverse Document Frequency = log(Nombre total de documents / Nombre de documents contenant le mot)\n",
        "tfidfconverter = TfidfTransformer()\n",
        "X = tfidfconverter.fit_transform(X).toarray()"
      ],
      "metadata": {
        "id": "dhJtz-HcB4dC"
      },
      "execution_count": 28,
      "outputs": []
    },
    {
      "cell_type": "markdown",
      "source": [
        "## Entraînement du modèle"
      ],
      "metadata": {
        "id": "Nz0BiIlpHQbR"
      }
    },
    {
      "cell_type": "code",
      "source": [
        "# division des données en données d'entrapînement (80%) et données de test (20%)\n",
        "X_train, X_test, y_train, y_test = train_test_split(X, y, test_size=0.2, random_state=0)"
      ],
      "metadata": {
        "id": "BTwVkAZWCQBI"
      },
      "execution_count": 29,
      "outputs": []
    },
    {
      "cell_type": "code",
      "source": [
        "# utilisation de l'algorithme des forêts aléatoires sur nos données d'netraînement\n",
        "classifier = RandomForestClassifier(n_estimators=1000, random_state=0)\n",
        "classifier.fit(X_train, y_train)"
      ],
      "metadata": {
        "id": "PRDfcpUrB84b",
        "colab": {
          "base_uri": "https://localhost:8080/"
        },
        "outputId": "a1df9ad9-e67b-46a8-fc9c-a78a5af20b79"
      },
      "execution_count": 30,
      "outputs": [
        {
          "output_type": "execute_result",
          "data": {
            "text/plain": [
              "RandomForestClassifier(n_estimators=1000, random_state=0)"
            ]
          },
          "metadata": {},
          "execution_count": 30
        }
      ]
    },
    {
      "cell_type": "code",
      "source": [
        "# prédiction à partir de nos données de test\n",
        "y_pred = classifier.predict(X_test)"
      ],
      "metadata": {
        "id": "e1GS7s1qCaMf"
      },
      "execution_count": 31,
      "outputs": []
    },
    {
      "cell_type": "markdown",
      "source": [
        "## Evaluation du modèle"
      ],
      "metadata": {
        "id": "1iyyc0plHZpj"
      }
    },
    {
      "cell_type": "code",
      "source": [
        "# évaluation du score globale du modèle\n",
        "print(accuracy_score(y_test, y_pred))"
      ],
      "metadata": {
        "colab": {
          "base_uri": "https://localhost:8080/"
        },
        "id": "F095eh0tPEOH",
        "outputId": "eeec9c8f-8060-42fd-bb28-d6b208087838"
      },
      "execution_count": 32,
      "outputs": [
        {
          "output_type": "stream",
          "name": "stdout",
          "text": [
            "0.425\n"
          ]
        }
      ]
    },
    {
      "cell_type": "code",
      "source": [
        "# évaluation de la précision : taux de prédictions positives correctes\n",
        "# évaluation du recall : taux de positifs correctement prédits\n",
        "# évaluation du f1-score : capacité d'un modèle à bien prédire les individus positifs\n",
        "print(classification_report(y_test, y_pred))"
      ],
      "metadata": {
        "colab": {
          "base_uri": "https://localhost:8080/"
        },
        "id": "7rrXF-aVCdER",
        "outputId": "c00d9ee5-1675-4f28-81bf-4a5b35fb9730"
      },
      "execution_count": 33,
      "outputs": [
        {
          "output_type": "stream",
          "name": "stdout",
          "text": [
            "                   precision    recall  f1-score   support\n",
            "\n",
            "activites-royales       0.32      0.39      0.35       192\n",
            "          culture       0.84      0.41      0.55       230\n",
            "         economie       0.43      0.54      0.48       295\n",
            "           emploi       0.91      0.19      0.32        52\n",
            "            monde       0.51      0.43      0.47       253\n",
            "           nation       0.40      0.49      0.44       284\n",
            "          regions       0.38      0.25      0.30       228\n",
            "          societe       0.34      0.46      0.39       266\n",
            "\n",
            "         accuracy                           0.42      1800\n",
            "        macro avg       0.51      0.39      0.41      1800\n",
            "     weighted avg       0.47      0.42      0.43      1800\n",
            "\n"
          ]
        }
      ]
    },
    {
      "cell_type": "markdown",
      "source": [
        "## Sauvegarde du modèle"
      ],
      "metadata": {
        "id": "ymR7ZwU-HiRO"
      }
    },
    {
      "cell_type": "code",
      "source": [
        "# sauvegarde du modèle en tant qu'objet pickle\n",
        "with open('le_matin_classifier', 'wb') as picklefile:\n",
        "  pickle.dump(classifier, picklefile)"
      ],
      "metadata": {
        "id": "UpgmGTEBCuku"
      },
      "execution_count": 34,
      "outputs": []
    },
    {
      "cell_type": "markdown",
      "source": [
        "## Chargement du modèle"
      ],
      "metadata": {
        "id": "ABC-iQL6ITqY"
      }
    },
    {
      "cell_type": "code",
      "source": [
        "# chargement du modèle à partir du fichier morocco_world_news_classifier\n",
        "with open('le_matin_classifier', 'rb') as training_model:\n",
        "  model = pickle.load(training_model)"
      ],
      "metadata": {
        "id": "6J-uU_vkC2XU"
      },
      "execution_count": 35,
      "outputs": []
    },
    {
      "cell_type": "markdown",
      "source": [
        "## Vérification du modèle"
      ],
      "metadata": {
        "id": "vIqFP2hUQkSJ"
      }
    },
    {
      "cell_type": "code",
      "source": [
        "# prédiction à partir des données de test\n",
        "y_pred2 = model.predict(X_test)"
      ],
      "metadata": {
        "id": "mUOqGQF8C4hH"
      },
      "execution_count": 36,
      "outputs": []
    },
    {
      "cell_type": "code",
      "source": [
        "# évaluation du score global\n",
        "print(accuracy_score(y_test, y_pred))"
      ],
      "metadata": {
        "colab": {
          "base_uri": "https://localhost:8080/"
        },
        "id": "jTNAnratQsQp",
        "outputId": "06414906-aa51-4b72-c514-07e2a69a67eb"
      },
      "execution_count": 37,
      "outputs": [
        {
          "output_type": "stream",
          "name": "stdout",
          "text": [
            "0.425\n"
          ]
        }
      ]
    },
    {
      "cell_type": "code",
      "source": [
        "# évaluation de la précision, du recall et du f1-score\n",
        "print(classification_report(y_test, y_pred2))"
      ],
      "metadata": {
        "colab": {
          "base_uri": "https://localhost:8080/"
        },
        "id": "zjm9UxsQQszN",
        "outputId": "57b99d8d-6149-43d3-dd81-39fac988d935"
      },
      "execution_count": 38,
      "outputs": [
        {
          "output_type": "stream",
          "name": "stdout",
          "text": [
            "                   precision    recall  f1-score   support\n",
            "\n",
            "activites-royales       0.32      0.39      0.35       192\n",
            "          culture       0.84      0.41      0.55       230\n",
            "         economie       0.43      0.54      0.48       295\n",
            "           emploi       0.91      0.19      0.32        52\n",
            "            monde       0.51      0.43      0.47       253\n",
            "           nation       0.40      0.49      0.44       284\n",
            "          regions       0.38      0.25      0.30       228\n",
            "          societe       0.34      0.46      0.39       266\n",
            "\n",
            "         accuracy                           0.42      1800\n",
            "        macro avg       0.51      0.39      0.41      1800\n",
            "     weighted avg       0.47      0.42      0.43      1800\n",
            "\n"
          ]
        }
      ]
    }
  ]
}