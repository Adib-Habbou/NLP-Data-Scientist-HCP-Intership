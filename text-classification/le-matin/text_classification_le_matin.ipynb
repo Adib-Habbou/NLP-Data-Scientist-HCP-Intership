{
  "nbformat": 4,
  "nbformat_minor": 0,
  "metadata": {
    "colab": {
      "name": "text_classification_le_matin.ipynb",
      "provenance": [],
      "collapsed_sections": []
    },
    "kernelspec": {
      "name": "python3",
      "display_name": "Python 3"
    },
    "language_info": {
      "name": "python"
    }
  },
  "cells": [
    {
      "cell_type": "markdown",
      "source": [
        "## Importation des librairies nécessaires"
      ],
      "metadata": {
        "id": "3VGxLkuNEPo9"
      }
    },
    {
      "cell_type": "code",
      "source": [
        "import pandas as pd\n",
        "import numpy as np\n",
        "import re\n",
        "import nltk\n",
        "from nltk.corpus import stopwords\n",
        "nltk.download('stopwords')\n",
        "nltk.download('wordnet')\n",
        "nltk.download('omw-1.4')\n",
        "import pickle"
      ],
      "metadata": {
        "id": "X0Kt4BqaAHKG"
      },
      "execution_count": null,
      "outputs": []
    },
    {
      "cell_type": "markdown",
      "source": [
        "## Importation des données"
      ],
      "metadata": {
        "id": "nOXia9l1EXIl"
      }
    },
    {
      "cell_type": "code",
      "source": [
        "data = pd.read_csv('le_matin_articles.csv')\n",
        "X, y = data.content, data.category"
      ],
      "metadata": {
        "id": "u175dOiV8fj9"
      },
      "execution_count": 9,
      "outputs": []
    },
    {
      "cell_type": "markdown",
      "source": [
        "## Text Preprocessing"
      ],
      "metadata": {
        "id": "V2y34duNEeyS"
      }
    },
    {
      "cell_type": "code",
      "source": [
        "from nltk.stem import WordNetLemmatizer\n",
        "stemmer = WordNetLemmatizer()\n",
        "\n",
        "documents = []\n",
        "\n",
        "for sen in range(0, len(X)):\n",
        "  document = re.sub(r'\\W', ' ', str(X[sen]))\n",
        "  document = re.sub(r'\\s+[a-zA-Z]\\s+', ' ', document)\n",
        "  document = re.sub(r'\\^[a-zA-Z]\\s+', ' ', document) \n",
        "  document = re.sub(r'\\s+', ' ', document, flags=re.I)\n",
        "  document = re.sub(r'^b\\s+', '', document)\n",
        "  document = document.lower()\n",
        "  document = document.split()\n",
        "  document = [stemmer.lemmatize(word) for word in document]\n",
        "  document = ' '.join(document)\n",
        "  documents.append(document)"
      ],
      "metadata": {
        "id": "KSiRu9Jn-0pX"
      },
      "execution_count": 10,
      "outputs": []
    },
    {
      "cell_type": "markdown",
      "source": [
        "## Bag Of Words"
      ],
      "metadata": {
        "id": "79Rbh1klEzcm"
      }
    },
    {
      "cell_type": "code",
      "source": [
        "from sklearn.feature_extraction.text import CountVectorizer\n",
        "vectorizer = CountVectorizer(max_features=1500, min_df=5, max_df=0.7, stop_words=stopwords.words('french'))\n",
        "X = vectorizer.fit_transform(documents).toarray()"
      ],
      "metadata": {
        "id": "l8AcxPXnB3jH"
      },
      "execution_count": 11,
      "outputs": []
    },
    {
      "cell_type": "markdown",
      "source": [
        "## TF-IDF"
      ],
      "metadata": {
        "id": "W-fOtaWCF9Cz"
      }
    },
    {
      "cell_type": "code",
      "source": [
        "from sklearn.feature_extraction.text import TfidfTransformer\n",
        "tfidfconverter = TfidfTransformer()\n",
        "X = tfidfconverter.fit_transform(X).toarray()"
      ],
      "metadata": {
        "id": "dhJtz-HcB4dC"
      },
      "execution_count": 12,
      "outputs": []
    },
    {
      "cell_type": "markdown",
      "source": [
        "## Training Model"
      ],
      "metadata": {
        "id": "Nz0BiIlpHQbR"
      }
    },
    {
      "cell_type": "code",
      "source": [
        "from sklearn.model_selection import train_test_split\n",
        "X_train, X_test, y_train, y_test = train_test_split(X, y, test_size=0.2, random_state=0)"
      ],
      "metadata": {
        "id": "BTwVkAZWCQBI"
      },
      "execution_count": 13,
      "outputs": []
    },
    {
      "cell_type": "code",
      "source": [
        "from sklearn.ensemble import RandomForestClassifier\n",
        "classifier = RandomForestClassifier(n_estimators=1000, random_state=0)\n",
        "classifier.fit(X_train, y_train)"
      ],
      "metadata": {
        "colab": {
          "base_uri": "https://localhost:8080/"
        },
        "id": "PRDfcpUrB84b",
        "outputId": "0ae30f92-f1e5-401c-a954-9bf5f14252ca"
      },
      "execution_count": 14,
      "outputs": [
        {
          "output_type": "execute_result",
          "data": {
            "text/plain": [
              "RandomForestClassifier(n_estimators=1000, random_state=0)"
            ]
          },
          "metadata": {},
          "execution_count": 14
        }
      ]
    },
    {
      "cell_type": "code",
      "source": [
        "y_pred = classifier.predict(X_test)"
      ],
      "metadata": {
        "id": "e1GS7s1qCaMf"
      },
      "execution_count": 15,
      "outputs": []
    },
    {
      "cell_type": "markdown",
      "source": [
        "## Model Evaluation"
      ],
      "metadata": {
        "id": "1iyyc0plHZpj"
      }
    },
    {
      "cell_type": "code",
      "source": [
        "from sklearn.metrics import classification_report, confusion_matrix, accuracy_score\n",
        "print(classification_report(y_test,y_pred))"
      ],
      "metadata": {
        "colab": {
          "base_uri": "https://localhost:8080/"
        },
        "id": "7rrXF-aVCdER",
        "outputId": "627fb8b7-9783-4bcb-aea9-0f458fc4a791"
      },
      "execution_count": 16,
      "outputs": [
        {
          "output_type": "stream",
          "name": "stdout",
          "text": [
            "                   precision    recall  f1-score   support\n",
            "\n",
            "activites-royales       0.32      0.39      0.35       192\n",
            "          culture       0.84      0.41      0.55       230\n",
            "         economie       0.43      0.54      0.48       295\n",
            "           emploi       0.91      0.19      0.32        52\n",
            "            monde       0.51      0.43      0.47       253\n",
            "           nation       0.40      0.49      0.44       284\n",
            "          regions       0.38      0.25      0.30       228\n",
            "          societe       0.34      0.46      0.39       266\n",
            "\n",
            "         accuracy                           0.42      1800\n",
            "        macro avg       0.51      0.39      0.41      1800\n",
            "     weighted avg       0.47      0.42      0.43      1800\n",
            "\n"
          ]
        }
      ]
    },
    {
      "cell_type": "markdown",
      "source": [
        "## Saving Model"
      ],
      "metadata": {
        "id": "ymR7ZwU-HiRO"
      }
    },
    {
      "cell_type": "code",
      "source": [
        "with open('text_classifier', 'wb') as picklefile:\n",
        "  pickle.dump(classifier,picklefile)"
      ],
      "metadata": {
        "id": "UpgmGTEBCuku"
      },
      "execution_count": 17,
      "outputs": []
    },
    {
      "cell_type": "markdown",
      "source": [
        "## Loading Model"
      ],
      "metadata": {
        "id": "ABC-iQL6ITqY"
      }
    },
    {
      "cell_type": "code",
      "source": [
        "with open('text_classifier', 'rb') as training_model:\n",
        "  model = pickle.load(training_model)"
      ],
      "metadata": {
        "id": "6J-uU_vkC2XU"
      },
      "execution_count": 18,
      "outputs": []
    },
    {
      "cell_type": "code",
      "source": [
        "y_pred2 = model.predict(X_test)\n",
        "print(classification_report(y_test, y_pred2))"
      ],
      "metadata": {
        "colab": {
          "base_uri": "https://localhost:8080/"
        },
        "id": "mUOqGQF8C4hH",
        "outputId": "8729dfca-f12e-4a58-fc4e-437d8ba2c8ae"
      },
      "execution_count": 19,
      "outputs": [
        {
          "output_type": "stream",
          "name": "stdout",
          "text": [
            "                   precision    recall  f1-score   support\n",
            "\n",
            "activites-royales       0.32      0.39      0.35       192\n",
            "          culture       0.84      0.41      0.55       230\n",
            "         economie       0.43      0.54      0.48       295\n",
            "           emploi       0.91      0.19      0.32        52\n",
            "            monde       0.51      0.43      0.47       253\n",
            "           nation       0.40      0.49      0.44       284\n",
            "          regions       0.38      0.25      0.30       228\n",
            "          societe       0.34      0.46      0.39       266\n",
            "\n",
            "         accuracy                           0.42      1800\n",
            "        macro avg       0.51      0.39      0.41      1800\n",
            "     weighted avg       0.47      0.42      0.43      1800\n",
            "\n"
          ]
        }
      ]
    }
  ]
}