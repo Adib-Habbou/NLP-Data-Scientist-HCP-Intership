{
  "nbformat": 4,
  "nbformat_minor": 0,
  "metadata": {
    "colab": {
      "name": "web_scraping_le_matin.ipynb",
      "provenance": []
    },
    "kernelspec": {
      "name": "python3",
      "display_name": "Python 3"
    },
    "language_info": {
      "name": "python"
    }
  },
  "cells": [
    {
      "cell_type": "markdown",
      "source": [
        "## Installation du package selenium et du chromedriver"
      ],
      "metadata": {
        "id": "kIK381tTDH_I"
      }
    },
    {
      "cell_type": "code",
      "execution_count": null,
      "metadata": {
        "id": "FbsYCJbHCwfT"
      },
      "outputs": [],
      "source": [
        "# installation du package selenium\n",
        "!pip install selenium\n",
        "# installation du chormedriver\n",
        "!apt install chromium-chromedriver\n",
        "# copie du chromedriver\n",
        "!cp C:\\Users\\Adib\\Documents\\Stage\\Stage 1A\\Selenium\\chromedriver.exe"
      ]
    },
    {
      "cell_type": "markdown",
      "source": [
        "## Importation des librairies nécessaires"
      ],
      "metadata": {
        "id": "NoNBCjkJDKUT"
      }
    },
    {
      "cell_type": "code",
      "source": [
        "from selenium import webdriver\n",
        "import pandas as pd"
      ],
      "metadata": {
        "id": "c_DQ5uDwDKBz"
      },
      "execution_count": 89,
      "outputs": []
    },
    {
      "cell_type": "markdown",
      "source": [
        "## Modification des options du chromedriver"
      ],
      "metadata": {
        "id": "7vy-mzxSDONl"
      }
    },
    {
      "cell_type": "code",
      "source": [
        "# options chromedriver pour l'utiliser dans un notebook\n",
        "options = webdriver.ChromeOptions()\n",
        "options.add_argument('-headless')\n",
        "options.add_argument('-no-sandbox')\n",
        "options.add_argument('-disable-dev-shm-usage')"
      ],
      "metadata": {
        "id": "albJpmVsDP5O"
      },
      "execution_count": 90,
      "outputs": []
    },
    {
      "cell_type": "markdown",
      "source": [
        "## Instanciation du WebDriver de Chrome"
      ],
      "metadata": {
        "id": "FoGO95JnDROf"
      }
    },
    {
      "cell_type": "code",
      "source": [
        "# création de l'instance WebDriver de Chrome\n",
        "driver = webdriver.Chrome('chromedriver', options = options)\n",
        "# lien du site Le Matin\n",
        "website = 'https://lematin.ma/'"
      ],
      "metadata": {
        "id": "DQTwuGxXDTIF"
      },
      "execution_count": 91,
      "outputs": []
    },
    {
      "cell_type": "markdown",
      "source": [
        "## Liste des catégories du site"
      ],
      "metadata": {
        "id": "PLUDaQtnDfYL"
      }
    },
    {
      "cell_type": "code",
      "source": [
        "# catégories du site Le Matin\n",
        "categories = ['activites-royales', 'nation', 'economie', 'monde', 'societe', 'culture', 'regions', 'emploi', 'sports', 'automobile']"
      ],
      "metadata": {
        "id": "g1LNI1WHDgsB"
      },
      "execution_count": 92,
      "outputs": []
    },
    {
      "cell_type": "markdown",
      "source": [
        "## Récupération des liens d'articles"
      ],
      "metadata": {
        "id": "eVZsnUhMD4XO"
      }
    },
    {
      "cell_type": "code",
      "source": [
        "# liste des liens vers les articles\n",
        "articles_links = []\n",
        "# parcours des catégories\n",
        "for category in categories:\n",
        "  category_link = website + 'journal/' + category\n",
        "  # parcours des pages de chaque catégorie\n",
        "  page_number = 0\n",
        "  while (page_number < 3):\n",
        "    webpage_link = category_link + '/' + str(page_number)\n",
        "    page_number += 1\n",
        "    # parcours des articles de chaque page\n",
        "    driver.get(webpage_link)\n",
        "    href_links = driver.find_elements_by_xpath('//div/div/div/div/a[@href]')\n",
        "    for href_link in href_links:\n",
        "      articles_links.append(href_link.get_attribute(\"href\"))\n",
        "articles_links = list(filter(lambda article_link: 'https://lematin.ma/express' in article_link, articles_links))"
      ],
      "metadata": {
        "id": "BNmj53I9D7nS"
      },
      "execution_count": 93,
      "outputs": []
    },
    {
      "cell_type": "markdown",
      "source": [
        "## Vérification de la liste de liens"
      ],
      "metadata": {
        "id": "1ceFuIu7FiJ3"
      }
    },
    {
      "cell_type": "code",
      "source": [
        "# affichage de 5 liens pris au hasard\n",
        "articles_links[95:100]"
      ],
      "metadata": {
        "colab": {
          "base_uri": "https://localhost:8080/"
        },
        "id": "OcIzLccpFifj",
        "outputId": "8dbef5c6-a85a-49b6-e99d-d1797e8b16e5"
      },
      "execution_count": 94,
      "outputs": [
        {
          "output_type": "execute_result",
          "data": {
            "text/plain": [
              "['https://lematin.ma/express/2022/nasser-bourita-voici-maroc-me-bataille-co-developpement-afrique/376926.html',\n",
              " 'https://lematin.ma/express/2022/maroc-afrique-sud-victoire-bonne-moral-mais-entretient-doutes/376923.html',\n",
              " 'https://lematin.ma/express/2022/abdellatif-hammouchi-recoit-dg-police-federale-allemagne/376921.html',\n",
              " 'https://lematin.ma/express/2022/arabie-saoudite-munir-mohamedi-debarque-al-wehda/376919.html',\n",
              " 'https://lematin.ma/express/2022/maroc-afrique-sud-impressions-mitigees-malgre-victoire-face-aux-bafanas-bafanas/376913.html']"
            ]
          },
          "metadata": {},
          "execution_count": 94
        }
      ]
    },
    {
      "cell_type": "code",
      "source": [
        "# affichage du nombre total de liens\n",
        "len(articles_links)"
      ],
      "metadata": {
        "colab": {
          "base_uri": "https://localhost:8080/"
        },
        "id": "-pRjT9C7FmAj",
        "outputId": "200313c5-38cb-4370-d432-2c492414e73f"
      },
      "execution_count": 95,
      "outputs": [
        {
          "output_type": "execute_result",
          "data": {
            "text/plain": [
              "1080"
            ]
          },
          "metadata": {},
          "execution_count": 95
        }
      ]
    },
    {
      "cell_type": "markdown",
      "source": [
        "## Récupération du contenu des articles"
      ],
      "metadata": {
        "id": "gI2MaSocLiUh"
      }
    },
    {
      "cell_type": "code",
      "source": [
        "# data frame des données collectés\n",
        "df_articles = pd.DataFrame()\n",
        "# parcours des liens collectés\n",
        "for article_link in articles_links[:500]:\n",
        "  # accès à la page de l'article\n",
        "  driver.get(article_link)\n",
        "  # récupération du titre de l'article\n",
        "  title = driver.find_element_by_id('title').text\n",
        "  # récupération de l'auteur de l'article\n",
        "  author = driver.find_element_by_class_name('author').text.split(',')[0]\n",
        "  # récupération de la date de publication de l'article\n",
        "  date = driver.find_element_by_xpath('//time').text\n",
        "  # récupération du contenu de l'article\n",
        "  content_scrap = driver.find_elements_by_xpath('//div/p')\n",
        "  content = [p.text for p in content_scrap if len(p.text) > 50]\n",
        "  content = ' '.join(content)\n",
        "  # création de la liste de nos données\n",
        "  article = {'title' : title, 'author' : author, 'date' : date, 'content' : content}\n",
        "  # transformation en data frame\n",
        "  df_article = pd.DataFrame(article, index = [0])\n",
        "  # transformation en data frame\n",
        "  df_articles = df_articles.append(df_article, ignore_index=True)"
      ],
      "metadata": {
        "id": "Y1YE6OAAQoCK"
      },
      "execution_count": null,
      "outputs": []
    },
    {
      "cell_type": "markdown",
      "source": [
        "## Vérification des données collectés"
      ],
      "metadata": {
        "id": "yFigQpqgSyYD"
      }
    },
    {
      "cell_type": "code",
      "source": [
        "# affichage des premières valeurs\n",
        "df_articles.head()"
      ],
      "metadata": {
        "id": "KbvZgRPnSyon"
      },
      "execution_count": null,
      "outputs": []
    },
    {
      "cell_type": "code",
      "source": [
        "# affichage de la taille de ntore data frame\n",
        "len(df_articles)"
      ],
      "metadata": {
        "id": "vAJQyd65Sz1O"
      },
      "execution_count": null,
      "outputs": []
    },
    {
      "cell_type": "markdown",
      "source": [
        "## Conversion en fichier csv"
      ],
      "metadata": {
        "id": "-GCe3lwXS2Yb"
      }
    },
    {
      "cell_type": "code",
      "source": [
        "# transformation du data frame en fichier csv\n",
        "df_articles.to_csv('le_matin_articles.csv')"
      ],
      "metadata": {
        "id": "8J0HZMkRS3ee"
      },
      "execution_count": null,
      "outputs": []
    }
  ]
}