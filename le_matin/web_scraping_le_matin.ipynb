{
  "nbformat": 4,
  "nbformat_minor": 0,
  "metadata": {
    "colab": {
      "name": "web_scraping_le_matin.ipynb",
      "provenance": []
    },
    "kernelspec": {
      "name": "python3",
      "display_name": "Python 3"
    },
    "language_info": {
      "name": "python"
    }
  },
  "cells": [
    {
      "cell_type": "markdown",
      "source": [
        "# Web Scraping Le Matin"
      ],
      "metadata": {
        "id": "TLrDu5u3zpob"
      }
    },
    {
      "cell_type": "markdown",
      "source": [
        "## Installation du package selenium et du chromedriver"
      ],
      "metadata": {
        "id": "kIK381tTDH_I"
      }
    },
    {
      "cell_type": "code",
      "execution_count": null,
      "metadata": {
        "id": "FbsYCJbHCwfT"
      },
      "outputs": [],
      "source": [
        "# installation du package selenium\n",
        "!pip install selenium\n",
        "# installation du chormedriver\n",
        "!apt install chromium-chromedriver\n",
        "# copie du chromedriver\n",
        "!cp C:\\Users\\Adib\\Documents\\Stage\\Stage 1A\\Selenium\\chromedriver.exe"
      ]
    },
    {
      "cell_type": "markdown",
      "source": [
        "## Importation des librairies nécessaires"
      ],
      "metadata": {
        "id": "NoNBCjkJDKUT"
      }
    },
    {
      "cell_type": "code",
      "source": [
        "from selenium import webdriver\n",
        "import pandas as pd"
      ],
      "metadata": {
        "id": "c_DQ5uDwDKBz"
      },
      "execution_count": 89,
      "outputs": []
    },
    {
      "cell_type": "markdown",
      "source": [
        "## Modification des options du chromedriver"
      ],
      "metadata": {
        "id": "7vy-mzxSDONl"
      }
    },
    {
      "cell_type": "code",
      "source": [
        "# options chromedriver pour l'utiliser dans un notebook\n",
        "options = webdriver.ChromeOptions()\n",
        "options.add_argument('-headless')\n",
        "options.add_argument('-no-sandbox')\n",
        "options.add_argument('-disable-dev-shm-usage')"
      ],
      "metadata": {
        "id": "albJpmVsDP5O"
      },
      "execution_count": 90,
      "outputs": []
    },
    {
      "cell_type": "markdown",
      "source": [
        "## Instanciation du WebDriver de Chrome"
      ],
      "metadata": {
        "id": "FoGO95JnDROf"
      }
    },
    {
      "cell_type": "code",
      "source": [
        "# création de l'instance WebDriver de Chrome\n",
        "driver = webdriver.Chrome('chromedriver', options = options)\n",
        "# lien du site Le Matin\n",
        "website = 'https://lematin.ma/'"
      ],
      "metadata": {
        "id": "DQTwuGxXDTIF"
      },
      "execution_count": 91,
      "outputs": []
    },
    {
      "cell_type": "markdown",
      "source": [
        "## Liste des catégories du site"
      ],
      "metadata": {
        "id": "PLUDaQtnDfYL"
      }
    },
    {
      "cell_type": "code",
      "source": [
        "# catégories du site Le Matin\n",
        "categories = ['activites-royales', 'nation', 'economie', 'monde', 'societe', 'culture', 'regions', 'emploi', 'sports', 'automobile']"
      ],
      "metadata": {
        "id": "g1LNI1WHDgsB"
      },
      "execution_count": 92,
      "outputs": []
    },
    {
      "cell_type": "markdown",
      "source": [
        "## Récupération des liens d'articles"
      ],
      "metadata": {
        "id": "eVZsnUhMD4XO"
      }
    },
    {
      "cell_type": "code",
      "source": [
        "# liste des liens vers les articles\n",
        "articles_links = []\n",
        "# parcours des catégories\n",
        "for category in categories:\n",
        "  category_link = website + 'journal/' + category\n",
        "  # parcours des pages de chaque catégorie\n",
        "  page_number = 0\n",
        "  while (page_number < 3):\n",
        "    webpage_link = category_link + '/' + str(page_number)\n",
        "    page_number += 1\n",
        "    # parcours des articles de chaque page\n",
        "    driver.get(webpage_link)\n",
        "    href_links = driver.find_elements_by_xpath('//div/div/div/div/a[@href]')\n",
        "    for href_link in href_links:\n",
        "      articles_links.append(href_link.get_attribute(\"href\"))\n",
        "articles_links = list(filter(lambda article_link: 'https://lematin.ma/express' in article_link, articles_links))"
      ],
      "metadata": {
        "id": "BNmj53I9D7nS"
      },
      "execution_count": 93,
      "outputs": []
    },
    {
      "cell_type": "markdown",
      "source": [
        "## Vérification de la liste de liens"
      ],
      "metadata": {
        "id": "1ceFuIu7FiJ3"
      }
    },
    {
      "cell_type": "code",
      "source": [
        "# affichage de 5 liens pris au hasard\n",
        "articles_links[95:100]"
      ],
      "metadata": {
        "colab": {
          "base_uri": "https://localhost:8080/"
        },
        "id": "OcIzLccpFifj",
        "outputId": "8dbef5c6-a85a-49b6-e99d-d1797e8b16e5"
      },
      "execution_count": 94,
      "outputs": [
        {
          "output_type": "execute_result",
          "data": {
            "text/plain": [
              "['https://lematin.ma/express/2022/nasser-bourita-voici-maroc-me-bataille-co-developpement-afrique/376926.html',\n",
              " 'https://lematin.ma/express/2022/maroc-afrique-sud-victoire-bonne-moral-mais-entretient-doutes/376923.html',\n",
              " 'https://lematin.ma/express/2022/abdellatif-hammouchi-recoit-dg-police-federale-allemagne/376921.html',\n",
              " 'https://lematin.ma/express/2022/arabie-saoudite-munir-mohamedi-debarque-al-wehda/376919.html',\n",
              " 'https://lematin.ma/express/2022/maroc-afrique-sud-impressions-mitigees-malgre-victoire-face-aux-bafanas-bafanas/376913.html']"
            ]
          },
          "metadata": {},
          "execution_count": 94
        }
      ]
    },
    {
      "cell_type": "code",
      "source": [
        "# affichage du nombre total de liens\n",
        "len(articles_links)"
      ],
      "metadata": {
        "colab": {
          "base_uri": "https://localhost:8080/"
        },
        "id": "-pRjT9C7FmAj",
        "outputId": "200313c5-38cb-4370-d432-2c492414e73f"
      },
      "execution_count": 95,
      "outputs": [
        {
          "output_type": "execute_result",
          "data": {
            "text/plain": [
              "1080"
            ]
          },
          "metadata": {},
          "execution_count": 95
        }
      ]
    },
    {
      "cell_type": "markdown",
      "source": [
        "## Récupération du contenu des articles"
      ],
      "metadata": {
        "id": "gI2MaSocLiUh"
      }
    },
    {
      "cell_type": "code",
      "source": [
        "# data frame des données collectés\n",
        "df_articles = pd.DataFrame()\n",
        "# parcours des liens collectés\n",
        "for article_link in articles_links[:500]:\n",
        "  # accès à la page de l'article\n",
        "  driver.get(article_link)\n",
        "  # récupération du titre de l'article\n",
        "  title = driver.find_element_by_id('title').text\n",
        "  # récupération de l'auteur de l'article\n",
        "  author = driver.find_element_by_class_name('author').text.split(',')[0]\n",
        "  # récupération de la date de publication de l'article\n",
        "  date = driver.find_element_by_xpath('//time').text\n",
        "  # récupération du contenu de l'article\n",
        "  content_scrap = driver.find_elements_by_xpath('//div/p')\n",
        "  content = [p.text for p in content_scrap if len(p.text) > 50]\n",
        "  content = ' '.join(content)\n",
        "  # création de la liste de nos données\n",
        "  article = {'title' : title, 'author' : author, 'date' : date, 'content' : content}\n",
        "  # transformation en data frame\n",
        "  df_article = pd.DataFrame(article, index = [0])\n",
        "  # transformation en data frame\n",
        "  df_articles = df_articles.append(df_article, ignore_index=True)"
      ],
      "metadata": {
        "id": "Y1YE6OAAQoCK"
      },
      "execution_count": 97,
      "outputs": []
    },
    {
      "cell_type": "markdown",
      "source": [
        "## Vérification des données collectés"
      ],
      "metadata": {
        "id": "yFigQpqgSyYD"
      }
    },
    {
      "cell_type": "code",
      "source": [
        "# affichage des premières valeurs\n",
        "df_articles.head()"
      ],
      "metadata": {
        "colab": {
          "base_uri": "https://localhost:8080/",
          "height": 206
        },
        "id": "KbvZgRPnSyon",
        "outputId": "84d57030-9d0a-403a-baf1-24fa7c78a6c9"
      },
      "execution_count": 98,
      "outputs": [
        {
          "output_type": "execute_result",
          "data": {
            "text/plain": [
              "                                               title  \\\n",
              "0  Naissance dans le foyer de S.A.R. le Prince Mo...   \n",
              "1  S.M. le Roi adresse un message de félicitation...   \n",
              "2  Ligue des Champions : S.M. le Roi félicite dan...   \n",
              "3  Message de condoléances et de compassion de S....   \n",
              "4  S.M. le Roi adresse un message de félicitation...   \n",
              "\n",
              "                               author                  date  \\\n",
              "0  LE MATIN 02 juin 2022 à 06:37 3875  02 juin 2022 à 06:37   \n",
              "1   LE MATIN 30 mai 2022 à 23:43 2014   30 mai 2022 à 23:43   \n",
              "2        LE MATIN 30 mai 2022 à 22:30   30 mai 2022 à 22:30   \n",
              "3                                 MAP   27 mai 2022 à 10:18   \n",
              "4                                 MAP   27 mai 2022 à 10:16   \n",
              "\n",
              "                                             content  \n",
              "0  Le porte-parole du Palais Royal a annoncé, jeu...  \n",
              "1  Sa Majesté le Roi Mohammed VI, que Dieu L'assi...  \n",
              "2  Sa Majesté le Roi Mohammed VI, que Dieu L'assi...  \n",
              "3  Sa Majesté le Roi Mohammed VI a adressé un mes...  \n",
              "4  Sa Majesté le Roi Mohammed VI a adressé un mes...  "
            ],
            "text/html": [
              "\n",
              "  <div id=\"df-f4af6d09-3aac-4031-a19a-3e0b6413651b\">\n",
              "    <div class=\"colab-df-container\">\n",
              "      <div>\n",
              "<style scoped>\n",
              "    .dataframe tbody tr th:only-of-type {\n",
              "        vertical-align: middle;\n",
              "    }\n",
              "\n",
              "    .dataframe tbody tr th {\n",
              "        vertical-align: top;\n",
              "    }\n",
              "\n",
              "    .dataframe thead th {\n",
              "        text-align: right;\n",
              "    }\n",
              "</style>\n",
              "<table border=\"1\" class=\"dataframe\">\n",
              "  <thead>\n",
              "    <tr style=\"text-align: right;\">\n",
              "      <th></th>\n",
              "      <th>title</th>\n",
              "      <th>author</th>\n",
              "      <th>date</th>\n",
              "      <th>content</th>\n",
              "    </tr>\n",
              "  </thead>\n",
              "  <tbody>\n",
              "    <tr>\n",
              "      <th>0</th>\n",
              "      <td>Naissance dans le foyer de S.A.R. le Prince Mo...</td>\n",
              "      <td>LE MATIN 02 juin 2022 à 06:37 3875</td>\n",
              "      <td>02 juin 2022 à 06:37</td>\n",
              "      <td>Le porte-parole du Palais Royal a annoncé, jeu...</td>\n",
              "    </tr>\n",
              "    <tr>\n",
              "      <th>1</th>\n",
              "      <td>S.M. le Roi adresse un message de félicitation...</td>\n",
              "      <td>LE MATIN 30 mai 2022 à 23:43 2014</td>\n",
              "      <td>30 mai 2022 à 23:43</td>\n",
              "      <td>Sa Majesté le Roi Mohammed VI, que Dieu L'assi...</td>\n",
              "    </tr>\n",
              "    <tr>\n",
              "      <th>2</th>\n",
              "      <td>Ligue des Champions : S.M. le Roi félicite dan...</td>\n",
              "      <td>LE MATIN 30 mai 2022 à 22:30</td>\n",
              "      <td>30 mai 2022 à 22:30</td>\n",
              "      <td>Sa Majesté le Roi Mohammed VI, que Dieu L'assi...</td>\n",
              "    </tr>\n",
              "    <tr>\n",
              "      <th>3</th>\n",
              "      <td>Message de condoléances et de compassion de S....</td>\n",
              "      <td>MAP</td>\n",
              "      <td>27 mai 2022 à 10:18</td>\n",
              "      <td>Sa Majesté le Roi Mohammed VI a adressé un mes...</td>\n",
              "    </tr>\n",
              "    <tr>\n",
              "      <th>4</th>\n",
              "      <td>S.M. le Roi adresse un message de félicitation...</td>\n",
              "      <td>MAP</td>\n",
              "      <td>27 mai 2022 à 10:16</td>\n",
              "      <td>Sa Majesté le Roi Mohammed VI a adressé un mes...</td>\n",
              "    </tr>\n",
              "  </tbody>\n",
              "</table>\n",
              "</div>\n",
              "      <button class=\"colab-df-convert\" onclick=\"convertToInteractive('df-f4af6d09-3aac-4031-a19a-3e0b6413651b')\"\n",
              "              title=\"Convert this dataframe to an interactive table.\"\n",
              "              style=\"display:none;\">\n",
              "        \n",
              "  <svg xmlns=\"http://www.w3.org/2000/svg\" height=\"24px\"viewBox=\"0 0 24 24\"\n",
              "       width=\"24px\">\n",
              "    <path d=\"M0 0h24v24H0V0z\" fill=\"none\"/>\n",
              "    <path d=\"M18.56 5.44l.94 2.06.94-2.06 2.06-.94-2.06-.94-.94-2.06-.94 2.06-2.06.94zm-11 1L8.5 8.5l.94-2.06 2.06-.94-2.06-.94L8.5 2.5l-.94 2.06-2.06.94zm10 10l.94 2.06.94-2.06 2.06-.94-2.06-.94-.94-2.06-.94 2.06-2.06.94z\"/><path d=\"M17.41 7.96l-1.37-1.37c-.4-.4-.92-.59-1.43-.59-.52 0-1.04.2-1.43.59L10.3 9.45l-7.72 7.72c-.78.78-.78 2.05 0 2.83L4 21.41c.39.39.9.59 1.41.59.51 0 1.02-.2 1.41-.59l7.78-7.78 2.81-2.81c.8-.78.8-2.07 0-2.86zM5.41 20L4 18.59l7.72-7.72 1.47 1.35L5.41 20z\"/>\n",
              "  </svg>\n",
              "      </button>\n",
              "      \n",
              "  <style>\n",
              "    .colab-df-container {\n",
              "      display:flex;\n",
              "      flex-wrap:wrap;\n",
              "      gap: 12px;\n",
              "    }\n",
              "\n",
              "    .colab-df-convert {\n",
              "      background-color: #E8F0FE;\n",
              "      border: none;\n",
              "      border-radius: 50%;\n",
              "      cursor: pointer;\n",
              "      display: none;\n",
              "      fill: #1967D2;\n",
              "      height: 32px;\n",
              "      padding: 0 0 0 0;\n",
              "      width: 32px;\n",
              "    }\n",
              "\n",
              "    .colab-df-convert:hover {\n",
              "      background-color: #E2EBFA;\n",
              "      box-shadow: 0px 1px 2px rgba(60, 64, 67, 0.3), 0px 1px 3px 1px rgba(60, 64, 67, 0.15);\n",
              "      fill: #174EA6;\n",
              "    }\n",
              "\n",
              "    [theme=dark] .colab-df-convert {\n",
              "      background-color: #3B4455;\n",
              "      fill: #D2E3FC;\n",
              "    }\n",
              "\n",
              "    [theme=dark] .colab-df-convert:hover {\n",
              "      background-color: #434B5C;\n",
              "      box-shadow: 0px 1px 3px 1px rgba(0, 0, 0, 0.15);\n",
              "      filter: drop-shadow(0px 1px 2px rgba(0, 0, 0, 0.3));\n",
              "      fill: #FFFFFF;\n",
              "    }\n",
              "  </style>\n",
              "\n",
              "      <script>\n",
              "        const buttonEl =\n",
              "          document.querySelector('#df-f4af6d09-3aac-4031-a19a-3e0b6413651b button.colab-df-convert');\n",
              "        buttonEl.style.display =\n",
              "          google.colab.kernel.accessAllowed ? 'block' : 'none';\n",
              "\n",
              "        async function convertToInteractive(key) {\n",
              "          const element = document.querySelector('#df-f4af6d09-3aac-4031-a19a-3e0b6413651b');\n",
              "          const dataTable =\n",
              "            await google.colab.kernel.invokeFunction('convertToInteractive',\n",
              "                                                     [key], {});\n",
              "          if (!dataTable) return;\n",
              "\n",
              "          const docLinkHtml = 'Like what you see? Visit the ' +\n",
              "            '<a target=\"_blank\" href=https://colab.research.google.com/notebooks/data_table.ipynb>data table notebook</a>'\n",
              "            + ' to learn more about interactive tables.';\n",
              "          element.innerHTML = '';\n",
              "          dataTable['output_type'] = 'display_data';\n",
              "          await google.colab.output.renderOutput(dataTable, element);\n",
              "          const docLink = document.createElement('div');\n",
              "          docLink.innerHTML = docLinkHtml;\n",
              "          element.appendChild(docLink);\n",
              "        }\n",
              "      </script>\n",
              "    </div>\n",
              "  </div>\n",
              "  "
            ]
          },
          "metadata": {},
          "execution_count": 98
        }
      ]
    },
    {
      "cell_type": "code",
      "source": [
        "# affichage de la taille de ntore data frame\n",
        "len(df_articles)"
      ],
      "metadata": {
        "colab": {
          "base_uri": "https://localhost:8080/"
        },
        "id": "vAJQyd65Sz1O",
        "outputId": "c3b85ce0-4b6a-438b-e75e-f24420d0e463"
      },
      "execution_count": 99,
      "outputs": [
        {
          "output_type": "execute_result",
          "data": {
            "text/plain": [
              "500"
            ]
          },
          "metadata": {},
          "execution_count": 99
        }
      ]
    },
    {
      "cell_type": "markdown",
      "source": [
        "## Conversion en fichier csv"
      ],
      "metadata": {
        "id": "-GCe3lwXS2Yb"
      }
    },
    {
      "cell_type": "code",
      "source": [
        "# transformation du data frame en fichier csv\n",
        "df_articles.to_csv('le_matin_articles.csv')"
      ],
      "metadata": {
        "id": "8J0HZMkRS3ee"
      },
      "execution_count": 100,
      "outputs": []
    }
  ]
}