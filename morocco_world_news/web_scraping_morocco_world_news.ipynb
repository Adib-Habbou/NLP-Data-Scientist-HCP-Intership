{
  "nbformat": 4,
  "nbformat_minor": 0,
  "metadata": {
    "colab": {
      "name": "web_scraping_morocco_world_news.ipynb",
      "provenance": [],
      "collapsed_sections": []
    },
    "kernelspec": {
      "name": "python3",
      "display_name": "Python 3"
    },
    "language_info": {
      "name": "python"
    }
  },
  "cells": [
    {
      "cell_type": "markdown",
      "source": [
        "## Installation du package selenium et du chromedriver"
      ],
      "metadata": {
        "id": "K-BZ9iv8zD4W"
      }
    },
    {
      "cell_type": "code",
      "execution_count": 7,
      "metadata": {
        "id": "Cst8u7v7yzZ-",
        "colab": {
          "base_uri": "https://localhost:8080/"
        },
        "outputId": "9128e95f-b2f0-4e59-d81d-b14a0ef81e08"
      },
      "outputs": [
        {
          "output_type": "stream",
          "name": "stdout",
          "text": [
            "Reading package lists... Done\n",
            "Building dependency tree       \n",
            "Reading state information... Done\n",
            "chromium-chromedriver is already the newest version (101.0.4951.64-0ubuntu0.18.04.1).\n",
            "The following package was automatically installed and is no longer required:\n",
            "  libnvidia-common-460\n",
            "Use 'apt autoremove' to remove it.\n",
            "0 upgraded, 0 newly installed, 0 to remove and 45 not upgraded.\n",
            "cp: cannot stat 'C:UsersAdibDocumentsStageStage': No such file or directory\n"
          ]
        }
      ],
      "source": [
        "# installation du package selenium\n",
        "!pip install selenium\n",
        "# installation du chormedriver\n",
        "!apt install chromium-chromedriver\n",
        "# copie du chromedriver\n",
        "!cp C:\\Users\\Adib\\Documents\\Stage\\Stage 1A\\Selenium\\chromedriver.exe"
      ]
    },
    {
      "cell_type": "markdown",
      "source": [
        "## Importation des librairies nécessaires"
      ],
      "metadata": {
        "id": "NJFIZ3bnzI3T"
      }
    },
    {
      "cell_type": "code",
      "source": [
        "from selenium import webdriver\n",
        "import pandas as pd"
      ],
      "metadata": {
        "id": "BTtGjAPwzKUk"
      },
      "execution_count": 8,
      "outputs": []
    },
    {
      "cell_type": "markdown",
      "source": [
        "## Modification des options du chromedriver"
      ],
      "metadata": {
        "id": "soZUujKjzF47"
      }
    },
    {
      "cell_type": "code",
      "source": [
        "# options chromedriver pour l'utiliser dans un notebook\n",
        "options = webdriver.ChromeOptions()\n",
        "options.add_argument('-headless')\n",
        "options.add_argument('-no-sandbox')\n",
        "options.add_argument('-disable-dev-shm-usage')"
      ],
      "metadata": {
        "id": "lid2ABP9zHSd"
      },
      "execution_count": 9,
      "outputs": []
    },
    {
      "cell_type": "markdown",
      "source": [
        "## Instanciation du WebDriver de Chrome"
      ],
      "metadata": {
        "id": "PYhKhY4YuYav"
      }
    },
    {
      "cell_type": "code",
      "source": [
        "# création de l'instance WebDriver de Chrome\n",
        "driver = webdriver.Chrome('chromedriver', options = options)\n",
        "# lien du site Morocco World News\n",
        "website = 'https://www.moroccoworldnews.com/'"
      ],
      "metadata": {
        "id": "cnF9nX2SubaD"
      },
      "execution_count": 10,
      "outputs": []
    },
    {
      "cell_type": "markdown",
      "source": [
        "## Liste des catégories du site"
      ],
      "metadata": {
        "id": "i0HEihAItIN8"
      }
    },
    {
      "cell_type": "code",
      "source": [
        "# catégories du site Morocco World News\n",
        "categories = ['politics', 'economy', 'opinion', 'lifestyle', 'features', 'society', 'education', 'western-sahara', 'environment', 'covid-19', 'um6p', 'ocp', 'maghreb-news', 'middle-east', 'americas', 'europe']"
      ],
      "metadata": {
        "id": "iAmxm1KBtNPT"
      },
      "execution_count": 12,
      "outputs": []
    },
    {
      "cell_type": "markdown",
      "source": [
        "## Récupération des liens d'articles"
      ],
      "metadata": {
        "id": "dl_t_OUYzLWc"
      }
    },
    {
      "cell_type": "code",
      "source": [
        "# liste des liens vers les articles\n",
        "articles_links = []\n",
        "# parcours des catégories\n",
        "for category in categories:\n",
        "  category_link = website + category\n",
        "  # parcours des pages de chaque catégorie\n",
        "  page_number = 0\n",
        "  while (page_number < 10):\n",
        "    webpage_link = category_link + '/' + str(page_number)\n",
        "    page_number += 1\n",
        "    # parcours des articles de chaque page\n",
        "    driver.get(webpage_link)\n",
        "    href_links = driver.find_elements_by_xpath('//h3/a[@href]')\n",
        "    for href_link in href_links:\n",
        "      articles_links.append(href_link.get_attribute('href'))"
      ],
      "metadata": {
        "id": "ceDN4UfmzNNW"
      },
      "execution_count": 13,
      "outputs": []
    },
    {
      "cell_type": "markdown",
      "source": [
        "## Vérification de la liste de liens"
      ],
      "metadata": {
        "id": "jd5rCSO55fgR"
      }
    },
    {
      "cell_type": "code",
      "source": [
        "# affichage de 5 liens pris au hasard\n",
        "articles_links[95:100]"
      ],
      "metadata": {
        "id": "LH3-_9rh5j3h",
        "colab": {
          "base_uri": "https://localhost:8080/"
        },
        "outputId": "2d98fbda-790b-4bfb-839a-08d4085ac4e6"
      },
      "execution_count": 14,
      "outputs": [
        {
          "output_type": "execute_result",
          "data": {
            "text/plain": [
              "['https://www.moroccoworldnews.com/2022/04/348482/arab-league-commends-moroccos-position-on-israeli-attacks-on-al-aqsa',\n",
              " 'https://www.moroccoworldnews.com/2022/06/349620/foa-details-food-security-challenges-for-morocco',\n",
              " 'https://www.moroccoworldnews.com/2022/06/349619/moroccos-chari-fully-acquires-ivorian-retailer-diago',\n",
              " 'https://www.moroccoworldnews.com/2022/06/349613/uae-seeks-trilateral-trade-agreement-with-morocco-israel',\n",
              " 'https://www.moroccoworldnews.com/2022/06/349611/three-moroccan-cities-feature-among-africas-15-most-expensive-cities']"
            ]
          },
          "metadata": {},
          "execution_count": 14
        }
      ]
    },
    {
      "cell_type": "code",
      "source": [
        "# affichage du nombre total de liens\n",
        "len(articles_links)"
      ],
      "metadata": {
        "colab": {
          "base_uri": "https://localhost:8080/"
        },
        "id": "sZNDoTYY4M5-",
        "outputId": "8219dcda-c9ff-41f1-d263-4d64e37a64c5"
      },
      "execution_count": 15,
      "outputs": [
        {
          "output_type": "execute_result",
          "data": {
            "text/plain": [
              "1357"
            ]
          },
          "metadata": {},
          "execution_count": 15
        }
      ]
    },
    {
      "cell_type": "markdown",
      "source": [
        "## Récupération du contenu des articles"
      ],
      "metadata": {
        "id": "GMwdZvur5Rz4"
      }
    },
    {
      "cell_type": "code",
      "source": [
        "# data frame des données collectés\n",
        "df_articles = pd.DataFrame()\n",
        "# parcours des liens collectés\n",
        "for article_link in articles_links:\n",
        "  # accès à la page de l'article\n",
        "  driver.get(article_link)\n",
        "  # récupération du titre de l'article\n",
        "  title_scrap = driver.find_elements_by_class_name('detail_title')\n",
        "  if (len(title_scrap) != 0):\n",
        "      title = title_scrap[0].text\n",
        "  # récupération de l'en-tête de l'article\n",
        "  lead_scrap = driver.find_elements_by_class_name('detail_lead')\n",
        "  if (len(lead_scrap) != 0):\n",
        "    lead = lead_scrap[0].text\n",
        "  # récupération de l'auteur de l'article\n",
        "  author_scrap = driver.find_elements_by_xpath('//*[@id=\"app\"]/section[1]/div/div/div/div/div/div[1]/div[1]/div[1]/ul/li[1]/a/span')\n",
        "  if (len(author_scrap) != 0):\n",
        "    author = author_scrap[0].text\n",
        "  # récupération de la date de publication de l'article\n",
        "  date_scrap = driver.find_elements_by_xpath('//*[@id=\"app\"]/section[1]/div/div/div/div/div/div[1]/div[1]/div[1]/ul/li[2]/span')\n",
        "  if (len(date_scrap) != 0):\n",
        "    date = date_scrap[0].text\n",
        "  # récupération du contenu de l'article\n",
        "  content_scrap = driver.find_elements_by_class_name('article__content')\n",
        "  if (len(content_scrap) != 0):\n",
        "    content = content_scrap[1].text\n",
        "  # création de la liste de nos données\n",
        "  article = {'title' : title, 'lead' : lead, 'author' : author, 'date' : date, 'content' : content}\n",
        "  # transformation en data frame\n",
        "  df_article = pd.DataFrame(article, index = [0])\n",
        "  # transformation en data frame\n",
        "  df_articles = df_articles.append(df_article, ignore_index=True)"
      ],
      "metadata": {
        "id": "3Tm4qKWB5QTA"
      },
      "execution_count": 16,
      "outputs": []
    },
    {
      "cell_type": "markdown",
      "source": [
        "## Vérification des données collectés"
      ],
      "metadata": {
        "id": "VUodxjD-9GMT"
      }
    },
    {
      "cell_type": "code",
      "source": [
        "# affichage des premières valeurs\n",
        "df_articles.head()"
      ],
      "metadata": {
        "colab": {
          "base_uri": "https://localhost:8080/",
          "height": 206
        },
        "id": "33AsDzEI9K_o",
        "outputId": "7c20a214-c426-4c3a-ee3f-63b2c4f8ef38"
      },
      "execution_count": 17,
      "outputs": [
        {
          "output_type": "execute_result",
          "data": {
            "text/plain": [
              "                                               title  \\\n",
              "0  Spanish FM: Spain Works on ‘Constructive, Firm...   \n",
              "1  Afro-Atlantic Treaty: Morocco Says Only Unity,...   \n",
              "2  Cape Verde to Open Consulate General in Morocc...   \n",
              "3  Mexican Delegation To Visit Morocco, Keen To C...   \n",
              "4  Spanish PM Renews Support for Morocco’s Autono...   \n",
              "\n",
              "                                                lead          author  \\\n",
              "0  Algeria decided to suspend its friendship trea...  Safaa Kasraoui   \n",
              "1  Morocco’s Foreign Affairs Minister insists tha...    Aya Benazizi   \n",
              "2  Togo also announced the forthcoming opening of...  Safaa Kasraoui   \n",
              "3  Migration management, the fight against climat...    Souad Anouar   \n",
              "4  A number of marginal opposition political part...  Safaa Kasraoui   \n",
              "\n",
              "                       date                                            content  \n",
              "0  June 09, 2022 10:53 a.m.  Rabat - Spain regrets Algeria’s decision to su...  \n",
              "1   June 08, 2022 5:08 p.m.  Casablanca - With the Moroccan capital of Raba...  \n",
              "2   June 08, 2022 4:40 p.m.  Rabat - Cape Verde’s Foreign Affairs Minister ...  \n",
              "3   June 08, 2022 4:20 p.m.  Rabat - A Mexican parliamentary delegation is ...  \n",
              "4   June 08, 2022 2:02 p.m.  Rabat - Spain’s Prime Minister Pedro Sanchez h...  "
            ],
            "text/html": [
              "\n",
              "  <div id=\"df-9f04ff83-ff28-4b51-b753-27bdda6843d3\">\n",
              "    <div class=\"colab-df-container\">\n",
              "      <div>\n",
              "<style scoped>\n",
              "    .dataframe tbody tr th:only-of-type {\n",
              "        vertical-align: middle;\n",
              "    }\n",
              "\n",
              "    .dataframe tbody tr th {\n",
              "        vertical-align: top;\n",
              "    }\n",
              "\n",
              "    .dataframe thead th {\n",
              "        text-align: right;\n",
              "    }\n",
              "</style>\n",
              "<table border=\"1\" class=\"dataframe\">\n",
              "  <thead>\n",
              "    <tr style=\"text-align: right;\">\n",
              "      <th></th>\n",
              "      <th>title</th>\n",
              "      <th>lead</th>\n",
              "      <th>author</th>\n",
              "      <th>date</th>\n",
              "      <th>content</th>\n",
              "    </tr>\n",
              "  </thead>\n",
              "  <tbody>\n",
              "    <tr>\n",
              "      <th>0</th>\n",
              "      <td>Spanish FM: Spain Works on ‘Constructive, Firm...</td>\n",
              "      <td>Algeria decided to suspend its friendship trea...</td>\n",
              "      <td>Safaa Kasraoui</td>\n",
              "      <td>June 09, 2022 10:53 a.m.</td>\n",
              "      <td>Rabat - Spain regrets Algeria’s decision to su...</td>\n",
              "    </tr>\n",
              "    <tr>\n",
              "      <th>1</th>\n",
              "      <td>Afro-Atlantic Treaty: Morocco Says Only Unity,...</td>\n",
              "      <td>Morocco’s Foreign Affairs Minister insists tha...</td>\n",
              "      <td>Aya Benazizi</td>\n",
              "      <td>June 08, 2022 5:08 p.m.</td>\n",
              "      <td>Casablanca - With the Moroccan capital of Raba...</td>\n",
              "    </tr>\n",
              "    <tr>\n",
              "      <th>2</th>\n",
              "      <td>Cape Verde to Open Consulate General in Morocc...</td>\n",
              "      <td>Togo also announced the forthcoming opening of...</td>\n",
              "      <td>Safaa Kasraoui</td>\n",
              "      <td>June 08, 2022 4:40 p.m.</td>\n",
              "      <td>Rabat - Cape Verde’s Foreign Affairs Minister ...</td>\n",
              "    </tr>\n",
              "    <tr>\n",
              "      <th>3</th>\n",
              "      <td>Mexican Delegation To Visit Morocco, Keen To C...</td>\n",
              "      <td>Migration management, the fight against climat...</td>\n",
              "      <td>Souad Anouar</td>\n",
              "      <td>June 08, 2022 4:20 p.m.</td>\n",
              "      <td>Rabat - A Mexican parliamentary delegation is ...</td>\n",
              "    </tr>\n",
              "    <tr>\n",
              "      <th>4</th>\n",
              "      <td>Spanish PM Renews Support for Morocco’s Autono...</td>\n",
              "      <td>A number of marginal opposition political part...</td>\n",
              "      <td>Safaa Kasraoui</td>\n",
              "      <td>June 08, 2022 2:02 p.m.</td>\n",
              "      <td>Rabat - Spain’s Prime Minister Pedro Sanchez h...</td>\n",
              "    </tr>\n",
              "  </tbody>\n",
              "</table>\n",
              "</div>\n",
              "      <button class=\"colab-df-convert\" onclick=\"convertToInteractive('df-9f04ff83-ff28-4b51-b753-27bdda6843d3')\"\n",
              "              title=\"Convert this dataframe to an interactive table.\"\n",
              "              style=\"display:none;\">\n",
              "        \n",
              "  <svg xmlns=\"http://www.w3.org/2000/svg\" height=\"24px\"viewBox=\"0 0 24 24\"\n",
              "       width=\"24px\">\n",
              "    <path d=\"M0 0h24v24H0V0z\" fill=\"none\"/>\n",
              "    <path d=\"M18.56 5.44l.94 2.06.94-2.06 2.06-.94-2.06-.94-.94-2.06-.94 2.06-2.06.94zm-11 1L8.5 8.5l.94-2.06 2.06-.94-2.06-.94L8.5 2.5l-.94 2.06-2.06.94zm10 10l.94 2.06.94-2.06 2.06-.94-2.06-.94-.94-2.06-.94 2.06-2.06.94z\"/><path d=\"M17.41 7.96l-1.37-1.37c-.4-.4-.92-.59-1.43-.59-.52 0-1.04.2-1.43.59L10.3 9.45l-7.72 7.72c-.78.78-.78 2.05 0 2.83L4 21.41c.39.39.9.59 1.41.59.51 0 1.02-.2 1.41-.59l7.78-7.78 2.81-2.81c.8-.78.8-2.07 0-2.86zM5.41 20L4 18.59l7.72-7.72 1.47 1.35L5.41 20z\"/>\n",
              "  </svg>\n",
              "      </button>\n",
              "      \n",
              "  <style>\n",
              "    .colab-df-container {\n",
              "      display:flex;\n",
              "      flex-wrap:wrap;\n",
              "      gap: 12px;\n",
              "    }\n",
              "\n",
              "    .colab-df-convert {\n",
              "      background-color: #E8F0FE;\n",
              "      border: none;\n",
              "      border-radius: 50%;\n",
              "      cursor: pointer;\n",
              "      display: none;\n",
              "      fill: #1967D2;\n",
              "      height: 32px;\n",
              "      padding: 0 0 0 0;\n",
              "      width: 32px;\n",
              "    }\n",
              "\n",
              "    .colab-df-convert:hover {\n",
              "      background-color: #E2EBFA;\n",
              "      box-shadow: 0px 1px 2px rgba(60, 64, 67, 0.3), 0px 1px 3px 1px rgba(60, 64, 67, 0.15);\n",
              "      fill: #174EA6;\n",
              "    }\n",
              "\n",
              "    [theme=dark] .colab-df-convert {\n",
              "      background-color: #3B4455;\n",
              "      fill: #D2E3FC;\n",
              "    }\n",
              "\n",
              "    [theme=dark] .colab-df-convert:hover {\n",
              "      background-color: #434B5C;\n",
              "      box-shadow: 0px 1px 3px 1px rgba(0, 0, 0, 0.15);\n",
              "      filter: drop-shadow(0px 1px 2px rgba(0, 0, 0, 0.3));\n",
              "      fill: #FFFFFF;\n",
              "    }\n",
              "  </style>\n",
              "\n",
              "      <script>\n",
              "        const buttonEl =\n",
              "          document.querySelector('#df-9f04ff83-ff28-4b51-b753-27bdda6843d3 button.colab-df-convert');\n",
              "        buttonEl.style.display =\n",
              "          google.colab.kernel.accessAllowed ? 'block' : 'none';\n",
              "\n",
              "        async function convertToInteractive(key) {\n",
              "          const element = document.querySelector('#df-9f04ff83-ff28-4b51-b753-27bdda6843d3');\n",
              "          const dataTable =\n",
              "            await google.colab.kernel.invokeFunction('convertToInteractive',\n",
              "                                                     [key], {});\n",
              "          if (!dataTable) return;\n",
              "\n",
              "          const docLinkHtml = 'Like what you see? Visit the ' +\n",
              "            '<a target=\"_blank\" href=https://colab.research.google.com/notebooks/data_table.ipynb>data table notebook</a>'\n",
              "            + ' to learn more about interactive tables.';\n",
              "          element.innerHTML = '';\n",
              "          dataTable['output_type'] = 'display_data';\n",
              "          await google.colab.output.renderOutput(dataTable, element);\n",
              "          const docLink = document.createElement('div');\n",
              "          docLink.innerHTML = docLinkHtml;\n",
              "          element.appendChild(docLink);\n",
              "        }\n",
              "      </script>\n",
              "    </div>\n",
              "  </div>\n",
              "  "
            ]
          },
          "metadata": {},
          "execution_count": 17
        }
      ]
    },
    {
      "cell_type": "code",
      "source": [
        "# affichage de la taille de ntore data frame\n",
        "len(df_articles)"
      ],
      "metadata": {
        "colab": {
          "base_uri": "https://localhost:8080/"
        },
        "id": "ii9ahxgr99_q",
        "outputId": "d1aaac80-340b-4964-b17e-f486a3b59eb3"
      },
      "execution_count": 18,
      "outputs": [
        {
          "output_type": "execute_result",
          "data": {
            "text/plain": [
              "1357"
            ]
          },
          "metadata": {},
          "execution_count": 18
        }
      ]
    },
    {
      "cell_type": "markdown",
      "source": [
        "## Conversion en fichier csv"
      ],
      "metadata": {
        "id": "iHSApP8o9WoA"
      }
    },
    {
      "cell_type": "code",
      "source": [
        "# transformation du data frame en fichier csv\n",
        "df_articles.to_csv('morocco_world_news_articles.csv')"
      ],
      "metadata": {
        "id": "0mvJjC7f9V67"
      },
      "execution_count": 19,
      "outputs": []
    }
  ]
}