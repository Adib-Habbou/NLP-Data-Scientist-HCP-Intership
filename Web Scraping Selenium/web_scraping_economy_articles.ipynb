{
  "nbformat": 4,
  "nbformat_minor": 0,
  "metadata": {
    "colab": {
      "name": "web_scraping_economy_articles.ipynb",
      "provenance": []
    },
    "kernelspec": {
      "name": "python3",
      "display_name": "Python 3"
    },
    "language_info": {
      "name": "python"
    }
  },
  "cells": [
    {
      "cell_type": "markdown",
      "source": [
        "## Installation du package selenium et du chromedriver"
      ],
      "metadata": {
        "id": "K-BZ9iv8zD4W"
      }
    },
    {
      "cell_type": "code",
      "execution_count": null,
      "metadata": {
        "id": "Cst8u7v7yzZ-"
      },
      "outputs": [],
      "source": [
        "# installation du package selenium\n",
        "!pip install selenium\n",
        "# installation du chormedriver\n",
        "!apt install chromium-chromedriver\n",
        "# copie du chromedriver\n",
        "!cp C:\\Users\\Adib\\Documents\\Stage\\Stage 1A\\Selenium\\chromedriver.exe"
      ]
    },
    {
      "cell_type": "markdown",
      "source": [
        "## Importation des librairies nécessaires"
      ],
      "metadata": {
        "id": "NJFIZ3bnzI3T"
      }
    },
    {
      "cell_type": "code",
      "source": [
        "from selenium import webdriver\n",
        "import pandas as pd\n",
        "import time"
      ],
      "metadata": {
        "id": "BTtGjAPwzKUk"
      },
      "execution_count": 107,
      "outputs": []
    },
    {
      "cell_type": "markdown",
      "source": [
        "## Modification des options du chromedriver"
      ],
      "metadata": {
        "id": "soZUujKjzF47"
      }
    },
    {
      "cell_type": "code",
      "source": [
        "# options chromedriver pour l'utiliser dans un notebook\n",
        "options = webdriver.ChromeOptions()\n",
        "options.add_argument('-headless')\n",
        "options.add_argument('-no-sandbox')\n",
        "options.add_argument('-disable-dev-shm-usage')"
      ],
      "metadata": {
        "id": "lid2ABP9zHSd"
      },
      "execution_count": 108,
      "outputs": []
    },
    {
      "cell_type": "markdown",
      "source": [
        "## Ouverture de la page web"
      ],
      "metadata": {
        "id": "dl_t_OUYzLWc"
      }
    },
    {
      "cell_type": "code",
      "source": [
        "# création de l'instance WebDriver de Chrome\n",
        "driver = webdriver.Chrome('chromedriver', options = options)\n",
        "# stockage de l'url du site\n",
        "website = 'https://www.moroccoworldnews.com/economy'\n",
        "# accès au site via le WebDriver\n",
        "driver.get(website)\n",
        "# on agrandit la fenêtre\n",
        "driver.maximize_window()\n",
        "time.sleep(1)"
      ],
      "metadata": {
        "id": "ceDN4UfmzNNW"
      },
      "execution_count": 109,
      "outputs": []
    },
    {
      "cell_type": "markdown",
      "source": [
        "## Récupération des données"
      ],
      "metadata": {
        "id": "mlrQa6r3zYnZ"
      }
    },
    {
      "cell_type": "code",
      "source": [
        "# utilisation des class name pour récupérer les données\n",
        "titles_contents = driver.find_elements_by_class_name('card__post__title')\n",
        "authors_dates = driver.find_elements_by_class_name('list-inline-item')"
      ],
      "metadata": {
        "id": "ldMck0dVzZ8u"
      },
      "execution_count": null,
      "outputs": []
    },
    {
      "cell_type": "code",
      "source": [
        "titles, contents = [], []\n",
        "for title_content in titles_contents:\n",
        "  if (title_content.text.find('\\n')):\n",
        "    titles.append(title_content.text.split('\\n')[0])\n",
        "    if len(title_content.text.split('\\n')) > 1:\n",
        "      contents.append(title_content.text.split('\\n')[1])"
      ],
      "metadata": {
        "id": "URknf7cAvTHl"
      },
      "execution_count": 111,
      "outputs": []
    },
    {
      "cell_type": "code",
      "source": [
        "authors, dates = [], []\n",
        "for i in range(0, len(authors_dates)-1, 2):\n",
        "  authors.append(authors_dates[i].text)\n",
        "  dates.append(authors_dates[i+1].text)"
      ],
      "metadata": {
        "id": "SMPMnH-rzcGr"
      },
      "execution_count": 113,
      "outputs": []
    },
    {
      "cell_type": "markdown",
      "source": [
        "## Nettoyage des donées"
      ],
      "metadata": {
        "id": "vdAGCXMDycqI"
      }
    },
    {
      "cell_type": "code",
      "source": [
        "# on supprime les éléments vides :\n",
        "titles = list(filter(None, titles))\n",
        "# on supprime les éléments de taille inférieur à 20 :\n",
        "contents = list(filter(lambda x: len(x)>20, contents))"
      ],
      "metadata": {
        "id": "5uLj1iNjyJvr"
      },
      "execution_count": 114,
      "outputs": []
    },
    {
      "cell_type": "code",
      "source": [
        "# on supprime les éléments qui ne sont pas des auteurs :\n",
        "authors = authors[:12]\n",
        "# on supprime les éléments qui ne sont pas des dates :\n",
        "dates = list(filter(lambda x: ',' in x, dates))"
      ],
      "metadata": {
        "id": "NlcrFDJq1X6s"
      },
      "execution_count": 115,
      "outputs": []
    },
    {
      "cell_type": "markdown",
      "source": [
        "## Conversion en fichier csv"
      ],
      "metadata": {
        "id": "FaeZ678SzUrZ"
      }
    },
    {
      "cell_type": "code",
      "source": [
        "articles = []\n",
        "for i in range(12):\n",
        "  article = {}\n",
        "  article['title'] = titles[i]\n",
        "  article['author'] = authors[i]\n",
        "  article['date'] = dates[i]\n",
        "  article['content'] = contents[i]\n",
        "  articles.append(article)\n",
        "df_economy_articles = pd.DataFrame(articles, columns=['title', 'author', 'date', 'content'])\n",
        "df_economy_articles"
      ],
      "metadata": {
        "colab": {
          "base_uri": "https://localhost:8080/",
          "height": 426
        },
        "id": "L1ADc51qzYxL",
        "outputId": "5b588bae-198e-46ef-9bfd-7c4471965bea"
      },
      "execution_count": 116,
      "outputs": [
        {
          "output_type": "execute_result",
          "data": {
            "text/plain": [
              "                                                title          author  \\\n",
              "0   STMicroelectronics Opens New Plant for Electri...   Jihane Rahhou   \n",
              "1   Morocco’s Finea Launches Online Service to Fin...   Jihane Rahhou   \n",
              "2   Mastercard: Digitization Drives Finance, Educa...    Souad Anouar   \n",
              "3   Five Moroccan Firms Shine in Forbes Middle Eas...    Souad Anouar   \n",
              "4   Spain’s CaixaBank Launches Currency Exchange S...    Souad Anouar   \n",
              "5   737 Hotels in Morocco Receive Over $100 Millio...   Jihane Rahhou   \n",
              "6   Only 15% of Morocco’s Rural Areas Have Access ...   Jihane Rahhou   \n",
              "7   Siltation Causes Moroccan Dams to Lose 70 Mill...   Jihane Rahhou   \n",
              "8   Ports Performance Index: Morocco’s Tanger Med ...    Aya Benazizi   \n",
              "9   AU Head ‘Reassured’ on Africa’s Food Security ...   Jihane Rahhou   \n",
              "10       Business Activities in Morocco Drop in April   Jihane Rahhou   \n",
              "11  Industrial Activity in Morocco Decreases Throu...  Oussama Aamari   \n",
              "\n",
              "             date                                            content  \n",
              "0   June 08, 2022  STMicroelectronics, a French-Italian company s...  \n",
              "1   June 07, 2022  Finea, a state-backed Moroccan agency dedicate...  \n",
              "2   June 07, 2022  Digital inclusion in Morocco has provided fina...  \n",
              "3   June 07, 2022  Forbes Middle East has included five Moroccan ...  \n",
              "4   June 06, 2022  The Spanish CaixaBank recently launched its FX...  \n",
              "5   June 06, 2022  Moroccan Businesses working in the hospitality...  \n",
              "6   June 06, 2022  Access to clean fuels and technologies for coo...  \n",
              "7   June 05, 2022  Adding to drought, siltation is causing Morocc...  \n",
              "8   June 05, 2022  Tanger Med, Africa’s and the Mediterranean’s l...  \n",
              "9   June 05, 2022  Macky Sall, President of Senegal and current c...  \n",
              "10  June 04, 2022  After recovering during March, business activi...  \n",
              "11  June 04, 2022  Industrial activity decreased in Morocco throu...  "
            ],
            "text/html": [
              "\n",
              "  <div id=\"df-10c945be-c9fd-4db6-87b6-4bb41e4ff873\">\n",
              "    <div class=\"colab-df-container\">\n",
              "      <div>\n",
              "<style scoped>\n",
              "    .dataframe tbody tr th:only-of-type {\n",
              "        vertical-align: middle;\n",
              "    }\n",
              "\n",
              "    .dataframe tbody tr th {\n",
              "        vertical-align: top;\n",
              "    }\n",
              "\n",
              "    .dataframe thead th {\n",
              "        text-align: right;\n",
              "    }\n",
              "</style>\n",
              "<table border=\"1\" class=\"dataframe\">\n",
              "  <thead>\n",
              "    <tr style=\"text-align: right;\">\n",
              "      <th></th>\n",
              "      <th>title</th>\n",
              "      <th>author</th>\n",
              "      <th>date</th>\n",
              "      <th>content</th>\n",
              "    </tr>\n",
              "  </thead>\n",
              "  <tbody>\n",
              "    <tr>\n",
              "      <th>0</th>\n",
              "      <td>STMicroelectronics Opens New Plant for Electri...</td>\n",
              "      <td>Jihane Rahhou</td>\n",
              "      <td>June 08, 2022</td>\n",
              "      <td>STMicroelectronics, a French-Italian company s...</td>\n",
              "    </tr>\n",
              "    <tr>\n",
              "      <th>1</th>\n",
              "      <td>Morocco’s Finea Launches Online Service to Fin...</td>\n",
              "      <td>Jihane Rahhou</td>\n",
              "      <td>June 07, 2022</td>\n",
              "      <td>Finea, a state-backed Moroccan agency dedicate...</td>\n",
              "    </tr>\n",
              "    <tr>\n",
              "      <th>2</th>\n",
              "      <td>Mastercard: Digitization Drives Finance, Educa...</td>\n",
              "      <td>Souad Anouar</td>\n",
              "      <td>June 07, 2022</td>\n",
              "      <td>Digital inclusion in Morocco has provided fina...</td>\n",
              "    </tr>\n",
              "    <tr>\n",
              "      <th>3</th>\n",
              "      <td>Five Moroccan Firms Shine in Forbes Middle Eas...</td>\n",
              "      <td>Souad Anouar</td>\n",
              "      <td>June 07, 2022</td>\n",
              "      <td>Forbes Middle East has included five Moroccan ...</td>\n",
              "    </tr>\n",
              "    <tr>\n",
              "      <th>4</th>\n",
              "      <td>Spain’s CaixaBank Launches Currency Exchange S...</td>\n",
              "      <td>Souad Anouar</td>\n",
              "      <td>June 06, 2022</td>\n",
              "      <td>The Spanish CaixaBank recently launched its FX...</td>\n",
              "    </tr>\n",
              "    <tr>\n",
              "      <th>5</th>\n",
              "      <td>737 Hotels in Morocco Receive Over $100 Millio...</td>\n",
              "      <td>Jihane Rahhou</td>\n",
              "      <td>June 06, 2022</td>\n",
              "      <td>Moroccan Businesses working in the hospitality...</td>\n",
              "    </tr>\n",
              "    <tr>\n",
              "      <th>6</th>\n",
              "      <td>Only 15% of Morocco’s Rural Areas Have Access ...</td>\n",
              "      <td>Jihane Rahhou</td>\n",
              "      <td>June 06, 2022</td>\n",
              "      <td>Access to clean fuels and technologies for coo...</td>\n",
              "    </tr>\n",
              "    <tr>\n",
              "      <th>7</th>\n",
              "      <td>Siltation Causes Moroccan Dams to Lose 70 Mill...</td>\n",
              "      <td>Jihane Rahhou</td>\n",
              "      <td>June 05, 2022</td>\n",
              "      <td>Adding to drought, siltation is causing Morocc...</td>\n",
              "    </tr>\n",
              "    <tr>\n",
              "      <th>8</th>\n",
              "      <td>Ports Performance Index: Morocco’s Tanger Med ...</td>\n",
              "      <td>Aya Benazizi</td>\n",
              "      <td>June 05, 2022</td>\n",
              "      <td>Tanger Med, Africa’s and the Mediterranean’s l...</td>\n",
              "    </tr>\n",
              "    <tr>\n",
              "      <th>9</th>\n",
              "      <td>AU Head ‘Reassured’ on Africa’s Food Security ...</td>\n",
              "      <td>Jihane Rahhou</td>\n",
              "      <td>June 05, 2022</td>\n",
              "      <td>Macky Sall, President of Senegal and current c...</td>\n",
              "    </tr>\n",
              "    <tr>\n",
              "      <th>10</th>\n",
              "      <td>Business Activities in Morocco Drop in April</td>\n",
              "      <td>Jihane Rahhou</td>\n",
              "      <td>June 04, 2022</td>\n",
              "      <td>After recovering during March, business activi...</td>\n",
              "    </tr>\n",
              "    <tr>\n",
              "      <th>11</th>\n",
              "      <td>Industrial Activity in Morocco Decreases Throu...</td>\n",
              "      <td>Oussama Aamari</td>\n",
              "      <td>June 04, 2022</td>\n",
              "      <td>Industrial activity decreased in Morocco throu...</td>\n",
              "    </tr>\n",
              "  </tbody>\n",
              "</table>\n",
              "</div>\n",
              "      <button class=\"colab-df-convert\" onclick=\"convertToInteractive('df-10c945be-c9fd-4db6-87b6-4bb41e4ff873')\"\n",
              "              title=\"Convert this dataframe to an interactive table.\"\n",
              "              style=\"display:none;\">\n",
              "        \n",
              "  <svg xmlns=\"http://www.w3.org/2000/svg\" height=\"24px\"viewBox=\"0 0 24 24\"\n",
              "       width=\"24px\">\n",
              "    <path d=\"M0 0h24v24H0V0z\" fill=\"none\"/>\n",
              "    <path d=\"M18.56 5.44l.94 2.06.94-2.06 2.06-.94-2.06-.94-.94-2.06-.94 2.06-2.06.94zm-11 1L8.5 8.5l.94-2.06 2.06-.94-2.06-.94L8.5 2.5l-.94 2.06-2.06.94zm10 10l.94 2.06.94-2.06 2.06-.94-2.06-.94-.94-2.06-.94 2.06-2.06.94z\"/><path d=\"M17.41 7.96l-1.37-1.37c-.4-.4-.92-.59-1.43-.59-.52 0-1.04.2-1.43.59L10.3 9.45l-7.72 7.72c-.78.78-.78 2.05 0 2.83L4 21.41c.39.39.9.59 1.41.59.51 0 1.02-.2 1.41-.59l7.78-7.78 2.81-2.81c.8-.78.8-2.07 0-2.86zM5.41 20L4 18.59l7.72-7.72 1.47 1.35L5.41 20z\"/>\n",
              "  </svg>\n",
              "      </button>\n",
              "      \n",
              "  <style>\n",
              "    .colab-df-container {\n",
              "      display:flex;\n",
              "      flex-wrap:wrap;\n",
              "      gap: 12px;\n",
              "    }\n",
              "\n",
              "    .colab-df-convert {\n",
              "      background-color: #E8F0FE;\n",
              "      border: none;\n",
              "      border-radius: 50%;\n",
              "      cursor: pointer;\n",
              "      display: none;\n",
              "      fill: #1967D2;\n",
              "      height: 32px;\n",
              "      padding: 0 0 0 0;\n",
              "      width: 32px;\n",
              "    }\n",
              "\n",
              "    .colab-df-convert:hover {\n",
              "      background-color: #E2EBFA;\n",
              "      box-shadow: 0px 1px 2px rgba(60, 64, 67, 0.3), 0px 1px 3px 1px rgba(60, 64, 67, 0.15);\n",
              "      fill: #174EA6;\n",
              "    }\n",
              "\n",
              "    [theme=dark] .colab-df-convert {\n",
              "      background-color: #3B4455;\n",
              "      fill: #D2E3FC;\n",
              "    }\n",
              "\n",
              "    [theme=dark] .colab-df-convert:hover {\n",
              "      background-color: #434B5C;\n",
              "      box-shadow: 0px 1px 3px 1px rgba(0, 0, 0, 0.15);\n",
              "      filter: drop-shadow(0px 1px 2px rgba(0, 0, 0, 0.3));\n",
              "      fill: #FFFFFF;\n",
              "    }\n",
              "  </style>\n",
              "\n",
              "      <script>\n",
              "        const buttonEl =\n",
              "          document.querySelector('#df-10c945be-c9fd-4db6-87b6-4bb41e4ff873 button.colab-df-convert');\n",
              "        buttonEl.style.display =\n",
              "          google.colab.kernel.accessAllowed ? 'block' : 'none';\n",
              "\n",
              "        async function convertToInteractive(key) {\n",
              "          const element = document.querySelector('#df-10c945be-c9fd-4db6-87b6-4bb41e4ff873');\n",
              "          const dataTable =\n",
              "            await google.colab.kernel.invokeFunction('convertToInteractive',\n",
              "                                                     [key], {});\n",
              "          if (!dataTable) return;\n",
              "\n",
              "          const docLinkHtml = 'Like what you see? Visit the ' +\n",
              "            '<a target=\"_blank\" href=https://colab.research.google.com/notebooks/data_table.ipynb>data table notebook</a>'\n",
              "            + ' to learn more about interactive tables.';\n",
              "          element.innerHTML = '';\n",
              "          dataTable['output_type'] = 'display_data';\n",
              "          await google.colab.output.renderOutput(dataTable, element);\n",
              "          const docLink = document.createElement('div');\n",
              "          docLink.innerHTML = docLinkHtml;\n",
              "          element.appendChild(docLink);\n",
              "        }\n",
              "      </script>\n",
              "    </div>\n",
              "  </div>\n",
              "  "
            ]
          },
          "metadata": {},
          "execution_count": 116
        }
      ]
    },
    {
      "cell_type": "code",
      "source": [
        "df_economy_articles.to_csv('economy_articles.csv')"
      ],
      "metadata": {
        "id": "wXcFEbXo3nUZ"
      },
      "execution_count": 117,
      "outputs": []
    },
    {
      "cell_type": "markdown",
      "source": [
        "## Fermeture de la page web"
      ],
      "metadata": {
        "id": "cVI4d1nT0nhs"
      }
    },
    {
      "cell_type": "code",
      "source": [
        "driver.quit()"
      ],
      "metadata": {
        "id": "cht4WgIS0pwn"
      },
      "execution_count": 118,
      "outputs": []
    }
  ]
}