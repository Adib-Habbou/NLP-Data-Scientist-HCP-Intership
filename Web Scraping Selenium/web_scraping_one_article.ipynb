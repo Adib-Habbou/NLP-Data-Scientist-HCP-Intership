{
  "nbformat": 4,
  "nbformat_minor": 0,
  "metadata": {
    "colab": {
      "name": "web_scraping_one_article.ipynb",
      "provenance": [],
      "collapsed_sections": []
    },
    "kernelspec": {
      "name": "python3",
      "display_name": "Python 3"
    },
    "language_info": {
      "name": "python"
    }
  },
  "cells": [
    {
      "cell_type": "markdown",
      "source": [
        "## Installation du package selenium et du chromedriver"
      ],
      "metadata": {
        "id": "wRKrjNaiaOVF"
      }
    },
    {
      "cell_type": "code",
      "execution_count": null,
      "metadata": {
        "id": "URNo-rShR1Us"
      },
      "outputs": [],
      "source": [
        "# installation du package selenium\n",
        "!pip install selenium\n",
        "# installation du chormedriver\n",
        "!apt install chromium-chromedriver\n",
        "# copie du chromedriver\n",
        "!cp C:\\Users\\Adib\\Documents\\Stage\\Stage 1A\\Selenium\\chromedriver.exe"
      ]
    },
    {
      "cell_type": "markdown",
      "source": [
        "## Importation des librairies nécessaires"
      ],
      "metadata": {
        "id": "BYHb96lDajGg"
      }
    },
    {
      "cell_type": "code",
      "source": [
        "from selenium import webdriver\n",
        "import pandas as pd"
      ],
      "metadata": {
        "id": "coQpicv_R7p0"
      },
      "execution_count": null,
      "outputs": []
    },
    {
      "cell_type": "markdown",
      "source": [
        "## Modification des options du chromedriver"
      ],
      "metadata": {
        "id": "4tohEsD5amaN"
      }
    },
    {
      "cell_type": "code",
      "source": [
        "# options chromedriver pour l'utiliser dans un notebook\n",
        "options = webdriver.ChromeOptions()\n",
        "options.add_argument('-headless')\n",
        "options.add_argument('-no-sandbox')\n",
        "options.add_argument('-disable-dev-shm-usage')"
      ],
      "metadata": {
        "id": "Abyvm8aZap48"
      },
      "execution_count": 177,
      "outputs": []
    },
    {
      "cell_type": "markdown",
      "source": [
        "## Ouverture de la page web"
      ],
      "metadata": {
        "id": "JkR2GyuNa3IG"
      }
    },
    {
      "cell_type": "code",
      "source": [
        "# création de l'instance WebDriver de Chrome\n",
        "driver = webdriver.Chrome('chromedriver', options = options)\n",
        "# stockage de l'url du site\n",
        "website = 'https://www.moroccoworldnews.com/2022/06/349527/only-15-of-moroccos-rural-areas-have-access-to-clean-cooking-solutions'\n",
        "# accès au site via le WebDriver\n",
        "driver.get(website)"
      ],
      "metadata": {
        "id": "AJVqYOYyYuol"
      },
      "execution_count": null,
      "outputs": []
    },
    {
      "cell_type": "markdown",
      "source": [
        "## Récupération des données"
      ],
      "metadata": {
        "id": "6NcnIU4Dgikp"
      }
    },
    {
      "cell_type": "code",
      "source": [
        "# récupération du titre de l'article\n",
        "title_scrap = driver.find_elements_by_class_name('detail_title')\n",
        "title = title_scrap[0].text"
      ],
      "metadata": {
        "colab": {
          "base_uri": "https://localhost:8080/"
        },
        "id": "Y6DsayyFbjMW",
        "outputId": "f1a491b3-b29c-4735-876d-108c89f2ed2a"
      },
      "execution_count": null,
      "outputs": [
        {
          "output_type": "stream",
          "name": "stderr",
          "text": [
            "/usr/local/lib/python3.7/dist-packages/ipykernel_launcher.py:2: DeprecationWarning: find_elements_by_class_name is deprecated. Please use find_elements(by=By.CLASS_NAME, value=name) instead\n",
            "  \n"
          ]
        }
      ]
    },
    {
      "cell_type": "code",
      "source": [
        "# récupération de l'en-tête de l'article\n",
        "lead_scrap = driver.find_elements_by_class_name('detail_lead')\n",
        "lead = lead_scrap[0].text"
      ],
      "metadata": {
        "colab": {
          "base_uri": "https://localhost:8080/"
        },
        "id": "JfCE-g2Hl_dd",
        "outputId": "44183cc0-0109-4904-e524-0119d73b493a"
      },
      "execution_count": null,
      "outputs": [
        {
          "output_type": "stream",
          "name": "stderr",
          "text": [
            "/usr/local/lib/python3.7/dist-packages/ipykernel_launcher.py:2: DeprecationWarning: find_elements_by_class_name is deprecated. Please use find_elements(by=By.CLASS_NAME, value=name) instead\n",
            "  \n"
          ]
        }
      ]
    },
    {
      "cell_type": "code",
      "source": [
        "# récupération de l'auteur de l'article\n",
        "author_scrap = driver.find_elements_by_xpath('//*[@id=\"app\"]/section[1]/div/div/div/div/div/div[1]/div[1]/div[1]/ul/li[1]/a/span')\n",
        "author = author_scrap[0].text"
      ],
      "metadata": {
        "colab": {
          "base_uri": "https://localhost:8080/"
        },
        "id": "FtkHahgksJsD",
        "outputId": "80692660-b4d6-43ee-e575-8d5789077a6c"
      },
      "execution_count": null,
      "outputs": [
        {
          "output_type": "stream",
          "name": "stderr",
          "text": [
            "/usr/local/lib/python3.7/dist-packages/ipykernel_launcher.py:2: DeprecationWarning: find_elements_by_xpath is deprecated. Please use find_elements(by=By.XPATH, value=xpath) instead\n",
            "  \n"
          ]
        }
      ]
    },
    {
      "cell_type": "code",
      "source": [
        "# récupération de la date de publication de l'article\n",
        "date_scrap = driver.find_elements_by_xpath('//*[@id=\"app\"]/section[1]/div/div/div/div/div/div[1]/div[1]/div[1]/ul/li[2]/span')\n",
        "date = date_scrap[0].text"
      ],
      "metadata": {
        "colab": {
          "base_uri": "https://localhost:8080/"
        },
        "id": "BC1S18BXqgxz",
        "outputId": "7563b656-ffa0-4464-b1da-da73c9d77a10"
      },
      "execution_count": null,
      "outputs": [
        {
          "output_type": "stream",
          "name": "stderr",
          "text": [
            "/usr/local/lib/python3.7/dist-packages/ipykernel_launcher.py:2: DeprecationWarning: find_elements_by_xpath is deprecated. Please use find_elements(by=By.XPATH, value=xpath) instead\n",
            "  \n"
          ]
        }
      ]
    },
    {
      "cell_type": "code",
      "source": [
        "# récupération du contenu de l'article\n",
        "content_scrap = driver.find_elements_by_class_name('article__content')\n",
        "content = content_scrap[1].text"
      ],
      "metadata": {
        "colab": {
          "base_uri": "https://localhost:8080/"
        },
        "id": "ognwt11EqhzC",
        "outputId": "df106891-6297-403b-98b3-b61f0ff54e1f"
      },
      "execution_count": null,
      "outputs": [
        {
          "output_type": "stream",
          "name": "stderr",
          "text": [
            "/usr/local/lib/python3.7/dist-packages/ipykernel_launcher.py:2: DeprecationWarning: find_elements_by_class_name is deprecated. Please use find_elements(by=By.CLASS_NAME, value=name) instead\n",
            "  \n"
          ]
        }
      ]
    },
    {
      "cell_type": "markdown",
      "source": [
        "## Stockage des données collectées"
      ],
      "metadata": {
        "id": "Ql_BUfFatgUI"
      }
    },
    {
      "cell_type": "code",
      "source": [
        "# création de la liste de nos données\n",
        "article = {'title' : title, 'lead' : lead, 'author' : author, 'date' : date, 'content' : content}\n",
        "# transformation en data frame\n",
        "df_article = pd.DataFrame(article, index = [0])\n",
        "# conversion en fichier csv\n",
        "df_article.to_csv('web_scraping_one_article.csv')"
      ],
      "metadata": {
        "id": "FzfFHKCMtuHk"
      },
      "execution_count": null,
      "outputs": []
    },
    {
      "cell_type": "markdown",
      "source": [
        "## Fermeture de la page web"
      ],
      "metadata": {
        "id": "mL0unXhutbgU"
      }
    },
    {
      "cell_type": "code",
      "source": [
        "driver.quit()"
      ],
      "metadata": {
        "id": "9x3Ndw3YfEw9"
      },
      "execution_count": null,
      "outputs": []
    }
  ]
}