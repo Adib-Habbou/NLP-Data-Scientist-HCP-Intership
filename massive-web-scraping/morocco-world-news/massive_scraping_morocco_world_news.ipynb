{
  "cells": [
    {
      "cell_type": "markdown",
      "metadata": {
        "id": "jeu1y4NrzFYn"
      },
      "source": [
        "# Web Scraping Morocco World News"
      ]
    },
    {
      "cell_type": "markdown",
      "metadata": {
        "id": "K-BZ9iv8zD4W"
      },
      "source": [
        "## Installation du package selenium et du chromedriver"
      ]
    },
    {
      "cell_type": "code",
      "execution_count": null,
      "metadata": {
        "id": "Cst8u7v7yzZ-"
      },
      "outputs": [],
      "source": [
        "# installation du package selenium\n",
        "!pip install selenium\n",
        "# installation du chormedriver\n",
        "!apt install chromium-chromedriver\n",
        "# copie du chromedriver\n",
        "!cp C:\\Users\\Adib\\Documents\\Stage\\Stage 1A\\Selenium\\chromedriver.exe"
      ]
    },
    {
      "cell_type": "markdown",
      "metadata": {
        "id": "NJFIZ3bnzI3T"
      },
      "source": [
        "## Importation des librairies nécessaires"
      ]
    },
    {
      "cell_type": "code",
      "execution_count": 2,
      "metadata": {
        "id": "BTtGjAPwzKUk"
      },
      "outputs": [],
      "source": [
        "from selenium import webdriver\n",
        "import pandas as pd"
      ]
    },
    {
      "cell_type": "markdown",
      "metadata": {
        "id": "soZUujKjzF47"
      },
      "source": [
        "## Modification des options du chromedriver"
      ]
    },
    {
      "cell_type": "code",
      "execution_count": 3,
      "metadata": {
        "id": "lid2ABP9zHSd"
      },
      "outputs": [],
      "source": [
        "# options chromedriver pour l'utiliser dans un notebook\n",
        "options = webdriver.ChromeOptions()\n",
        "options.add_argument('-headless')\n",
        "options.add_argument('-no-sandbox')\n",
        "options.add_argument('-disable-dev-shm-usage')\n",
        "options.add_argument(\"enable-automation\")\n",
        "options.add_argument(\"--window-size=1920,1080\")\n",
        "options.add_argument(\"--disable-extensions\")\n",
        "options.add_argument(\"--dns-prefetch-disable\")\n",
        "options.add_argument(\"--disable-gpu\")"
      ]
    },
    {
      "cell_type": "markdown",
      "metadata": {
        "id": "PYhKhY4YuYav"
      },
      "source": [
        "## Instanciation du WebDriver de Chrome"
      ]
    },
    {
      "cell_type": "code",
      "execution_count": 4,
      "metadata": {
        "id": "cnF9nX2SubaD"
      },
      "outputs": [],
      "source": [
        "# création de l'instance WebDriver de Chrome\n",
        "driver = webdriver.Chrome('chromedriver', options = options)\n",
        "# lien du site Morocco World News\n",
        "website = 'https://www.moroccoworldnews.com/'"
      ]
    },
    {
      "cell_type": "markdown",
      "metadata": {
        "id": "i0HEihAItIN8"
      },
      "source": [
        "## Liste des catégories du site"
      ]
    },
    {
      "cell_type": "code",
      "execution_count": 5,
      "metadata": {
        "id": "iAmxm1KBtNPT"
      },
      "outputs": [],
      "source": [
        "# catégories du site Morocco World News\n",
        "categories = ['politics', 'economy', 'opinion', 'society', 'education', 'covid-19', 'maghreb-news']"
      ]
    },
    {
      "cell_type": "markdown",
      "metadata": {
        "id": "dl_t_OUYzLWc"
      },
      "source": [
        "## Récupération des liens d'articles"
      ]
    },
    {
      "cell_type": "code",
      "execution_count": null,
      "metadata": {
        "id": "ceDN4UfmzNNW"
      },
      "outputs": [],
      "source": [
        "# liste des liens vers les articles\n",
        "articles_links = []\n",
        "# parcours des catégories\n",
        "for category in categories:\n",
        "  category_link = website + category\n",
        "  # parcours des pages de chaque catégorie\n",
        "  page_number = 0\n",
        "  while (page_number < 135):\n",
        "    webpage_link = category_link + '/' + str(page_number)\n",
        "    page_number += 1\n",
        "    # parcours des articles de chaque page\n",
        "    driver.get(webpage_link)\n",
        "    href_links = driver.find_elements_by_xpath('//h3/a[@href]')\n",
        "    for href_link in href_links:\n",
        "      articles_links.append([href_link.get_attribute('href'), category])"
      ]
    },
    {
      "cell_type": "markdown",
      "metadata": {
        "id": "jd5rCSO55fgR"
      },
      "source": [
        "## Vérification de la liste de liens"
      ]
    },
    {
      "cell_type": "code",
      "execution_count": 7,
      "metadata": {
        "colab": {
          "base_uri": "https://localhost:8080/"
        },
        "id": "LH3-_9rh5j3h",
        "outputId": "71f55a50-5798-48a0-a6e8-35ebb45ce965"
      },
      "outputs": [
        {
          "output_type": "execute_result",
          "data": {
            "text/plain": [
              "[['https://www.moroccoworldnews.com/2021/02/335039/electricity-spanish-ministry-prioritizes-morocco-in-new-plan',\n",
              "  'economy'],\n",
              " ['https://www.moroccoworldnews.com/2021/02/335021/hydrocarbon-exploration-repsol-to-exit-morocco',\n",
              "  'economy'],\n",
              " ['https://www.moroccoworldnews.com/2021/02/335003/morocco-senegal-want-to-strengthen-economic-partnership',\n",
              "  'economy'],\n",
              " ['https://www.moroccoworldnews.com/2021/02/334858/automotive-moroccan-minister-urges-promoting-local-vehicle-production',\n",
              "  'economy'],\n",
              " ['https://www.moroccoworldnews.com/2021/02/334859/giz-menara-cluster-partner-to-boost-moroccos-food-cosmetics-sectors',\n",
              "  'economy']]"
            ]
          },
          "metadata": {},
          "execution_count": 7
        }
      ],
      "source": [
        "# affichage de 5 liens pris au hasard\n",
        "articles_links[1000:1005]"
      ]
    },
    {
      "cell_type": "code",
      "execution_count": 8,
      "metadata": {
        "colab": {
          "base_uri": "https://localhost:8080/"
        },
        "id": "sZNDoTYY4M5-",
        "outputId": "98de50d2-13c4-433b-a675-84a218c56d6b"
      },
      "outputs": [
        {
          "output_type": "execute_result",
          "data": {
            "text/plain": [
              "6960"
            ]
          },
          "metadata": {},
          "execution_count": 8
        }
      ],
      "source": [
        "# affichage du nombre total de liens\n",
        "len(articles_links)"
      ]
    },
    {
      "cell_type": "markdown",
      "metadata": {
        "id": "GMwdZvur5Rz4"
      },
      "source": [
        "## Récupération du contenu des articles"
      ]
    },
    {
      "cell_type": "code",
      "execution_count": null,
      "metadata": {
        "id": "3Tm4qKWB5QTA"
      },
      "outputs": [],
      "source": [
        "# data frame des données collectés\n",
        "df_articles = pd.DataFrame()\n",
        "# parcours des liens collectés\n",
        "for article_link in articles_links:\n",
        "  # accès à la page de l'article\n",
        "  driver.get(article_link[0])\n",
        "  # récupération du contenu de l'article\n",
        "  content_scrap = driver.find_elements_by_class_name('article__content')\n",
        "  if (len(content_scrap) != 0):\n",
        "    content = content_scrap[1].text\n",
        "  # création de la liste de nos données\n",
        "  article = {'category' : article_link[1], 'content' : content}\n",
        "  # transformation en data frame\n",
        "  df_article = pd.DataFrame(article, index = [0])\n",
        "  # transformation en data frame\n",
        "  df_articles = df_articles.append(df_article, ignore_index=True)"
      ]
    },
    {
      "cell_type": "markdown",
      "metadata": {
        "id": "VUodxjD-9GMT"
      },
      "source": [
        "## Vérification des données collectés"
      ]
    },
    {
      "cell_type": "code",
      "execution_count": 10,
      "metadata": {
        "colab": {
          "base_uri": "https://localhost:8080/",
          "height": 206
        },
        "id": "33AsDzEI9K_o",
        "outputId": "c4c2ba70-895d-43c1-add5-7b6e481311f7"
      },
      "outputs": [
        {
          "output_type": "execute_result",
          "data": {
            "text/plain": [
              "   category                                            content\n",
              "0  politics  Rabat - A confidential report from NATO has ex...\n",
              "1  politics  Rabat - Top security officials from Morocco an...\n",
              "2  politics  Rabat - Indie-rock band Big Thief has announce...\n",
              "3  politics  Rabat - The European Union has called on Alger...\n",
              "4  politics  Rabat - Spain regrets Algeria’s decision to su..."
            ],
            "text/html": [
              "\n",
              "  <div id=\"df-890bd41f-a312-4337-b033-d71787a6cfb0\">\n",
              "    <div class=\"colab-df-container\">\n",
              "      <div>\n",
              "<style scoped>\n",
              "    .dataframe tbody tr th:only-of-type {\n",
              "        vertical-align: middle;\n",
              "    }\n",
              "\n",
              "    .dataframe tbody tr th {\n",
              "        vertical-align: top;\n",
              "    }\n",
              "\n",
              "    .dataframe thead th {\n",
              "        text-align: right;\n",
              "    }\n",
              "</style>\n",
              "<table border=\"1\" class=\"dataframe\">\n",
              "  <thead>\n",
              "    <tr style=\"text-align: right;\">\n",
              "      <th></th>\n",
              "      <th>category</th>\n",
              "      <th>content</th>\n",
              "    </tr>\n",
              "  </thead>\n",
              "  <tbody>\n",
              "    <tr>\n",
              "      <th>0</th>\n",
              "      <td>politics</td>\n",
              "      <td>Rabat - A confidential report from NATO has ex...</td>\n",
              "    </tr>\n",
              "    <tr>\n",
              "      <th>1</th>\n",
              "      <td>politics</td>\n",
              "      <td>Rabat - Top security officials from Morocco an...</td>\n",
              "    </tr>\n",
              "    <tr>\n",
              "      <th>2</th>\n",
              "      <td>politics</td>\n",
              "      <td>Rabat - Indie-rock band Big Thief has announce...</td>\n",
              "    </tr>\n",
              "    <tr>\n",
              "      <th>3</th>\n",
              "      <td>politics</td>\n",
              "      <td>Rabat - The European Union has called on Alger...</td>\n",
              "    </tr>\n",
              "    <tr>\n",
              "      <th>4</th>\n",
              "      <td>politics</td>\n",
              "      <td>Rabat - Spain regrets Algeria’s decision to su...</td>\n",
              "    </tr>\n",
              "  </tbody>\n",
              "</table>\n",
              "</div>\n",
              "      <button class=\"colab-df-convert\" onclick=\"convertToInteractive('df-890bd41f-a312-4337-b033-d71787a6cfb0')\"\n",
              "              title=\"Convert this dataframe to an interactive table.\"\n",
              "              style=\"display:none;\">\n",
              "        \n",
              "  <svg xmlns=\"http://www.w3.org/2000/svg\" height=\"24px\"viewBox=\"0 0 24 24\"\n",
              "       width=\"24px\">\n",
              "    <path d=\"M0 0h24v24H0V0z\" fill=\"none\"/>\n",
              "    <path d=\"M18.56 5.44l.94 2.06.94-2.06 2.06-.94-2.06-.94-.94-2.06-.94 2.06-2.06.94zm-11 1L8.5 8.5l.94-2.06 2.06-.94-2.06-.94L8.5 2.5l-.94 2.06-2.06.94zm10 10l.94 2.06.94-2.06 2.06-.94-2.06-.94-.94-2.06-.94 2.06-2.06.94z\"/><path d=\"M17.41 7.96l-1.37-1.37c-.4-.4-.92-.59-1.43-.59-.52 0-1.04.2-1.43.59L10.3 9.45l-7.72 7.72c-.78.78-.78 2.05 0 2.83L4 21.41c.39.39.9.59 1.41.59.51 0 1.02-.2 1.41-.59l7.78-7.78 2.81-2.81c.8-.78.8-2.07 0-2.86zM5.41 20L4 18.59l7.72-7.72 1.47 1.35L5.41 20z\"/>\n",
              "  </svg>\n",
              "      </button>\n",
              "      \n",
              "  <style>\n",
              "    .colab-df-container {\n",
              "      display:flex;\n",
              "      flex-wrap:wrap;\n",
              "      gap: 12px;\n",
              "    }\n",
              "\n",
              "    .colab-df-convert {\n",
              "      background-color: #E8F0FE;\n",
              "      border: none;\n",
              "      border-radius: 50%;\n",
              "      cursor: pointer;\n",
              "      display: none;\n",
              "      fill: #1967D2;\n",
              "      height: 32px;\n",
              "      padding: 0 0 0 0;\n",
              "      width: 32px;\n",
              "    }\n",
              "\n",
              "    .colab-df-convert:hover {\n",
              "      background-color: #E2EBFA;\n",
              "      box-shadow: 0px 1px 2px rgba(60, 64, 67, 0.3), 0px 1px 3px 1px rgba(60, 64, 67, 0.15);\n",
              "      fill: #174EA6;\n",
              "    }\n",
              "\n",
              "    [theme=dark] .colab-df-convert {\n",
              "      background-color: #3B4455;\n",
              "      fill: #D2E3FC;\n",
              "    }\n",
              "\n",
              "    [theme=dark] .colab-df-convert:hover {\n",
              "      background-color: #434B5C;\n",
              "      box-shadow: 0px 1px 3px 1px rgba(0, 0, 0, 0.15);\n",
              "      filter: drop-shadow(0px 1px 2px rgba(0, 0, 0, 0.3));\n",
              "      fill: #FFFFFF;\n",
              "    }\n",
              "  </style>\n",
              "\n",
              "      <script>\n",
              "        const buttonEl =\n",
              "          document.querySelector('#df-890bd41f-a312-4337-b033-d71787a6cfb0 button.colab-df-convert');\n",
              "        buttonEl.style.display =\n",
              "          google.colab.kernel.accessAllowed ? 'block' : 'none';\n",
              "\n",
              "        async function convertToInteractive(key) {\n",
              "          const element = document.querySelector('#df-890bd41f-a312-4337-b033-d71787a6cfb0');\n",
              "          const dataTable =\n",
              "            await google.colab.kernel.invokeFunction('convertToInteractive',\n",
              "                                                     [key], {});\n",
              "          if (!dataTable) return;\n",
              "\n",
              "          const docLinkHtml = 'Like what you see? Visit the ' +\n",
              "            '<a target=\"_blank\" href=https://colab.research.google.com/notebooks/data_table.ipynb>data table notebook</a>'\n",
              "            + ' to learn more about interactive tables.';\n",
              "          element.innerHTML = '';\n",
              "          dataTable['output_type'] = 'display_data';\n",
              "          await google.colab.output.renderOutput(dataTable, element);\n",
              "          const docLink = document.createElement('div');\n",
              "          docLink.innerHTML = docLinkHtml;\n",
              "          element.appendChild(docLink);\n",
              "        }\n",
              "      </script>\n",
              "    </div>\n",
              "  </div>\n",
              "  "
            ]
          },
          "metadata": {},
          "execution_count": 10
        }
      ],
      "source": [
        "# affichage des premières valeurs\n",
        "df_articles.head()"
      ]
    },
    {
      "cell_type": "code",
      "execution_count": 11,
      "metadata": {
        "colab": {
          "base_uri": "https://localhost:8080/",
          "height": 174
        },
        "id": "65gbsV6_wcC_",
        "outputId": "a9d714c1-3c66-4f7f-e00f-ca7dfe7c1297"
      },
      "outputs": [
        {
          "output_type": "execute_result",
          "data": {
            "text/plain": [
              "       category content\n",
              "count      6960    6960\n",
              "unique        7    6577\n",
              "top     opinion        \n",
              "freq       1476      40"
            ],
            "text/html": [
              "\n",
              "  <div id=\"df-56ae0866-2eec-4e1b-936c-a0ea3cefa6b7\">\n",
              "    <div class=\"colab-df-container\">\n",
              "      <div>\n",
              "<style scoped>\n",
              "    .dataframe tbody tr th:only-of-type {\n",
              "        vertical-align: middle;\n",
              "    }\n",
              "\n",
              "    .dataframe tbody tr th {\n",
              "        vertical-align: top;\n",
              "    }\n",
              "\n",
              "    .dataframe thead th {\n",
              "        text-align: right;\n",
              "    }\n",
              "</style>\n",
              "<table border=\"1\" class=\"dataframe\">\n",
              "  <thead>\n",
              "    <tr style=\"text-align: right;\">\n",
              "      <th></th>\n",
              "      <th>category</th>\n",
              "      <th>content</th>\n",
              "    </tr>\n",
              "  </thead>\n",
              "  <tbody>\n",
              "    <tr>\n",
              "      <th>count</th>\n",
              "      <td>6960</td>\n",
              "      <td>6960</td>\n",
              "    </tr>\n",
              "    <tr>\n",
              "      <th>unique</th>\n",
              "      <td>7</td>\n",
              "      <td>6577</td>\n",
              "    </tr>\n",
              "    <tr>\n",
              "      <th>top</th>\n",
              "      <td>opinion</td>\n",
              "      <td></td>\n",
              "    </tr>\n",
              "    <tr>\n",
              "      <th>freq</th>\n",
              "      <td>1476</td>\n",
              "      <td>40</td>\n",
              "    </tr>\n",
              "  </tbody>\n",
              "</table>\n",
              "</div>\n",
              "      <button class=\"colab-df-convert\" onclick=\"convertToInteractive('df-56ae0866-2eec-4e1b-936c-a0ea3cefa6b7')\"\n",
              "              title=\"Convert this dataframe to an interactive table.\"\n",
              "              style=\"display:none;\">\n",
              "        \n",
              "  <svg xmlns=\"http://www.w3.org/2000/svg\" height=\"24px\"viewBox=\"0 0 24 24\"\n",
              "       width=\"24px\">\n",
              "    <path d=\"M0 0h24v24H0V0z\" fill=\"none\"/>\n",
              "    <path d=\"M18.56 5.44l.94 2.06.94-2.06 2.06-.94-2.06-.94-.94-2.06-.94 2.06-2.06.94zm-11 1L8.5 8.5l.94-2.06 2.06-.94-2.06-.94L8.5 2.5l-.94 2.06-2.06.94zm10 10l.94 2.06.94-2.06 2.06-.94-2.06-.94-.94-2.06-.94 2.06-2.06.94z\"/><path d=\"M17.41 7.96l-1.37-1.37c-.4-.4-.92-.59-1.43-.59-.52 0-1.04.2-1.43.59L10.3 9.45l-7.72 7.72c-.78.78-.78 2.05 0 2.83L4 21.41c.39.39.9.59 1.41.59.51 0 1.02-.2 1.41-.59l7.78-7.78 2.81-2.81c.8-.78.8-2.07 0-2.86zM5.41 20L4 18.59l7.72-7.72 1.47 1.35L5.41 20z\"/>\n",
              "  </svg>\n",
              "      </button>\n",
              "      \n",
              "  <style>\n",
              "    .colab-df-container {\n",
              "      display:flex;\n",
              "      flex-wrap:wrap;\n",
              "      gap: 12px;\n",
              "    }\n",
              "\n",
              "    .colab-df-convert {\n",
              "      background-color: #E8F0FE;\n",
              "      border: none;\n",
              "      border-radius: 50%;\n",
              "      cursor: pointer;\n",
              "      display: none;\n",
              "      fill: #1967D2;\n",
              "      height: 32px;\n",
              "      padding: 0 0 0 0;\n",
              "      width: 32px;\n",
              "    }\n",
              "\n",
              "    .colab-df-convert:hover {\n",
              "      background-color: #E2EBFA;\n",
              "      box-shadow: 0px 1px 2px rgba(60, 64, 67, 0.3), 0px 1px 3px 1px rgba(60, 64, 67, 0.15);\n",
              "      fill: #174EA6;\n",
              "    }\n",
              "\n",
              "    [theme=dark] .colab-df-convert {\n",
              "      background-color: #3B4455;\n",
              "      fill: #D2E3FC;\n",
              "    }\n",
              "\n",
              "    [theme=dark] .colab-df-convert:hover {\n",
              "      background-color: #434B5C;\n",
              "      box-shadow: 0px 1px 3px 1px rgba(0, 0, 0, 0.15);\n",
              "      filter: drop-shadow(0px 1px 2px rgba(0, 0, 0, 0.3));\n",
              "      fill: #FFFFFF;\n",
              "    }\n",
              "  </style>\n",
              "\n",
              "      <script>\n",
              "        const buttonEl =\n",
              "          document.querySelector('#df-56ae0866-2eec-4e1b-936c-a0ea3cefa6b7 button.colab-df-convert');\n",
              "        buttonEl.style.display =\n",
              "          google.colab.kernel.accessAllowed ? 'block' : 'none';\n",
              "\n",
              "        async function convertToInteractive(key) {\n",
              "          const element = document.querySelector('#df-56ae0866-2eec-4e1b-936c-a0ea3cefa6b7');\n",
              "          const dataTable =\n",
              "            await google.colab.kernel.invokeFunction('convertToInteractive',\n",
              "                                                     [key], {});\n",
              "          if (!dataTable) return;\n",
              "\n",
              "          const docLinkHtml = 'Like what you see? Visit the ' +\n",
              "            '<a target=\"_blank\" href=https://colab.research.google.com/notebooks/data_table.ipynb>data table notebook</a>'\n",
              "            + ' to learn more about interactive tables.';\n",
              "          element.innerHTML = '';\n",
              "          dataTable['output_type'] = 'display_data';\n",
              "          await google.colab.output.renderOutput(dataTable, element);\n",
              "          const docLink = document.createElement('div');\n",
              "          docLink.innerHTML = docLinkHtml;\n",
              "          element.appendChild(docLink);\n",
              "        }\n",
              "      </script>\n",
              "    </div>\n",
              "  </div>\n",
              "  "
            ]
          },
          "metadata": {},
          "execution_count": 11
        }
      ],
      "source": [
        "# rapide description du data frame\n",
        "df_articles.describe()"
      ]
    },
    {
      "cell_type": "code",
      "execution_count": 12,
      "metadata": {
        "colab": {
          "base_uri": "https://localhost:8080/"
        },
        "id": "ii9ahxgr99_q",
        "outputId": "b9ec1a4e-928d-487a-d88a-e00930f108fd"
      },
      "outputs": [
        {
          "output_type": "execute_result",
          "data": {
            "text/plain": [
              "6960"
            ]
          },
          "metadata": {},
          "execution_count": 12
        }
      ],
      "source": [
        "# affichage de la taille de ntore data frame\n",
        "len(df_articles)"
      ]
    },
    {
      "cell_type": "markdown",
      "metadata": {
        "id": "iHSApP8o9WoA"
      },
      "source": [
        "## Conversion en fichier csv"
      ]
    },
    {
      "cell_type": "code",
      "execution_count": 13,
      "metadata": {
        "id": "0mvJjC7f9V67"
      },
      "outputs": [],
      "source": [
        "# transformation du data frame en fichier csv\n",
        "df_articles.to_csv('morocco_world_news_articles.csv')"
      ]
    }
  ],
  "metadata": {
    "colab": {
      "collapsed_sections": [],
      "name": "massive_scraping_morocco_world_news.ipynb",
      "provenance": []
    },
    "kernelspec": {
      "display_name": "Python 3",
      "name": "python3"
    },
    "language_info": {
      "name": "python"
    }
  },
  "nbformat": 4,
  "nbformat_minor": 0
}