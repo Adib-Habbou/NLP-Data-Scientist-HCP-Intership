{
  "cells": [
    {
      "cell_type": "markdown",
      "metadata": {
        "id": "wRKrjNaiaOVF"
      },
      "source": [
        "## Installation du package selenium et du chromedriver"
      ]
    },
    {
      "cell_type": "code",
      "execution_count": null,
      "metadata": {
        "id": "URNo-rShR1Us"
      },
      "outputs": [],
      "source": [
        "# installation du package selenium\n",
        "!pip install selenium\n",
        "# installation du chormedriver\n",
        "!apt install chromium-chromedriver\n",
        "# copie du chromedriver\n",
        "!cp C:\\Users\\Adib\\Documents\\Stage\\Stage 1A\\Selenium\\chromedriver.exe"
      ]
    },
    {
      "cell_type": "markdown",
      "metadata": {
        "id": "BYHb96lDajGg"
      },
      "source": [
        "## Importation des librairies nécessaires"
      ]
    },
    {
      "cell_type": "code",
      "execution_count": null,
      "metadata": {
        "id": "coQpicv_R7p0"
      },
      "outputs": [],
      "source": [
        "from selenium import webdriver\n",
        "import pandas as pd"
      ]
    },
    {
      "cell_type": "markdown",
      "metadata": {
        "id": "4tohEsD5amaN"
      },
      "source": [
        "## Modification des options du chromedriver"
      ]
    },
    {
      "cell_type": "code",
      "execution_count": null,
      "metadata": {
        "id": "Abyvm8aZap48"
      },
      "outputs": [],
      "source": [
        "# options chromedriver pour l'utiliser dans un notebook\n",
        "options = webdriver.ChromeOptions()\n",
        "options.add_argument('-headless')\n",
        "options.add_argument('-no-sandbox')\n",
        "options.add_argument('-disable-dev-shm-usage')"
      ]
    },
    {
      "cell_type": "markdown",
      "metadata": {
        "id": "JkR2GyuNa3IG"
      },
      "source": [
        "## Ouverture de la page web"
      ]
    },
    {
      "cell_type": "code",
      "execution_count": null,
      "metadata": {
        "colab": {
          "background_save": true
        },
        "id": "AJVqYOYyYuol"
      },
      "outputs": [],
      "source": [
        "# création de l'instance WebDriver de Chrome\n",
        "driver = webdriver.Chrome('chromedriver', options = options)\n",
        "# stockage de l'url du site\n",
        "website = 'https://www.moroccoworldnews.com/2022/06/349527/only-15-of-moroccos-rural-areas-have-access-to-clean-cooking-solutions'\n",
        "# accès au site via le WebDriver\n",
        "driver.get(website)"
      ]
    },
    {
      "cell_type": "markdown",
      "metadata": {
        "id": "6NcnIU4Dgikp"
      },
      "source": [
        "## Récupération des données"
      ]
    },
    {
      "cell_type": "code",
      "execution_count": null,
      "metadata": {
        "colab": {
          "background_save": true
        },
        "id": "Y6DsayyFbjMW"
      },
      "outputs": [],
      "source": [
        "# récupération du titre de l'article\n",
        "title_scrap = driver.find_elements_by_class_name('detail_title')\n",
        "title = title_scrap[0].text"
      ]
    },
    {
      "cell_type": "code",
      "execution_count": null,
      "metadata": {
        "colab": {
          "background_save": true
        },
        "id": "JfCE-g2Hl_dd"
      },
      "outputs": [],
      "source": [
        "# récupération de l'en-tête de l'article\n",
        "lead_scrap = driver.find_elements_by_class_name('detail_lead')\n",
        "lead = lead_scrap[0].text"
      ]
    },
    {
      "cell_type": "code",
      "execution_count": null,
      "metadata": {
        "colab": {
          "background_save": true
        },
        "id": "FtkHahgksJsD"
      },
      "outputs": [],
      "source": [
        "# récupération de l'auteur de l'article\n",
        "author_scrap = driver.find_elements_by_xpath('//*[@id=\"app\"]/section[1]/div/div/div/div/div/div[1]/div[1]/div[1]/ul/li[1]/a/span')\n",
        "author = author_scrap[0].text"
      ]
    },
    {
      "cell_type": "code",
      "execution_count": null,
      "metadata": {
        "colab": {
          "background_save": true
        },
        "id": "BC1S18BXqgxz"
      },
      "outputs": [],
      "source": [
        "# récupération de la date de publication de l'article\n",
        "date_scrap = driver.find_elements_by_xpath('//*[@id=\"app\"]/section[1]/div/div/div/div/div/div[1]/div[1]/div[1]/ul/li[2]/span')\n",
        "date = date_scrap[0].text"
      ]
    },
    {
      "cell_type": "code",
      "execution_count": null,
      "metadata": {
        "colab": {
          "background_save": true
        },
        "id": "ognwt11EqhzC"
      },
      "outputs": [],
      "source": [
        "# récupération du contenu de l'article\n",
        "content_scrap = driver.find_elements_by_class_name('article__content')\n",
        "content = content_scrap[1].text"
      ]
    },
    {
      "cell_type": "markdown",
      "metadata": {
        "id": "Ql_BUfFatgUI"
      },
      "source": [
        "## Stockage des données collectées"
      ]
    },
    {
      "cell_type": "code",
      "execution_count": null,
      "metadata": {
        "colab": {
          "background_save": true
        },
        "id": "FzfFHKCMtuHk"
      },
      "outputs": [],
      "source": [
        "# création de la liste de nos données\n",
        "article = {'title' : title, 'lead' : lead, 'author' : author, 'date' : date, 'content' : content}\n",
        "# transformation en data frame\n",
        "df_article = pd.DataFrame(article, index = [0])\n",
        "# conversion en fichier csv\n",
        "df_article.to_csv('web_scraping_one_article.csv')"
      ]
    },
    {
      "cell_type": "markdown",
      "metadata": {
        "id": "mL0unXhutbgU"
      },
      "source": [
        "## Fermeture de la page web"
      ]
    },
    {
      "cell_type": "code",
      "execution_count": null,
      "metadata": {
        "colab": {
          "background_save": true
        },
        "id": "9x3Ndw3YfEw9"
      },
      "outputs": [],
      "source": [
        "driver.quit()"
      ]
    }
  ],
  "metadata": {
    "colab": {
      "collapsed_sections": [],
      "name": "web_scraping_one_article.ipynb",
      "provenance": []
    },
    "kernelspec": {
      "display_name": "Python 3",
      "name": "python3"
    },
    "language_info": {
      "name": "python"
    }
  },
  "nbformat": 4,
  "nbformat_minor": 0
}