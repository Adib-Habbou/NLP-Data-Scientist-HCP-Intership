{
  "nbformat": 4,
  "nbformat_minor": 0,
  "metadata": {
    "colab": {
      "name": "topic_model_morocco_world_news.ipynb",
      "provenance": [],
      "collapsed_sections": []
    },
    "kernelspec": {
      "name": "python3",
      "display_name": "Python 3"
    },
    "language_info": {
      "name": "python"
    }
  },
  "cells": [
    {
      "cell_type": "markdown",
      "source": [
        "# Topic Modeling Morocco World News"
      ],
      "metadata": {
        "id": "NvJz9_7-_4Qc"
      }
    },
    {
      "cell_type": "markdown",
      "source": [
        "## Importation des données"
      ],
      "metadata": {
        "id": "ayzaDXN__1t0"
      }
    },
    {
      "cell_type": "code",
      "source": [
        "import pandas as pd"
      ],
      "metadata": {
        "id": "-La4PsmS-FFe"
      },
      "execution_count": 154,
      "outputs": []
    },
    {
      "cell_type": "code",
      "source": [
        "morocco_world_news = pd.read_csv('morocco_world_news_articles.csv', engine='python', error_bad_lines=False)"
      ],
      "metadata": {
        "id": "W0Wzndak-E6i"
      },
      "execution_count": null,
      "outputs": []
    },
    {
      "cell_type": "code",
      "source": [
        "morocco_world_news.head()"
      ],
      "metadata": {
        "colab": {
          "base_uri": "https://localhost:8080/",
          "height": 206
        },
        "id": "q557CiCc-4jB",
        "outputId": "5a70b67e-43d9-4710-85d6-af05d72c349e"
      },
      "execution_count": 156,
      "outputs": [
        {
          "output_type": "execute_result",
          "data": {
            "text/plain": [
              "   Unnamed: 0  category                                            content\n",
              "0           0  politics  Rabat - A confidential report from NATO has ex...\n",
              "1           1  politics  Rabat - Top security officials from Morocco an...\n",
              "2           2  politics  Rabat - Indie-rock band Big Thief has announce...\n",
              "3           3  politics  Rabat - The European Union has called on Alger...\n",
              "4           4  politics  Rabat - Spain regrets Algeria’s decision to su..."
            ],
            "text/html": [
              "\n",
              "  <div id=\"df-d7d7dc19-8cf1-46b5-a230-3ba8535e92e6\">\n",
              "    <div class=\"colab-df-container\">\n",
              "      <div>\n",
              "<style scoped>\n",
              "    .dataframe tbody tr th:only-of-type {\n",
              "        vertical-align: middle;\n",
              "    }\n",
              "\n",
              "    .dataframe tbody tr th {\n",
              "        vertical-align: top;\n",
              "    }\n",
              "\n",
              "    .dataframe thead th {\n",
              "        text-align: right;\n",
              "    }\n",
              "</style>\n",
              "<table border=\"1\" class=\"dataframe\">\n",
              "  <thead>\n",
              "    <tr style=\"text-align: right;\">\n",
              "      <th></th>\n",
              "      <th>Unnamed: 0</th>\n",
              "      <th>category</th>\n",
              "      <th>content</th>\n",
              "    </tr>\n",
              "  </thead>\n",
              "  <tbody>\n",
              "    <tr>\n",
              "      <th>0</th>\n",
              "      <td>0</td>\n",
              "      <td>politics</td>\n",
              "      <td>Rabat - A confidential report from NATO has ex...</td>\n",
              "    </tr>\n",
              "    <tr>\n",
              "      <th>1</th>\n",
              "      <td>1</td>\n",
              "      <td>politics</td>\n",
              "      <td>Rabat - Top security officials from Morocco an...</td>\n",
              "    </tr>\n",
              "    <tr>\n",
              "      <th>2</th>\n",
              "      <td>2</td>\n",
              "      <td>politics</td>\n",
              "      <td>Rabat - Indie-rock band Big Thief has announce...</td>\n",
              "    </tr>\n",
              "    <tr>\n",
              "      <th>3</th>\n",
              "      <td>3</td>\n",
              "      <td>politics</td>\n",
              "      <td>Rabat - The European Union has called on Alger...</td>\n",
              "    </tr>\n",
              "    <tr>\n",
              "      <th>4</th>\n",
              "      <td>4</td>\n",
              "      <td>politics</td>\n",
              "      <td>Rabat - Spain regrets Algeria’s decision to su...</td>\n",
              "    </tr>\n",
              "  </tbody>\n",
              "</table>\n",
              "</div>\n",
              "      <button class=\"colab-df-convert\" onclick=\"convertToInteractive('df-d7d7dc19-8cf1-46b5-a230-3ba8535e92e6')\"\n",
              "              title=\"Convert this dataframe to an interactive table.\"\n",
              "              style=\"display:none;\">\n",
              "        \n",
              "  <svg xmlns=\"http://www.w3.org/2000/svg\" height=\"24px\"viewBox=\"0 0 24 24\"\n",
              "       width=\"24px\">\n",
              "    <path d=\"M0 0h24v24H0V0z\" fill=\"none\"/>\n",
              "    <path d=\"M18.56 5.44l.94 2.06.94-2.06 2.06-.94-2.06-.94-.94-2.06-.94 2.06-2.06.94zm-11 1L8.5 8.5l.94-2.06 2.06-.94-2.06-.94L8.5 2.5l-.94 2.06-2.06.94zm10 10l.94 2.06.94-2.06 2.06-.94-2.06-.94-.94-2.06-.94 2.06-2.06.94z\"/><path d=\"M17.41 7.96l-1.37-1.37c-.4-.4-.92-.59-1.43-.59-.52 0-1.04.2-1.43.59L10.3 9.45l-7.72 7.72c-.78.78-.78 2.05 0 2.83L4 21.41c.39.39.9.59 1.41.59.51 0 1.02-.2 1.41-.59l7.78-7.78 2.81-2.81c.8-.78.8-2.07 0-2.86zM5.41 20L4 18.59l7.72-7.72 1.47 1.35L5.41 20z\"/>\n",
              "  </svg>\n",
              "      </button>\n",
              "      \n",
              "  <style>\n",
              "    .colab-df-container {\n",
              "      display:flex;\n",
              "      flex-wrap:wrap;\n",
              "      gap: 12px;\n",
              "    }\n",
              "\n",
              "    .colab-df-convert {\n",
              "      background-color: #E8F0FE;\n",
              "      border: none;\n",
              "      border-radius: 50%;\n",
              "      cursor: pointer;\n",
              "      display: none;\n",
              "      fill: #1967D2;\n",
              "      height: 32px;\n",
              "      padding: 0 0 0 0;\n",
              "      width: 32px;\n",
              "    }\n",
              "\n",
              "    .colab-df-convert:hover {\n",
              "      background-color: #E2EBFA;\n",
              "      box-shadow: 0px 1px 2px rgba(60, 64, 67, 0.3), 0px 1px 3px 1px rgba(60, 64, 67, 0.15);\n",
              "      fill: #174EA6;\n",
              "    }\n",
              "\n",
              "    [theme=dark] .colab-df-convert {\n",
              "      background-color: #3B4455;\n",
              "      fill: #D2E3FC;\n",
              "    }\n",
              "\n",
              "    [theme=dark] .colab-df-convert:hover {\n",
              "      background-color: #434B5C;\n",
              "      box-shadow: 0px 1px 3px 1px rgba(0, 0, 0, 0.15);\n",
              "      filter: drop-shadow(0px 1px 2px rgba(0, 0, 0, 0.3));\n",
              "      fill: #FFFFFF;\n",
              "    }\n",
              "  </style>\n",
              "\n",
              "      <script>\n",
              "        const buttonEl =\n",
              "          document.querySelector('#df-d7d7dc19-8cf1-46b5-a230-3ba8535e92e6 button.colab-df-convert');\n",
              "        buttonEl.style.display =\n",
              "          google.colab.kernel.accessAllowed ? 'block' : 'none';\n",
              "\n",
              "        async function convertToInteractive(key) {\n",
              "          const element = document.querySelector('#df-d7d7dc19-8cf1-46b5-a230-3ba8535e92e6');\n",
              "          const dataTable =\n",
              "            await google.colab.kernel.invokeFunction('convertToInteractive',\n",
              "                                                     [key], {});\n",
              "          if (!dataTable) return;\n",
              "\n",
              "          const docLinkHtml = 'Like what you see? Visit the ' +\n",
              "            '<a target=\"_blank\" href=https://colab.research.google.com/notebooks/data_table.ipynb>data table notebook</a>'\n",
              "            + ' to learn more about interactive tables.';\n",
              "          element.innerHTML = '';\n",
              "          dataTable['output_type'] = 'display_data';\n",
              "          await google.colab.output.renderOutput(dataTable, element);\n",
              "          const docLink = document.createElement('div');\n",
              "          docLink.innerHTML = docLinkHtml;\n",
              "          element.appendChild(docLink);\n",
              "        }\n",
              "      </script>\n",
              "    </div>\n",
              "  </div>\n",
              "  "
            ]
          },
          "metadata": {},
          "execution_count": 156
        }
      ]
    },
    {
      "cell_type": "markdown",
      "source": [
        "## Installation des packages"
      ],
      "metadata": {
        "id": "E-XVmypjAn9R"
      }
    },
    {
      "cell_type": "code",
      "source": [
        "!pip install nltk\n",
        "!pip install gensim"
      ],
      "metadata": {
        "id": "MEyH2opHApYY"
      },
      "execution_count": null,
      "outputs": []
    },
    {
      "cell_type": "markdown",
      "source": [
        "## Importation des librairies"
      ],
      "metadata": {
        "id": "JhDUR85-__id"
      }
    },
    {
      "cell_type": "code",
      "execution_count": 158,
      "metadata": {
        "id": "6-4P9gIX9ekd"
      },
      "outputs": [],
      "source": [
        "import numpy as np"
      ]
    },
    {
      "cell_type": "code",
      "source": [
        "import gensim\n",
        "from gensim.utils import simple_preprocess\n",
        "from gensim.parsing.preprocessing import STOPWORDS\n",
        "from gensim.models import CoherenceModel"
      ],
      "metadata": {
        "id": "nyvBTN8N93rP"
      },
      "execution_count": 159,
      "outputs": []
    },
    {
      "cell_type": "code",
      "source": [
        "import nltk\n",
        "from nltk.stem import WordNetLemmatizer, SnowballStemmer\n",
        "from nltk.stem.porter import *\n",
        "nltk.download('wordnet')\n",
        "nltk.download('omw-1.4')"
      ],
      "metadata": {
        "id": "uKR_ffSO95C0"
      },
      "execution_count": null,
      "outputs": []
    },
    {
      "cell_type": "markdown",
      "source": [
        "## Fonction de preprocessing"
      ],
      "metadata": {
        "id": "Pyg6ZSXqADWM"
      }
    },
    {
      "cell_type": "markdown",
      "source": [
        "* on supprime tous les stopwords (this, that, where...)\n",
        "* on supprime les mots de moins de 3 lettres\n",
        "* on applique la lemmatisation"
      ],
      "metadata": {
        "id": "rx_1DduoDCfy"
      }
    },
    {
      "cell_type": "code",
      "source": [
        "stemmer = SnowballStemmer('english')"
      ],
      "metadata": {
        "id": "r1BI286C96Jd"
      },
      "execution_count": 161,
      "outputs": []
    },
    {
      "cell_type": "code",
      "source": [
        "def lemmatize_stemming(text) :\n",
        "  return stemmer.stem(WordNetLemmatizer().lemmatize(text, pos='n'))"
      ],
      "metadata": {
        "id": "nAvay7BvB2_d"
      },
      "execution_count": 162,
      "outputs": []
    },
    {
      "cell_type": "code",
      "source": [
        "def preprocess(text) :\n",
        "  result = []\n",
        "  for token in gensim.utils.simple_preprocess(text) :\n",
        "    if token not in gensim.parsing.preprocessing.STOPWORDS and len(token) > 3 :\n",
        "      result.append(lemmatize_stemming(token))\n",
        "  return result"
      ],
      "metadata": {
        "id": "6fX84XyfB3Fm"
      },
      "execution_count": 163,
      "outputs": []
    },
    {
      "cell_type": "markdown",
      "source": [
        "## Prepocessing des données"
      ],
      "metadata": {
        "id": "YBd3AEGrAIpB"
      }
    },
    {
      "cell_type": "markdown",
      "source": [
        "* on supprime les valeurs NAN de nos données\n",
        "* on applique la fonction de preprocessing"
      ],
      "metadata": {
        "id": "q44zRr0aDViq"
      }
    },
    {
      "cell_type": "code",
      "source": [
        "morocco_world_news.dropna(subset = [\"content\"], inplace=True)"
      ],
      "metadata": {
        "id": "rUxfcf9UBMHo"
      },
      "execution_count": 164,
      "outputs": []
    },
    {
      "cell_type": "code",
      "source": [
        "processed_docs = [preprocess(doc) for doc in morocco_world_news['content']]"
      ],
      "metadata": {
        "id": "vSjz7kVLAVnd"
      },
      "execution_count": 165,
      "outputs": []
    },
    {
      "cell_type": "code",
      "source": [
        "processed_docs[10][:10]"
      ],
      "metadata": {
        "colab": {
          "base_uri": "https://localhost:8080/"
        },
        "id": "_HITiaJCFPbx",
        "outputId": "8a4491c4-ebd8-4e02-8832-a1dcf80b3803"
      },
      "execution_count": 166,
      "outputs": [
        {
          "output_type": "execute_result",
          "data": {
            "text/plain": [
              "['rabat',\n",
              " 'spanish',\n",
              " 'interior',\n",
              " 'minist',\n",
              " 'fernando',\n",
              " 'grand',\n",
              " 'marlaska',\n",
              " 'reiter',\n",
              " 'countri',\n",
              " 'commit']"
            ]
          },
          "metadata": {},
          "execution_count": 166
        }
      ]
    },
    {
      "cell_type": "markdown",
      "source": [
        "## Stockage des données après preprocessing"
      ],
      "metadata": {
        "id": "VnXUBOEMCueQ"
      }
    },
    {
      "cell_type": "markdown",
      "source": [
        "* on utilise un dictionnaire qui contient le mot comme clé et son nombre d'occurences comme valeur"
      ],
      "metadata": {
        "id": "BK6dyZPQEVxR"
      }
    },
    {
      "cell_type": "code",
      "source": [
        "dictionary = gensim.corpora.Dictionary(processed_docs)"
      ],
      "metadata": {
        "id": "zda4vHejC1iR"
      },
      "execution_count": 167,
      "outputs": []
    },
    {
      "cell_type": "markdown",
      "source": [
        "## Nettoyage du dictionnaire"
      ],
      "metadata": {
        "id": "WGwFlHekC52L"
      }
    },
    {
      "cell_type": "markdown",
      "source": [
        "* on supprime les mots trop rares qui appraîssent moins de 15 fois\n",
        "* on supprime les mots trop fréquents qui apparaîssent dans plus de 10% des documents\n",
        "* à la fin on ne garde que les 100 000 mots les plus fréquents "
      ],
      "metadata": {
        "id": "Rem9c9NrDABK"
      }
    },
    {
      "cell_type": "code",
      "source": [
        "dictionary.filter_extremes(no_below=15, no_above=0.1, keep_n=100000)"
      ],
      "metadata": {
        "id": "1CJcS0q7C5fo"
      },
      "execution_count": 168,
      "outputs": []
    },
    {
      "cell_type": "markdown",
      "source": [
        "## Conversion en Bag-Of-Words"
      ],
      "metadata": {
        "id": "DOSqfbwyElKn"
      }
    },
    {
      "cell_type": "markdown",
      "source": [
        "* on convertit notre dictionnaire en couple mot et nombres d'occurrences : format bag-of-words"
      ],
      "metadata": {
        "id": "a7pNl7vvEqq7"
      }
    },
    {
      "cell_type": "code",
      "source": [
        "bow_corpus = [dictionary.doc2bow(doc) for doc in processed_docs]"
      ],
      "metadata": {
        "id": "dPv6zXCgEqOS"
      },
      "execution_count": 169,
      "outputs": []
    },
    {
      "cell_type": "code",
      "source": [
        "for i in range(10) :\n",
        "    print(\"Word {} (\\\"{}\\\") appears {} time.\".format(bow_corpus[10][i][0], dictionary[bow_corpus[10][i][0]], bow_corpus[10][i][1]))"
      ],
      "metadata": {
        "colab": {
          "base_uri": "https://localhost:8080/"
        },
        "id": "7CbuerrEE60U",
        "outputId": "617e5e25-10fa-443e-c8cd-30900a651cb7"
      },
      "execution_count": 170,
      "outputs": [
        {
          "output_type": "stream",
          "name": "stdout",
          "text": [
            "Word 6 (\"amid\") appears 1 time.\n",
            "Word 8 (\"autonomi\") appears 1 time.\n",
            "Word 10 (\"basi\") appears 1 time.\n",
            "Word 22 (\"credibl\") appears 1 time.\n",
            "Word 25 (\"disput\") appears 1 time.\n",
            "Word 27 (\"endors\") appears 1 time.\n",
            "Word 38 (\"immedi\") appears 1 time.\n",
            "Word 43 (\"madrid\") appears 3 time.\n",
            "Word 47 (\"outlet\") appears 1 time.\n",
            "Word 60 (\"sanchez\") appears 3 time.\n"
          ]
        }
      ]
    },
    {
      "cell_type": "markdown",
      "source": [
        "## Exécution du LDA"
      ],
      "metadata": {
        "id": "nwmjzGDgFmAd"
      }
    },
    {
      "cell_type": "markdown",
      "source": [
        "* LdaMulticore pour utiliser tout les coeurs du CPU afin de gagner en temps d'exécution\n",
        "\n",
        "* num_topics : nombre de topic à extraire du corpus\n",
        "\n",
        "* id2word : mapping des identifiants de mots (entiers) aux mots (chaînes de caractères)\n",
        "\n",
        "* passes : nombre d'itération d'entraînement sur le corpus"
      ],
      "metadata": {
        "id": "qDx5HVejFsPP"
      }
    },
    {
      "cell_type": "code",
      "source": [
        "lda_model = gensim.models.LdaMulticore(bow_corpus, num_topics = 10, id2word = dictionary, passes = 1000)"
      ],
      "metadata": {
        "id": "cNtC5SJ0Foax"
      },
      "execution_count": null,
      "outputs": []
    },
    {
      "cell_type": "code",
      "source": [
        "topics = []\n",
        "for idx, topic in lda_model.print_topics(-1) :\n",
        "    print(\"Topic: {} -> Words: {}\".format(idx, topic))\n",
        "    topics.append(topic)"
      ],
      "metadata": {
        "colab": {
          "base_uri": "https://localhost:8080/"
        },
        "id": "coACO9bKF591",
        "outputId": "b4466dee-cf94-4a78-99b5-b1275111a136"
      },
      "execution_count": 172,
      "outputs": [
        {
          "output_type": "stream",
          "name": "stdout",
          "text": [
            "Topic: 0 -> Words: 0.026*\"onlin\" + 0.025*\"digit\" + 0.025*\"exam\" + 0.022*\"candid\" + 0.020*\"internet\" + 0.019*\"network\" + 0.017*\"port\" + 0.015*\"baccalaur\" + 0.015*\"facebook\" + 0.014*\"survey\"\n",
            "Topic: 1 -> Words: 0.017*\"polisario\" + 0.013*\"spanish\" + 0.009*\"trump\" + 0.008*\"resolut\" + 0.006*\"migrant\" + 0.006*\"migrat\" + 0.005*\"vote\" + 0.005*\"secretari\" + 0.005*\"autonomi\" + 0.005*\"sovereignti\"\n",
            "Topic: 2 -> Words: 0.029*\"learner\" + 0.016*\"classroom\" + 0.014*\"method\" + 0.011*\"grammar\" + 0.011*\"text\" + 0.010*\"target\" + 0.009*\"reader\" + 0.009*\"facebook\" + 0.008*\"comprehens\" + 0.007*\"border\"\n",
            "Topic: 3 -> Words: 0.008*\"discours\" + 0.007*\"attitud\" + 0.007*\"book\" + 0.006*\"concept\" + 0.006*\"influenc\" + 0.006*\"theori\" + 0.006*\"principl\" + 0.006*\"ident\" + 0.006*\"linguist\" + 0.005*\"religion\"\n",
            "Topic: 4 -> Words: 0.014*\"vaccin\" + 0.011*\"bank\" + 0.010*\"agricultur\" + 0.009*\"travel\" + 0.008*\"price\" + 0.008*\"tourism\" + 0.008*\"export\" + 0.007*\"food\" + 0.007*\"test\" + 0.007*\"flight\"\n",
            "Topic: 5 -> Words: 0.015*\"parent\" + 0.012*\"classroom\" + 0.009*\"exam\" + 0.007*\"applic\" + 0.006*\"write\" + 0.005*\"answer\" + 0.005*\"graduat\" + 0.005*\"degre\" + 0.005*\"motiv\" + 0.005*\"grade\"\n",
            "Topic: 6 -> Words: 0.007*\"violenc\" + 0.005*\"sexual\" + 0.004*\"polic\" + 0.004*\"love\" + 0.004*\"girl\" + 0.004*\"religion\" + 0.004*\"victim\" + 0.003*\"protest\" + 0.003*\"stori\" + 0.003*\"street\"\n",
            "Topic: 7 -> Words: 0.015*\"rank\" + 0.011*\"innov\" + 0.010*\"youth\" + 0.009*\"confer\" + 0.008*\"competit\" + 0.006*\"british\" + 0.006*\"team\" + 0.006*\"vocat\" + 0.006*\"professor\" + 0.005*\"engin\"\n",
            "Topic: 8 -> Words: 0.013*\"algerian\" + 0.012*\"israel\" + 0.008*\"terror\" + 0.007*\"iran\" + 0.007*\"regim\" + 0.007*\"terrorist\" + 0.007*\"isra\" + 0.006*\"democraci\" + 0.006*\"saudi\" + 0.006*\"west\"\n",
            "Topic: 9 -> Words: 0.021*\"mother\" + 0.016*\"tongu\" + 0.013*\"literaci\" + 0.011*\"tamazight\" + 0.010*\"curriculum\" + 0.008*\"linguist\" + 0.007*\"amazigh\" + 0.007*\"unesco\" + 0.007*\"programm\" + 0.007*\"coloni\"\n"
          ]
        }
      ]
    },
    {
      "cell_type": "markdown",
      "source": [
        "## Cohérence du topic model"
      ],
      "metadata": {
        "id": "qUcxjBWvGAQS"
      }
    },
    {
      "cell_type": "markdown",
      "source": [
        "* Les mesures de cohérence évaluent le degré de similitude sémantique entre les mots les mieux notés dans le topics\n",
        "* Ces mesures aident à faire la distinction entre les topics sémantiquement interprétables et les topics dû à des inférences statistiques\n",
        "* Pour un bon modèle LDA la cohérence doit être comprise entre 0.4 et 0.7 au delà le modèle est probablement erroné"
      ],
      "metadata": {
        "id": "EDpX8YyiRfYo"
      }
    },
    {
      "cell_type": "code",
      "source": [
        "coherence_model_lda = CoherenceModel(model=lda_model, texts=processed_docs, dictionary=dictionary)\n",
        "coherence_lda = coherence_model_lda.get_coherence()\n",
        "print('\\nCoherence Score: ', coherence_lda)"
      ],
      "metadata": {
        "colab": {
          "base_uri": "https://localhost:8080/"
        },
        "id": "kg8-ZDesQsiR",
        "outputId": "6c527d99-16a9-4e14-bc15-5a33018f0648"
      },
      "execution_count": 173,
      "outputs": [
        {
          "output_type": "stream",
          "name": "stdout",
          "text": [
            "\n",
            "Coherence Score:  0.5129831809687769\n"
          ]
        }
      ]
    },
    {
      "cell_type": "markdown",
      "source": [
        "## Stockage des résultats"
      ],
      "metadata": {
        "id": "K9dKZV6lGaXo"
      }
    },
    {
      "cell_type": "code",
      "source": [
        "all_topic_model = []\n",
        "for i in range(len(topics)):\n",
        "  str = topics[i].split(' + ')\n",
        "  topic_model = []\n",
        "  for j in range(10):\n",
        "    weight = str[j][0:5]\n",
        "    word = str[j][7:len(str[j])-1]\n",
        "    topic_model.append((weight, word))\n",
        "  all_topic_model.append(topic_model)"
      ],
      "metadata": {
        "id": "aJ3JuoeJGDKe"
      },
      "execution_count": 174,
      "outputs": []
    },
    {
      "cell_type": "code",
      "source": [
        "df_topic_model = pd.DataFrame(all_topic_model)\n",
        "df_topic_model.rename(index = {0: \"Topic 1\", 1: \"Topic 2\", 2: \"Topic 3\", 3: \"Topic 4\", 4: \"Topic 5\", 5: \"Topic 6\", 6: \"Topic 7\", 7: \"Topic 8\", 8: \"Topic 9\", 9: \"Topic 10\"}, inplace = True)"
      ],
      "metadata": {
        "id": "n8uTQobBGJBy"
      },
      "execution_count": 175,
      "outputs": []
    },
    {
      "cell_type": "code",
      "source": [
        "df_topic_model"
      ],
      "metadata": {
        "colab": {
          "base_uri": "https://localhost:8080/",
          "height": 363
        },
        "id": "1oJVAfq3GePr",
        "outputId": "fa5a17f1-0ec1-4d6d-ee5f-e73c63b16136"
      },
      "execution_count": 176,
      "outputs": [
        {
          "output_type": "execute_result",
          "data": {
            "text/plain": [
              "                           0                   1                    2  \\\n",
              "Topic 1       (0.026, onlin)      (0.025, digit)        (0.025, exam)   \n",
              "Topic 2   (0.017, polisario)    (0.013, spanish)       (0.009, trump)   \n",
              "Topic 3     (0.029, learner)  (0.016, classroom)      (0.014, method)   \n",
              "Topic 4    (0.008, discours)    (0.007, attitud)        (0.007, book)   \n",
              "Topic 5      (0.014, vaccin)       (0.011, bank)  (0.010, agricultur)   \n",
              "Topic 6      (0.015, parent)  (0.012, classroom)        (0.009, exam)   \n",
              "Topic 7     (0.007, violenc)     (0.005, sexual)       (0.004, polic)   \n",
              "Topic 8        (0.015, rank)      (0.011, innov)       (0.010, youth)   \n",
              "Topic 9    (0.013, algerian)     (0.012, israel)      (0.008, terror)   \n",
              "Topic 10     (0.021, mother)      (0.016, tongu)    (0.013, literaci)   \n",
              "\n",
              "                           3                    4                   5  \\\n",
              "Topic 1      (0.022, candid)    (0.020, internet)    (0.019, network)   \n",
              "Topic 2     (0.008, resolut)     (0.006, migrant)     (0.006, migrat)   \n",
              "Topic 3     (0.011, grammar)        (0.011, text)     (0.010, target)   \n",
              "Topic 4     (0.006, concept)    (0.006, influenc)     (0.006, theori)   \n",
              "Topic 5      (0.009, travel)       (0.008, price)    (0.008, tourism)   \n",
              "Topic 6      (0.007, applic)       (0.006, write)     (0.005, answer)   \n",
              "Topic 7        (0.004, love)        (0.004, girl)   (0.004, religion)   \n",
              "Topic 8      (0.009, confer)    (0.008, competit)    (0.006, british)   \n",
              "Topic 9        (0.007, iran)       (0.007, regim)  (0.007, terrorist)   \n",
              "Topic 10  (0.011, tamazight)  (0.010, curriculum)   (0.008, linguist)   \n",
              "\n",
              "                          6                   7                    8  \\\n",
              "Topic 1       (0.017, port)  (0.015, baccalaur)    (0.015, facebook)   \n",
              "Topic 2       (0.005, vote)  (0.005, secretari)    (0.005, autonomi)   \n",
              "Topic 3     (0.009, reader)   (0.009, facebook)  (0.008, comprehens)   \n",
              "Topic 4   (0.006, principl)      (0.006, ident)    (0.006, linguist)   \n",
              "Topic 5     (0.008, export)       (0.007, food)        (0.007, test)   \n",
              "Topic 6    (0.005, graduat)      (0.005, degre)       (0.005, motiv)   \n",
              "Topic 7     (0.004, victim)    (0.003, protest)       (0.003, stori)   \n",
              "Topic 8       (0.006, team)      (0.006, vocat)   (0.006, professor)   \n",
              "Topic 9       (0.007, isra)  (0.006, democraci)       (0.006, saudi)   \n",
              "Topic 10   (0.007, amazigh)     (0.007, unesco)    (0.007, programm)   \n",
              "\n",
              "                             9  \n",
              "Topic 1        (0.014, survey)  \n",
              "Topic 2   (0.005, sovereignti)  \n",
              "Topic 3        (0.007, border)  \n",
              "Topic 4      (0.005, religion)  \n",
              "Topic 5        (0.007, flight)  \n",
              "Topic 6         (0.005, grade)  \n",
              "Topic 7        (0.003, street)  \n",
              "Topic 8         (0.005, engin)  \n",
              "Topic 9          (0.006, west)  \n",
              "Topic 10       (0.007, coloni)  "
            ],
            "text/html": [
              "\n",
              "  <div id=\"df-1434303d-b79e-4232-9a10-1f42b7da4ccd\">\n",
              "    <div class=\"colab-df-container\">\n",
              "      <div>\n",
              "<style scoped>\n",
              "    .dataframe tbody tr th:only-of-type {\n",
              "        vertical-align: middle;\n",
              "    }\n",
              "\n",
              "    .dataframe tbody tr th {\n",
              "        vertical-align: top;\n",
              "    }\n",
              "\n",
              "    .dataframe thead th {\n",
              "        text-align: right;\n",
              "    }\n",
              "</style>\n",
              "<table border=\"1\" class=\"dataframe\">\n",
              "  <thead>\n",
              "    <tr style=\"text-align: right;\">\n",
              "      <th></th>\n",
              "      <th>0</th>\n",
              "      <th>1</th>\n",
              "      <th>2</th>\n",
              "      <th>3</th>\n",
              "      <th>4</th>\n",
              "      <th>5</th>\n",
              "      <th>6</th>\n",
              "      <th>7</th>\n",
              "      <th>8</th>\n",
              "      <th>9</th>\n",
              "    </tr>\n",
              "  </thead>\n",
              "  <tbody>\n",
              "    <tr>\n",
              "      <th>Topic 1</th>\n",
              "      <td>(0.026, onlin)</td>\n",
              "      <td>(0.025, digit)</td>\n",
              "      <td>(0.025, exam)</td>\n",
              "      <td>(0.022, candid)</td>\n",
              "      <td>(0.020, internet)</td>\n",
              "      <td>(0.019, network)</td>\n",
              "      <td>(0.017, port)</td>\n",
              "      <td>(0.015, baccalaur)</td>\n",
              "      <td>(0.015, facebook)</td>\n",
              "      <td>(0.014, survey)</td>\n",
              "    </tr>\n",
              "    <tr>\n",
              "      <th>Topic 2</th>\n",
              "      <td>(0.017, polisario)</td>\n",
              "      <td>(0.013, spanish)</td>\n",
              "      <td>(0.009, trump)</td>\n",
              "      <td>(0.008, resolut)</td>\n",
              "      <td>(0.006, migrant)</td>\n",
              "      <td>(0.006, migrat)</td>\n",
              "      <td>(0.005, vote)</td>\n",
              "      <td>(0.005, secretari)</td>\n",
              "      <td>(0.005, autonomi)</td>\n",
              "      <td>(0.005, sovereignti)</td>\n",
              "    </tr>\n",
              "    <tr>\n",
              "      <th>Topic 3</th>\n",
              "      <td>(0.029, learner)</td>\n",
              "      <td>(0.016, classroom)</td>\n",
              "      <td>(0.014, method)</td>\n",
              "      <td>(0.011, grammar)</td>\n",
              "      <td>(0.011, text)</td>\n",
              "      <td>(0.010, target)</td>\n",
              "      <td>(0.009, reader)</td>\n",
              "      <td>(0.009, facebook)</td>\n",
              "      <td>(0.008, comprehens)</td>\n",
              "      <td>(0.007, border)</td>\n",
              "    </tr>\n",
              "    <tr>\n",
              "      <th>Topic 4</th>\n",
              "      <td>(0.008, discours)</td>\n",
              "      <td>(0.007, attitud)</td>\n",
              "      <td>(0.007, book)</td>\n",
              "      <td>(0.006, concept)</td>\n",
              "      <td>(0.006, influenc)</td>\n",
              "      <td>(0.006, theori)</td>\n",
              "      <td>(0.006, principl)</td>\n",
              "      <td>(0.006, ident)</td>\n",
              "      <td>(0.006, linguist)</td>\n",
              "      <td>(0.005, religion)</td>\n",
              "    </tr>\n",
              "    <tr>\n",
              "      <th>Topic 5</th>\n",
              "      <td>(0.014, vaccin)</td>\n",
              "      <td>(0.011, bank)</td>\n",
              "      <td>(0.010, agricultur)</td>\n",
              "      <td>(0.009, travel)</td>\n",
              "      <td>(0.008, price)</td>\n",
              "      <td>(0.008, tourism)</td>\n",
              "      <td>(0.008, export)</td>\n",
              "      <td>(0.007, food)</td>\n",
              "      <td>(0.007, test)</td>\n",
              "      <td>(0.007, flight)</td>\n",
              "    </tr>\n",
              "    <tr>\n",
              "      <th>Topic 6</th>\n",
              "      <td>(0.015, parent)</td>\n",
              "      <td>(0.012, classroom)</td>\n",
              "      <td>(0.009, exam)</td>\n",
              "      <td>(0.007, applic)</td>\n",
              "      <td>(0.006, write)</td>\n",
              "      <td>(0.005, answer)</td>\n",
              "      <td>(0.005, graduat)</td>\n",
              "      <td>(0.005, degre)</td>\n",
              "      <td>(0.005, motiv)</td>\n",
              "      <td>(0.005, grade)</td>\n",
              "    </tr>\n",
              "    <tr>\n",
              "      <th>Topic 7</th>\n",
              "      <td>(0.007, violenc)</td>\n",
              "      <td>(0.005, sexual)</td>\n",
              "      <td>(0.004, polic)</td>\n",
              "      <td>(0.004, love)</td>\n",
              "      <td>(0.004, girl)</td>\n",
              "      <td>(0.004, religion)</td>\n",
              "      <td>(0.004, victim)</td>\n",
              "      <td>(0.003, protest)</td>\n",
              "      <td>(0.003, stori)</td>\n",
              "      <td>(0.003, street)</td>\n",
              "    </tr>\n",
              "    <tr>\n",
              "      <th>Topic 8</th>\n",
              "      <td>(0.015, rank)</td>\n",
              "      <td>(0.011, innov)</td>\n",
              "      <td>(0.010, youth)</td>\n",
              "      <td>(0.009, confer)</td>\n",
              "      <td>(0.008, competit)</td>\n",
              "      <td>(0.006, british)</td>\n",
              "      <td>(0.006, team)</td>\n",
              "      <td>(0.006, vocat)</td>\n",
              "      <td>(0.006, professor)</td>\n",
              "      <td>(0.005, engin)</td>\n",
              "    </tr>\n",
              "    <tr>\n",
              "      <th>Topic 9</th>\n",
              "      <td>(0.013, algerian)</td>\n",
              "      <td>(0.012, israel)</td>\n",
              "      <td>(0.008, terror)</td>\n",
              "      <td>(0.007, iran)</td>\n",
              "      <td>(0.007, regim)</td>\n",
              "      <td>(0.007, terrorist)</td>\n",
              "      <td>(0.007, isra)</td>\n",
              "      <td>(0.006, democraci)</td>\n",
              "      <td>(0.006, saudi)</td>\n",
              "      <td>(0.006, west)</td>\n",
              "    </tr>\n",
              "    <tr>\n",
              "      <th>Topic 10</th>\n",
              "      <td>(0.021, mother)</td>\n",
              "      <td>(0.016, tongu)</td>\n",
              "      <td>(0.013, literaci)</td>\n",
              "      <td>(0.011, tamazight)</td>\n",
              "      <td>(0.010, curriculum)</td>\n",
              "      <td>(0.008, linguist)</td>\n",
              "      <td>(0.007, amazigh)</td>\n",
              "      <td>(0.007, unesco)</td>\n",
              "      <td>(0.007, programm)</td>\n",
              "      <td>(0.007, coloni)</td>\n",
              "    </tr>\n",
              "  </tbody>\n",
              "</table>\n",
              "</div>\n",
              "      <button class=\"colab-df-convert\" onclick=\"convertToInteractive('df-1434303d-b79e-4232-9a10-1f42b7da4ccd')\"\n",
              "              title=\"Convert this dataframe to an interactive table.\"\n",
              "              style=\"display:none;\">\n",
              "        \n",
              "  <svg xmlns=\"http://www.w3.org/2000/svg\" height=\"24px\"viewBox=\"0 0 24 24\"\n",
              "       width=\"24px\">\n",
              "    <path d=\"M0 0h24v24H0V0z\" fill=\"none\"/>\n",
              "    <path d=\"M18.56 5.44l.94 2.06.94-2.06 2.06-.94-2.06-.94-.94-2.06-.94 2.06-2.06.94zm-11 1L8.5 8.5l.94-2.06 2.06-.94-2.06-.94L8.5 2.5l-.94 2.06-2.06.94zm10 10l.94 2.06.94-2.06 2.06-.94-2.06-.94-.94-2.06-.94 2.06-2.06.94z\"/><path d=\"M17.41 7.96l-1.37-1.37c-.4-.4-.92-.59-1.43-.59-.52 0-1.04.2-1.43.59L10.3 9.45l-7.72 7.72c-.78.78-.78 2.05 0 2.83L4 21.41c.39.39.9.59 1.41.59.51 0 1.02-.2 1.41-.59l7.78-7.78 2.81-2.81c.8-.78.8-2.07 0-2.86zM5.41 20L4 18.59l7.72-7.72 1.47 1.35L5.41 20z\"/>\n",
              "  </svg>\n",
              "      </button>\n",
              "      \n",
              "  <style>\n",
              "    .colab-df-container {\n",
              "      display:flex;\n",
              "      flex-wrap:wrap;\n",
              "      gap: 12px;\n",
              "    }\n",
              "\n",
              "    .colab-df-convert {\n",
              "      background-color: #E8F0FE;\n",
              "      border: none;\n",
              "      border-radius: 50%;\n",
              "      cursor: pointer;\n",
              "      display: none;\n",
              "      fill: #1967D2;\n",
              "      height: 32px;\n",
              "      padding: 0 0 0 0;\n",
              "      width: 32px;\n",
              "    }\n",
              "\n",
              "    .colab-df-convert:hover {\n",
              "      background-color: #E2EBFA;\n",
              "      box-shadow: 0px 1px 2px rgba(60, 64, 67, 0.3), 0px 1px 3px 1px rgba(60, 64, 67, 0.15);\n",
              "      fill: #174EA6;\n",
              "    }\n",
              "\n",
              "    [theme=dark] .colab-df-convert {\n",
              "      background-color: #3B4455;\n",
              "      fill: #D2E3FC;\n",
              "    }\n",
              "\n",
              "    [theme=dark] .colab-df-convert:hover {\n",
              "      background-color: #434B5C;\n",
              "      box-shadow: 0px 1px 3px 1px rgba(0, 0, 0, 0.15);\n",
              "      filter: drop-shadow(0px 1px 2px rgba(0, 0, 0, 0.3));\n",
              "      fill: #FFFFFF;\n",
              "    }\n",
              "  </style>\n",
              "\n",
              "      <script>\n",
              "        const buttonEl =\n",
              "          document.querySelector('#df-1434303d-b79e-4232-9a10-1f42b7da4ccd button.colab-df-convert');\n",
              "        buttonEl.style.display =\n",
              "          google.colab.kernel.accessAllowed ? 'block' : 'none';\n",
              "\n",
              "        async function convertToInteractive(key) {\n",
              "          const element = document.querySelector('#df-1434303d-b79e-4232-9a10-1f42b7da4ccd');\n",
              "          const dataTable =\n",
              "            await google.colab.kernel.invokeFunction('convertToInteractive',\n",
              "                                                     [key], {});\n",
              "          if (!dataTable) return;\n",
              "\n",
              "          const docLinkHtml = 'Like what you see? Visit the ' +\n",
              "            '<a target=\"_blank\" href=https://colab.research.google.com/notebooks/data_table.ipynb>data table notebook</a>'\n",
              "            + ' to learn more about interactive tables.';\n",
              "          element.innerHTML = '';\n",
              "          dataTable['output_type'] = 'display_data';\n",
              "          await google.colab.output.renderOutput(dataTable, element);\n",
              "          const docLink = document.createElement('div');\n",
              "          docLink.innerHTML = docLinkHtml;\n",
              "          element.appendChild(docLink);\n",
              "        }\n",
              "      </script>\n",
              "    </div>\n",
              "  </div>\n",
              "  "
            ]
          },
          "metadata": {},
          "execution_count": 176
        }
      ]
    },
    {
      "cell_type": "code",
      "source": [
        "df_topic_model.to_csv('topic_model_morocco_world_news.csv')"
      ],
      "metadata": {
        "id": "j8LQYDKhGjgj"
      },
      "execution_count": 177,
      "outputs": []
    },
    {
      "cell_type": "markdown",
      "source": [
        "## Visualisation des résultats"
      ],
      "metadata": {
        "id": "IGa70IJjG_N0"
      }
    },
    {
      "cell_type": "code",
      "source": [
        "!pip install pyLDAvis"
      ],
      "metadata": {
        "id": "ESQRQbH_IJjS"
      },
      "execution_count": null,
      "outputs": []
    },
    {
      "cell_type": "code",
      "source": [
        "import pyLDAvis.gensim_models"
      ],
      "metadata": {
        "id": "TTmEWILpLIf-"
      },
      "execution_count": 179,
      "outputs": []
    },
    {
      "cell_type": "code",
      "source": [
        "pyLDAvis.enable_notebook()\n",
        "pyLDAvis.gensim_models.prepare(lda_model, bow_corpus, dictionary)"
      ],
      "metadata": {
        "colab": {
          "base_uri": "https://localhost:8080/",
          "height": 917
        },
        "id": "U9Yj83T7OJVM",
        "outputId": "26cb23e0-3d12-41f8-de0a-2bd614f41365"
      },
      "execution_count": 180,
      "outputs": [
        {
          "output_type": "stream",
          "name": "stderr",
          "text": [
            "/usr/local/lib/python3.7/dist-packages/pyLDAvis/_prepare.py:247: FutureWarning: In a future version of pandas all arguments of DataFrame.drop except for the argument 'labels' will be keyword-only\n",
            "  by='saliency', ascending=False).head(R).drop('saliency', 1)\n"
          ]
        },
        {
          "output_type": "execute_result",
          "data": {
            "text/plain": [
              "PreparedData(topic_coordinates=              x         y  topics  cluster       Freq\n",
              "topic                                                \n",
              "6      0.029405  0.125272       1        1  21.552813\n",
              "8     -0.115440  0.190133       2        1  17.590014\n",
              "1     -0.128679  0.152326       3        1  16.680418\n",
              "4     -0.264677 -0.119875       4        1  10.918330\n",
              "7     -0.118464 -0.119233       5        1   9.066665\n",
              "3      0.137840  0.042654       6        1   8.666354\n",
              "5      0.128835  0.004287       7        1   5.999768\n",
              "0      0.027957 -0.232848       8        1   3.512358\n",
              "9      0.128363  0.009443       9        1   3.108361\n",
              "2      0.174860 -0.052159      10        1   2.904918, topic_info=           Term         Freq        Total Category  logprob  loglift\n",
              "239   polisario  1707.000000  1707.000000  Default  30.0000  30.0000\n",
              "163      israel  1271.000000  1271.000000  Default  29.0000  29.0000\n",
              "3550       exam   882.000000   882.000000  Default  28.0000  28.0000\n",
              "3      algerian  1856.000000  1856.000000  Default  27.0000  27.0000\n",
              "2032     vaccin   989.000000   989.000000  Default  26.0000  26.0000\n",
              "...         ...          ...          ...      ...      ...      ...\n",
              "995        tool    68.908499   398.827916  Topic10  -5.5428   1.7830\n",
              "840      compet    70.037867   442.116664  Topic10  -5.5265   1.6962\n",
              "314       write    74.545111   689.695376  Topic10  -5.4641   1.3139\n",
              "2195       abil    68.202035   398.514568  Topic10  -5.5531   1.7735\n",
              "1453       book    74.147422   854.081882  Topic10  -5.4695   1.0948\n",
              "\n",
              "[667 rows x 6 columns], token_table=      Topic      Freq    Term\n",
              "term                         \n",
              "2195      2  0.145540    abil\n",
              "2195      3  0.027603    abil\n",
              "2195      5  0.097863    abil\n",
              "2195      6  0.358833    abil\n",
              "2195      7  0.122957    abil\n",
              "...     ...       ...     ...\n",
              "3032      1  0.156903  youtub\n",
              "3032      5  0.110755  youtub\n",
              "3032      8  0.673759  youtub\n",
              "3032      9  0.046148  youtub\n",
              "3876      7  0.987181  zagora\n",
              "\n",
              "[1934 rows x 3 columns], R=30, lambda_step=0.01, plot_opts={'xlab': 'PC1', 'ylab': 'PC2'}, topic_order=[7, 9, 2, 5, 8, 4, 6, 1, 10, 3])"
            ],
            "text/html": [
              "\n",
              "<link rel=\"stylesheet\" type=\"text/css\" href=\"https://cdn.jsdelivr.net/gh/bmabey/pyLDAvis@3.3.1/pyLDAvis/js/ldavis.v1.0.0.css\">\n",
              "\n",
              "\n",
              "<div id=\"ldavis_el601406114037397285347671913\"></div>\n",
              "<script type=\"text/javascript\">\n",
              "\n",
              "var ldavis_el601406114037397285347671913_data = {\"mdsDat\": {\"x\": [0.02940505666652369, -0.11544030260628756, -0.1286786319677411, -0.26467674416126574, -0.11846425696892142, 0.13783988777517978, 0.12883465377072797, 0.027956920689107413, 0.12836295864992037, 0.17486045815275642], \"y\": [0.12527241411202997, 0.19013273449270718, 0.15232560778868728, -0.11987451124532282, -0.1192329988390606, 0.04265363648326875, 0.004286892043144736, -0.2328478769004067, 0.009443449153553775, -0.052159347088601746], \"topics\": [1, 2, 3, 4, 5, 6, 7, 8, 9, 10], \"cluster\": [1, 1, 1, 1, 1, 1, 1, 1, 1, 1], \"Freq\": [21.552813238052604, 17.590014180248247, 16.680418061375903, 10.918329752757051, 9.066664864124272, 8.66635402147568, 5.999768408063972, 3.5123583177425424, 3.1083611160532945, 2.90491804010643]}, \"tinfo\": {\"Term\": [\"polisario\", \"israel\", \"exam\", \"algerian\", \"vaccin\", \"learner\", \"digit\", \"onlin\", \"mother\", \"classroom\", \"candid\", \"rank\", \"network\", \"spanish\", \"trump\", \"parent\", \"internet\", \"bank\", \"facebook\", \"saudi\", \"agricultur\", \"resolut\", \"iran\", \"port\", \"innov\", \"democraci\", \"terrorist\", \"isra\", \"border\", \"regim\", \"jewish\", \"jew\", \"harass\", \"rape\", \"taliban\", \"injur\", \"hadith\", \"alcohol\", \"jinni\", \"sick\", \"feminist\", \"ancient\", \"beg\", \"aviv\", \"viewer\", \"sufi\", \"pardon\", \"kiss\", \"ill\", \"smoke\", \"worship\", \"accid\", \"dog\", \"rapist\", \"chase\", \"glass\", \"scare\", \"guilti\", \"riot\", \"shrine\", \"prophet\", \"sexual\", \"allah\", \"marriag\", \"wife\", \"ritual\", \"victim\", \"saint\", \"injustic\", \"husband\", \"violenc\", \"muhammad\", \"polic\", \"prayer\", \"hate\", \"footbal\", \"night\", \"love\", \"girl\", \"oppress\", \"marri\", \"incid\", \"fast\", \"stori\", \"watch\", \"femal\", \"crimin\", \"drug\", \"moral\", \"crime\", \"street\", \"religion\", \"christian\", \"father\", \"born\", \"abus\", \"protest\", \"faith\", \"went\", \"money\", \"celebr\", \"act\", \"investig\", \"tell\", \"corrupt\", \"stop\", \"israel\", \"terrorist\", \"isra\", \"palestinian\", \"syria\", \"isi\", \"libyan\", \"solar\", \"yemen\", \"iranian\", \"nuclear\", \"bouteflika\", \"brotherhood\", \"upris\", \"extremist\", \"qaeda\", \"coup\", \"fighter\", \"assad\", \"bomb\", \"drone\", \"morsi\", \"hezbollah\", \"caliph\", \"hama\", \"rebel\", \"chabat\", \"jihadist\", \"gaza\", \"iraqi\", \"iran\", \"armi\", \"franco\", \"regim\", \"syrian\", \"monarchi\", \"princ\", \"libya\", \"islamist\", \"turkey\", \"terror\", \"west\", \"algerian\", \"saudi\", \"egypt\", \"egyptian\", \"democraci\", \"gulf\", \"spring\", \"iraq\", \"arabia\", \"threat\", \"movement\", \"russia\", \"arm\", \"democrat\", \"tunisia\", \"revolut\", \"opposit\", \"polisario\", \"bourita\", \"referendum\", \"tindouf\", \"biden\", \"minurso\", \"ghali\", \"hilal\", \"ross\", \"guerguerat\", \"sadr\", \"saharawi\", \"mauritanian\", \"belmokhtar\", \"hillari\", \"catalan\", \"census\", \"asylum\", \"guterr\", \"dossier\", \"samirbenni\", \"brexit\", \"sahrawi\", \"unsc\", \"blinken\", \"realism\", \"buffer\", \"mezouar\", \"unhcr\", \"lobbi\", \"migrat\", \"migrant\", \"madrid\", \"senat\", \"bolton\", \"resolut\", \"consul\", \"voter\", \"sovereignti\", \"benkiran\", \"autonomi\", \"trump\", \"secretari\", \"irregular\", \"benni\", \"vote\", \"disput\", \"spanish\", \"separatist\", \"propos\", \"draft\", \"envoy\", \"bilater\", \"mandat\", \"diplomaci\", \"ambassador\", \"legal\", \"washington\", \"camp\", \"immigr\", \"mauritania\", \"recognit\", \"refuge\", \"southern\", \"saharan\", \"parliament\", \"negoti\", \"border\", \"algerian\", \"dialogu\", \"court\", \"virus\", \"phosphat\", \"epidemiolog\", \"contractu\", \"omicron\", \"akhannouch\", \"airlin\", \"coronavirus\", \"loan\", \"lockdown\", \"automot\", \"fitr\", \"cannabi\", \"mutat\", \"tonn\", \"mouad\", \"preschool\", \"booster\", \"hectar\", \"rainfal\", \"textil\", \"remitt\", \"mres\", \"baita\", \"tomato\", \"benmoussa\", \"wheat\", \"cubic\", \"flight\", \"kilogram\", \"vaccin\", \"amzazi\", \"variant\", \"recoveri\", \"ton\", \"forecast\", \"bus\", \"infect\", \"agricultur\", \"tourism\", \"transport\", \"export\", \"fertil\", \"bank\", \"plant\", \"manufactur\", \"suppli\", \"electr\", \"green\", \"patient\", \"decreas\", \"price\", \"travel\", \"food\", \"water\", \"medic\", \"test\", \"renew\", \"rural\", \"death\", \"climat\", \"employ\", \"daili\", \"china\", \"cost\", \"reduc\", \"brazil\", \"entrepreneur\", \"startup\", \"daoudi\", \"finalist\", \"accredit\", \"onmt\", \"polytechn\", \"tournament\", \"alami\", \"top\", \"rabbah\", \"decentr\", \"aviat\", \"attende\", \"singapor\", \"oecd\", \"olymp\", \"cape\", \"nasa\", \"ouaouicha\", \"argentina\", \"hespress\", \"smes\", \"timelin\", \"miraoui\", \"patent\", \"citat\", \"hajar\", \"memorandum\", \"scholarship\", \"akhawayn\", \"mathemat\", \"cadi\", \"innov\", \"ayyad\", \"admiss\", \"visa\", \"rank\", \"campus\", \"award\", \"competit\", \"librari\", \"vocat\", \"engin\", \"cook\", \"theme\", \"profici\", \"british\", \"team\", \"academi\", \"club\", \"youth\", \"confer\", \"collabor\", \"talent\", \"professor\", \"graduat\", \"host\", \"attend\", \"foundat\", \"deleg\", \"marrakech\", \"leadership\", \"select\", \"contin\", \"applic\", \"committe\", \"percent\", \"debat\", \"agenc\", \"creativ\", \"fulbright\", \"accent\", \"variabl\", \"rigid\", \"ayouch\", \"adil\", \"conceptu\", \"anthropolog\", \"mankind\", \"other\", \"femin\", \"civiliz\", \"behaviour\", \"monolith\", \"obsolet\", \"anglo\", \"experienti\", \"twentieth\", \"anthropologist\", \"subordin\", \"novel\", \"assimil\", \"intrins\", \"discours\", \"pronunci\", \"modif\", \"paradigm\", \"contemporari\", \"polish\", \"genr\", \"tendenc\", \"semest\", \"percept\", \"stereotyp\", \"philosophi\", \"scholar\", \"theori\", \"attitud\", \"perspect\", \"evolut\", \"concept\", \"quran\", \"divers\", \"intellectu\", \"linguist\", \"structur\", \"principl\", \"book\", \"speaker\", \"ident\", \"influenc\", \"manifest\", \"argument\", \"context\", \"relev\", \"ideolog\", \"gender\", \"construct\", \"aspect\", \"nativ\", \"factor\", \"religion\", \"text\", \"interact\", \"thought\", \"centuri\", \"democraci\", \"curriculum\", \"belief\", \"zagora\", \"tiznit\", \"blackboard\", \"compact\", \"instil\", \"traine\", \"psychiatrist\", \"scarc\", \"overcrowd\", \"psychologist\", \"junior\", \"inspector\", \"trainer\", \"elementari\", \"juri\", \"conscienti\", \"parent\", \"grade\", \"oral\", \"curios\", \"profess\", \"recip\", \"efficaci\", \"hopeless\", \"supervisor\", \"pupil\", \"archaic\", \"gloomi\", \"circular\", \"multipli\", \"diploma\", \"specialti\", \"salari\", \"extra\", \"classroom\", \"kid\", \"nobl\", \"lesson\", \"esteem\", \"applic\", \"exam\", \"degre\", \"psycholog\", \"graduat\", \"motiv\", \"written\", \"answer\", \"confid\", \"write\", \"career\", \"primari\", \"forget\", \"poor\", \"failur\", \"compet\", \"simpli\", \"succeed\", \"unfortun\", \"inspir\", \"tell\", \"outsid\", \"test\", \"book\", \"basic\", \"hour\", \"money\", \"hajj\", \"onlin\", \"medal\", \"tanger\", \"telecom\", \"port\", \"googl\", \"user\", \"sampl\", \"questionnair\", \"survey\", \"pilgrim\", \"internet\", \"mehdi\", \"baccalaur\", \"download\", \"footprint\", \"digit\", \"mail\", \"revolution\", \"usag\", \"retriev\", \"candid\", \"smartphon\", \"http\", \"leak\", \"temara\", \"reput\", \"amazon\", \"youtub\", \"network\", \"exam\", \"facebook\", \"hire\", \"screen\", \"recruit\", \"respond\", \"websit\", \"cheat\", \"content\", \"platform\", \"write\", \"june\", \"conduct\", \"virtual\", \"employ\", \"data\", \"saudi\", \"tamazight\", \"multicultur\", \"elalami\", \"script\", \"unicef\", \"keynot\", \"renault\", \"hungari\", \"aerospac\", \"tongu\", \"mezzour\", \"literaci\", \"agri\", \"programm\", \"multilingu\", \"ryad\", \"filla\", \"timothi\", \"idiom\", \"dakar\", \"darija\", \"caravan\", \"dan\", \"berber\", \"robot\", \"hafid\", \"dialect\", \"national\", \"agdal\", \"unesco\", \"mother\", \"spell\", \"spoken\", \"amazigh\", \"barrier\", \"hidden\", \"curriculum\", \"linguist\", \"transmit\", \"coloni\", \"instruct\", \"taught\", \"seneg\", \"divers\", \"varieti\", \"introduc\", \"learner\", \"classroom\", \"set\", \"standard\", \"concept\", \"primari\", \"rural\", \"parent\", \"marhaba\", \"multimedia\", \"grammat\", \"grammar\", \"japanes\", \"learner\", \"proverb\", \"summari\", \"acquisit\", \"reader\", \"deciph\", \"reopen\", \"hypothesi\", \"wire\", \"practition\", \"vocabulari\", \"shipment\", \"airspac\", \"instructor\", \"brain\", \"glanc\", \"laptop\", \"macro\", \"feedback\", \"simon\", \"infer\", \"paus\", \"comput\", \"method\", \"habit\", \"comprehens\", \"input\", \"implicit\", \"text\", \"page\", \"classroom\", \"listen\", \"explicit\", \"sentenc\", \"target\", \"facebook\", \"instruct\", \"lesson\", \"acquir\", \"border\", \"pas\", \"paper\", \"screen\", \"structur\", \"attent\", \"connect\", \"tool\", \"compet\", \"write\", \"abil\", \"book\"], \"Freq\": [1707.0, 1271.0, 882.0, 1856.0, 989.0, 647.0, 643.0, 565.0, 621.0, 811.0, 620.0, 1049.0, 645.0, 1746.0, 1050.0, 715.0, 481.0, 888.0, 520.0, 832.0, 719.0, 838.0, 772.0, 380.0, 685.0, 923.0, 704.0, 700.0, 786.0, 782.0, 309.0588420113645, 294.07766282274594, 201.46635831209485, 176.4180582346299, 151.27869515174598, 120.35579762696314, 115.91737671086177, 110.90656301783393, 106.49622404172784, 99.83418467699468, 94.44938338309352, 94.05671502213673, 92.91389786407774, 85.88390528557713, 84.00376810300378, 78.14826181489241, 75.38967290937111, 74.00695466392632, 68.8533752759564, 68.69270401927442, 68.17952271582645, 64.05202473535331, 60.8155070510574, 58.169230705549644, 56.99639741162834, 56.730287780244254, 55.36778169161068, 54.92521183728206, 53.13534346182475, 51.79421992750151, 372.5431783597391, 619.3879757084038, 193.7304868418973, 275.91941682279844, 209.71477268710447, 169.30191984020337, 460.4635904937631, 164.7633615380729, 125.95116407093435, 120.93686958534417, 953.1973808334296, 149.03820473916574, 553.5676779514488, 175.76482443044236, 294.4593948070713, 188.94284667199827, 224.08600757903562, 534.0629580286106, 527.4250714122685, 217.8005930095407, 182.67146167252534, 275.4325922630321, 346.54329951558213, 430.73677081323325, 347.0920487430295, 352.86283801216194, 292.1078078318792, 221.20815212835987, 315.5290729859487, 334.44771256110755, 374.0646647086679, 495.92116272897476, 261.8410549050642, 354.7548083694505, 268.5992036644334, 258.69536082669885, 451.40209945611383, 303.7031334552987, 298.8350094573754, 321.98483359145274, 310.39513195601603, 280.49481984620013, 274.07663356040825, 274.93324293002837, 280.4068728341229, 275.14674167383, 1270.7662423111171, 703.9481274776577, 700.1604132406288, 565.674848670448, 478.8695368509603, 438.0119631084879, 354.68741047028306, 249.27762516858317, 239.39239215363938, 238.41039400407362, 231.52541592173557, 221.6738258954429, 220.35495127102106, 214.5900663786854, 208.67048824576, 198.53485562686237, 195.64413889108158, 170.20630549606568, 141.5767672260205, 135.5197143142486, 128.05214933072236, 125.3841685319736, 125.36873642361003, 117.83976554265644, 116.18374152827887, 115.16489984025671, 114.19018356175964, 101.95379316571275, 100.40514263521045, 97.58360987719786, 764.4288427171193, 525.8538064765495, 193.33352801012828, 750.4066633794142, 274.9980621493148, 222.18988353846885, 297.0436725024295, 612.7890755044107, 460.29974839687065, 376.9914218018649, 843.8486253509974, 675.0725190295582, 1367.5607926089892, 679.3627443964835, 617.2275682018517, 330.4175172443357, 691.7993366259914, 299.42421167505915, 386.1906454980746, 321.50738507007486, 448.9038062528956, 467.72939058677355, 557.8316656731433, 405.02883354746496, 399.28079495991847, 477.8908136825907, 370.9369987992353, 343.44335798451016, 328.5941466529288, 1706.3215177310983, 352.2156025633855, 294.2313238937088, 250.65099888121264, 250.06798764726506, 217.28687524279493, 169.6261185986758, 117.88621257120845, 117.39412332731696, 117.1026294740888, 112.45466769778122, 106.7635910680313, 99.75326918341752, 97.10057395082873, 81.88244557599019, 78.53840677584962, 74.38114612144794, 74.22765276832953, 73.24613288706134, 68.69809824809774, 68.59813581951683, 67.57032559915291, 403.43671564435726, 64.88595059955402, 63.766142006407875, 60.32995190479175, 57.246674172393305, 55.789434299292495, 55.35993994595458, 166.32603503412128, 575.668492138678, 611.7962254854567, 315.78878774744044, 128.29342188325316, 112.2000531871363, 797.8775538324082, 174.5685504558586, 157.4505830419377, 511.8842869008389, 325.98539072128165, 519.6969197656322, 914.4657782371253, 528.3475548148784, 156.17722815881774, 228.1532117834462, 549.8706920588307, 347.81883204774147, 1346.4480226130759, 183.39780621891157, 423.7123311906164, 314.9164824806994, 183.38096053515426, 333.993160598761, 210.91243086503755, 298.4245580822794, 404.7485615032132, 481.51415416540755, 424.21516073427773, 348.5082581247538, 361.49691554391507, 236.2485274559828, 271.3713075401773, 331.6450934414081, 328.08780734216776, 329.0428823232359, 311.58673074963934, 338.15719717065167, 365.9492579939653, 468.4864646382108, 330.9052244230889, 319.4364899956743, 407.1293101608434, 307.32498533918954, 241.58993069461664, 204.25099347958653, 197.09508367529358, 163.76591381429992, 157.8671796977899, 150.1450834495969, 146.87607861801487, 130.78116826495662, 129.94489402415408, 104.35732469888775, 99.88848663087224, 92.66966722170152, 84.71724635893024, 81.23740580015621, 72.59357218943009, 70.55024204274787, 70.53066845454721, 68.01932010785559, 61.31621315727603, 58.996508103240565, 58.675068512589014, 58.335422096878276, 55.519678273414776, 54.95329932766379, 51.88185914567194, 51.082726211984195, 433.539794098459, 47.9459547518301, 931.7339682507715, 317.5103660719387, 164.09580038616946, 262.86752987938746, 123.74361629867795, 81.32705776216258, 129.92923207356392, 260.72761770406606, 642.8222007552381, 508.7484192317036, 406.9609865424066, 503.67006640318493, 270.16569085142976, 729.0976494963321, 275.1160376491665, 264.8611098477202, 422.1767332422793, 285.5259833411146, 409.61125962486386, 331.23808886441566, 223.54854942618067, 541.5836601435552, 571.9841684453779, 464.7324552168554, 414.0055070756883, 331.16860339631074, 445.2095027030663, 335.7777753136406, 283.4431441145514, 369.1820516967857, 299.88809983330657, 312.86863824158274, 305.9822464287136, 296.9553264346001, 290.8887769045397, 273.5186726904533, 192.50362439514464, 161.29974640210762, 120.56714114776888, 117.13666531125557, 70.18779726575113, 67.13227095855069, 64.66504307807024, 58.94193940281349, 47.05083636256225, 41.60389821146219, 37.174967950381486, 36.26952676492374, 33.80239160035206, 33.074763542435655, 31.426204348094394, 30.386548891924704, 29.0283535441849, 28.71117242024348, 28.069402490959025, 26.081405558918334, 25.467370474760756, 24.977197450534618, 24.80980207432997, 24.78278657677123, 24.23348957664524, 22.476905158722502, 21.943657602116613, 14.966267536061672, 25.798944944265426, 60.319742566710424, 256.7840371241851, 136.11470386233722, 147.15058257158694, 95.26051927768323, 587.3241551620869, 97.37969163659804, 116.10632940246857, 178.86323431841183, 811.1108433305686, 168.53501457858718, 280.2875839422947, 444.1457267371177, 145.1156154404475, 312.0521054444324, 296.0723075573254, 189.09517018551708, 199.61183980559056, 192.14659781012932, 341.0993730340087, 326.27674641890184, 213.34590492119568, 160.3798767029833, 559.680542489456, 482.4773736060526, 274.5041318017221, 173.07606075308678, 309.6315424399717, 287.39596560195633, 294.55936296362876, 281.3631396377646, 224.89314064127794, 243.69344599232582, 253.7379934164828, 277.99812762705164, 205.114317983151, 236.747604912059, 242.52115883009407, 207.3373769193053, 204.61453447541464, 212.5266671512026, 204.17790009285935, 194.7745247402302, 124.39088948427683, 64.2175433087575, 59.36615573524084, 50.49948635284643, 47.5135711443588, 45.23345938436083, 44.34403659751557, 43.78709725762554, 40.669886551798925, 38.96039864051428, 36.95159953401108, 34.357709748787975, 32.687285945651645, 31.383129029631657, 27.43533464658098, 23.859248255595258, 20.244172627043213, 15.182563738997034, 14.91411450327077, 22.480391890339767, 189.45322965706885, 65.1026541612683, 10.434093420286908, 399.95701102882595, 64.62497373626013, 43.41498129728726, 59.95556140423732, 73.09659536863114, 30.96352678465624, 44.3735845018953, 95.59139755404823, 94.02462213987117, 190.46473427575458, 122.32776183872484, 197.3026859208932, 254.49384819325613, 302.5318648449194, 388.8670704099068, 216.43873879108565, 153.01802627881233, 339.4076006157464, 162.13588187988458, 259.00718133732875, 221.1914377697074, 293.5700578723761, 258.8813254169673, 299.21364954600386, 386.48583141320034, 236.1095937564348, 294.96552328306586, 332.647441033271, 126.39782446608547, 164.52837896736926, 250.07776735128095, 190.91954402992008, 255.94058008898818, 196.61405992307252, 260.4670171128809, 211.56942506108007, 212.49104831006713, 248.92318352243294, 284.9900969798882, 200.82821633338, 195.65730556344843, 218.7635039773735, 214.1779283615316, 231.28284318830745, 200.8006272879006, 197.78618485970208, 41.69305764847939, 34.32492170052496, 26.62602551655071, 24.68471215431888, 59.066508790400455, 145.91525258964907, 25.795684884645127, 17.935694883276128, 27.22763086844145, 36.57210471302267, 19.4602829290852, 39.38171341250865, 88.98382926086035, 54.13501203465191, 44.491406875174675, 19.83752815874599, 529.5864635122867, 165.83638688250682, 95.30100703404165, 21.84753234445928, 135.19691996250063, 20.175261566941344, 18.817689034194277, 21.065669645572495, 53.47376659670898, 110.69037489604266, 8.686971514912416, 16.342677296377488, 28.911163234396987, 19.16653593554437, 76.60007632084944, 47.370946167224304, 94.00221140341242, 84.73868220914538, 423.5001424703087, 123.71406024714693, 75.77433933659371, 163.55995082035165, 57.819525352301135, 242.77361269300778, 317.69972148752714, 181.0966833585599, 136.5926206836419, 186.03973154637106, 174.05682599281405, 108.89772804132723, 189.58582655007737, 134.1573333898038, 207.0068755159077, 92.83002454574194, 147.56263066576614, 94.02928322111812, 151.4613786195919, 139.82620079017602, 131.76538300702254, 138.3165428645255, 113.11930678659944, 120.82304568632301, 106.67311686558337, 122.67878959412182, 123.10176664712792, 141.7751516377093, 138.34264994724577, 121.21614134254298, 116.19693832899452, 112.4372730022376, 121.63852595980246, 560.2038433472696, 48.223676674755055, 44.723830682155615, 33.33498156516056, 364.91385384174663, 114.44146138723694, 261.00408274385444, 59.080818705612764, 61.1816428154461, 305.86179882193335, 99.27774759183711, 431.7297458609601, 16.890946870762313, 322.09274147063877, 21.917819588306056, 42.03766606171629, 526.9976097439686, 37.8039200259465, 12.177125704315404, 37.243159437333965, 131.59746914007448, 471.75028785961916, 15.38600566274774, 174.60233023772423, 48.70340501624755, 17.15924156198422, 249.7849175748989, 19.83749195781717, 73.44151241921425, 397.5574566719037, 522.5191940301798, 314.62012812022857, 146.13711102707632, 123.97238744757603, 217.99816146212598, 244.35693362401832, 150.15939988045227, 102.96718818580506, 144.5817912587974, 114.37516520339807, 168.0831691632737, 142.16444275188974, 132.70957251387125, 93.02241382079077, 133.61932935256752, 103.38728860406601, 114.58825229495967, 198.79125112011505, 54.8440327151571, 38.72938854786403, 35.44289395637033, 31.011735639512214, 26.07016381768407, 23.52324784407656, 19.73986969411049, 17.013125123444926, 301.1286974191431, 13.805340754564904, 242.28525022424932, 12.038912196083713, 129.37297136089006, 84.43404762702802, 6.225966990349888, 5.611569423547433, 5.599757574192929, 35.30670447871099, 25.80874780183959, 70.93295420062847, 12.247791157851253, 40.74998039568492, 114.18396230517115, 82.43862165506474, 15.465114665127997, 51.409101106943396, 22.947620084673805, 15.970737227442381, 136.01663105832844, 395.83593784412557, 86.17333408690897, 87.92884245283052, 138.4395787875437, 52.31804519249145, 72.14861068641522, 188.05973248062722, 149.9908473351498, 34.942840549771645, 127.68023738704674, 120.70688717867809, 108.47653456982049, 62.229432489854126, 101.61291459506924, 75.6200108931278, 99.91626105798261, 98.0447704481696, 97.81562944889755, 72.05536103247528, 76.42504709403732, 74.18294292708241, 68.94186430030685, 64.61653857531748, 65.41691426646453, 21.96489340783961, 19.628746869286466, 74.28543715229709, 191.427173020395, 41.67865199904655, 506.3738048583441, 24.755882159554034, 28.297017000574545, 106.3183931825844, 160.8644838217836, 11.582132124896283, 89.74804831116332, 42.700415210862296, 15.92486546981785, 33.84037087778962, 26.056152180133974, 16.746133280210096, 13.786086009491441, 58.06174408930861, 58.62486684879688, 8.435134252240283, 18.551147083320384, 10.56992187383134, 33.66666596912576, 21.699588245886083, 17.43472290121696, 15.769775825546477, 33.32826621428615, 237.6783354445366, 75.47155308194945, 134.42987009236828, 59.12993022426678, 51.56735742488028, 187.11440561090168, 96.4763647153066, 280.422055498708, 110.42246640255114, 68.74546563369226, 97.41157560333941, 168.09798652175814, 152.22714864810587, 123.74491934437097, 98.15370318773908, 85.39438939478903, 127.9438215257859, 61.42026434413895, 69.82204313198632, 59.50719330002482, 80.03593847115822, 81.0850555607232, 76.79175054177945, 68.90849900631689, 70.03786670247212, 74.54511051302738, 68.20203471609477, 74.14742217055574], \"Total\": [1707.0, 1271.0, 882.0, 1856.0, 989.0, 647.0, 643.0, 565.0, 621.0, 811.0, 620.0, 1049.0, 645.0, 1746.0, 1050.0, 715.0, 481.0, 888.0, 520.0, 832.0, 719.0, 838.0, 772.0, 380.0, 685.0, 923.0, 704.0, 700.0, 786.0, 782.0, 309.84019295266637, 294.8588870180096, 202.2475604624191, 177.1992489607931, 152.0599251108704, 121.13702221378992, 116.6985724688209, 111.68777887213314, 107.2773771081462, 100.61539454058124, 95.2305850569646, 94.8379785002212, 93.6951055641878, 86.66580456673617, 84.78496364569578, 78.92947782215491, 76.17085785103068, 74.78811738216402, 69.63466335937737, 69.47403176266076, 68.9607320422977, 64.83333371142372, 61.59674700168394, 58.950395831295, 57.777698890037826, 57.51149754801288, 56.14901252824635, 55.706447140797096, 53.91657717216929, 52.57542097412701, 381.6339298741482, 640.0440404742443, 199.81521941836317, 289.8513157518589, 219.28913497031394, 177.4076762138913, 505.19584059367565, 173.7834630017981, 131.53965231554153, 126.7446068417657, 1150.4030068561594, 159.09855211440365, 653.6892880281487, 190.15007787983782, 333.3812971867646, 207.8437653715555, 256.00004780205074, 691.7690768880067, 697.7049073881626, 250.62661831279033, 205.832871129699, 334.1482043958927, 439.8388954903879, 585.1195998581186, 451.82366944023215, 467.99123769329884, 370.40202966266867, 261.5466580698067, 413.5401139290697, 446.8744993792251, 517.2793831761401, 833.4786218291838, 336.5774248150281, 532.8516929681637, 353.071836419683, 345.1965904250728, 957.3301559198508, 490.0808131147511, 486.1453937316387, 578.0281379078431, 601.260650210383, 472.78253977417666, 447.86078623943206, 459.5638345223781, 592.9213572288377, 545.6052992242576, 1271.535938840176, 704.71782320455, 700.930103276654, 566.4445155679323, 479.6391970399286, 438.7816308049042, 355.45707809259784, 250.0474342690333, 240.16207194655132, 239.18002897683417, 232.29509737170756, 222.44348418565122, 221.12464735902668, 215.35973985383583, 209.44016375141533, 199.30450350421614, 196.4138039640237, 170.9759616011147, 142.3463864118677, 136.28940253431213, 128.82180964284692, 126.15379811644874, 126.13836921802147, 118.60943437235787, 116.95336492141057, 115.93457519874777, 114.95991935700451, 102.72343772909427, 101.17478584495092, 98.35330193135627, 772.3886832071772, 533.6599351345384, 195.4923689817879, 782.3821566644696, 281.8608668944056, 226.91371021159503, 307.5742794592123, 651.8058031162934, 490.2699050243591, 403.18565704449344, 988.6256704177774, 785.0730354644327, 1856.958702421184, 832.9645447998038, 769.4696681098695, 367.2331937840942, 923.7648190947426, 330.7035548138064, 474.16954175315925, 370.78175488983635, 599.3556801645743, 641.8640243685712, 868.2815243550698, 553.4939692977672, 541.6803906400262, 872.6833953754874, 535.7981021566872, 468.32381647644183, 529.3483942636168, 1707.0911095784124, 352.98520614710014, 295.00091269802874, 251.42058772123892, 250.83760236201707, 218.05644134483197, 170.39570101821224, 118.65578775415489, 118.1636981232038, 117.87220546908365, 113.22424860479855, 107.53318822326004, 100.52291933334939, 97.87028622795873, 82.65205274855144, 79.30798415431337, 75.1508237835201, 74.99742545093424, 74.01572756559696, 69.46775651921689, 69.36777414013362, 68.33997642398757, 408.1964106975901, 65.65552837543389, 64.53572455157652, 61.09960097342142, 58.016295688185785, 56.55906332112288, 56.12953425148804, 168.84567390497816, 585.0867764799657, 628.811884341515, 322.74779536196525, 130.43500799087747, 114.15950078026354, 838.3557151214338, 178.80574115976293, 161.5889288823155, 542.1203148026076, 344.0445333664358, 570.326010339514, 1050.142487862004, 590.766354653702, 164.04267935941812, 245.70031317386278, 636.143850540379, 386.89379546582626, 1746.9585755329679, 197.3272900480104, 546.2286563681373, 385.65212605762724, 201.34860946383267, 416.65813000068147, 238.78019685602968, 384.193734352838, 584.2644574109195, 744.0484999883604, 627.3689749114434, 481.20899619162606, 526.8380860243591, 284.71446717717663, 355.80297361385885, 494.16089469015304, 498.0744734197266, 513.9800523777176, 462.35534959343477, 607.6822987604245, 786.2706706097151, 1856.958702421184, 570.4806422325024, 529.6060323541465, 407.92933603403094, 308.12506253645915, 242.38991584229194, 205.0510107615876, 197.89506210493786, 164.56593261078322, 158.6672485980468, 150.94515196638935, 147.67617847570563, 131.58122695741622, 130.74489948310932, 105.15740809818853, 100.68856224677448, 93.46978511296724, 85.51725212186489, 82.03740466058736, 73.39360261685981, 71.35022320555348, 71.33066743122677, 68.81930993132049, 62.11623592017275, 59.79668340594945, 59.47509612445784, 59.135420181909886, 56.31967246359974, 55.75337409086781, 52.68189503579223, 51.8827642314632, 440.7079293762742, 48.74595867449764, 989.1456455725352, 331.263861276207, 169.12932485307752, 273.63076904822555, 127.74210719746435, 83.38812982829697, 135.86837674022198, 280.8630560120658, 719.6171055755317, 578.9811582946546, 460.68365616037113, 579.0197559708898, 300.0036345503498, 888.0257272858879, 308.04572666663387, 299.80296541146316, 521.914651334501, 335.84014711403216, 514.8249180646139, 404.3162639907398, 255.78263215600614, 726.4394070450595, 903.3454279746027, 693.2970785903443, 633.5017490871734, 474.9171842825443, 765.2889060752627, 549.5211216199267, 430.2550094987246, 876.0677854358262, 549.9117206915395, 703.9651646096474, 688.8325917799281, 637.0356310740337, 584.3699474482879, 492.54874781941567, 193.3140038454809, 162.11010192797448, 121.37742578185612, 117.94694246666876, 70.99807046893058, 67.94254885232296, 65.47533866644562, 59.752247517190675, 47.86114556781055, 42.41428425230285, 37.98553831101926, 37.07993309672363, 34.61274970813288, 33.88520038377955, 32.236548933973545, 31.196904297955125, 29.838744682069255, 29.5215248901717, 28.879741604024556, 26.89189098272156, 26.277627077293165, 25.787555474481014, 25.62029401312216, 25.59316965337649, 25.044077690327203, 23.287192843682664, 22.753995824717787, 15.776598370113504, 27.263324988475794, 64.01721909052424, 276.34191079194846, 147.15979316034807, 159.7100653255821, 102.84297253753638, 685.047842606037, 105.46373084788625, 130.9950235532617, 208.36176297116987, 1049.1833908652636, 196.6772579443789, 346.5970552402934, 578.1348715098378, 172.7135553863165, 403.4693165373526, 381.2462792533243, 234.5871932289014, 253.05876713274958, 243.14239591325938, 477.884483988141, 460.0839003502924, 281.8575387661479, 201.88494721596425, 889.8813659000324, 786.9801405944036, 398.473961221131, 239.6882077878274, 547.7669059416428, 501.76411152751035, 555.6907783699529, 564.3025094020843, 395.0692749029149, 469.5520883446006, 525.3912449951172, 681.7702486379402, 353.20117350704703, 548.4637273731165, 593.8240410669976, 487.8570252509974, 473.1940587535315, 712.481366759903, 621.0616524075484, 409.63339195509417, 125.21022368836866, 65.0367779600494, 60.185453300898835, 51.318812958075924, 48.33292274294935, 46.0528155485107, 45.16330153268754, 44.606377003052856, 41.48916882599735, 39.77968548643378, 37.770857044393864, 35.17695439312046, 33.506559778148386, 32.20238131062046, 28.254658224857867, 24.67861332516528, 21.06345567901616, 16.001918964770304, 15.733399852922235, 24.045053836292166, 202.90752493019392, 69.79424117960035, 11.253373035523158, 432.1958659574376, 70.80043784591162, 47.56687691737196, 66.49787962080087, 82.48152920939756, 35.19323130786367, 51.51129780550088, 111.67419427653847, 110.01294853445998, 232.47340766810564, 151.88593841545776, 259.7338071722044, 345.80172743523326, 419.67872059922314, 570.48773521081, 298.3483903915614, 203.25995753459037, 538.653070797761, 236.6788064905537, 425.50434025672695, 351.09491909827153, 500.4346610460001, 468.87658084112076, 579.3651054555903, 854.0818820529562, 436.66473310894446, 600.7029357962883, 716.1783126567718, 188.2070810515785, 275.2716535947086, 507.30885187751414, 342.19304790213585, 540.3310640285746, 363.6823991485217, 572.3440949806107, 415.7199737613765, 428.7483913432136, 595.9209062650106, 833.4786218291838, 430.47211961498346, 403.8564577949446, 613.6235156723319, 624.007171028293, 923.7648190947426, 534.4356852810178, 595.2678838631567, 42.54538370544659, 35.177312426142805, 27.478181451964918, 25.53746987054861, 65.23695611496306, 163.35861717980868, 29.31080543211286, 21.016244622146417, 31.957922727457508, 43.483859092639804, 23.335700044944566, 47.2576215859933, 112.1130335263879, 69.42859661824293, 57.161045958220186, 26.12420128580979, 715.5193085986301, 226.7501226252395, 131.43824319153794, 30.513873412151444, 189.90150804074048, 29.100005165200038, 27.408780030845247, 30.730377201884785, 79.0008233574032, 164.77401637752308, 13.00852460124529, 25.006342649320796, 44.46931679803021, 29.784183438055774, 119.88073938536745, 74.44808889621491, 151.4602839045089, 138.21759259412693, 811.920104786667, 222.90447409054713, 131.05416652564136, 337.1739560221371, 97.90628893723355, 593.8240410669976, 882.5881131376303, 436.77746890705, 319.73892944117614, 501.76411152751035, 472.91914934402234, 240.4235042505489, 557.3752803929694, 342.44594067546717, 689.6953761514244, 206.47970413248683, 492.5337082899325, 218.8792284653644, 545.2502504247916, 474.3935256428595, 442.11666358794787, 531.0277783230838, 342.234359102337, 414.0499602380735, 298.0339469921396, 459.5638345223781, 468.64980854436726, 765.2889060752627, 854.0818820529562, 534.5693879260585, 475.01931789923606, 578.0281379078431, 122.4795447932816, 565.2420776312874, 49.06478918025934, 45.56484953188811, 34.17617656728317, 380.9142728817477, 119.57267246475702, 281.46399971697815, 63.90085935909648, 66.39133163098491, 339.5657535293257, 110.51155404317653, 481.97644972270615, 18.878217026012532, 360.64714026506005, 24.714378029400592, 49.985496906399625, 643.7812171801932, 46.850608906307315, 15.130718708725405, 47.709497449299036, 169.84710066914053, 620.3436336697031, 20.874628641028593, 239.4494237346969, 67.72438564485165, 23.952144505800042, 358.7251602348624, 29.186389148463384, 108.34739384294647, 645.5769813593446, 882.5881131376303, 520.4787279286664, 236.60054603368175, 213.21730416797922, 464.3197822197107, 575.0762423006042, 302.21792644882987, 207.915153367852, 360.5434257269203, 327.6481104277569, 689.6953761514244, 535.3180288411353, 567.7562612945177, 227.69197506666575, 703.9651646096474, 405.284270612308, 832.9645447998038, 199.64488938746754, 55.69775230172645, 39.58312166101446, 36.29660904575121, 31.86550883530506, 26.923917235350967, 24.377129667724034, 20.593635747544262, 17.866991674448023, 316.60443747362984, 14.65915307621887, 258.555871454638, 12.892882421971072, 138.76137896464854, 92.32615587046642, 7.079739669893322, 6.465357373454659, 6.453543301366362, 41.2651921189639, 30.685446147061082, 84.93043590021732, 14.860418801233799, 49.694299797129204, 143.10088019580044, 104.36404763754648, 19.647048570069696, 68.65161870276842, 31.239106525289543, 22.30427013040618, 192.87656362728623, 621.842798451203, 127.10156362708557, 140.373059763043, 240.49578147976376, 91.73695461311982, 142.9523566035231, 534.4356852810178, 500.4346610460001, 58.24073289415504, 485.93098330061434, 444.88182190800364, 421.2981026572167, 161.5277577885, 425.50434025672695, 248.40306933122793, 449.4189781454247, 647.1082241127724, 811.920104786667, 336.7502255297446, 476.7403365887348, 538.653070797761, 492.5337082899325, 430.2550094987246, 715.5193085986301, 22.82508433221816, 20.488889716679125, 78.94296161991767, 211.19843020835427, 46.61017029528506, 647.1082241127724, 34.14713583163432, 40.31684293982972, 154.80766788940105, 238.87104803134082, 17.784087497190033, 138.18672217914687, 66.12868078061145, 24.874295703102504, 53.697026856059274, 42.07567701615065, 27.59269844456993, 22.872003402391265, 98.05531069101484, 99.70166764133708, 14.688636920316481, 32.97004919660853, 18.82093913900765, 60.077151338817885, 38.92260972521322, 31.451174068994447, 28.481117255178482, 60.856908119097184, 447.2525460990853, 144.68632593093508, 276.528146905831, 118.89316159563961, 103.41809180712255, 430.47211961498346, 228.14765103876616, 811.920104786667, 274.8124985164759, 163.47369654311436, 256.1030355127761, 592.2196900954157, 520.4787279286664, 444.88182190800364, 337.1739560221371, 288.7524810090421, 786.2706706097151, 198.53048613552667, 299.7619001553045, 213.21730416797922, 468.87658084112076, 511.84408327837684, 476.4052245333199, 398.8279158946925, 442.11666358794787, 689.6953761514244, 398.51456801839333, 854.0818820529562], \"Category\": [\"Default\", \"Default\", \"Default\", \"Default\", \"Default\", \"Default\", \"Default\", \"Default\", \"Default\", \"Default\", \"Default\", \"Default\", \"Default\", \"Default\", \"Default\", \"Default\", \"Default\", \"Default\", \"Default\", \"Default\", \"Default\", \"Default\", \"Default\", \"Default\", \"Default\", \"Default\", \"Default\", \"Default\", \"Default\", \"Default\", \"Topic1\", \"Topic1\", \"Topic1\", \"Topic1\", \"Topic1\", \"Topic1\", \"Topic1\", \"Topic1\", \"Topic1\", \"Topic1\", \"Topic1\", \"Topic1\", \"Topic1\", \"Topic1\", \"Topic1\", \"Topic1\", \"Topic1\", \"Topic1\", \"Topic1\", \"Topic1\", \"Topic1\", \"Topic1\", \"Topic1\", \"Topic1\", \"Topic1\", \"Topic1\", \"Topic1\", \"Topic1\", \"Topic1\", \"Topic1\", \"Topic1\", \"Topic1\", \"Topic1\", \"Topic1\", \"Topic1\", \"Topic1\", \"Topic1\", \"Topic1\", \"Topic1\", \"Topic1\", \"Topic1\", \"Topic1\", \"Topic1\", \"Topic1\", \"Topic1\", \"Topic1\", \"Topic1\", \"Topic1\", \"Topic1\", \"Topic1\", \"Topic1\", \"Topic1\", \"Topic1\", \"Topic1\", \"Topic1\", \"Topic1\", \"Topic1\", \"Topic1\", \"Topic1\", \"Topic1\", \"Topic1\", \"Topic1\", \"Topic1\", \"Topic1\", \"Topic1\", \"Topic1\", \"Topic1\", \"Topic1\", \"Topic1\", \"Topic1\", \"Topic1\", \"Topic1\", \"Topic1\", \"Topic1\", \"Topic1\", \"Topic1\", \"Topic2\", \"Topic2\", \"Topic2\", \"Topic2\", \"Topic2\", \"Topic2\", \"Topic2\", \"Topic2\", \"Topic2\", \"Topic2\", \"Topic2\", \"Topic2\", \"Topic2\", \"Topic2\", \"Topic2\", \"Topic2\", \"Topic2\", \"Topic2\", \"Topic2\", \"Topic2\", \"Topic2\", \"Topic2\", \"Topic2\", \"Topic2\", \"Topic2\", \"Topic2\", \"Topic2\", \"Topic2\", \"Topic2\", \"Topic2\", \"Topic2\", \"Topic2\", \"Topic2\", \"Topic2\", \"Topic2\", \"Topic2\", \"Topic2\", \"Topic2\", \"Topic2\", \"Topic2\", \"Topic2\", \"Topic2\", \"Topic2\", \"Topic2\", \"Topic2\", \"Topic2\", \"Topic2\", \"Topic2\", \"Topic2\", \"Topic2\", \"Topic2\", \"Topic2\", \"Topic2\", \"Topic2\", \"Topic2\", \"Topic2\", \"Topic2\", \"Topic2\", \"Topic2\", \"Topic3\", \"Topic3\", \"Topic3\", \"Topic3\", \"Topic3\", \"Topic3\", \"Topic3\", \"Topic3\", \"Topic3\", \"Topic3\", \"Topic3\", \"Topic3\", \"Topic3\", \"Topic3\", \"Topic3\", \"Topic3\", \"Topic3\", \"Topic3\", \"Topic3\", \"Topic3\", \"Topic3\", \"Topic3\", \"Topic3\", \"Topic3\", \"Topic3\", \"Topic3\", \"Topic3\", \"Topic3\", \"Topic3\", \"Topic3\", \"Topic3\", \"Topic3\", \"Topic3\", \"Topic3\", \"Topic3\", \"Topic3\", \"Topic3\", \"Topic3\", \"Topic3\", \"Topic3\", \"Topic3\", \"Topic3\", \"Topic3\", \"Topic3\", \"Topic3\", \"Topic3\", \"Topic3\", \"Topic3\", \"Topic3\", \"Topic3\", \"Topic3\", \"Topic3\", \"Topic3\", \"Topic3\", \"Topic3\", \"Topic3\", \"Topic3\", \"Topic3\", \"Topic3\", \"Topic3\", \"Topic3\", \"Topic3\", \"Topic3\", \"Topic3\", \"Topic3\", \"Topic3\", \"Topic3\", \"Topic3\", \"Topic3\", \"Topic3\", \"Topic3\", \"Topic4\", \"Topic4\", \"Topic4\", \"Topic4\", \"Topic4\", \"Topic4\", \"Topic4\", \"Topic4\", \"Topic4\", \"Topic4\", \"Topic4\", \"Topic4\", \"Topic4\", \"Topic4\", \"Topic4\", \"Topic4\", \"Topic4\", \"Topic4\", \"Topic4\", \"Topic4\", \"Topic4\", \"Topic4\", \"Topic4\", \"Topic4\", \"Topic4\", \"Topic4\", \"Topic4\", \"Topic4\", \"Topic4\", \"Topic4\", \"Topic4\", \"Topic4\", \"Topic4\", \"Topic4\", \"Topic4\", \"Topic4\", \"Topic4\", \"Topic4\", \"Topic4\", \"Topic4\", \"Topic4\", \"Topic4\", \"Topic4\", \"Topic4\", \"Topic4\", \"Topic4\", \"Topic4\", \"Topic4\", \"Topic4\", \"Topic4\", \"Topic4\", \"Topic4\", \"Topic4\", \"Topic4\", \"Topic4\", \"Topic4\", \"Topic4\", \"Topic4\", \"Topic4\", \"Topic4\", \"Topic4\", \"Topic4\", \"Topic4\", \"Topic4\", \"Topic4\", \"Topic4\", \"Topic5\", \"Topic5\", \"Topic5\", \"Topic5\", \"Topic5\", \"Topic5\", \"Topic5\", \"Topic5\", \"Topic5\", \"Topic5\", \"Topic5\", \"Topic5\", \"Topic5\", \"Topic5\", \"Topic5\", \"Topic5\", \"Topic5\", \"Topic5\", \"Topic5\", \"Topic5\", \"Topic5\", \"Topic5\", \"Topic5\", \"Topic5\", \"Topic5\", \"Topic5\", \"Topic5\", \"Topic5\", \"Topic5\", \"Topic5\", \"Topic5\", \"Topic5\", \"Topic5\", \"Topic5\", \"Topic5\", \"Topic5\", \"Topic5\", \"Topic5\", \"Topic5\", \"Topic5\", \"Topic5\", \"Topic5\", \"Topic5\", \"Topic5\", \"Topic5\", \"Topic5\", \"Topic5\", \"Topic5\", \"Topic5\", \"Topic5\", \"Topic5\", \"Topic5\", \"Topic5\", \"Topic5\", \"Topic5\", \"Topic5\", \"Topic5\", \"Topic5\", \"Topic5\", \"Topic5\", \"Topic5\", \"Topic5\", \"Topic5\", \"Topic5\", \"Topic5\", \"Topic5\", \"Topic5\", \"Topic5\", \"Topic5\", \"Topic5\", \"Topic5\", \"Topic5\", \"Topic6\", \"Topic6\", \"Topic6\", \"Topic6\", \"Topic6\", \"Topic6\", \"Topic6\", \"Topic6\", \"Topic6\", \"Topic6\", \"Topic6\", \"Topic6\", \"Topic6\", \"Topic6\", \"Topic6\", \"Topic6\", \"Topic6\", \"Topic6\", \"Topic6\", \"Topic6\", \"Topic6\", \"Topic6\", \"Topic6\", \"Topic6\", \"Topic6\", \"Topic6\", \"Topic6\", \"Topic6\", \"Topic6\", \"Topic6\", \"Topic6\", \"Topic6\", \"Topic6\", \"Topic6\", \"Topic6\", \"Topic6\", \"Topic6\", \"Topic6\", \"Topic6\", \"Topic6\", \"Topic6\", \"Topic6\", \"Topic6\", \"Topic6\", \"Topic6\", \"Topic6\", \"Topic6\", \"Topic6\", \"Topic6\", \"Topic6\", \"Topic6\", \"Topic6\", \"Topic6\", \"Topic6\", \"Topic6\", \"Topic6\", \"Topic6\", \"Topic6\", \"Topic6\", \"Topic6\", \"Topic6\", \"Topic6\", \"Topic6\", \"Topic6\", \"Topic6\", \"Topic6\", \"Topic6\", \"Topic6\", \"Topic6\", \"Topic7\", \"Topic7\", \"Topic7\", \"Topic7\", \"Topic7\", \"Topic7\", \"Topic7\", \"Topic7\", \"Topic7\", \"Topic7\", \"Topic7\", \"Topic7\", \"Topic7\", \"Topic7\", \"Topic7\", \"Topic7\", \"Topic7\", \"Topic7\", \"Topic7\", \"Topic7\", \"Topic7\", \"Topic7\", \"Topic7\", \"Topic7\", \"Topic7\", \"Topic7\", \"Topic7\", \"Topic7\", \"Topic7\", \"Topic7\", \"Topic7\", \"Topic7\", \"Topic7\", \"Topic7\", \"Topic7\", \"Topic7\", \"Topic7\", \"Topic7\", \"Topic7\", \"Topic7\", \"Topic7\", \"Topic7\", \"Topic7\", \"Topic7\", \"Topic7\", \"Topic7\", \"Topic7\", \"Topic7\", \"Topic7\", \"Topic7\", \"Topic7\", \"Topic7\", \"Topic7\", \"Topic7\", \"Topic7\", \"Topic7\", \"Topic7\", \"Topic7\", \"Topic7\", \"Topic7\", \"Topic7\", \"Topic7\", \"Topic7\", \"Topic7\", \"Topic7\", \"Topic7\", \"Topic8\", \"Topic8\", \"Topic8\", \"Topic8\", \"Topic8\", \"Topic8\", \"Topic8\", \"Topic8\", \"Topic8\", \"Topic8\", \"Topic8\", \"Topic8\", \"Topic8\", \"Topic8\", \"Topic8\", \"Topic8\", \"Topic8\", \"Topic8\", \"Topic8\", \"Topic8\", \"Topic8\", \"Topic8\", \"Topic8\", \"Topic8\", \"Topic8\", \"Topic8\", \"Topic8\", \"Topic8\", \"Topic8\", \"Topic8\", \"Topic8\", \"Topic8\", \"Topic8\", \"Topic8\", \"Topic8\", \"Topic8\", \"Topic8\", \"Topic8\", \"Topic8\", \"Topic8\", \"Topic8\", \"Topic8\", \"Topic8\", \"Topic8\", \"Topic8\", \"Topic8\", \"Topic8\", \"Topic8\", \"Topic9\", \"Topic9\", \"Topic9\", \"Topic9\", \"Topic9\", \"Topic9\", \"Topic9\", \"Topic9\", \"Topic9\", \"Topic9\", \"Topic9\", \"Topic9\", \"Topic9\", \"Topic9\", \"Topic9\", \"Topic9\", \"Topic9\", \"Topic9\", \"Topic9\", \"Topic9\", \"Topic9\", \"Topic9\", \"Topic9\", \"Topic9\", \"Topic9\", \"Topic9\", \"Topic9\", \"Topic9\", \"Topic9\", \"Topic9\", \"Topic9\", \"Topic9\", \"Topic9\", \"Topic9\", \"Topic9\", \"Topic9\", \"Topic9\", \"Topic9\", \"Topic9\", \"Topic9\", \"Topic9\", \"Topic9\", \"Topic9\", \"Topic9\", \"Topic9\", \"Topic9\", \"Topic9\", \"Topic9\", \"Topic9\", \"Topic9\", \"Topic9\", \"Topic9\", \"Topic9\", \"Topic9\", \"Topic10\", \"Topic10\", \"Topic10\", \"Topic10\", \"Topic10\", \"Topic10\", \"Topic10\", \"Topic10\", \"Topic10\", \"Topic10\", \"Topic10\", \"Topic10\", \"Topic10\", \"Topic10\", \"Topic10\", \"Topic10\", \"Topic10\", \"Topic10\", \"Topic10\", \"Topic10\", \"Topic10\", \"Topic10\", \"Topic10\", \"Topic10\", \"Topic10\", \"Topic10\", \"Topic10\", \"Topic10\", \"Topic10\", \"Topic10\", \"Topic10\", \"Topic10\", \"Topic10\", \"Topic10\", \"Topic10\", \"Topic10\", \"Topic10\", \"Topic10\", \"Topic10\", \"Topic10\", \"Topic10\", \"Topic10\", \"Topic10\", \"Topic10\", \"Topic10\", \"Topic10\", \"Topic10\", \"Topic10\", \"Topic10\", \"Topic10\", \"Topic10\", \"Topic10\", \"Topic10\", \"Topic10\", \"Topic10\", \"Topic10\"], \"logprob\": [30.0, 29.0, 28.0, 27.0, 26.0, 25.0, 24.0, 23.0, 22.0, 21.0, 20.0, 19.0, 18.0, 17.0, 16.0, 15.0, 14.0, 13.0, 12.0, 11.0, 10.0, 9.0, 8.0, 7.0, 6.0, 5.0, 4.0, 3.0, 2.0, 1.0, -6.0461, -6.0958, -6.474, -6.6068, -6.7605, -6.9892, -7.0268, -7.071, -7.1115, -7.1761, -7.2316, -7.2357, -7.248, -7.3266, -7.3488, -7.421, -7.457, -7.4755, -7.5477, -7.55, -7.5575, -7.6199, -7.6718, -7.7163, -7.7367, -7.7413, -7.7656, -7.7737, -7.8068, -7.8324, -5.8593, -5.3509, -6.5132, -6.1595, -6.4339, -6.648, -5.6474, -6.6751, -6.9437, -6.9844, -4.9198, -6.7754, -5.4633, -6.6105, -6.0945, -6.5382, -6.3676, -5.4991, -5.5116, -6.3961, -6.572, -6.1613, -5.9316, -5.7141, -5.93, -5.9136, -6.1025, -6.3805, -6.0254, -5.9672, -5.8552, -5.5732, -6.2119, -5.9082, -6.1864, -6.224, -5.6673, -6.0636, -6.0797, -6.0051, -6.0418, -6.1431, -6.1662, -6.1631, -6.1434, -6.1623, -4.4291, -5.0198, -5.0252, -5.2384, -5.405, -5.4942, -5.7052, -6.0579, -6.0984, -6.1025, -6.1318, -6.1753, -6.1812, -6.2077, -6.2357, -6.2855, -6.3002, -6.4395, -6.6236, -6.6673, -6.724, -6.7451, -6.7452, -6.8071, -6.8213, -6.8301, -6.8386, -6.9519, -6.9673, -6.9958, -4.9373, -5.3114, -6.312, -4.9558, -5.9597, -6.1729, -5.8826, -5.1584, -5.4446, -5.6442, -4.8385, -5.0616, -4.3557, -5.0553, -5.1512, -5.7761, -5.0372, -5.8746, -5.6201, -5.8034, -5.4697, -5.4286, -5.2524, -5.5725, -5.5868, -5.4071, -5.6604, -5.7374, -5.7816, -4.0813, -5.6591, -5.839, -5.9993, -6.0016, -6.1422, -6.3898, -6.7536, -6.7578, -6.7603, -6.8008, -6.8528, -6.9207, -6.9476, -7.1181, -7.1598, -7.2142, -7.2162, -7.2295, -7.2936, -7.2951, -7.3102, -5.5233, -7.3507, -7.3681, -7.4235, -7.476, -7.5018, -7.5095, -6.4094, -5.1678, -5.107, -5.7683, -6.669, -6.8031, -4.8414, -6.3611, -6.4643, -5.2853, -5.7365, -5.2701, -4.705, -5.2536, -6.4724, -6.0934, -5.2137, -5.6717, -4.3181, -6.3117, -5.4743, -5.7711, -6.3118, -5.7122, -6.1719, -5.8249, -5.5201, -5.3464, -5.4731, -5.6697, -5.6331, -6.0585, -5.9199, -5.7193, -5.7301, -5.7272, -5.7817, -5.6999, -5.6209, -5.3739, -5.7215, -5.7568, -5.0904, -5.3717, -5.6123, -5.7802, -5.8159, -6.0011, -6.0378, -6.088, -6.11, -6.2261, -6.2325, -6.4518, -6.4955, -6.5705, -6.6603, -6.7022, -6.8147, -6.8433, -6.8435, -6.8798, -6.9835, -7.0221, -7.0276, -7.0334, -7.0828, -7.0931, -7.1506, -7.1661, -5.0276, -7.2295, -4.2625, -5.3391, -5.9991, -5.5279, -6.2814, -6.7011, -6.2326, -5.5361, -4.6337, -4.8676, -5.0909, -4.8777, -5.5005, -4.5078, -5.4824, -5.5204, -5.0542, -5.4452, -5.0844, -5.2967, -5.6899, -4.8051, -4.7505, -4.9581, -5.0737, -5.2969, -5.001, -5.2831, -5.4526, -5.1883, -5.3962, -5.3538, -5.376, -5.406, -5.4266, -5.4882, -5.6536, -5.8305, -6.1215, -6.1504, -6.6626, -6.7071, -6.7445, -6.8372, -7.0625, -7.1855, -7.2981, -7.3228, -7.3932, -7.415, -7.4661, -7.4997, -7.5455, -7.5565, -7.5791, -7.6525, -7.6763, -7.6958, -7.7025, -7.7036, -7.726, -7.8012, -7.8253, -8.2079, -7.6634, -6.8141, -5.3655, -6.0002, -5.9223, -6.3571, -4.5382, -6.3351, -6.1592, -5.7271, -4.2153, -5.7866, -5.2779, -4.8176, -5.9362, -5.1706, -5.2231, -5.6715, -5.6174, -5.6555, -5.0816, -5.126, -5.5508, -5.8362, -4.5864, -4.7348, -5.2988, -5.76, -5.1784, -5.2529, -5.2283, -5.2741, -5.4981, -5.4178, -5.3774, -5.2861, -5.5902, -5.4467, -5.4226, -5.5794, -5.5926, -5.5547, -5.5947, -5.6419, -6.0452, -6.7063, -6.7849, -6.9466, -7.0076, -7.0567, -7.0766, -7.0892, -7.1631, -7.206, -7.259, -7.3318, -7.3816, -7.4223, -7.5567, -7.6964, -7.8607, -8.1484, -8.1663, -7.7559, -5.6244, -6.6926, -8.5235, -4.8772, -6.7, -7.0978, -6.775, -6.5768, -7.4358, -7.0759, -6.3085, -6.325, -5.6191, -6.0619, -5.5838, -5.3293, -5.1564, -4.9053, -5.4913, -5.838, -5.0414, -5.7801, -5.3117, -5.4696, -5.1865, -5.3122, -5.1674, -4.9115, -5.4043, -5.1817, -5.0615, -6.0291, -5.7655, -5.3468, -5.6167, -5.3236, -5.5873, -5.3061, -5.514, -5.5097, -5.3514, -5.2161, -5.5661, -5.5922, -5.4806, -5.5018, -5.4249, -5.5663, -5.5814, -6.7705, -6.965, -7.219, -7.2947, -6.4222, -5.5178, -7.2506, -7.6141, -7.1966, -6.9016, -7.5325, -6.8276, -6.0124, -6.5094, -6.7056, -7.5133, -4.2288, -5.3899, -5.9438, -7.4168, -5.5941, -7.4964, -7.5661, -7.4532, -6.5217, -5.7941, -8.339, -7.7071, -7.1366, -7.5477, -6.1623, -6.6428, -5.9575, -6.0613, -4.4523, -5.6829, -6.1731, -5.4037, -6.4435, -5.0087, -4.7397, -5.3018, -5.5839, -5.2749, -5.3415, -5.8104, -5.256, -5.6018, -5.1681, -5.9701, -5.5066, -5.9572, -5.4805, -5.5605, -5.6198, -5.5713, -5.7724, -5.7065, -5.8311, -5.6913, -5.6878, -5.5466, -5.5711, -5.7033, -5.7456, -5.7785, -5.1644, -3.6371, -6.0896, -6.1649, -6.4588, -4.0658, -5.2254, -4.4009, -5.8865, -5.8516, -4.2423, -5.3675, -3.8976, -7.1386, -4.1906, -6.8781, -6.2269, -3.6982, -6.333, -7.4659, -6.348, -5.0857, -3.809, -7.232, -4.8029, -6.0797, -7.1229, -4.4448, -6.9778, -5.6689, -3.9801, -3.7068, -4.2141, -4.9809, -5.1454, -4.5809, -4.4668, -4.9537, -5.331, -4.9916, -5.2259, -4.841, -5.0084, -5.0773, -5.4326, -5.0704, -5.3269, -5.2241, -4.551, -5.8387, -6.1866, -6.2753, -6.4089, -6.5824, -6.6852, -6.8606, -7.0092, -4.1357, -7.2182, -4.3531, -7.3551, -4.9805, -5.4073, -8.0145, -8.1184, -8.1205, -6.2792, -6.5925, -5.5815, -7.3379, -6.1358, -5.1054, -5.4312, -7.1046, -5.9034, -6.71, -7.0725, -4.9305, -3.8622, -5.3869, -5.3667, -4.9128, -5.8859, -5.5645, -4.6065, -4.8327, -6.2895, -4.9937, -5.0499, -5.1567, -5.7124, -5.2221, -5.5175, -5.2389, -5.2578, -5.2601, -5.5658, -5.5069, -5.5367, -5.61, -5.6748, -5.6624, -6.6861, -6.7985, -5.4676, -4.521, -6.0455, -3.5483, -6.5665, -6.4328, -5.1091, -4.695, -7.3261, -5.2785, -6.0213, -7.0077, -6.2539, -6.5153, -6.9574, -7.1519, -5.714, -5.7044, -7.6431, -6.855, -7.4175, -6.259, -6.6982, -6.9171, -7.0174, -6.2691, -4.3046, -5.4518, -4.8745, -5.6958, -5.8326, -4.5438, -5.2062, -4.1392, -5.0712, -5.5451, -5.1966, -4.651, -4.7502, -4.9573, -5.189, -5.3283, -4.9239, -5.6578, -5.5296, -5.6894, -5.3931, -5.38, -5.4344, -5.5428, -5.5265, -5.4641, -5.5531, -5.4695], \"loglift\": [30.0, 29.0, 28.0, 27.0, 26.0, 25.0, 24.0, 23.0, 22.0, 21.0, 20.0, 19.0, 18.0, 17.0, 16.0, 15.0, 14.0, 13.0, 12.0, 11.0, 10.0, 9.0, 8.0, 7.0, 6.0, 5.0, 4.0, 3.0, 2.0, 1.0, 1.5321, 1.532, 1.5308, 1.5302, 1.5295, 1.5282, 1.5279, 1.5276, 1.5274, 1.5269, 1.5264, 1.5264, 1.5263, 1.5256, 1.5254, 1.5247, 1.5244, 1.5242, 1.5234, 1.5234, 1.5233, 1.5225, 1.5219, 1.5213, 1.521, 1.521, 1.5207, 1.5205, 1.5201, 1.5197, 1.5106, 1.5019, 1.5037, 1.4854, 1.49, 1.4879, 1.442, 1.4814, 1.4912, 1.4878, 1.3466, 1.4693, 1.3684, 1.456, 1.4105, 1.4393, 1.4015, 1.2759, 1.2549, 1.3943, 1.4153, 1.3414, 1.2963, 1.2283, 1.271, 1.2523, 1.2972, 1.3672, 1.2642, 1.2449, 1.2105, 1.0155, 1.2836, 1.1278, 1.2612, 1.2462, 0.7829, 1.0561, 1.048, 0.9495, 0.8735, 1.0126, 1.0436, 1.0209, 0.7858, 0.8501, 1.7372, 1.7367, 1.7367, 1.7365, 1.7362, 1.7361, 1.7357, 1.7348, 1.7346, 1.7346, 1.7345, 1.7344, 1.7344, 1.7343, 1.7342, 1.734, 1.7339, 1.7333, 1.7324, 1.7322, 1.7318, 1.7317, 1.7317, 1.7313, 1.7312, 1.7312, 1.7311, 1.7303, 1.7302, 1.73, 1.7275, 1.7231, 1.7267, 1.6961, 1.7132, 1.7168, 1.703, 1.6761, 1.6748, 1.6707, 1.5795, 1.5869, 1.4319, 1.534, 1.5174, 1.6322, 1.4487, 1.6385, 1.5326, 1.5952, 1.4488, 1.4214, 1.2954, 1.4255, 1.4328, 1.1356, 1.3701, 1.4277, 1.261, 1.7905, 1.7888, 1.7883, 1.7879, 1.7879, 1.7874, 1.7864, 1.7844, 1.7844, 1.7844, 1.7841, 1.7838, 1.7832, 1.783, 1.7816, 1.7812, 1.7806, 1.7806, 1.7805, 1.7798, 1.7798, 1.7796, 1.7792, 1.7791, 1.7789, 1.7783, 1.7776, 1.7772, 1.7771, 1.7759, 1.7747, 1.7635, 1.7691, 1.7744, 1.7736, 1.7414, 1.767, 1.765, 1.7335, 1.737, 1.698, 1.6526, 1.6793, 1.7418, 1.7168, 1.6452, 1.6845, 1.5305, 1.7177, 1.537, 1.5883, 1.6975, 1.5698, 1.6668, 1.5383, 1.4238, 1.3558, 1.3996, 1.4683, 1.4143, 1.6043, 1.52, 1.3921, 1.3735, 1.3449, 1.3963, 1.2048, 1.0261, 0.4137, 1.2463, 1.2854, 2.2128, 2.2121, 2.2114, 2.2108, 2.2107, 2.2099, 2.2097, 2.2094, 2.2093, 2.2086, 2.2086, 2.2071, 2.2067, 2.2061, 2.2053, 2.2049, 2.2038, 2.2035, 2.2034, 2.203, 2.2018, 2.2013, 2.2012, 2.2011, 2.2004, 2.2003, 2.1994, 2.1992, 2.1983, 2.1982, 2.1549, 2.1723, 2.1845, 2.1746, 2.1829, 2.1897, 2.17, 2.1403, 2.1019, 2.0854, 2.0907, 2.0753, 2.11, 2.0175, 2.1017, 2.0908, 2.0026, 2.0524, 1.9861, 2.0154, 2.08, 1.9211, 1.7577, 1.8147, 1.7893, 1.8542, 1.673, 1.7221, 1.7974, 1.3506, 1.6084, 1.4038, 1.4033, 1.4515, 1.5171, 1.6265, 2.3964, 2.3956, 2.3939, 2.3937, 2.3891, 2.3886, 2.3881, 2.3869, 2.3835, 2.3813, 2.379, 2.3785, 2.3769, 2.3764, 2.3751, 2.3742, 2.373, 2.3727, 2.3721, 2.37, 2.3692, 2.3686, 2.3684, 2.3684, 2.3677, 2.3652, 2.3643, 2.3478, 2.3454, 2.3411, 2.3272, 2.3225, 2.3187, 2.324, 2.2467, 2.3208, 2.2799, 2.2479, 2.1432, 2.2461, 2.1882, 2.1369, 2.2265, 2.1436, 2.1477, 2.185, 2.1633, 2.1652, 2.0634, 2.0569, 2.1221, 2.1704, 1.9368, 1.9113, 2.0279, 2.075, 1.8301, 1.8433, 1.7658, 1.7046, 1.8371, 1.7447, 1.6727, 1.5035, 1.8571, 1.5604, 1.5051, 1.5449, 1.5622, 1.1909, 1.2881, 1.6571, 2.4392, 2.433, 2.432, 2.4296, 2.4286, 2.4278, 2.4274, 2.4272, 2.4258, 2.4249, 2.4238, 2.4222, 2.421, 2.42, 2.4163, 2.412, 2.406, 2.3932, 2.3922, 2.3784, 2.3771, 2.3761, 2.3701, 2.3682, 2.3545, 2.3544, 2.3422, 2.3249, 2.3177, 2.2966, 2.2902, 2.2887, 2.2464, 2.2293, 2.1708, 2.1391, 2.1184, 2.0625, 2.1248, 2.1618, 1.9839, 2.0675, 1.9493, 1.9837, 1.9124, 1.8518, 1.7849, 1.6528, 1.8309, 1.7345, 1.6789, 2.0476, 1.931, 1.7384, 1.8622, 1.6985, 1.8307, 1.6585, 1.7703, 1.7438, 1.5728, 1.3726, 1.6833, 1.721, 1.4143, 1.3764, 1.0609, 1.4668, 1.3439, 2.7932, 2.7889, 2.7819, 2.7795, 2.7141, 2.7005, 2.6857, 2.6549, 2.6533, 2.6403, 2.6318, 2.6311, 2.5824, 2.5646, 2.5629, 2.5382, 2.5125, 2.5006, 2.492, 2.4794, 2.4737, 2.4472, 2.4374, 2.4358, 2.4232, 2.4156, 2.4097, 2.3881, 2.3829, 2.3726, 2.3655, 2.3614, 2.3364, 2.3242, 2.1626, 2.2247, 2.2656, 2.09, 2.2868, 1.919, 1.7917, 1.9331, 1.9629, 1.8213, 1.8139, 2.0215, 1.7351, 1.8763, 1.61, 2.014, 1.6081, 1.9685, 1.5325, 1.5918, 1.6029, 1.4682, 1.7064, 1.5818, 1.786, 1.4927, 1.4766, 1.1274, 0.9932, 1.3296, 1.4054, 1.1762, 3.342, 3.3399, 3.3316, 3.3303, 3.324, 3.306, 3.305, 3.2734, 3.2705, 3.2672, 3.2443, 3.2417, 3.2388, 3.2377, 3.2358, 3.2288, 3.1757, 3.1487, 3.1343, 3.1317, 3.1012, 3.0937, 3.0751, 3.0438, 3.0331, 3.0192, 3.0154, 2.9869, 2.9628, 2.96, 2.8641, 2.8247, 2.8455, 2.8671, 2.8066, 2.5928, 2.493, 2.6494, 2.6462, 2.4351, 2.2964, 1.9371, 2.023, 1.8954, 2.4537, 1.6871, 1.9828, 1.3652, 3.4668, 3.4556, 3.4493, 3.4473, 3.4439, 3.4389, 3.4354, 3.4287, 3.4221, 3.421, 3.4111, 3.4061, 3.4025, 3.401, 3.3817, 3.3426, 3.3294, 3.3292, 3.3151, 3.298, 3.291, 3.2777, 3.2726, 3.2453, 3.2352, 3.2317, 3.1818, 3.1626, 3.1371, 3.1218, 3.0194, 3.0824, 3.0033, 2.9188, 2.9095, 2.7873, 2.4266, 2.2662, 2.9602, 2.1345, 2.1666, 2.1143, 2.5172, 2.039, 2.2817, 1.9675, 1.584, 1.3548, 1.9292, 1.6404, 1.4885, 1.5048, 1.5752, 1.0788, 3.5004, 3.4959, 3.478, 3.4405, 3.4269, 3.2935, 3.2171, 3.1848, 3.163, 3.1434, 3.1099, 3.1072, 3.1014, 3.0928, 3.0771, 3.0595, 3.0394, 3.0325, 3.0147, 3.0077, 2.9841, 2.9637, 2.9618, 2.9596, 2.9545, 2.9488, 2.9476, 2.9366, 2.9066, 2.888, 2.8175, 2.8403, 2.8429, 2.7056, 2.6781, 2.4757, 2.627, 2.6725, 2.5721, 2.2794, 2.3094, 2.2592, 2.3047, 2.3205, 1.7231, 2.3656, 2.0817, 2.2626, 1.7709, 1.6962, 1.7136, 1.783, 1.6962, 1.3139, 1.7735, 1.0948]}, \"token.table\": {\"Topic\": [2, 3, 5, 6, 7, 9, 10, 1, 2, 3, 7, 10, 4, 5, 7, 8, 9, 6, 1, 5, 2, 6, 7, 9, 10, 6, 9, 10, 1, 2, 3, 5, 6, 7, 9, 10, 6, 3, 5, 9, 5, 9, 1, 2, 3, 4, 5, 8, 9, 9, 2, 4, 5, 8, 4, 2, 10, 4, 5, 10, 5, 1, 2, 3, 9, 1, 8, 2, 6, 7, 9, 2, 8, 3, 5, 4, 8, 1, 6, 1, 2, 3, 5, 6, 7, 8, 9, 10, 6, 6, 3, 5, 7, 8, 9, 10, 2, 5, 8, 2, 7, 5, 2, 3, 6, 7, 1, 2, 3, 7, 9, 2, 9, 2, 3, 5, 6, 7, 9, 10, 2, 6, 9, 3, 1, 3, 4, 5, 6, 7, 9, 10, 5, 1, 2, 3, 5, 6, 7, 8, 9, 10, 1, 2, 3, 6, 7, 8, 9, 10, 4, 3, 5, 10, 5, 1, 1, 4, 5, 9, 10, 6, 5, 6, 7, 8, 9, 4, 2, 4, 5, 6, 1, 2, 3, 9, 1, 2, 3, 4, 5, 6, 7, 8, 9, 10, 1, 6, 1, 2, 3, 5, 6, 7, 9, 3, 3, 4, 4, 2, 3, 2, 6, 9, 3, 3, 4, 5, 7, 3, 2, 3, 2, 1, 2, 5, 6, 7, 9, 10, 4, 2, 3, 5, 9, 10, 1, 3, 5, 6, 8, 9, 10, 3, 2, 5, 7, 10, 5, 3, 2, 3, 5, 6, 10, 2, 3, 4, 7, 5, 6, 2, 1, 2, 3, 5, 6, 9, 5, 8, 10, 2, 3, 5, 7, 8, 9, 4, 5, 3, 9, 3, 5, 6, 7, 9, 3, 1, 3, 4, 5, 6, 10, 3, 1, 2, 3, 5, 6, 9, 10, 2, 1, 7, 8, 10, 2, 4, 5, 1, 2, 9, 4, 6, 7, 5, 6, 6, 7, 9, 10, 2, 3, 4, 5, 7, 1, 2, 5, 9, 2, 3, 4, 5, 10, 2, 3, 5, 6, 9, 2, 3, 4, 5, 8, 7, 2, 3, 5, 6, 7, 9, 10, 2, 4, 5, 7, 8, 9, 10, 3, 6, 7, 8, 10, 4, 7, 10, 3, 5, 6, 7, 8, 9, 10, 6, 1, 2, 3, 4, 5, 6, 7, 8, 9, 10, 2, 3, 4, 5, 6, 9, 10, 1, 2, 3, 5, 7, 9, 1, 2, 4, 5, 6, 8, 9, 10, 1, 7, 3, 4, 6, 7, 9, 10, 3, 5, 2, 5, 6, 3, 6, 7, 8, 9, 10, 2, 3, 6, 7, 8, 9, 10, 2, 3, 4, 5, 6, 9, 4, 1, 5, 9, 4, 1, 2, 7, 1, 2, 3, 4, 5, 6, 7, 8, 9, 2, 1, 3, 5, 6, 7, 8, 10, 1, 2, 3, 1, 2, 3, 4, 7, 10, 5, 6, 7, 8, 9, 10, 1, 4, 5, 6, 7, 8, 9, 10, 3, 9, 8, 9, 5, 3, 9, 3, 4, 5, 6, 7, 8, 9, 1, 2, 4, 6, 7, 10, 1, 3, 5, 6, 9, 10, 5, 1, 10, 2, 3, 4, 6, 7, 1, 4, 5, 6, 7, 8, 9, 10, 3, 5, 7, 8, 9, 2, 6, 2, 3, 5, 6, 8, 9, 1, 9, 2, 3, 5, 6, 7, 4, 8, 9, 7, 8, 2, 3, 5, 6, 2, 3, 6, 10, 2, 3, 9, 2, 5, 6, 7, 8, 9, 1, 3, 2, 8, 3, 4, 5, 8, 2, 1, 2, 6, 7, 1, 3, 7, 2, 5, 8, 2, 5, 9, 9, 2, 4, 5, 7, 8, 9, 7, 9, 10, 1, 2, 4, 5, 6, 8, 9, 2, 4, 5, 7, 8, 9, 5, 1, 3, 4, 2, 3, 7, 10, 3, 4, 6, 8, 6, 7, 8, 9, 10, 6, 3, 6, 9, 10, 2, 4, 6, 1, 2, 7, 8, 2, 1, 7, 8, 10, 2, 3, 4, 5, 6, 7, 8, 9, 2, 3, 6, 7, 9, 10, 1, 2, 3, 5, 6, 7, 9, 1, 4, 8, 9, 10, 1, 2, 6, 7, 9, 10, 7, 8, 10, 1, 4, 6, 7, 8, 9, 10, 6, 1, 1, 2, 3, 4, 10, 2, 9, 5, 4, 1, 4, 1, 3, 4, 7, 10, 1, 5, 2, 8, 2, 4, 1, 3, 7, 1, 2, 3, 5, 6, 8, 9, 2, 3, 6, 2, 1, 5, 6, 7, 9, 1, 6, 9, 3, 1, 6, 7, 8, 9, 10, 1, 10, 1, 2, 7, 7, 8, 5, 7, 8, 9, 5, 6, 7, 8, 6, 9, 10, 7, 10, 1, 2, 3, 4, 10, 3, 1, 1, 2, 8, 3, 1, 7, 8, 10, 1, 2, 9, 5, 8, 8, 2, 1, 1, 7, 4, 5, 2, 1, 2, 9, 10, 3, 3, 1, 4, 5, 8, 1, 2, 7, 9, 1, 2, 3, 5, 8, 1, 2, 4, 5, 6, 7, 8, 10, 2, 6, 8, 9, 9, 1, 7, 2, 3, 8, 10, 1, 3, 6, 7, 8, 9, 10, 2, 3, 6, 9, 1, 9, 1, 1, 3, 5, 6, 8, 2, 3, 7, 9, 10, 1, 2, 3, 9, 10, 1, 4, 7, 3, 10, 2, 3, 5, 6, 8, 9, 10, 1, 1, 2, 3, 3, 4, 5, 6, 10, 6, 10, 1, 7, 9, 1, 2, 5, 6, 7, 9, 10, 2, 7, 2, 5, 6, 8, 9, 10, 7, 9, 10, 1, 5, 6, 9, 10, 1, 4, 6, 8, 9, 10, 6, 7, 8, 9, 10, 6, 1, 3, 4, 5, 6, 7, 8, 9, 10, 1, 2, 3, 5, 7, 8, 9, 10, 2, 5, 2, 2, 3, 5, 2, 2, 3, 10, 2, 1, 2, 9, 2, 2, 9, 10, 1, 1, 2, 1, 1, 2, 3, 4, 5, 6, 7, 8, 9, 2, 7, 7, 9, 9, 1, 7, 8, 9, 10, 4, 1, 8, 9, 10, 2, 3, 5, 2, 8, 7, 9, 10, 1, 3, 5, 2, 7, 8, 9, 10, 5, 6, 7, 2, 5, 10, 2, 6, 7, 9, 10, 1, 6, 7, 8, 9, 10, 5, 8, 9, 4, 2, 3, 4, 1, 4, 5, 6, 7, 10, 6, 10, 3, 10, 5, 8, 2, 3, 6, 10, 1, 2, 3, 5, 6, 10, 6, 2, 4, 8, 10, 1, 2, 3, 4, 5, 7, 1, 6, 7, 1, 7, 9, 5, 9, 2, 3, 5, 3, 8, 1, 4, 5, 9, 2, 8, 5, 10, 2, 5, 6, 7, 8, 9, 10, 3, 9, 3, 5, 2, 3, 3, 5, 6, 9, 2, 9, 1, 2, 4, 6, 7, 9, 6, 1, 3, 4, 7, 9, 2, 1, 7, 9, 1, 2, 5, 6, 7, 8, 9, 10, 4, 1, 2, 3, 6, 8, 9, 10, 4, 1, 3, 5, 9, 6, 9, 10, 1, 2, 7, 4, 5, 2, 9, 2, 6, 8, 9, 10, 2, 3, 5, 6, 2, 3, 4, 5, 8, 1, 4, 7, 3, 6, 7, 8, 9, 10, 4, 6, 2, 6, 5, 5, 4, 8, 9, 5, 1, 2, 3, 5, 6, 7, 1, 2, 6, 7, 9, 10, 6, 5, 1, 2, 3, 4, 6, 7, 8, 9, 6, 7, 1, 3, 5, 6, 7, 9, 10, 2, 2, 3, 5, 6, 7, 8, 9, 10, 3, 6, 8, 1, 1, 5, 7, 8, 9, 10, 1, 2, 3, 4, 7, 1, 3, 7, 8, 9, 10, 5, 1, 4, 1, 3, 10, 2, 4, 5, 7, 8, 2, 3, 6, 7, 9, 10, 1, 3, 5, 6, 9, 5, 6, 7, 9, 10, 4, 4, 8, 1, 4, 5, 6, 3, 4, 5, 8, 9, 1, 2, 3, 7, 3, 1, 6, 5, 1, 2, 4, 5, 7, 9, 2, 8, 7, 9, 10, 1, 4, 4, 1, 2, 3, 4, 7, 8, 9, 2, 3, 4, 6, 7, 8, 9, 10, 2, 9, 1, 2, 3, 6, 7, 8, 9, 4, 6, 7, 8, 10, 1, 3, 5, 6, 8, 9, 10, 5, 8, 10, 6, 9, 6, 7, 1, 8, 2, 3, 4, 6, 10, 1, 2, 3, 4, 7, 10, 1, 7, 1, 7, 10, 1, 7, 6, 7, 9, 10, 2, 8, 9, 10, 1, 6, 7, 5, 4, 2, 5, 7, 8, 9, 1, 1, 6, 8, 10, 3, 2, 1, 3, 7, 2, 3, 7, 9, 2, 4, 2, 5, 7, 8, 1, 2, 3, 4, 6, 7, 8, 9, 10, 3, 2, 3, 5, 2, 3, 9, 2, 3, 4, 5, 6, 8, 9, 10, 1, 2, 6, 7, 9, 10, 4, 9, 2, 3, 4, 5, 10, 3, 7, 10, 1, 2, 3, 8, 2, 3, 5, 1, 2, 3, 4, 6, 7, 8, 9, 10, 6, 8, 9, 10, 2, 6, 9, 7, 8, 6, 1, 1, 9, 4, 8, 9, 3, 4, 6, 7, 8, 9, 2, 3, 4, 5, 9, 3, 3, 5, 9, 3, 3, 9, 1, 5, 4, 5, 7, 3, 7, 8, 2, 5, 8, 3, 4, 7, 1, 1, 3, 5, 6, 9, 5, 6, 7, 1, 8, 9, 10, 9, 1, 2, 3, 9, 1, 3, 5, 7, 8, 9, 10, 6, 7, 10, 2, 3, 2, 3, 5, 9, 1, 6, 7, 10, 2, 3, 1, 2, 3, 5, 7, 8, 9, 10, 1, 6, 9, 2, 10, 1, 1, 2, 10, 1, 2, 3, 6, 7, 8, 9, 10, 5, 1, 8, 5, 1, 2, 2, 3, 4, 5, 6, 2, 3, 5, 9, 2, 3, 5, 6, 9, 10, 5, 6, 9, 10, 5, 7, 8, 1, 2, 7, 9, 10, 3, 6, 7, 8, 9, 2, 6, 7, 8, 9, 10, 1, 2, 3, 4, 5, 6, 7, 9, 5, 1, 6, 9, 1, 2, 3, 4, 6, 7, 9, 10, 1, 2, 3, 5, 6, 7, 8, 9, 10, 1, 2, 7, 9, 10, 3, 4, 5, 6, 7, 9, 10, 2, 6, 2, 3, 5, 6, 7, 9, 10, 1, 1, 2, 10, 7, 9, 10, 1, 2, 3, 4, 5, 10, 5, 8, 2, 2, 5, 5, 7, 8, 10, 1, 9, 8, 1, 2, 6, 7, 8, 9, 10, 1, 5, 6, 7, 8, 9, 10, 1, 2, 3, 5, 7, 9, 10, 8, 1, 3, 4, 7, 8, 10, 6, 8, 3, 6, 10, 1, 2, 3, 6, 2, 2, 4, 5, 7, 8, 9, 10, 3, 5, 6, 7, 9, 10, 4, 5, 6, 9, 10, 2, 6, 7, 10, 1, 2, 6, 7, 8, 9, 10, 1, 2, 3, 6, 8, 9, 5, 9, 3, 7, 4, 1, 2, 4, 7, 9, 4, 2, 3, 4, 5, 6, 7, 8, 9, 10, 5, 2, 4, 5, 9, 5, 5, 7, 7, 9, 10, 7, 9, 10, 4, 5, 6, 7, 10, 1, 3, 4, 5, 6, 8, 10, 2, 3, 2, 5, 6, 9, 10, 2, 5, 9, 6, 5, 7, 9, 10, 1, 2, 7, 8, 9, 3, 9, 3, 2, 3, 8, 3, 8, 10, 4, 10, 6, 4, 9, 1, 2, 3, 5, 6, 9, 10, 1, 3, 7, 1, 1, 2, 6, 7, 2, 3, 5, 8, 10, 4, 3, 5, 10, 6, 10, 4, 5, 6, 8, 9, 1, 2, 3, 3, 9, 2, 3, 5, 8, 9, 1, 3, 6, 7, 8, 1, 2, 3, 4, 5, 6, 9, 2, 3, 5, 6, 8, 1, 2, 3, 4, 5, 7, 9, 1, 2, 6, 8, 9, 4, 1, 7, 4, 7, 10, 1, 1, 3, 6, 7, 8, 9, 10, 1, 3, 6, 7, 9, 10, 2, 1, 2, 4, 5, 6, 7, 8, 1, 5, 8, 9, 7], \"Freq\": [0.1455404761948954, 0.02760250410592844, 0.09786342364829173, 0.3588325533770697, 0.12295660919913577, 0.07527955665253211, 0.17063366174573943, 0.7502970978973723, 0.1506387995778508, 0.026072099926935717, 0.060834899829516675, 0.00869069997564524, 0.12772409834270407, 0.7557009151943324, 0.046122591068198694, 0.017739458103153343, 0.04967048268882936, 0.9840585897307785, 0.9871465238062117, 0.9861272668122646, 0.08657934266967264, 0.3116856336108215, 0.11774790603075479, 0.1870113801664929, 0.294369765076887, 0.27776401896784864, 0.03229814174044751, 0.6847206048974873, 0.5922384530819207, 0.1713261239272699, 0.1163325532839487, 0.02538164798922517, 0.04864815864601491, 0.0274967853216606, 0.010575686662177154, 0.006345411997306293, 0.9771389536997647, 0.10687428896341009, 0.8855298228396836, 0.9514752292805998, 0.26900678502008146, 0.7173514267202172, 0.04347394480939915, 0.18355665586190753, 0.23830162339966943, 0.16101461040518206, 0.3284698052265714, 0.03542321428914005, 0.008050730520259102, 0.9307460975173799, 0.07365027816787642, 0.8935307332442365, 0.026402929909238714, 0.006948139449799662, 0.9957946671166074, 0.3497725957474981, 0.6121020425581216, 0.996561058526483, 0.9241654740015287, 0.067953343676583, 0.9902324356144155, 0.9938419504884187, 0.7366884348135162, 0.25202499085725555, 0.01077029875458357, 0.9708970145753134, 0.025023118932353438, 0.09979385023857248, 0.30769770490226517, 0.016632308373095414, 0.5738146388717918, 0.30836291376159614, 0.6852509194702137, 0.6931792527560154, 0.30636811418105375, 0.9599598301332736, 0.039243640854504894, 0.9911641041545477, 0.9725019669369638, 0.2278536642501628, 0.07894142698430837, 0.03947071349215418, 0.01973535674607709, 0.10944152377370024, 0.34088343470496796, 0.046647206854364034, 0.0484413301949165, 0.08791204368707069, 0.9864060467629694, 0.953385799650543, 0.013472004241568605, 0.40921212883764635, 0.40921212883764635, 0.14314004506666642, 0.008420002650980378, 0.016840005301960757, 0.7491378072477951, 0.08175446003372373, 0.168514295171553, 0.30749067420121456, 0.6918540169527327, 0.9694598631010075, 0.09445215175798902, 0.26882535500350724, 0.5994078861564688, 0.03632775067614962, 0.00553832121641939, 0.7365967217837788, 0.19937956379109803, 0.029537713154236745, 0.027691606082096948, 0.9856464114500046, 0.013116967452756716, 0.05532570348232056, 0.06494756495750675, 0.11546233770223421, 0.5099586581848679, 0.07697489180148948, 0.10824594159584458, 0.06975849569509984, 0.9975665949758256, 0.9313089289521265, 0.05731131870474624, 0.9867005374526251, 0.13290743661492388, 0.06733976788489476, 0.015948892393790864, 0.4979598625172481, 0.015948892393790864, 0.14885632900871473, 0.04961877633623824, 0.07088396619462606, 0.9616413985099265, 0.2832893936592382, 0.15434387654537807, 0.07619507829455373, 0.009768599781353042, 0.17778851602062534, 0.06838019846947128, 0.03125951930032973, 0.03907439912541217, 0.15825131645791926, 0.012270202438994272, 0.08238564494753298, 0.04206926550512322, 0.6818726783955389, 0.04557503763055016, 0.008764430313567337, 0.09115007526110032, 0.03681060731698282, 0.9943026497702455, 0.9117592229231224, 0.06312179235621616, 0.024547363694084067, 0.9738764896251496, 0.9923175631950261, 0.10098181583145516, 0.06635947897495625, 0.8078545266516413, 0.011540778952166304, 0.008655584214124728, 0.9931118847349674, 0.9197474735642174, 0.06637352902009816, 0.08318380114688084, 0.8928394656431877, 0.02218234697250156, 0.9807996598583868, 0.0957179475641874, 0.8209221620505014, 0.06981779704681905, 0.01351312200906175, 0.10900732471633458, 0.261617579319203, 0.05450366235816729, 0.5668380885249398, 0.13281718258401415, 0.11972253077995641, 0.028059968151552282, 0.04115461995561002, 0.056119936303104564, 0.2506690488205337, 0.22635040975585508, 0.03554262632529956, 0.10288654988902504, 0.007482658173747276, 0.9925811966377305, 0.9848817729572242, 0.44013797334349375, 0.08903554422597393, 0.05543722565013471, 0.053757309721342746, 0.3326233539008082, 0.011759411501543726, 0.01679915928791961, 0.9911077584269891, 0.9475517509612138, 0.04941220787221053, 0.9864873812006436, 0.06918998099921199, 0.927959745165902, 0.13976154425210122, 0.06289269491344555, 0.796640802236977, 0.996660778311825, 0.801616423515974, 0.05040103261627381, 0.1464029995044144, 0.9825977766104779, 0.9916987907814009, 0.00875967390506393, 0.9810834773671603, 0.9978765587864451, 0.03395458984599078, 0.0292711981430955, 0.16743125337850626, 0.4519472993293945, 0.16157701374988714, 0.06908002761770538, 0.08664274650356267, 0.9950914911009526, 0.3077820514560725, 0.465488557160837, 0.04832941303855685, 0.015261919906912688, 0.162793812340402, 0.7618846145526317, 0.016993708874779887, 0.07080712031158287, 0.1132913924985326, 0.019825993687243203, 0.01132913924985326, 0.008496854437389944, 0.9972089307711962, 0.9980063062432475, 0.1303889925569319, 0.2708079076182432, 0.5917654277583833, 0.9983756797788333, 0.9950252188868443, 0.10881290718216834, 0.09835012764542138, 0.7135615644061424, 0.05440645359108417, 0.025110670888192695, 0.9949139665231409, 0.9824825822446858, 0.956808369386482, 0.03680032189948008, 0.9237383717718408, 0.06806493265687248, 0.9948618389794809, 0.047796280165221576, 0.11845165084424476, 0.7252565990287969, 0.0852020646423515, 0.014546693963328305, 0.010390495688091646, 0.8592757585007305, 0.12202732665099131, 0.015253415831373913, 0.020956127047032362, 0.14830489910207517, 0.046748283412610656, 0.01612009772848643, 0.7608686127845596, 0.0064480390913945725, 0.9931614651017967, 0.9695377605490085, 0.13458570897301686, 0.8075142538381012, 0.14044963945411446, 0.27605618789256975, 0.08233254726620502, 0.45040746445629803, 0.048430910156591185, 0.9961166059433043, 0.5155833828332688, 0.06985323251289448, 0.1430328094311649, 0.17296990907954823, 0.08315861013439818, 0.014968549824191674, 0.984686478130497, 0.04166618783748102, 0.424674606805095, 0.017628002546626585, 0.09615274116341774, 0.34294477681618996, 0.06249928175622153, 0.012820365488455698, 0.9916499649410547, 0.9865398085251208, 0.278959946211251, 0.4953943872372216, 0.22124409527099217, 0.4709312719199143, 0.4662219592007152, 0.06279083625598858, 0.778424162416676, 0.1960915828988573, 0.02376867671501301, 0.31482381579156926, 0.022487415413683518, 0.652135046996822, 0.950775296936971, 0.9665418904670543, 0.01231648279312841, 0.5222188704286446, 0.12070153137265842, 0.3448615182075955, 0.15638873798116362, 0.06728352680584947, 0.5455421092366173, 0.21639836999719153, 0.014547789579643127, 0.07925306081826979, 0.03467321410799303, 0.7925306081826978, 0.08420637711941165, 0.05772020819005604, 0.12045956491837784, 0.07528722807398615, 0.6901329240115397, 0.05772020819005604, 0.353959730724959, 0.21608006817512032, 0.016463243289532976, 0.14816918960579678, 0.2634118926325276, 0.008199123499230212, 0.4284042028347786, 0.10248904374037765, 0.42430464108516347, 0.0348462748717284, 0.9789536757841287, 0.02940400367292191, 0.054284314473086605, 0.2058280257104534, 0.19678063996493894, 0.2985637296019763, 0.056546160909465217, 0.1583292505465026, 0.020756402340272605, 0.058809806630772385, 0.7679868865900864, 0.008648500975113585, 0.01210790136515902, 0.1107008124814539, 0.019026702145249888, 0.253138788160461, 0.2025110305283688, 0.036162684022923004, 0.018081342011461502, 0.48457996590716823, 0.2136158474327837, 0.23004783569684398, 0.5422556127139894, 0.04269909752103766, 0.022277790010976174, 0.6293475678100768, 0.027847237513720216, 0.06126392253018447, 0.1373797050676864, 0.0779722650384166, 0.974242327438228, 0.06164617175722191, 0.04755561821271405, 0.19550643043004665, 0.06340749095028539, 0.2201648991329354, 0.06340749095028539, 0.036987703054333146, 0.23425545267744327, 0.012329234351444382, 0.06516881014334888, 0.06480468485707894, 0.14358685076176314, 0.030496322285684208, 0.6124678059041578, 0.07115808533326315, 0.0635340047618421, 0.01270680095236842, 0.03504202729438188, 0.10804625082434414, 0.1810504743543064, 0.1839706432955049, 0.3913026381205977, 0.09928574400074867, 0.054575388054296105, 0.12174509642881438, 0.14483468368255506, 0.30646179445873967, 0.020990533867036965, 0.14693373706925875, 0.044080121120777624, 0.16162711077618463, 0.2296720934874704, 0.7655736449582347, 0.0751296298452362, 0.3599233429795037, 0.45427218045956774, 0.04717441874003204, 0.03144961249335469, 0.029702411799279432, 0.9787157776082677, 0.02237064634533183, 0.07274355916423028, 0.03637177958211514, 0.8850466364981351, 0.07766054794522177, 0.2302080528376217, 0.061019001956959966, 0.40217069471632705, 0.15809468688848718, 0.0721133659491345, 0.049279644751864214, 0.16755079215633834, 0.49279644751864216, 0.08673217476328102, 0.011827114740447411, 0.08870336055335559, 0.10447284687395214, 0.21879295568868995, 0.13492232267469212, 0.17868091381243012, 0.4321160874851626, 0.01823274630739083, 0.016409471676651747, 0.9948743936560761, 0.15346106283335145, 0.8056705798750952, 0.03836526570833786, 0.99373844105573, 0.47223800692329276, 0.4401932850249265, 0.0860147798324569, 0.07529476865148622, 0.14716704781881398, 0.020534936904950788, 0.4979722199450566, 0.0581823212306939, 0.03080240535742618, 0.04449236329406004, 0.07016103442524853, 0.05475983174653543, 0.9978932032490979, 0.39652116322491854, 0.6023345288988048, 0.4760354107591326, 0.30026848986345284, 0.08788346044783986, 0.0268532795812844, 0.1074131183251376, 0.7474134247176232, 0.1006994135098594, 0.14993023789245735, 0.7883326132578952, 0.14308776884475494, 0.06749423058714855, 0.9829854047959946, 0.7209835245380224, 0.2621758271047354, 0.044907180903124545, 0.3760976400636681, 0.13846380778463402, 0.016840192838671705, 0.3517729170744756, 0.0711030364299472, 0.3324465229037277, 0.44422985156567985, 0.01742077849277176, 0.058069261642572534, 0.05661753010150822, 0.023227704657029013, 0.04935887239618665, 0.01887251003383607, 0.13035495657550028, 0.8473072177407519, 0.16098425840909328, 0.8250443243466031, 0.9919714538854082, 0.1530664462298696, 0.8359782832554417, 0.009869615699510755, 0.444132706477984, 0.16531606296680515, 0.09376134914535217, 0.022206635323899198, 0.2541426042624019, 0.012337019624388443, 0.24769772796981326, 0.28308311767978656, 0.4212002839671018, 0.038809782262551384, 0.004565856736770751, 0.0034243925525780632, 0.23860273114663474, 0.1880750939626415, 0.29895518667195997, 0.24842754948796675, 0.009824818341332019, 0.016842545727997746, 0.9822969942203434, 0.2811502136834416, 0.6747605128402598, 0.011728708766161455, 0.00781913917744097, 0.8757435878733886, 0.05864354383080727, 0.043005265475925335, 0.06181637543612817, 0.011447476932616328, 0.3251083448863037, 0.10073779700702369, 0.4143986649607111, 0.022894953865232655, 0.013736972319139593, 0.043500412343942044, 0.39612218669017196, 0.5196441588838815, 0.027685959284796967, 0.027685959284796967, 0.027685959284796967, 0.7491084155793418, 0.25006364739715026, 0.5477358713744428, 0.3598097565095712, 0.019480146053065958, 0.0458356377719199, 0.005729454721489988, 0.019480146053065958, 0.24762708179689963, 0.7428812453906989, 0.14023262855498536, 0.5802125006462518, 0.029799433567934387, 0.2383954685434751, 0.008764539284686585, 0.16465220974337746, 0.8186010805166031, 0.017086550067708983, 0.6423050140896825, 0.3503481895034632, 0.13274552768516087, 0.7756503382387832, 0.05726277664850077, 0.031234241808273146, 0.030078954992318767, 0.03702025229823848, 0.9255063074559621, 0.006941297305919715, 0.08787941393338568, 0.8994716484946534, 0.012923443225497894, 0.025851675198808027, 0.086955634759627, 0.608689443317389, 0.014100913744804378, 0.023501522908007298, 0.23971553366167445, 0.9903120370680025, 0.9932665664956735, 0.08092455321435847, 0.8901700853579432, 0.8167982975230121, 0.08816235592311877, 0.051860209366540455, 0.041488167493232364, 0.9936205705763228, 0.8449735188014338, 0.09940864927075692, 0.030587276698694436, 0.022940457524020828, 0.07296931850849411, 0.21890795552548234, 0.6932085258306941, 0.8018509703125829, 0.17414591575670357, 0.022093138566148963, 0.8986115786527059, 0.06807663474641712, 0.029953719288423532, 0.9852684266286967, 0.020843249564273206, 0.851595625054591, 0.08635060533770328, 0.01191042832244183, 0.014888035403052289, 0.01191042832244183, 0.777777495589059, 0.07201643477676473, 0.14403286955352945, 0.09517516401134972, 0.0014205248359902944, 0.44462427366496216, 0.1747245548268062, 0.0781288659794662, 0.19035032802269944, 0.015625773195893238, 0.04459059910904499, 0.01836083492725382, 0.7764010197810186, 0.07344333970901527, 0.07344333970901527, 0.013114882090895586, 0.9931521730307239, 0.08443067993004258, 0.9088714368939879, 0.9983913693730326, 0.14299387865651017, 0.17363542408290522, 0.5924032115769707, 0.0817107878037201, 0.03935846537131435, 0.18203290234232886, 0.7527306502263869, 0.02459904085707147, 0.006798188091010878, 0.3603039688235765, 0.5925753952664482, 0.01926153292453082, 0.021527595621534446, 0.9495118134829322, 0.2813908351786002, 0.18351576207300013, 0.11010945724380009, 0.42208625276790035, 0.11225869122722623, 0.870436621208031, 0.017270567881111726, 0.1736392564040346, 0.01446993803366955, 0.6149723664309559, 0.19534416345453892, 0.9978983794534378, 0.09222278918299727, 0.009606540539895549, 0.6052120540134196, 0.2920388324128247, 0.3037315826599108, 0.09061605228527725, 0.05537647639655832, 0.028527275719439135, 0.41784068553766734, 0.040273801015678776, 0.01845882546551944, 0.045308026142638624, 0.318301139956278, 0.1791761383859843, 0.14334091070878746, 0.2951136396945624, 0.04215909138493749, 0.023187500261715618, 0.6203058594926449, 0.07345727283465532, 0.06529535363080474, 0.05713343442695414, 0.1489550254702733, 0.024485757611551775, 0.012242878805775887, 0.7889252259355567, 0.10003662807252016, 0.03410339593381369, 0.00909423891568365, 0.06820679186762738, 0.6662266530909009, 0.0075067791897566296, 0.19517625893367238, 0.11072499304891029, 0.013136863582074101, 0.0075067791897566296, 0.1331621060872593, 0.28296947543542605, 0.5659389508708521, 0.7542876267083891, 0.04914621930394603, 0.03846225858569689, 0.03205188215474741, 0.04914621930394603, 0.047009427160296206, 0.027778297867447756, 0.9795912217854141, 0.987077837900203, 0.01666646474964905, 0.05666598014880676, 0.013333171799719238, 0.8999890964810486, 0.013333171799719238, 0.9942918197858035, 0.9280229465171849, 0.9859422874123411, 0.9889935657494732, 0.013614458919519986, 0.9847791951786122, 0.2827070905859284, 0.012981448037108958, 0.6707081485839628, 0.020193363613280602, 0.014423831152343287, 0.909336874561192, 0.08660351186297068, 0.14004062044452323, 0.8402437226671394, 0.011992114489905007, 0.9713612736823056, 0.5162664396812838, 0.050256025101717894, 0.42946057814195293, 0.07593604946214119, 0.06328004121845099, 0.12656008243690198, 0.5695203709660589, 0.10124806594952158, 0.027843218136118435, 0.03543682308233255, 0.987250811912663, 0.010230578361789254, 0.9903344658869012, 0.9883885512073012, 0.26946588624977275, 0.12098468362234695, 0.5416814244000534, 0.013748259502539426, 0.0549930380101577, 0.05823965086897171, 0.8541815460782518, 0.07765286782529561, 0.9976777523385408, 0.7553336581403859, 0.030098684669730747, 0.10606203169333692, 0.034398496765406565, 0.0616306400380201, 0.010032894889910248, 0.4084790190232794, 0.5446386920310392, 0.991106168856308, 0.31991883468082005, 0.6398376693616401, 0.03345245964272451, 0.9533950998176485, 0.0926129598382078, 0.7320833968163093, 0.14553465117432654, 0.026460845668059372, 0.5719819202020879, 0.03188749380917564, 0.37069211553166675, 0.023915620356881728, 0.06155348781321465, 0.03314418574557712, 0.9043627824864614, 0.05066949501158292, 0.937385657714284, 0.048560198084394844, 0.017481671310382144, 0.1262565150194266, 0.7963872485840755, 0.011654447540254763, 0.9926004144436542, 0.9873183953194581, 0.051405555678321585, 0.9041330086951855, 0.03931013081283415, 0.9862768684574942, 0.3179291457159383, 0.10367254751606683, 0.05529202534190231, 0.5183627375803341, 0.99401387305738, 0.15269469046715742, 0.7634734523357871, 0.9536621087482983, 0.03667931187493455, 0.9960846948436086, 0.991848332691828, 0.99383151787064, 0.8818731059028105, 0.11398359872213197, 0.9953643020157412, 0.9757889580500342, 0.9909752343788917, 0.3567622193277161, 0.08394405160652145, 0.5036643096391287, 0.048967363437137514, 0.9944731920240282, 0.9921108704881759, 0.20287358082921272, 0.09721025748066443, 0.0803041257448967, 0.6170738083555221, 0.09762327290326918, 0.0650821819355128, 0.6833629103228843, 0.09762327290326918, 0.04318948763267388, 0.05758598351023183, 0.3293198431991383, 0.5308707854849497, 0.03779080167858964, 0.189465978769081, 0.006315532625636034, 0.372616424912526, 0.03157766312818017, 0.052629438546966945, 0.24420059485792664, 0.052629438546966945, 0.04841908346320959, 0.0417624726091624, 0.03340997808732992, 0.730843270660342, 0.19210737400214703, 0.9711738250194577, 0.9546757295248266, 0.03944941031094325, 0.10585422115440658, 0.10585422115440658, 0.13609828434137988, 0.6502473585199261, 0.21974255848279078, 0.033294327042847086, 0.49109132388199456, 0.008323581760711771, 0.15481862074923897, 0.07324751949426359, 0.018311879873565896, 0.4534257167695314, 0.03886506143738841, 0.4737836060938777, 0.033312909803475774, 0.12116749597543232, 0.8481724718280262, 0.9908858127725564, 0.19740410338365594, 0.6852200127067287, 0.024675512922956992, 0.024675512922956992, 0.06643407325411498, 0.058016928132750285, 0.17405078439825086, 0.03867795208850019, 0.23206771253100114, 0.5028133771505024, 0.8229881124071072, 0.12569272989490365, 0.02693415640605078, 0.011970736180467014, 0.00897805213535026, 0.03204408628101434, 0.929278502149416, 0.035604540312238156, 0.4133391005207595, 0.5405203622194548, 0.3211490713070886, 0.14102633131311282, 0.012566702790277379, 0.46496800324026305, 0.026529705890585578, 0.02932230651064722, 0.0055852012401232795, 0.9906137513287785, 0.9578860653953012, 0.022806811080840504, 0.015204540720560336, 0.023356032973015892, 0.056930330371726234, 0.8568744596975205, 0.04963157006765877, 0.011678016486507946, 0.4962438479065882, 0.4962438479065882, 0.06348182365760809, 0.8252637075489051, 0.08464243154347745, 0.20802999331359792, 0.06375112698319936, 0.1409235438575986, 0.14763418880319853, 0.3590195045895964, 0.0603958045103994, 0.0201319348367998, 0.07664367404249837, 0.9043953537014808, 0.04270797111581911, 0.11688497358013651, 0.27647791827609214, 0.01348672772078498, 0.2719823423691638, 0.2787257062295563, 0.3569414012698363, 0.04079330300226701, 0.5915028935328717, 0.13956339819968996, 0.13101870035072935, 0.6294594082067649, 0.051268187093763656, 0.048419954477443454, 0.03961803678306883, 0.05942705517460324, 0.48532095059259317, 0.1510437652354499, 0.10647347385449747, 0.1584721471322753, 0.014523531189184214, 0.053944544416969935, 0.8963093533896543, 0.010373950849417295, 0.02282269186871805, 0.888622457323091, 0.05340228420935528, 0.09345399736637174, 0.13795590087416781, 0.15798175745267604, 0.14685628157572703, 0.09567909254176155, 0.017800761403118426, 0.22250951753898032, 0.07565323596325331, 0.6117972557961708, 0.0982448147993851, 0.07814928449951088, 0.03125971379980435, 0.055820917499650624, 0.055820917499650624, 0.02232836699986025, 0.04688957069970652, 0.9891392981415199, 0.009062794616479894, 0.9950663565771687, 0.8684353956296205, 0.09709215603312527, 0.03506105634529524, 0.996407828467184, 0.024383898236848382, 0.950972031237087, 0.01828792367763629, 0.9982186337120121, 0.03263508495224694, 0.9382586923770996, 0.02651600652370064, 0.9986730441847111, 0.9995785106627306, 0.08581818033830757, 0.9010908935522295, 0.9970871252120097, 0.9972883022545925, 0.9929574229106103, 0.9880927634271066, 0.035492920051901654, 0.12515924439354795, 0.15317997075031242, 0.22229776243033142, 0.12515924439354795, 0.026152677932980168, 0.020548532661627275, 0.26526287617737027, 0.026152677932980168, 0.12855838883007575, 0.8142031292571464, 0.7697549837027163, 0.2099331773734681, 0.9656841451682273, 0.29609096124822426, 0.5562921090118153, 0.022431133427895777, 0.08972453371158311, 0.03140358679905409, 0.9846970149981293, 0.9894619973098564, 0.27297502488791514, 0.12132223328351785, 0.5762806080967098, 0.32122258258925845, 0.2698856401663176, 0.4077619998165016, 0.26578314190094604, 0.7235207751747976, 0.06490413571483308, 0.1514429833346105, 0.7819403017072747, 0.31583962605082366, 0.6478072330063702, 0.036287957035626546, 0.07711153111212711, 0.48639581163034024, 0.0889748435909159, 0.053384906154549536, 0.29065115573032524, 0.8395403573024232, 0.09263893597819842, 0.06368926848501141, 0.94046416443247, 0.03835498223623451, 0.019944590762841944, 0.9987141117148362, 0.5874892825878331, 0.015986102927560083, 0.29973942989175156, 0.0959166175653605, 0.16374801089078597, 0.014555378745847643, 0.32749602178157194, 0.0363884468646191, 0.054582670296928655, 0.4002729155108102, 0.038676360137326976, 0.023205816082396188, 0.9359679153233129, 0.9954212081956274, 0.011845136175212559, 0.9831463025426425, 0.9955827516519182, 0.7719338979450384, 0.008673414583652117, 0.03035695104278241, 0.017346829167304234, 0.15901260070028883, 0.011564552778202824, 0.3719261801071358, 0.584455425882642, 0.9790926678386834, 0.018590367110861077, 0.17075551816196333, 0.8110887112693258, 0.03769156788754332, 0.8836578693635155, 0.058631327825067386, 0.01675180795001925, 0.11689252007458134, 0.0637595564043171, 0.0850127418724228, 0.015939889101079276, 0.6694753422453296, 0.04781966730323783, 0.9882097222036698, 0.09339467327006433, 0.8839138720202517, 0.02001314427215664, 0.9638518605141128, 0.15988085222238652, 0.041873556534434565, 0.10468389133608641, 0.19414103484146936, 0.48344924362483543, 0.015226747830703479, 0.88907082234056, 0.053441415550525465, 0.053441415550525465, 0.9522123412966771, 0.02415031300390123, 0.0207002682890582, 0.9204178816177203, 0.07513615360144656, 0.15454079462923456, 0.8289006257386218, 0.014049163148112234, 0.9947980088837719, 0.978298303161002, 0.13476033741900614, 0.6969636200889224, 0.145288488779866, 0.02105630272171971, 0.05297110413669297, 0.9005087703237804, 0.9372478350731911, 0.046862391753659555, 0.13638826772936008, 0.03800984510490363, 0.10732191559031612, 0.07154794372687741, 0.10285016910738629, 0.013415239448789515, 0.5321378314686508, 0.9901154070047322, 0.9550347095230082, 0.9732640480242828, 0.025444811713053146, 0.015382333632878087, 0.9844693525041975, 0.9951551931311154, 0.9447252894617629, 0.9039903980808948, 0.06306909754052754, 0.9783454679445635, 0.017627846269271413, 0.5570663067813102, 0.14705166483357568, 0.06228070510598499, 0.015570176276496248, 0.19376219366306444, 0.02249025462160569, 0.9626617268138518, 0.7641338514845992, 0.07012620788940942, 0.04594475689306134, 0.09672580398539231, 0.024181450996348077, 0.9908540358381941, 0.30554345965447344, 0.057892444987163394, 0.6368168948587973, 0.033832421508398026, 0.09938273818091921, 0.052863158606871914, 0.2177962134603123, 0.3679275839038285, 0.05074863226259704, 0.09726821183664433, 0.0803520010824453, 0.9873544919554756, 0.0667986112489039, 0.6426487082222135, 0.1566312263767402, 0.04376460736997153, 0.011517001939466191, 0.06104011027917081, 0.01612380271525267, 0.9920118477242365, 0.9365264360976583, 0.006285412322803076, 0.050283298582424606, 0.9874725231649101, 0.0758181680370295, 0.9098180164443539, 0.9761387891955345, 0.20144920247616038, 0.13429946831744025, 0.6379224745078412, 0.9949739360971092, 0.9668342035413348, 0.2560892704637253, 0.7362566525832103, 0.05364451614137596, 0.4944624966074654, 0.17259539975920962, 0.12128325388485, 0.15393643762307885, 0.10531819032831768, 0.5562116926714278, 0.07405185257459837, 0.2649410725446742, 0.08984211283040731, 0.029431036961685156, 0.04492105641520366, 0.21995827623996275, 0.6165027742500364, 0.8749998366141148, 0.07421873614137582, 0.04687499124718473, 0.08393475989065786, 0.19839125065064586, 0.5799128865172726, 0.038152163586662666, 0.07630432717332533, 0.030521730869330136, 0.06406859481664062, 0.931458801565006, 0.9987296444262216, 0.9555946416030598, 0.9718907517388533, 0.9823340802308851, 0.9954770872228068, 0.990725960011231, 0.007076614000080222, 0.992740187738972, 0.06989725557110864, 0.6215188400782362, 0.17379858142005392, 0.035893185293272005, 0.05100610541675495, 0.047227875385884216, 0.8698198198881205, 0.03191999339038974, 0.09575998017116923, 0.7227728984597092, 0.14455457969194183, 0.12933830814542163, 0.9803999082220075, 0.9513796632574492, 0.29446293903038157, 0.17923831071414528, 0.09815431301012718, 0.036274420025481785, 0.0746826294642272, 0.26245609783142704, 0.025605472959163614, 0.02987305178569088, 0.1251645807555349, 0.8448609200998607, 0.21477319523957786, 0.13587691943728394, 0.07451314936883313, 0.09204565510267622, 0.01753250573384309, 0.03944813790114695, 0.42078013761223415, 0.9992152531170919, 0.07005560075886913, 0.01334392395407031, 0.04670373383924609, 0.1634630684373613, 0.11008737262108005, 0.19682287832253706, 0.1601270874488437, 0.2335186691962304, 0.03007614695994592, 0.9022844087983777, 0.06015229391989184, 0.9846285326952658, 0.11180690589144664, 0.016771035883716996, 0.7407207515308339, 0.02795172647286166, 0.09084311103680039, 0.011180690589144664, 0.12977031638708214, 0.07786218983224928, 0.6748056452128272, 0.09516489868386024, 0.02162838606451369, 0.2216284302551067, 0.06548112712082697, 0.2568874987047828, 0.0957031857919779, 0.04533308800672637, 0.30725759649003426, 0.9668631465644062, 0.1780784163598451, 0.8186660529876211, 0.3159988394894728, 0.10533294649649094, 0.5617757146479517, 0.08664521297668133, 0.25782234105256396, 0.4332260648834067, 0.010566489387400162, 0.21132978774800326, 0.030110970842711013, 0.0430156726324443, 0.8172977800164418, 0.025809403579466584, 0.017206269052977723, 0.06452350894866646, 0.02681428912520882, 0.11396072878213748, 0.07038750895367316, 0.7239858063806381, 0.06368393667237095, 0.061601530329057026, 0.7584688421765147, 0.02695066951896245, 0.13090325194924618, 0.019250478227830322, 0.9963486821643207, 0.09048827596880078, 0.8958339320911277, 0.032462712949178386, 0.8927246061024056, 0.025970170359342706, 0.045447798128849734, 0.1739671256629082, 0.13123835795622898, 0.3113095932915199, 0.3479342513258164, 0.03052054836191372, 0.8474974428158965, 0.05660181477290283, 0.0749591601046551, 0.021416902887044315, 0.9993608369393465, 0.11365821924701269, 0.8808511991643483, 0.9874105569506109, 0.32095354355850664, 0.27143499683805133, 0.07702885045404159, 0.0036680404978115043, 0.27693705758476855, 0.04951854672045531, 0.039378939220417845, 0.9582208543635009, 0.24209906509065976, 0.11173803004184298, 0.6331821702371102, 0.9255846853306064, 0.0736260545149346, 0.9946370991091069, 0.04818020561738196, 0.15004692606556097, 0.009636041123476394, 0.7461048984177435, 0.03441443258384426, 0.006882886516768852, 0.005506309213415082, 0.014212225238966616, 0.16851638497631846, 0.1746073386501613, 0.1218190734768567, 0.3004870479095799, 0.06903080830355214, 0.14009193449838522, 0.010151589456404726, 0.9656204040279169, 0.03251247151609148, 0.05523287422503024, 0.012082191236725364, 0.274438343805619, 0.5160821685401263, 0.10701369381099608, 0.01035616391719317, 0.025890409792982925, 0.07898831428332827, 0.13691307809110234, 0.7108948285499544, 0.03159532571333131, 0.042127100951108415, 0.10771004848965018, 0.009127970210987305, 0.5659341530812129, 0.1259659889116248, 0.09858207827866289, 0.01643034637977715, 0.07667494977229336, 0.7896607223879445, 0.041128162624372105, 0.16862546675992565, 0.06485954569745865, 0.9296534883302406, 0.918073418436542, 0.07062103218742631, 0.9773764091756847, 0.020962496711542836, 0.025630292070514392, 0.7762317027070073, 0.0732294059157554, 0.06956793561996763, 0.05492205443681655, 0.47110184215042994, 0.26636578658172866, 0.08252116525473163, 0.1796663344786562, 0.2635652970830511, 0.7321258252306976, 0.10235133275161405, 0.8870448838473217, 0.5066633590196088, 0.42847456904744696, 0.06255103197772949, 0.1379822335275568, 0.8508904400866003, 0.04248242625804486, 0.6736499020918542, 0.15172295092158877, 0.13351619681099813, 0.9984721694750379, 0.918794645346912, 0.0602488292030762, 0.01506220730076905, 0.29575947689593335, 0.6844719322448743, 0.016900541536910476, 0.9708755381541114, 0.9880947668301507, 0.11151529944017687, 0.7729821183417388, 0.02192181100106041, 0.07624977739499272, 0.018109322131310772, 0.9932322006564573, 0.983878041565406, 0.29723150036451684, 0.025118154960381705, 0.6740038247702425, 0.9820031398584789, 0.9919387706631467, 0.10309276520636582, 0.20618553041273163, 0.6872851013757721, 0.03653707519068817, 0.7616574905135765, 0.05058979641787593, 0.14895884500819023, 0.03654559768546193, 0.9611492191276488, 0.4221228720064636, 0.03661269808219327, 0.07107170804190459, 0.4695040107010667, 0.10151279486823835, 0.1400876569181689, 0.03857486204993057, 0.5562901158779461, 0.08730100358668498, 0.016242047178918136, 0.012181535384188601, 0.03248409435783627, 0.016242047178918136, 0.9966070860972105, 0.29747396360080536, 0.6718459586086216, 0.030354486081714833, 0.9586108190369212, 0.03578813724404506, 0.00511259103486358, 0.02337861639517565, 0.21332987460597783, 0.052601886889145216, 0.0467572327903513, 0.5581644664348187, 0.04383490574095435, 0.020456289345778696, 0.04091257869155739, 0.5950962472336238, 0.03119456134692383, 0.3419403839951266, 0.004799163284142128, 0.010798117389319788, 0.015597280673461915, 0.9866767960935073, 0.9845293653164029, 0.05823252053654932, 0.2984416677498153, 0.6114414656337679, 0.02547672773474033, 0.005459298800301499, 0.3256463377260044, 0.02170975584840029, 0.6512926754520088, 0.22579960643677227, 0.04739004085710035, 0.03066414408400611, 0.6969123655455934, 0.013120922063979341, 0.9518632551868649, 0.03459152180503645, 0.09911729229496656, 0.067817094728135, 0.12867858999697412, 0.05564479567436719, 0.10433399188943848, 0.04868919621507129, 0.42429156701704984, 0.05564479567436719, 0.013911198918591798, 0.12952826344004337, 0.7771695806402602, 0.04121353836728652, 0.052988835043654106, 0.7323992244952462, 0.1879041742145238, 0.0768698894513961, 0.13218142763084106, 0.7930885657850464, 0.9743015693064977, 0.9830000860543794, 0.9526081599549582, 0.03945714272002785, 0.16289134414411122, 0.047909218865915065, 0.785711189401007, 0.9901518136137677, 0.6577494596279393, 0.02324203037554556, 0.15107319744104614, 0.013945218225327335, 0.15107319744104614, 0.7317152895339302, 0.21499782581367333, 0.02168045302322756, 0.030713975116239047, 0.847488789102666, 0.9891873991668366, 0.6401026625022054, 0.30545932526700986, 0.05253122154273418, 0.9950416403338378, 0.9872698275599492, 0.009799204243771209, 0.9494574290897447, 0.046034299592230044, 0.2640956359570723, 0.11224064528175572, 0.6206247444991199, 0.9946981989159598, 0.0625969672414208, 0.9233052668109568, 0.815160746323473, 0.04562018904313987, 0.13806109842002856, 0.09516448042731895, 0.04758224021365948, 0.8564803238458706, 0.9795363715850153, 0.10988956093956237, 0.00578366110208223, 0.09543040818435679, 0.7345249599644432, 0.052052949918740064, 0.9300073205091552, 0.014474822109091911, 0.05428058290909466, 0.09849106798318558, 0.5815663061864291, 0.042210457707079534, 0.28140305138053023, 0.9642774055252142, 0.02877618176134139, 0.05247421380009312, 0.8937543511757797, 0.025390748612948287, 0.019818733699253514, 0.056624953426438605, 0.5804057726209957, 0.11608115452419915, 0.1472248789087404, 0.050962458083794744, 0.031143724384541233, 0.854444874464535, 0.09998822999053068, 0.036359356360192975, 0.01533330683845152, 0.9813316376608973, 0.09905418250744222, 0.3095443203357569, 0.20429925142159958, 0.3838349572163386, 0.5505596593874265, 0.03123742748297455, 0.03904678435371819, 0.37875380823106647, 0.0658803959494759, 0.9273932660580069, 0.15738668004342166, 0.08908680002457829, 0.06829988001884336, 0.20786920005734935, 0.06533032001802408, 0.0504825200139277, 0.21380832005898792, 0.1514475600417831, 0.967120949273035, 0.01874870984051118, 0.01249913989367412, 0.36241471707048417, 0.6161050190198231, 0.9890553235054421, 0.9938836940073517, 0.41107212781869423, 0.5652241757507046, 0.4067583821737155, 0.05837736040456102, 0.10168959554342888, 0.1148715801509104, 0.25987341083320714, 0.018831406582116458, 0.007532562632846584, 0.028247109873174688, 0.9616338760242445, 0.2395252191539646, 0.7185756574618938, 0.9768231265837668, 0.9931768496712533, 0.9958110577215269, 0.1264871085792626, 0.6585360573650497, 0.08633247093505225, 0.10841752163936794, 0.018069586939894657, 0.033202961609276736, 0.9444397968860939, 0.012912262848052065, 0.007378435913172609, 0.1522646293538173, 0.7704819214670605, 0.034345405117402396, 0.014310585465584332, 0.016600279140077827, 0.010876044953844094, 0.20610778287319506, 0.5404604084230449, 0.13969527505849888, 0.11221423734207288, 0.18805049541992727, 0.6313123774811844, 0.1611861389313662, 0.21242854320201496, 0.02360317146689055, 0.0314708952891874, 0.6766242487175291, 0.0472063429337811, 0.08548648879105879, 0.17097297758211757, 0.03561937032960783, 0.07836261472513723, 0.6269009178010978, 0.8140548179725595, 0.06537745947448016, 0.012653701833770355, 0.03163425458442589, 0.046396906723824634, 0.029525304278797494, 0.11326920727201584, 0.046146714073784234, 0.11746436309690532, 0.012585467474668427, 0.2223432587191422, 0.10278131770979215, 0.22444083663158695, 0.15941592134580007, 0.9968904779498747, 0.16459719879806659, 0.8032343301345649, 0.026335551807690656, 0.5040273626209192, 0.20527659859470163, 0.08064437801934707, 0.06781459060717822, 0.03848936223650656, 0.07697872447301311, 0.009164133865834895, 0.01649544095850281, 0.7366015428375841, 0.010254313821404883, 0.017090523035674803, 0.05468967371415938, 0.10254313821404883, 0.02734483685707969, 0.010254313821404883, 0.011963366124972364, 0.03247199376778213, 0.723013543867934, 0.14885572961986876, 0.06766169528175853, 0.05026297363787777, 0.007732765175058118, 0.08531029621535743, 0.08744305362074137, 0.057584449945366274, 0.5523841679944395, 0.023460331459223296, 0.023460331459223296, 0.17062059243071487, 0.04158859476083434, 0.9149490847383555, 0.22791399497288922, 0.2366799178564619, 0.026297768650717986, 0.07597133165762975, 0.33018309528123696, 0.05259553730143597, 0.046751588712387535, 0.9882239456309438, 0.19842823536405077, 0.09921411768202539, 0.6944988237741777, 0.6708790838827801, 0.2025295347570657, 0.11392286330084946, 0.08047292769537855, 0.028740331319778052, 0.057480662639556104, 0.8085613211297559, 0.01724419879186683, 0.0076640883519408145, 0.0971829451498266, 0.9011509459347558, 0.9986673377741574, 0.975658675253504, 0.02128709836916736, 0.7217710107505165, 0.08761382211422454, 0.10013008241625662, 0.08761382211422454, 0.9930295565376769, 0.9967698177025912, 0.9876033930169614, 0.17561050694421187, 0.3225154502533122, 0.06923106523762199, 0.03208268876865409, 0.06923106523762199, 0.04727975186959551, 0.28367851121757304, 0.02136254576803239, 0.05221955632185695, 0.23973523584125236, 0.26584501400218086, 0.011868080982240216, 0.25635054921638867, 0.15191143657267478, 0.16084022923570873, 0.017388132890346887, 0.03694978239198714, 0.7085664152816357, 0.034776265780693774, 0.017388132890346887, 0.02173516611293361, 0.965584899031417, 0.5983934751650025, 0.03481562037323651, 0.03916757291989108, 0.2676450816192557, 0.0369915966465638, 0.023935739006600103, 0.25049949070518895, 0.7097485569980353, 0.10745544284191956, 0.8596435427353565, 0.03581848094730652, 0.031356660996775344, 0.853710383267045, 0.0920469726034373, 0.023264619449220418, 0.998981403363284, 0.020907136994909568, 0.5814797476709224, 0.03397409761672805, 0.18555084082982243, 0.07448167554436534, 0.015680352746182177, 0.08754863616618382, 0.016261215723473187, 0.018584246541112216, 0.4669291943454444, 0.03716849308222443, 0.02787636981166832, 0.434406762898498, 0.982029884721166, 0.7903302551659236, 0.15411439975735508, 0.035564861482466556, 0.01975825637914809, 0.019062200696231366, 0.721980851369763, 0.20253588239745826, 0.054803827001665174, 0.34548871512480567, 0.03585260251295153, 0.3568963613789266, 0.11244679879062071, 0.01629663750588706, 0.053778903769427296, 0.07822386002825789, 0.1106153286435483, 0.729126391622262, 0.08880385538989088, 0.03739109700626985, 0.020253510878396167, 0.014021661377351193, 0.9583103956457355, 0.9297218163438469, 0.9983271548083992, 0.9665320530494007, 0.9943239644405542, 0.007828272305342476, 0.015656544610684952, 0.970705765862467, 0.04737773140418905, 0.9507131435107269, 0.99395148804445, 0.08274245278435674, 0.09778653510878525, 0.047639594027356916, 0.15044082324428498, 0.15294817029835642, 0.14291878208207073, 0.10781592332507091, 0.0451322469732855, 0.17300694673092776, 0.9740549073452681, 0.022453234986593556, 0.87913050832124, 0.08981293994637422, 0.00863585961022829, 0.9820074183851185, 0.10406552340785376, 0.8937392010321558, 0.7938416899499218, 0.10703483459998944, 0.0891956954999912, 0.1888712496113514, 0.6009539760361181, 0.20604136321238334, 0.8834695882033136, 0.030389617284634865, 0.028218930335732376, 0.04341373897804981, 0.013024121693414943, 0.1583004635564729, 0.029888898713459917, 0.6332018542258916, 0.10184365487549304, 0.0365308762053399, 0.0121769587351133, 0.02767490621616659, 0.1285539834454731, 0.8703580805123142, 0.692424998346683, 0.23329683232704954, 0.016797371927547565, 0.009331873293081982, 0.046659366465409906, 0.9350531037327954, 0.05208518614957216, 0.009920987838013744, 0.9373875741418188, 0.23849450205308606, 0.036292641616773966, 0.705114179983037, 0.0155539892643317, 0.4782031614884168, 0.15940105382947226, 0.2922352653540325, 0.012075837411323656, 0.05796401957435355, 0.9798762938878636, 0.9728386940318954, 0.9900156408507533, 0.9983295863280668, 0.20960187247050793, 0.7755269281408793, 0.04618707903345349, 0.9272944329024123, 0.024869965633398033, 0.9422272687259738, 0.05762548746500055, 0.9803033252076356, 0.9696721733056443, 0.02365054081233279, 0.024154290911757713, 0.024154290911757713, 0.032205721215676955, 0.29790292124501183, 0.09661716364703085, 0.305954351548931, 0.22141433335777905, 0.9105379796069496, 0.06334177249439649, 0.025732595075848574, 0.9907417115966927, 0.8284053451880088, 0.06258676270045817, 0.04867859321146746, 0.05997898092127241, 0.026351389846933627, 0.14493264415813495, 0.3030409832397367, 0.4084465426274712, 0.11858125431120131, 0.9977218210313921, 0.0911875563398307, 0.8590827676226155, 0.047993450705174044, 0.3565005025169835, 0.6179342043627715, 0.12640366419357812, 0.7732930044783604, 0.022306528975337317, 0.06444108370653003, 0.009914012877927697, 0.0675947743006133, 0.06602280280525019, 0.864584322449705, 0.9716012172736314, 0.018565628355547096, 0.27575479011281984, 0.6758383295250613, 0.025503333189624954, 0.009563749946109357, 0.011157708270460918, 0.7679987204519431, 0.022132527966914787, 0.01770602237353183, 0.1770602237353183, 0.013279516780148872, 0.15469570548338715, 0.01894233128368006, 0.04893435581617349, 0.653510429286962, 0.09155460120445362, 0.022099386497626737, 0.007892638034866692, 0.036397576177078526, 0.15551691639297188, 0.2779451271704178, 0.029779835053973337, 0.496330584232889, 0.6150423388873115, 0.11724887396848413, 0.04319695356733626, 0.057595938089781674, 0.016455982311366194, 0.09873589386819716, 0.05142494472301935, 0.00891636788398795, 0.8597926173845523, 0.09171121252101891, 0.01273766840569707, 0.02547533681139414, 0.9870563685051772, 0.9576397846999057, 0.041041705058567385, 0.32161714628978144, 0.04020214328622268, 0.6432342925795629, 0.9860684187385304, 0.142091716703758, 0.011599323812551673, 0.1275925619380684, 0.3001325036497745, 0.24358580006358513, 0.06524619644560316, 0.10874366074267193, 0.2994715521863775, 0.058230579591795624, 0.10814250495619186, 0.4533666553932659, 0.058230579591795624, 0.024955962682198123, 0.9951613011283066, 0.12585947328689415, 0.1685617945806618, 0.014608688863657356, 0.6292973664344708, 0.01797992475527059, 0.01797992475527059, 0.025846141835701476, 0.15690271262677646, 0.1107548559718422, 0.6737587071620401, 0.046147856654934254, 0.987181130878442], \"Term\": [\"abil\", \"abil\", \"abil\", \"abil\", \"abil\", \"abil\", \"abil\", \"abus\", \"abus\", \"abus\", \"abus\", \"abus\", \"academi\", \"academi\", \"academi\", \"academi\", \"academi\", \"accent\", \"accid\", \"accredit\", \"acquir\", \"acquir\", \"acquir\", \"acquir\", \"acquir\", \"acquisit\", \"acquisit\", \"acquisit\", \"act\", \"act\", \"act\", \"act\", \"act\", \"act\", \"act\", \"act\", \"adil\", \"admiss\", \"admiss\", \"aerospac\", \"agdal\", \"agdal\", \"agenc\", \"agenc\", \"agenc\", \"agenc\", \"agenc\", \"agenc\", \"agenc\", \"agri\", \"agricultur\", \"agricultur\", \"agricultur\", \"agricultur\", \"airlin\", \"airspac\", \"airspac\", \"akhannouch\", \"akhawayn\", \"akhawayn\", \"alami\", \"alcohol\", \"algerian\", \"algerian\", \"algerian\", \"allah\", \"allah\", \"amazigh\", \"amazigh\", \"amazigh\", \"amazigh\", \"amazon\", \"amazon\", \"ambassador\", \"ambassador\", \"amzazi\", \"amzazi\", \"ancient\", \"anglo\", \"answer\", \"answer\", \"answer\", \"answer\", \"answer\", \"answer\", \"answer\", \"answer\", \"answer\", \"anthropolog\", \"anthropologist\", \"applic\", \"applic\", \"applic\", \"applic\", \"applic\", \"applic\", \"arabia\", \"arabia\", \"arabia\", \"archaic\", \"archaic\", \"argentina\", \"argument\", \"argument\", \"argument\", \"argument\", \"arm\", \"arm\", \"arm\", \"arm\", \"arm\", \"armi\", \"armi\", \"aspect\", \"aspect\", \"aspect\", \"aspect\", \"aspect\", \"aspect\", \"aspect\", \"assad\", \"assimil\", \"assimil\", \"asylum\", \"attend\", \"attend\", \"attend\", \"attend\", \"attend\", \"attend\", \"attend\", \"attend\", \"attende\", \"attent\", \"attent\", \"attent\", \"attent\", \"attent\", \"attent\", \"attent\", \"attent\", \"attent\", \"attitud\", \"attitud\", \"attitud\", \"attitud\", \"attitud\", \"attitud\", \"attitud\", \"attitud\", \"automot\", \"autonomi\", \"autonomi\", \"autonomi\", \"aviat\", \"aviv\", \"award\", \"award\", \"award\", \"award\", \"award\", \"ayouch\", \"ayyad\", \"ayyad\", \"baccalaur\", \"baccalaur\", \"baccalaur\", \"baita\", \"bank\", \"bank\", \"bank\", \"bank\", \"barrier\", \"barrier\", \"barrier\", \"barrier\", \"basic\", \"basic\", \"basic\", \"basic\", \"basic\", \"basic\", \"basic\", \"basic\", \"basic\", \"basic\", \"beg\", \"behaviour\", \"belief\", \"belief\", \"belief\", \"belief\", \"belief\", \"belief\", \"belief\", \"belmokhtar\", \"benkiran\", \"benkiran\", \"benmoussa\", \"benni\", \"benni\", \"berber\", \"berber\", \"berber\", \"biden\", \"bilater\", \"bilater\", \"bilater\", \"blackboard\", \"blinken\", \"bolton\", \"bolton\", \"bomb\", \"book\", \"book\", \"book\", \"book\", \"book\", \"book\", \"book\", \"booster\", \"border\", \"border\", \"border\", \"border\", \"border\", \"born\", \"born\", \"born\", \"born\", \"born\", \"born\", \"born\", \"bourita\", \"bouteflika\", \"brain\", \"brain\", \"brain\", \"brazil\", \"brexit\", \"british\", \"british\", \"british\", \"british\", \"british\", \"brotherhood\", \"buffer\", \"bus\", \"bus\", \"cadi\", \"cadi\", \"caliph\", \"camp\", \"camp\", \"camp\", \"camp\", \"camp\", \"camp\", \"campus\", \"campus\", \"campus\", \"candid\", \"candid\", \"candid\", \"candid\", \"candid\", \"candid\", \"cannabi\", \"cape\", \"caravan\", \"caravan\", \"career\", \"career\", \"career\", \"career\", \"career\", \"catalan\", \"celebr\", \"celebr\", \"celebr\", \"celebr\", \"celebr\", \"celebr\", \"census\", \"centuri\", \"centuri\", \"centuri\", \"centuri\", \"centuri\", \"centuri\", \"centuri\", \"chabat\", \"chase\", \"cheat\", \"cheat\", \"cheat\", \"china\", \"china\", \"china\", \"christian\", \"christian\", \"christian\", \"circular\", \"circular\", \"circular\", \"citat\", \"civiliz\", \"classroom\", \"classroom\", \"classroom\", \"classroom\", \"climat\", \"climat\", \"climat\", \"climat\", \"climat\", \"club\", \"club\", \"club\", \"club\", \"collabor\", \"collabor\", \"collabor\", \"collabor\", \"collabor\", \"coloni\", \"coloni\", \"coloni\", \"coloni\", \"coloni\", \"committe\", \"committe\", \"committe\", \"committe\", \"committe\", \"compact\", \"compet\", \"compet\", \"compet\", \"compet\", \"compet\", \"compet\", \"compet\", \"competit\", \"competit\", \"competit\", \"competit\", \"competit\", \"competit\", \"competit\", \"comprehens\", \"comprehens\", \"comprehens\", \"comprehens\", \"comprehens\", \"comput\", \"comput\", \"comput\", \"concept\", \"concept\", \"concept\", \"concept\", \"concept\", \"concept\", \"concept\", \"conceptu\", \"conduct\", \"conduct\", \"conduct\", \"conduct\", \"conduct\", \"conduct\", \"conduct\", \"conduct\", \"conduct\", \"conduct\", \"confer\", \"confer\", \"confer\", \"confer\", \"confer\", \"confer\", \"confer\", \"confid\", \"confid\", \"confid\", \"confid\", \"confid\", \"confid\", \"connect\", \"connect\", \"connect\", \"connect\", \"connect\", \"connect\", \"connect\", \"connect\", \"conscienti\", \"conscienti\", \"construct\", \"construct\", \"construct\", \"construct\", \"construct\", \"construct\", \"consul\", \"consul\", \"contemporari\", \"contemporari\", \"contemporari\", \"content\", \"content\", \"content\", \"content\", \"content\", \"content\", \"context\", \"context\", \"context\", \"context\", \"context\", \"context\", \"context\", \"contin\", \"contin\", \"contin\", \"contin\", \"contin\", \"contin\", \"contractu\", \"cook\", \"cook\", \"cook\", \"coronavirus\", \"corrupt\", \"corrupt\", \"corrupt\", \"cost\", \"cost\", \"cost\", \"cost\", \"cost\", \"cost\", \"cost\", \"cost\", \"cost\", \"coup\", \"court\", \"court\", \"creativ\", \"creativ\", \"creativ\", \"creativ\", \"creativ\", \"crime\", \"crime\", \"crime\", \"crimin\", \"crimin\", \"crimin\", \"cubic\", \"curios\", \"curios\", \"curriculum\", \"curriculum\", \"curriculum\", \"curriculum\", \"curriculum\", \"curriculum\", \"daili\", \"daili\", \"daili\", \"daili\", \"daili\", \"daili\", \"daili\", \"daili\", \"dakar\", \"dakar\", \"dan\", \"dan\", \"daoudi\", \"darija\", \"darija\", \"data\", \"data\", \"data\", \"data\", \"data\", \"data\", \"data\", \"death\", \"death\", \"death\", \"death\", \"death\", \"death\", \"debat\", \"debat\", \"debat\", \"debat\", \"debat\", \"debat\", \"decentr\", \"deciph\", \"deciph\", \"decreas\", \"decreas\", \"decreas\", \"decreas\", \"decreas\", \"degre\", \"degre\", \"degre\", \"degre\", \"degre\", \"degre\", \"degre\", \"degre\", \"deleg\", \"deleg\", \"deleg\", \"deleg\", \"deleg\", \"democraci\", \"democraci\", \"democrat\", \"democrat\", \"democrat\", \"democrat\", \"democrat\", \"democrat\", \"dialect\", \"dialect\", \"dialogu\", \"dialogu\", \"dialogu\", \"dialogu\", \"dialogu\", \"digit\", \"digit\", \"digit\", \"diploma\", \"diploma\", \"diplomaci\", \"diplomaci\", \"diplomaci\", \"diplomaci\", \"discours\", \"discours\", \"discours\", \"discours\", \"disput\", \"disput\", \"disput\", \"divers\", \"divers\", \"divers\", \"divers\", \"divers\", \"divers\", \"dog\", \"dossier\", \"download\", \"download\", \"draft\", \"draft\", \"draft\", \"draft\", \"drone\", \"drug\", \"drug\", \"drug\", \"drug\", \"efficaci\", \"efficaci\", \"efficaci\", \"egypt\", \"egypt\", \"egypt\", \"egyptian\", \"egyptian\", \"egyptian\", \"elalami\", \"electr\", \"electr\", \"electr\", \"electr\", \"electr\", \"electr\", \"elementari\", \"elementari\", \"elementari\", \"employ\", \"employ\", \"employ\", \"employ\", \"employ\", \"employ\", \"employ\", \"engin\", \"engin\", \"engin\", \"engin\", \"engin\", \"engin\", \"entrepreneur\", \"envoy\", \"envoy\", \"epidemiolog\", \"esteem\", \"esteem\", \"esteem\", \"esteem\", \"evolut\", \"evolut\", \"evolut\", \"evolut\", \"exam\", \"exam\", \"exam\", \"exam\", \"exam\", \"experienti\", \"explicit\", \"explicit\", \"explicit\", \"explicit\", \"export\", \"export\", \"export\", \"extra\", \"extra\", \"extra\", \"extra\", \"extremist\", \"facebook\", \"facebook\", \"facebook\", \"facebook\", \"factor\", \"factor\", \"factor\", \"factor\", \"factor\", \"factor\", \"factor\", \"factor\", \"failur\", \"failur\", \"failur\", \"failur\", \"failur\", \"failur\", \"faith\", \"faith\", \"faith\", \"faith\", \"faith\", \"faith\", \"faith\", \"fast\", \"fast\", \"fast\", \"fast\", \"fast\", \"father\", \"father\", \"father\", \"father\", \"father\", \"father\", \"feedback\", \"feedback\", \"feedback\", \"femal\", \"femal\", \"femal\", \"femal\", \"femal\", \"femal\", \"femal\", \"femin\", \"feminist\", \"fertil\", \"fertil\", \"fertil\", \"fertil\", \"fertil\", \"fighter\", \"filla\", \"finalist\", \"fitr\", \"flight\", \"flight\", \"food\", \"food\", \"food\", \"food\", \"food\", \"footbal\", \"footbal\", \"footprint\", \"footprint\", \"forecast\", \"forecast\", \"forget\", \"forget\", \"forget\", \"foundat\", \"foundat\", \"foundat\", \"foundat\", \"foundat\", \"foundat\", \"foundat\", \"franco\", \"franco\", \"fulbright\", \"gaza\", \"gender\", \"gender\", \"gender\", \"gender\", \"gender\", \"genr\", \"genr\", \"genr\", \"ghali\", \"girl\", \"girl\", \"girl\", \"girl\", \"girl\", \"girl\", \"glanc\", \"glanc\", \"glass\", \"gloomi\", \"gloomi\", \"googl\", \"googl\", \"grade\", \"grade\", \"grade\", \"grade\", \"graduat\", \"graduat\", \"graduat\", \"graduat\", \"grammar\", \"grammar\", \"grammar\", \"grammat\", \"grammat\", \"green\", \"green\", \"green\", \"green\", \"green\", \"guerguerat\", \"guilti\", \"gulf\", \"gulf\", \"gulf\", \"guterr\", \"habit\", \"habit\", \"habit\", \"habit\", \"hadith\", \"hafid\", \"hafid\", \"hajar\", \"hajar\", \"hajj\", \"hama\", \"harass\", \"hate\", \"hate\", \"hectar\", \"hespress\", \"hezbollah\", \"hidden\", \"hidden\", \"hidden\", \"hidden\", \"hilal\", \"hillari\", \"hire\", \"hire\", \"hire\", \"hire\", \"hopeless\", \"hopeless\", \"hopeless\", \"hopeless\", \"host\", \"host\", \"host\", \"host\", \"host\", \"hour\", \"hour\", \"hour\", \"hour\", \"hour\", \"hour\", \"hour\", \"hour\", \"http\", \"http\", \"http\", \"http\", \"hungari\", \"husband\", \"husband\", \"hypothesi\", \"hypothesi\", \"hypothesi\", \"hypothesi\", \"ident\", \"ident\", \"ident\", \"ident\", \"ident\", \"ident\", \"ident\", \"ideolog\", \"ideolog\", \"ideolog\", \"ideolog\", \"idiom\", \"idiom\", \"ill\", \"immigr\", \"immigr\", \"immigr\", \"immigr\", \"immigr\", \"implicit\", \"implicit\", \"implicit\", \"implicit\", \"implicit\", \"incid\", \"incid\", \"incid\", \"incid\", \"incid\", \"infect\", \"infect\", \"infect\", \"infer\", \"infer\", \"influenc\", \"influenc\", \"influenc\", \"influenc\", \"influenc\", \"influenc\", \"influenc\", \"injur\", \"injustic\", \"injustic\", \"injustic\", \"innov\", \"innov\", \"innov\", \"innov\", \"innov\", \"input\", \"input\", \"inspector\", \"inspector\", \"inspector\", \"inspir\", \"inspir\", \"inspir\", \"inspir\", \"inspir\", \"inspir\", \"inspir\", \"instil\", \"instil\", \"instruct\", \"instruct\", \"instruct\", \"instruct\", \"instruct\", \"instruct\", \"instructor\", \"instructor\", \"instructor\", \"intellectu\", \"intellectu\", \"intellectu\", \"intellectu\", \"intellectu\", \"interact\", \"interact\", \"interact\", \"interact\", \"interact\", \"interact\", \"internet\", \"internet\", \"internet\", \"internet\", \"internet\", \"intrins\", \"introduc\", \"introduc\", \"introduc\", \"introduc\", \"introduc\", \"introduc\", \"introduc\", \"introduc\", \"introduc\", \"investig\", \"investig\", \"investig\", \"investig\", \"investig\", \"investig\", \"investig\", \"investig\", \"iran\", \"iran\", \"iranian\", \"iraq\", \"iraq\", \"iraq\", \"iraqi\", \"irregular\", \"irregular\", \"irregular\", \"isi\", \"islamist\", \"islamist\", \"islamist\", \"isra\", \"israel\", \"japanes\", \"japanes\", \"jew\", \"jewish\", \"jihadist\", \"jinni\", \"june\", \"june\", \"june\", \"june\", \"june\", \"june\", \"june\", \"june\", \"june\", \"junior\", \"junior\", \"juri\", \"juri\", \"keynot\", \"kid\", \"kid\", \"kid\", \"kid\", \"kid\", \"kilogram\", \"kiss\", \"laptop\", \"laptop\", \"laptop\", \"leadership\", \"leadership\", \"leadership\", \"leak\", \"leak\", \"learner\", \"learner\", \"learner\", \"legal\", \"legal\", \"legal\", \"lesson\", \"lesson\", \"lesson\", \"lesson\", \"lesson\", \"librari\", \"librari\", \"librari\", \"libya\", \"libya\", \"libya\", \"libyan\", \"linguist\", \"linguist\", \"linguist\", \"linguist\", \"listen\", \"listen\", \"listen\", \"listen\", \"listen\", \"listen\", \"literaci\", \"literaci\", \"literaci\", \"loan\", \"lobbi\", \"lobbi\", \"lockdown\", \"love\", \"love\", \"love\", \"love\", \"love\", \"love\", \"macro\", \"macro\", \"madrid\", \"madrid\", \"mail\", \"mail\", \"mandat\", \"mandat\", \"mandat\", \"mandat\", \"manifest\", \"manifest\", \"manifest\", \"manifest\", \"manifest\", \"manifest\", \"mankind\", \"manufactur\", \"manufactur\", \"manufactur\", \"marhaba\", \"marrakech\", \"marrakech\", \"marrakech\", \"marrakech\", \"marrakech\", \"marrakech\", \"marri\", \"marri\", \"marri\", \"marriag\", \"marriag\", \"marriag\", \"mathemat\", \"mathemat\", \"mauritania\", \"mauritania\", \"mauritania\", \"mauritanian\", \"medal\", \"medic\", \"medic\", \"medic\", \"medic\", \"mehdi\", \"mehdi\", \"memorandum\", \"memorandum\", \"method\", \"method\", \"method\", \"method\", \"method\", \"method\", \"method\", \"mezouar\", \"mezzour\", \"migrant\", \"migrant\", \"migrat\", \"migrat\", \"minurso\", \"miraoui\", \"modif\", \"modif\", \"monarchi\", \"monarchi\", \"money\", \"money\", \"money\", \"money\", \"money\", \"money\", \"monolith\", \"moral\", \"moral\", \"moral\", \"moral\", \"moral\", \"morsi\", \"mother\", \"mother\", \"mother\", \"motiv\", \"motiv\", \"motiv\", \"motiv\", \"motiv\", \"motiv\", \"motiv\", \"motiv\", \"mouad\", \"movement\", \"movement\", \"movement\", \"movement\", \"movement\", \"movement\", \"movement\", \"mres\", \"muhammad\", \"muhammad\", \"muhammad\", \"multicultur\", \"multilingu\", \"multilingu\", \"multimedia\", \"multipli\", \"multipli\", \"multipli\", \"mutat\", \"nasa\", \"national\", \"national\", \"nativ\", \"nativ\", \"nativ\", \"nativ\", \"nativ\", \"negoti\", \"negoti\", \"negoti\", \"negoti\", \"network\", \"network\", \"network\", \"network\", \"network\", \"night\", \"night\", \"night\", \"nobl\", \"nobl\", \"nobl\", \"nobl\", \"nobl\", \"nobl\", \"novel\", \"novel\", \"nuclear\", \"obsolet\", \"oecd\", \"olymp\", \"omicron\", \"onlin\", \"onlin\", \"onmt\", \"opposit\", \"opposit\", \"opposit\", \"opposit\", \"opposit\", \"opposit\", \"oppress\", \"oppress\", \"oppress\", \"oral\", \"oral\", \"oral\", \"other\", \"ouaouicha\", \"outsid\", \"outsid\", \"outsid\", \"outsid\", \"outsid\", \"outsid\", \"outsid\", \"outsid\", \"overcrowd\", \"overcrowd\", \"page\", \"page\", \"page\", \"page\", \"page\", \"page\", \"page\", \"palestinian\", \"paper\", \"paper\", \"paper\", \"paper\", \"paper\", \"paper\", \"paper\", \"paper\", \"paradigm\", \"paradigm\", \"paradigm\", \"pardon\", \"parent\", \"parent\", \"parent\", \"parent\", \"parent\", \"parent\", \"parliament\", \"parliament\", \"parliament\", \"parliament\", \"parliament\", \"pas\", \"pas\", \"pas\", \"pas\", \"pas\", \"pas\", \"patent\", \"patient\", \"patient\", \"paus\", \"paus\", \"paus\", \"percent\", \"percent\", \"percent\", \"percent\", \"percent\", \"percept\", \"percept\", \"percept\", \"percept\", \"percept\", \"percept\", \"perspect\", \"perspect\", \"perspect\", \"perspect\", \"perspect\", \"philosophi\", \"philosophi\", \"philosophi\", \"philosophi\", \"philosophi\", \"phosphat\", \"pilgrim\", \"pilgrim\", \"plant\", \"plant\", \"plant\", \"plant\", \"platform\", \"platform\", \"platform\", \"platform\", \"platform\", \"polic\", \"polic\", \"polic\", \"polic\", \"polisario\", \"polish\", \"polish\", \"polytechn\", \"poor\", \"poor\", \"poor\", \"poor\", \"poor\", \"poor\", \"port\", \"port\", \"practition\", \"practition\", \"practition\", \"prayer\", \"prayer\", \"preschool\", \"price\", \"price\", \"price\", \"price\", \"price\", \"price\", \"price\", \"primari\", \"primari\", \"primari\", \"primari\", \"primari\", \"primari\", \"primari\", \"primari\", \"princ\", \"princ\", \"principl\", \"principl\", \"principl\", \"principl\", \"principl\", \"principl\", \"principl\", \"profess\", \"profess\", \"profess\", \"profess\", \"profess\", \"professor\", \"professor\", \"professor\", \"professor\", \"professor\", \"professor\", \"professor\", \"profici\", \"profici\", \"profici\", \"programm\", \"programm\", \"pronunci\", \"pronunci\", \"prophet\", \"prophet\", \"propos\", \"propos\", \"propos\", \"propos\", \"propos\", \"protest\", \"protest\", \"protest\", \"protest\", \"proverb\", \"proverb\", \"psychiatrist\", \"psychiatrist\", \"psycholog\", \"psycholog\", \"psycholog\", \"psychologist\", \"psychologist\", \"pupil\", \"pupil\", \"pupil\", \"pupil\", \"qaeda\", \"questionnair\", \"questionnair\", \"questionnair\", \"quran\", \"quran\", \"quran\", \"rabbah\", \"rainfal\", \"rank\", \"rank\", \"rank\", \"rank\", \"rank\", \"rape\", \"rapist\", \"reader\", \"reader\", \"reader\", \"realism\", \"rebel\", \"recip\", \"recip\", \"recip\", \"recognit\", \"recognit\", \"recognit\", \"recognit\", \"recoveri\", \"recoveri\", \"recruit\", \"recruit\", \"recruit\", \"recruit\", \"reduc\", \"reduc\", \"reduc\", \"reduc\", \"reduc\", \"reduc\", \"reduc\", \"reduc\", \"reduc\", \"referendum\", \"refuge\", \"refuge\", \"refuge\", \"regim\", \"regim\", \"regim\", \"relev\", \"relev\", \"relev\", \"relev\", \"relev\", \"relev\", \"relev\", \"relev\", \"religion\", \"religion\", \"religion\", \"religion\", \"religion\", \"religion\", \"remitt\", \"renault\", \"renew\", \"renew\", \"renew\", \"renew\", \"renew\", \"reopen\", \"reopen\", \"reopen\", \"reput\", \"reput\", \"reput\", \"reput\", \"resolut\", \"resolut\", \"resolut\", \"respond\", \"respond\", \"respond\", \"respond\", \"respond\", \"respond\", \"respond\", \"respond\", \"respond\", \"retriev\", \"retriev\", \"retriev\", \"retriev\", \"revolut\", \"revolut\", \"revolut\", \"revolution\", \"revolution\", \"rigid\", \"riot\", \"ritual\", \"ritual\", \"robot\", \"robot\", \"robot\", \"ross\", \"rural\", \"rural\", \"rural\", \"rural\", \"rural\", \"russia\", \"russia\", \"russia\", \"russia\", \"ryad\", \"sadr\", \"saharan\", \"saharan\", \"saharan\", \"saharawi\", \"sahrawi\", \"sahrawi\", \"saint\", \"saint\", \"salari\", \"salari\", \"salari\", \"samirbenni\", \"sampl\", \"sampl\", \"saudi\", \"saudi\", \"saudi\", \"scarc\", \"scarc\", \"scarc\", \"scare\", \"scholar\", \"scholar\", \"scholar\", \"scholar\", \"scholar\", \"scholarship\", \"scholarship\", \"scholarship\", \"screen\", \"screen\", \"screen\", \"screen\", \"script\", \"secretari\", \"secretari\", \"secretari\", \"secretari\", \"select\", \"select\", \"select\", \"select\", \"select\", \"select\", \"select\", \"semest\", \"semest\", \"semest\", \"senat\", \"senat\", \"seneg\", \"seneg\", \"seneg\", \"seneg\", \"sentenc\", \"sentenc\", \"sentenc\", \"sentenc\", \"separatist\", \"separatist\", \"set\", \"set\", \"set\", \"set\", \"set\", \"set\", \"set\", \"set\", \"sexual\", \"sexual\", \"sexual\", \"shipment\", \"shipment\", \"shrine\", \"sick\", \"simon\", \"simon\", \"simpli\", \"simpli\", \"simpli\", \"simpli\", \"simpli\", \"simpli\", \"simpli\", \"simpli\", \"singapor\", \"smartphon\", \"smartphon\", \"smes\", \"smoke\", \"solar\", \"southern\", \"southern\", \"southern\", \"southern\", \"southern\", \"sovereignti\", \"sovereignti\", \"sovereignti\", \"sovereignti\", \"spanish\", \"spanish\", \"spanish\", \"spanish\", \"spanish\", \"spanish\", \"speaker\", \"speaker\", \"speaker\", \"speaker\", \"specialti\", \"specialti\", \"specialti\", \"spell\", \"spell\", \"spell\", \"spell\", \"spell\", \"spoken\", \"spoken\", \"spoken\", \"spoken\", \"spoken\", \"spring\", \"spring\", \"spring\", \"spring\", \"spring\", \"spring\", \"standard\", \"standard\", \"standard\", \"standard\", \"standard\", \"standard\", \"standard\", \"standard\", \"startup\", \"stereotyp\", \"stereotyp\", \"stereotyp\", \"stop\", \"stop\", \"stop\", \"stop\", \"stop\", \"stop\", \"stop\", \"stop\", \"stori\", \"stori\", \"stori\", \"stori\", \"stori\", \"stori\", \"stori\", \"stori\", \"stori\", \"street\", \"street\", \"street\", \"street\", \"street\", \"structur\", \"structur\", \"structur\", \"structur\", \"structur\", \"structur\", \"structur\", \"subordin\", \"subordin\", \"succeed\", \"succeed\", \"succeed\", \"succeed\", \"succeed\", \"succeed\", \"succeed\", \"sufi\", \"summari\", \"summari\", \"summari\", \"supervisor\", \"supervisor\", \"supervisor\", \"suppli\", \"suppli\", \"suppli\", \"suppli\", \"suppli\", \"suppli\", \"survey\", \"survey\", \"syria\", \"syrian\", \"syrian\", \"talent\", \"talent\", \"talent\", \"talent\", \"taliban\", \"tamazight\", \"tanger\", \"target\", \"target\", \"target\", \"target\", \"target\", \"target\", \"target\", \"taught\", \"taught\", \"taught\", \"taught\", \"taught\", \"taught\", \"taught\", \"team\", \"team\", \"team\", \"team\", \"team\", \"team\", \"team\", \"telecom\", \"tell\", \"tell\", \"tell\", \"tell\", \"tell\", \"tell\", \"temara\", \"temara\", \"tendenc\", \"tendenc\", \"tendenc\", \"terror\", \"terror\", \"terror\", \"terror\", \"terrorist\", \"test\", \"test\", \"test\", \"test\", \"test\", \"test\", \"test\", \"text\", \"text\", \"text\", \"text\", \"text\", \"text\", \"textil\", \"theme\", \"theme\", \"theme\", \"theme\", \"theori\", \"theori\", \"theori\", \"theori\", \"thought\", \"thought\", \"thought\", \"thought\", \"thought\", \"thought\", \"thought\", \"threat\", \"threat\", \"threat\", \"threat\", \"threat\", \"threat\", \"timelin\", \"timothi\", \"tindouf\", \"tiznit\", \"tomato\", \"ton\", \"ton\", \"ton\", \"tongu\", \"tongu\", \"tonn\", \"tool\", \"tool\", \"tool\", \"tool\", \"tool\", \"tool\", \"tool\", \"tool\", \"tool\", \"top\", \"tourism\", \"tourism\", \"tourism\", \"tourism\", \"tournament\", \"traine\", \"traine\", \"trainer\", \"trainer\", \"trainer\", \"transmit\", \"transmit\", \"transmit\", \"transport\", \"transport\", \"transport\", \"transport\", \"transport\", \"travel\", \"travel\", \"travel\", \"travel\", \"travel\", \"travel\", \"travel\", \"trump\", \"trump\", \"tunisia\", \"tunisia\", \"tunisia\", \"tunisia\", \"tunisia\", \"turkey\", \"turkey\", \"turkey\", \"twentieth\", \"unesco\", \"unesco\", \"unesco\", \"unesco\", \"unfortun\", \"unfortun\", \"unfortun\", \"unfortun\", \"unfortun\", \"unhcr\", \"unicef\", \"unsc\", \"upris\", \"usag\", \"usag\", \"user\", \"user\", \"user\", \"vaccin\", \"vaccin\", \"variabl\", \"variant\", \"variant\", \"varieti\", \"varieti\", \"varieti\", \"varieti\", \"varieti\", \"varieti\", \"varieti\", \"victim\", \"victim\", \"victim\", \"viewer\", \"violenc\", \"violenc\", \"violenc\", \"violenc\", \"virtual\", \"virtual\", \"virtual\", \"virtual\", \"virtual\", \"virus\", \"visa\", \"visa\", \"visa\", \"vocabulari\", \"vocabulari\", \"vocat\", \"vocat\", \"vocat\", \"vocat\", \"vocat\", \"vote\", \"vote\", \"vote\", \"voter\", \"voter\", \"washington\", \"washington\", \"washington\", \"washington\", \"washington\", \"watch\", \"watch\", \"watch\", \"watch\", \"watch\", \"water\", \"water\", \"water\", \"water\", \"water\", \"water\", \"water\", \"websit\", \"websit\", \"websit\", \"websit\", \"websit\", \"went\", \"went\", \"went\", \"went\", \"went\", \"went\", \"went\", \"west\", \"west\", \"west\", \"west\", \"west\", \"wheat\", \"wife\", \"wife\", \"wire\", \"wire\", \"wire\", \"worship\", \"write\", \"write\", \"write\", \"write\", \"write\", \"write\", \"write\", \"written\", \"written\", \"written\", \"written\", \"written\", \"written\", \"yemen\", \"youth\", \"youth\", \"youth\", \"youth\", \"youth\", \"youth\", \"youth\", \"youtub\", \"youtub\", \"youtub\", \"youtub\", \"zagora\"]}, \"R\": 30, \"lambda.step\": 0.01, \"plot.opts\": {\"xlab\": \"PC1\", \"ylab\": \"PC2\"}, \"topic.order\": [7, 9, 2, 5, 8, 4, 6, 1, 10, 3]};\n",
              "\n",
              "function LDAvis_load_lib(url, callback){\n",
              "  var s = document.createElement('script');\n",
              "  s.src = url;\n",
              "  s.async = true;\n",
              "  s.onreadystatechange = s.onload = callback;\n",
              "  s.onerror = function(){console.warn(\"failed to load library \" + url);};\n",
              "  document.getElementsByTagName(\"head\")[0].appendChild(s);\n",
              "}\n",
              "\n",
              "if(typeof(LDAvis) !== \"undefined\"){\n",
              "   // already loaded: just create the visualization\n",
              "   !function(LDAvis){\n",
              "       new LDAvis(\"#\" + \"ldavis_el601406114037397285347671913\", ldavis_el601406114037397285347671913_data);\n",
              "   }(LDAvis);\n",
              "}else if(typeof define === \"function\" && define.amd){\n",
              "   // require.js is available: use it to load d3/LDAvis\n",
              "   require.config({paths: {d3: \"https://d3js.org/d3.v5\"}});\n",
              "   require([\"d3\"], function(d3){\n",
              "      window.d3 = d3;\n",
              "      LDAvis_load_lib(\"https://cdn.jsdelivr.net/gh/bmabey/pyLDAvis@3.3.1/pyLDAvis/js/ldavis.v3.0.0.js\", function(){\n",
              "        new LDAvis(\"#\" + \"ldavis_el601406114037397285347671913\", ldavis_el601406114037397285347671913_data);\n",
              "      });\n",
              "    });\n",
              "}else{\n",
              "    // require.js not available: dynamically load d3 & LDAvis\n",
              "    LDAvis_load_lib(\"https://d3js.org/d3.v5.js\", function(){\n",
              "         LDAvis_load_lib(\"https://cdn.jsdelivr.net/gh/bmabey/pyLDAvis@3.3.1/pyLDAvis/js/ldavis.v3.0.0.js\", function(){\n",
              "                 new LDAvis(\"#\" + \"ldavis_el601406114037397285347671913\", ldavis_el601406114037397285347671913_data);\n",
              "            })\n",
              "         });\n",
              "}\n",
              "</script>"
            ]
          },
          "metadata": {},
          "execution_count": 180
        }
      ]
    }
  ]
}