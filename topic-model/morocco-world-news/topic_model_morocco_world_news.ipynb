{
  "nbformat": 4,
  "nbformat_minor": 0,
  "metadata": {
    "colab": {
      "name": "topic_model_morocco_world_news.ipynb",
      "provenance": [],
      "collapsed_sections": []
    },
    "kernelspec": {
      "name": "python3",
      "display_name": "Python 3"
    },
    "language_info": {
      "name": "python"
    }
  },
  "cells": [
    {
      "cell_type": "markdown",
      "source": [
        "# Topic Modeling Morocco World News"
      ],
      "metadata": {
        "id": "NvJz9_7-_4Qc"
      }
    },
    {
      "cell_type": "markdown",
      "source": [
        "## Importation des données"
      ],
      "metadata": {
        "id": "ayzaDXN__1t0"
      }
    },
    {
      "cell_type": "code",
      "source": [
        "import pandas as pd"
      ],
      "metadata": {
        "id": "-La4PsmS-FFe"
      },
      "execution_count": 154,
      "outputs": []
    },
    {
      "cell_type": "code",
      "source": [
        "morocco_world_news = pd.read_csv('morocco_world_news_articles.csv', engine='python', error_bad_lines=False)"
      ],
      "metadata": {
        "id": "W0Wzndak-E6i"
      },
      "execution_count": null,
      "outputs": []
    },
    {
      "cell_type": "code",
      "source": [
        "morocco_world_news.head()"
      ],
      "metadata": {
        "colab": {
          "base_uri": "https://localhost:8080/",
          "height": 206
        },
        "id": "q557CiCc-4jB",
        "outputId": "5a70b67e-43d9-4710-85d6-af05d72c349e"
      },
      "execution_count": 156,
      "outputs": [
        {
          "output_type": "execute_result",
          "data": {
            "text/plain": [
              "   Unnamed: 0  category                                            content\n",
              "0           0  politics  Rabat - A confidential report from NATO has ex...\n",
              "1           1  politics  Rabat - Top security officials from Morocco an...\n",
              "2           2  politics  Rabat - Indie-rock band Big Thief has announce...\n",
              "3           3  politics  Rabat - The European Union has called on Alger...\n",
              "4           4  politics  Rabat - Spain regrets Algeria’s decision to su..."
            ],
            "text/html": [
              "\n",
              "  <div id=\"df-d7d7dc19-8cf1-46b5-a230-3ba8535e92e6\">\n",
              "    <div class=\"colab-df-container\">\n",
              "      <div>\n",
              "<style scoped>\n",
              "    .dataframe tbody tr th:only-of-type {\n",
              "        vertical-align: middle;\n",
              "    }\n",
              "\n",
              "    .dataframe tbody tr th {\n",
              "        vertical-align: top;\n",
              "    }\n",
              "\n",
              "    .dataframe thead th {\n",
              "        text-align: right;\n",
              "    }\n",
              "</style>\n",
              "<table border=\"1\" class=\"dataframe\">\n",
              "  <thead>\n",
              "    <tr style=\"text-align: right;\">\n",
              "      <th></th>\n",
              "      <th>Unnamed: 0</th>\n",
              "      <th>category</th>\n",
              "      <th>content</th>\n",
              "    </tr>\n",
              "  </thead>\n",
              "  <tbody>\n",
              "    <tr>\n",
              "      <th>0</th>\n",
              "      <td>0</td>\n",
              "      <td>politics</td>\n",
              "      <td>Rabat - A confidential report from NATO has ex...</td>\n",
              "    </tr>\n",
              "    <tr>\n",
              "      <th>1</th>\n",
              "      <td>1</td>\n",
              "      <td>politics</td>\n",
              "      <td>Rabat - Top security officials from Morocco an...</td>\n",
              "    </tr>\n",
              "    <tr>\n",
              "      <th>2</th>\n",
              "      <td>2</td>\n",
              "      <td>politics</td>\n",
              "      <td>Rabat - Indie-rock band Big Thief has announce...</td>\n",
              "    </tr>\n",
              "    <tr>\n",
              "      <th>3</th>\n",
              "      <td>3</td>\n",
              "      <td>politics</td>\n",
              "      <td>Rabat - The European Union has called on Alger...</td>\n",
              "    </tr>\n",
              "    <tr>\n",
              "      <th>4</th>\n",
              "      <td>4</td>\n",
              "      <td>politics</td>\n",
              "      <td>Rabat - Spain regrets Algeria’s decision to su...</td>\n",
              "    </tr>\n",
              "  </tbody>\n",
              "</table>\n",
              "</div>\n",
              "      <button class=\"colab-df-convert\" onclick=\"convertToInteractive('df-d7d7dc19-8cf1-46b5-a230-3ba8535e92e6')\"\n",
              "              title=\"Convert this dataframe to an interactive table.\"\n",
              "              style=\"display:none;\">\n",
              "        \n",
              "  <svg xmlns=\"http://www.w3.org/2000/svg\" height=\"24px\"viewBox=\"0 0 24 24\"\n",
              "       width=\"24px\">\n",
              "    <path d=\"M0 0h24v24H0V0z\" fill=\"none\"/>\n",
              "    <path d=\"M18.56 5.44l.94 2.06.94-2.06 2.06-.94-2.06-.94-.94-2.06-.94 2.06-2.06.94zm-11 1L8.5 8.5l.94-2.06 2.06-.94-2.06-.94L8.5 2.5l-.94 2.06-2.06.94zm10 10l.94 2.06.94-2.06 2.06-.94-2.06-.94-.94-2.06-.94 2.06-2.06.94z\"/><path d=\"M17.41 7.96l-1.37-1.37c-.4-.4-.92-.59-1.43-.59-.52 0-1.04.2-1.43.59L10.3 9.45l-7.72 7.72c-.78.78-.78 2.05 0 2.83L4 21.41c.39.39.9.59 1.41.59.51 0 1.02-.2 1.41-.59l7.78-7.78 2.81-2.81c.8-.78.8-2.07 0-2.86zM5.41 20L4 18.59l7.72-7.72 1.47 1.35L5.41 20z\"/>\n",
              "  </svg>\n",
              "      </button>\n",
              "      \n",
              "  <style>\n",
              "    .colab-df-container {\n",
              "      display:flex;\n",
              "      flex-wrap:wrap;\n",
              "      gap: 12px;\n",
              "    }\n",
              "\n",
              "    .colab-df-convert {\n",
              "      background-color: #E8F0FE;\n",
              "      border: none;\n",
              "      border-radius: 50%;\n",
              "      cursor: pointer;\n",
              "      display: none;\n",
              "      fill: #1967D2;\n",
              "      height: 32px;\n",
              "      padding: 0 0 0 0;\n",
              "      width: 32px;\n",
              "    }\n",
              "\n",
              "    .colab-df-convert:hover {\n",
              "      background-color: #E2EBFA;\n",
              "      box-shadow: 0px 1px 2px rgba(60, 64, 67, 0.3), 0px 1px 3px 1px rgba(60, 64, 67, 0.15);\n",
              "      fill: #174EA6;\n",
              "    }\n",
              "\n",
              "    [theme=dark] .colab-df-convert {\n",
              "      background-color: #3B4455;\n",
              "      fill: #D2E3FC;\n",
              "    }\n",
              "\n",
              "    [theme=dark] .colab-df-convert:hover {\n",
              "      background-color: #434B5C;\n",
              "      box-shadow: 0px 1px 3px 1px rgba(0, 0, 0, 0.15);\n",
              "      filter: drop-shadow(0px 1px 2px rgba(0, 0, 0, 0.3));\n",
              "      fill: #FFFFFF;\n",
              "    }\n",
              "  </style>\n",
              "\n",
              "      <script>\n",
              "        const buttonEl =\n",
              "          document.querySelector('#df-d7d7dc19-8cf1-46b5-a230-3ba8535e92e6 button.colab-df-convert');\n",
              "        buttonEl.style.display =\n",
              "          google.colab.kernel.accessAllowed ? 'block' : 'none';\n",
              "\n",
              "        async function convertToInteractive(key) {\n",
              "          const element = document.querySelector('#df-d7d7dc19-8cf1-46b5-a230-3ba8535e92e6');\n",
              "          const dataTable =\n",
              "            await google.colab.kernel.invokeFunction('convertToInteractive',\n",
              "                                                     [key], {});\n",
              "          if (!dataTable) return;\n",
              "\n",
              "          const docLinkHtml = 'Like what you see? Visit the ' +\n",
              "            '<a target=\"_blank\" href=https://colab.research.google.com/notebooks/data_table.ipynb>data table notebook</a>'\n",
              "            + ' to learn more about interactive tables.';\n",
              "          element.innerHTML = '';\n",
              "          dataTable['output_type'] = 'display_data';\n",
              "          await google.colab.output.renderOutput(dataTable, element);\n",
              "          const docLink = document.createElement('div');\n",
              "          docLink.innerHTML = docLinkHtml;\n",
              "          element.appendChild(docLink);\n",
              "        }\n",
              "      </script>\n",
              "    </div>\n",
              "  </div>\n",
              "  "
            ]
          },
          "metadata": {},
          "execution_count": 156
        }
      ]
    },
    {
      "cell_type": "markdown",
      "source": [
        "## Installation des packages"
      ],
      "metadata": {
        "id": "E-XVmypjAn9R"
      }
    },
    {
      "cell_type": "code",
      "source": [
        "!pip install nltk\n",
        "!pip install gensim"
      ],
      "metadata": {
        "id": "MEyH2opHApYY"
      },
      "execution_count": null,
      "outputs": []
    },
    {
      "cell_type": "markdown",
      "source": [
        "## Importation des librairies"
      ],
      "metadata": {
        "id": "JhDUR85-__id"
      }
    },
    {
      "cell_type": "code",
      "execution_count": 158,
      "metadata": {
        "id": "6-4P9gIX9ekd"
      },
      "outputs": [],
      "source": [
        "import numpy as np"
      ]
    },
    {
      "cell_type": "code",
      "source": [
        "import gensim\n",
        "from gensim.utils import simple_preprocess\n",
        "from gensim.parsing.preprocessing import STOPWORDS\n",
        "from gensim.models import CoherenceModel"
      ],
      "metadata": {
        "id": "nyvBTN8N93rP"
      },
      "execution_count": 159,
      "outputs": []
    },
    {
      "cell_type": "code",
      "source": [
        "import nltk\n",
        "from nltk.stem import WordNetLemmatizer, SnowballStemmer\n",
        "from nltk.stem.porter import *\n",
        "nltk.download('wordnet')\n",
        "nltk.download('omw-1.4')"
      ],
      "metadata": {
        "id": "uKR_ffSO95C0"
      },
      "execution_count": null,
      "outputs": []
    },
    {
      "cell_type": "markdown",
      "source": [
        "## Fonction de preprocessing"
      ],
      "metadata": {
        "id": "Pyg6ZSXqADWM"
      }
    },
    {
      "cell_type": "markdown",
      "source": [
        "* on supprime tous les stopwords (this, that, where...)\n",
        "* on supprime les mots de moins de 3 lettres\n",
        "* on applique la lemmatisation"
      ],
      "metadata": {
        "id": "rx_1DduoDCfy"
      }
    },
    {
      "cell_type": "code",
      "source": [
        "stemmer = SnowballStemmer('english')"
      ],
      "metadata": {
        "id": "r1BI286C96Jd"
      },
      "execution_count": 161,
      "outputs": []
    },
    {
      "cell_type": "code",
      "source": [
        "def lemmatize_stemming(text) :\n",
        "  return stemmer.stem(WordNetLemmatizer().lemmatize(text, pos='n'))"
      ],
      "metadata": {
        "id": "nAvay7BvB2_d"
      },
      "execution_count": 162,
      "outputs": []
    },
    {
      "cell_type": "code",
      "source": [
        "def preprocess(text) :\n",
        "  result = []\n",
        "  for token in gensim.utils.simple_preprocess(text) :\n",
        "    if token not in gensim.parsing.preprocessing.STOPWORDS and len(token) > 3 :\n",
        "      result.append(lemmatize_stemming(token))\n",
        "  return result"
      ],
      "metadata": {
        "id": "6fX84XyfB3Fm"
      },
      "execution_count": 163,
      "outputs": []
    },
    {
      "cell_type": "markdown",
      "source": [
        "## Prepocessing des données"
      ],
      "metadata": {
        "id": "YBd3AEGrAIpB"
      }
    },
    {
      "cell_type": "markdown",
      "source": [
        "* on supprime les valeurs NAN de nos données\n",
        "* on applique la fonction de preprocessing"
      ],
      "metadata": {
        "id": "q44zRr0aDViq"
      }
    },
    {
      "cell_type": "code",
      "source": [
        "morocco_world_news.dropna(subset = [\"content\"], inplace=True)"
      ],
      "metadata": {
        "id": "rUxfcf9UBMHo"
      },
      "execution_count": 164,
      "outputs": []
    },
    {
      "cell_type": "code",
      "source": [
        "processed_docs = [preprocess(doc) for doc in morocco_world_news['content']]"
      ],
      "metadata": {
        "id": "vSjz7kVLAVnd"
      },
      "execution_count": 165,
      "outputs": []
    },
    {
      "cell_type": "code",
      "source": [
        "processed_docs[10][:10]"
      ],
      "metadata": {
        "colab": {
          "base_uri": "https://localhost:8080/"
        },
        "id": "_HITiaJCFPbx",
        "outputId": "8a4491c4-ebd8-4e02-8832-a1dcf80b3803"
      },
      "execution_count": 166,
      "outputs": [
        {
          "output_type": "execute_result",
          "data": {
            "text/plain": [
              "['rabat',\n",
              " 'spanish',\n",
              " 'interior',\n",
              " 'minist',\n",
              " 'fernando',\n",
              " 'grand',\n",
              " 'marlaska',\n",
              " 'reiter',\n",
              " 'countri',\n",
              " 'commit']"
            ]
          },
          "metadata": {},
          "execution_count": 166
        }
      ]
    },
    {
      "cell_type": "markdown",
      "source": [
        "## Stockage des données après preprocessing"
      ],
      "metadata": {
        "id": "VnXUBOEMCueQ"
      }
    },
    {
      "cell_type": "markdown",
      "source": [
        "* on utilise un dictionnaire qui contient le mot comme clé et son nombre d'occurences comme valeur"
      ],
      "metadata": {
        "id": "BK6dyZPQEVxR"
      }
    },
    {
      "cell_type": "code",
      "source": [
        "dictionary = gensim.corpora.Dictionary(processed_docs)"
      ],
      "metadata": {
        "id": "zda4vHejC1iR"
      },
      "execution_count": 167,
      "outputs": []
    },
    {
      "cell_type": "markdown",
      "source": [
        "## Nettoyage du dictionnaire"
      ],
      "metadata": {
        "id": "WGwFlHekC52L"
      }
    },
    {
      "cell_type": "markdown",
      "source": [
        "* on supprime les mots trop rares qui appraîssent moins de 15 fois\n",
        "* on supprime les mots trop fréquents qui apparaîssent dans plus de 10% des documents\n",
        "* à la fin on ne garde que les 100 000 mots les plus fréquents "
      ],
      "metadata": {
        "id": "Rem9c9NrDABK"
      }
    },
    {
      "cell_type": "code",
      "source": [
        "dictionary.filter_extremes(no_below=15, no_above=0.1, keep_n=100000)"
      ],
      "metadata": {
        "id": "1CJcS0q7C5fo"
      },
      "execution_count": 168,
      "outputs": []
    },
    {
      "cell_type": "markdown",
      "source": [
        "## Conversion en Bag-Of-Words"
      ],
      "metadata": {
        "id": "DOSqfbwyElKn"
      }
    },
    {
      "cell_type": "markdown",
      "source": [
        "* on convertit notre dictionnaire en couple mot et nombres d'occurrences : format bag-of-words"
      ],
      "metadata": {
        "id": "a7pNl7vvEqq7"
      }
    },
    {
      "cell_type": "code",
      "source": [
        "bow_corpus = [dictionary.doc2bow(doc) for doc in processed_docs]"
      ],
      "metadata": {
        "id": "dPv6zXCgEqOS"
      },
      "execution_count": 169,
      "outputs": []
    },
    {
      "cell_type": "code",
      "source": [
        "for i in range(10) :\n",
        "    print(\"Word {} (\\\"{}\\\") appears {} time.\".format(bow_corpus[10][i][0], dictionary[bow_corpus[10][i][0]], bow_corpus[10][i][1]))"
      ],
      "metadata": {
        "colab": {
          "base_uri": "https://localhost:8080/"
        },
        "id": "7CbuerrEE60U",
        "outputId": "617e5e25-10fa-443e-c8cd-30900a651cb7"
      },
      "execution_count": 170,
      "outputs": [
        {
          "output_type": "stream",
          "name": "stdout",
          "text": [
            "Word 6 (\"amid\") appears 1 time.\n",
            "Word 8 (\"autonomi\") appears 1 time.\n",
            "Word 10 (\"basi\") appears 1 time.\n",
            "Word 22 (\"credibl\") appears 1 time.\n",
            "Word 25 (\"disput\") appears 1 time.\n",
            "Word 27 (\"endors\") appears 1 time.\n",
            "Word 38 (\"immedi\") appears 1 time.\n",
            "Word 43 (\"madrid\") appears 3 time.\n",
            "Word 47 (\"outlet\") appears 1 time.\n",
            "Word 60 (\"sanchez\") appears 3 time.\n"
          ]
        }
      ]
    },
    {
      "cell_type": "markdown",
      "source": [
        "## Exécution du LDA"
      ],
      "metadata": {
        "id": "nwmjzGDgFmAd"
      }
    },
    {
      "cell_type": "markdown",
      "source": [
        "* LdaMulticore pour utiliser tout les coeurs du CPU afin de gagner en temps d'exécution\n",
        "\n",
        "* num_topics : nombre de topic à extraire du corpus\n",
        "\n",
        "* id2word : mapping des identifiants de mots (entiers) aux mots (chaînes de caractères)\n",
        "\n",
        "* passes : nombre d'itération d'entraînement sur le corpus"
      ],
      "metadata": {
        "id": "qDx5HVejFsPP"
      }
    },
    {
      "cell_type": "code",
      "source": [
        "lda_model = gensim.models.LdaMulticore(bow_corpus, num_topics = 10, id2word = dictionary, passes = 1000)"
      ],
      "metadata": {
        "id": "cNtC5SJ0Foax"
      },
      "execution_count": null,
      "outputs": []
    },
    {
      "cell_type": "code",
      "source": [
        "topics = []\n",
        "for idx, topic in lda_model.print_topics(-1) :\n",
        "    print(\"Topic: {} -> Words: {}\".format(idx, topic))\n",
        "    topics.append(topic)"
      ],
      "metadata": {
        "colab": {
          "base_uri": "https://localhost:8080/"
        },
        "id": "coACO9bKF591",
        "outputId": "b4466dee-cf94-4a78-99b5-b1275111a136"
      },
      "execution_count": 172,
      "outputs": [
        {
          "output_type": "stream",
          "name": "stdout",
          "text": [
            "Topic: 0 -> Words: 0.026*\"onlin\" + 0.025*\"digit\" + 0.025*\"exam\" + 0.022*\"candid\" + 0.020*\"internet\" + 0.019*\"network\" + 0.017*\"port\" + 0.015*\"baccalaur\" + 0.015*\"facebook\" + 0.014*\"survey\"\n",
            "Topic: 1 -> Words: 0.017*\"polisario\" + 0.013*\"spanish\" + 0.009*\"trump\" + 0.008*\"resolut\" + 0.006*\"migrant\" + 0.006*\"migrat\" + 0.005*\"vote\" + 0.005*\"secretari\" + 0.005*\"autonomi\" + 0.005*\"sovereignti\"\n",
            "Topic: 2 -> Words: 0.029*\"learner\" + 0.016*\"classroom\" + 0.014*\"method\" + 0.011*\"grammar\" + 0.011*\"text\" + 0.010*\"target\" + 0.009*\"reader\" + 0.009*\"facebook\" + 0.008*\"comprehens\" + 0.007*\"border\"\n",
            "Topic: 3 -> Words: 0.008*\"discours\" + 0.007*\"attitud\" + 0.007*\"book\" + 0.006*\"concept\" + 0.006*\"influenc\" + 0.006*\"theori\" + 0.006*\"principl\" + 0.006*\"ident\" + 0.006*\"linguist\" + 0.005*\"religion\"\n",
            "Topic: 4 -> Words: 0.014*\"vaccin\" + 0.011*\"bank\" + 0.010*\"agricultur\" + 0.009*\"travel\" + 0.008*\"price\" + 0.008*\"tourism\" + 0.008*\"export\" + 0.007*\"food\" + 0.007*\"test\" + 0.007*\"flight\"\n",
            "Topic: 5 -> Words: 0.015*\"parent\" + 0.012*\"classroom\" + 0.009*\"exam\" + 0.007*\"applic\" + 0.006*\"write\" + 0.005*\"answer\" + 0.005*\"graduat\" + 0.005*\"degre\" + 0.005*\"motiv\" + 0.005*\"grade\"\n",
            "Topic: 6 -> Words: 0.007*\"violenc\" + 0.005*\"sexual\" + 0.004*\"polic\" + 0.004*\"love\" + 0.004*\"girl\" + 0.004*\"religion\" + 0.004*\"victim\" + 0.003*\"protest\" + 0.003*\"stori\" + 0.003*\"street\"\n",
            "Topic: 7 -> Words: 0.015*\"rank\" + 0.011*\"innov\" + 0.010*\"youth\" + 0.009*\"confer\" + 0.008*\"competit\" + 0.006*\"british\" + 0.006*\"team\" + 0.006*\"vocat\" + 0.006*\"professor\" + 0.005*\"engin\"\n",
            "Topic: 8 -> Words: 0.013*\"algerian\" + 0.012*\"israel\" + 0.008*\"terror\" + 0.007*\"iran\" + 0.007*\"regim\" + 0.007*\"terrorist\" + 0.007*\"isra\" + 0.006*\"democraci\" + 0.006*\"saudi\" + 0.006*\"west\"\n",
            "Topic: 9 -> Words: 0.021*\"mother\" + 0.016*\"tongu\" + 0.013*\"literaci\" + 0.011*\"tamazight\" + 0.010*\"curriculum\" + 0.008*\"linguist\" + 0.007*\"amazigh\" + 0.007*\"unesco\" + 0.007*\"programm\" + 0.007*\"coloni\"\n"
          ]
        }
      ]
    },
    {
      "cell_type": "markdown",
      "source": [
        "## Cohérence du topic model"
      ],
      "metadata": {
        "id": "qUcxjBWvGAQS"
      }
    },
    {
      "cell_type": "markdown",
      "source": [
        "* Les mesures de cohérence évaluent le degré de similitude sémantique entre les mots les mieux notés dans le topics\n",
        "* Ces mesures aident à faire la distinction entre les topics sémantiquement interprétables et les topics dû à des inférences statistiques\n",
        "* Pour un bon modèle LDA la cohérence doit être comprise entre 0.4 et 0.7 au delà le modèle est probablement erroné"
      ],
      "metadata": {
        "id": "EDpX8YyiRfYo"
      }
    },
    {
      "cell_type": "code",
      "source": [
        "coherence_model_lda = CoherenceModel(model=lda_model, texts=processed_docs, dictionary=dictionary)\n",
        "coherence_lda = coherence_model_lda.get_coherence()\n",
        "print('\\nCoherence Score: ', coherence_lda)"
      ],
      "metadata": {
        "colab": {
          "base_uri": "https://localhost:8080/"
        },
        "id": "kg8-ZDesQsiR",
        "outputId": "6c527d99-16a9-4e14-bc15-5a33018f0648"
      },
      "execution_count": 173,
      "outputs": [
        {
          "output_type": "stream",
          "name": "stdout",
          "text": [
            "\n",
            "Coherence Score:  0.5129831809687769\n"
          ]
        }
      ]
    },
    {
      "cell_type": "markdown",
      "source": [
        "## Stockage des résultats"
      ],
      "metadata": {
        "id": "K9dKZV6lGaXo"
      }
    },
    {
      "cell_type": "code",
      "source": [
        "all_topic_model = []\n",
        "for i in range(len(topics)):\n",
        "  str = topics[i].split(' + ')\n",
        "  topic_model = []\n",
        "  for j in range(10):\n",
        "    weight = str[j][0:5]\n",
        "    word = str[j][7:len(str[j])-1]\n",
        "    topic_model.append((weight, word))\n",
        "  all_topic_model.append(topic_model)"
      ],
      "metadata": {
        "id": "aJ3JuoeJGDKe"
      },
      "execution_count": 174,
      "outputs": []
    },
    {
      "cell_type": "code",
      "source": [
        "df_topic_model = pd.DataFrame(all_topic_model)\n",
        "df_topic_model.rename(index = {0: \"Topic 1\", 1: \"Topic 2\", 2: \"Topic 3\", 3: \"Topic 4\", 4: \"Topic 5\", 5: \"Topic 6\", 6: \"Topic 7\", 7: \"Topic 8\", 8: \"Topic 9\", 9: \"Topic 10\"}, inplace = True)"
      ],
      "metadata": {
        "id": "n8uTQobBGJBy"
      },
      "execution_count": 175,
      "outputs": []
    },
    {
      "cell_type": "code",
      "source": [
        "df_topic_model"
      ],
      "metadata": {
        "colab": {
          "base_uri": "https://localhost:8080/",
          "height": 363
        },
        "id": "1oJVAfq3GePr",
        "outputId": "fa5a17f1-0ec1-4d6d-ee5f-e73c63b16136"
      },
      "execution_count": 176,
      "outputs": [
        {
          "output_type": "execute_result",
          "data": {
            "text/plain": [
              "                           0                   1                    2  \\\n",
              "Topic 1       (0.026, onlin)      (0.025, digit)        (0.025, exam)   \n",
              "Topic 2   (0.017, polisario)    (0.013, spanish)       (0.009, trump)   \n",
              "Topic 3     (0.029, learner)  (0.016, classroom)      (0.014, method)   \n",
              "Topic 4    (0.008, discours)    (0.007, attitud)        (0.007, book)   \n",
              "Topic 5      (0.014, vaccin)       (0.011, bank)  (0.010, agricultur)   \n",
              "Topic 6      (0.015, parent)  (0.012, classroom)        (0.009, exam)   \n",
              "Topic 7     (0.007, violenc)     (0.005, sexual)       (0.004, polic)   \n",
              "Topic 8        (0.015, rank)      (0.011, innov)       (0.010, youth)   \n",
              "Topic 9    (0.013, algerian)     (0.012, israel)      (0.008, terror)   \n",
              "Topic 10     (0.021, mother)      (0.016, tongu)    (0.013, literaci)   \n",
              "\n",
              "                           3                    4                   5  \\\n",
              "Topic 1      (0.022, candid)    (0.020, internet)    (0.019, network)   \n",
              "Topic 2     (0.008, resolut)     (0.006, migrant)     (0.006, migrat)   \n",
              "Topic 3     (0.011, grammar)        (0.011, text)     (0.010, target)   \n",
              "Topic 4     (0.006, concept)    (0.006, influenc)     (0.006, theori)   \n",
              "Topic 5      (0.009, travel)       (0.008, price)    (0.008, tourism)   \n",
              "Topic 6      (0.007, applic)       (0.006, write)     (0.005, answer)   \n",
              "Topic 7        (0.004, love)        (0.004, girl)   (0.004, religion)   \n",
              "Topic 8      (0.009, confer)    (0.008, competit)    (0.006, british)   \n",
              "Topic 9        (0.007, iran)       (0.007, regim)  (0.007, terrorist)   \n",
              "Topic 10  (0.011, tamazight)  (0.010, curriculum)   (0.008, linguist)   \n",
              "\n",
              "                          6                   7                    8  \\\n",
              "Topic 1       (0.017, port)  (0.015, baccalaur)    (0.015, facebook)   \n",
              "Topic 2       (0.005, vote)  (0.005, secretari)    (0.005, autonomi)   \n",
              "Topic 3     (0.009, reader)   (0.009, facebook)  (0.008, comprehens)   \n",
              "Topic 4   (0.006, principl)      (0.006, ident)    (0.006, linguist)   \n",
              "Topic 5     (0.008, export)       (0.007, food)        (0.007, test)   \n",
              "Topic 6    (0.005, graduat)      (0.005, degre)       (0.005, motiv)   \n",
              "Topic 7     (0.004, victim)    (0.003, protest)       (0.003, stori)   \n",
              "Topic 8       (0.006, team)      (0.006, vocat)   (0.006, professor)   \n",
              "Topic 9       (0.007, isra)  (0.006, democraci)       (0.006, saudi)   \n",
              "Topic 10   (0.007, amazigh)     (0.007, unesco)    (0.007, programm)   \n",
              "\n",
              "                             9  \n",
              "Topic 1        (0.014, survey)  \n",
              "Topic 2   (0.005, sovereignti)  \n",
              "Topic 3        (0.007, border)  \n",
              "Topic 4      (0.005, religion)  \n",
              "Topic 5        (0.007, flight)  \n",
              "Topic 6         (0.005, grade)  \n",
              "Topic 7        (0.003, street)  \n",
              "Topic 8         (0.005, engin)  \n",
              "Topic 9          (0.006, west)  \n",
              "Topic 10       (0.007, coloni)  "
            ],
            "text/html": [
              "\n",
              "  <div id=\"df-1434303d-b79e-4232-9a10-1f42b7da4ccd\">\n",
              "    <div class=\"colab-df-container\">\n",
              "      <div>\n",
              "<style scoped>\n",
              "    .dataframe tbody tr th:only-of-type {\n",
              "        vertical-align: middle;\n",
              "    }\n",
              "\n",
              "    .dataframe tbody tr th {\n",
              "        vertical-align: top;\n",
              "    }\n",
              "\n",
              "    .dataframe thead th {\n",
              "        text-align: right;\n",
              "    }\n",
              "</style>\n",
              "<table border=\"1\" class=\"dataframe\">\n",
              "  <thead>\n",
              "    <tr style=\"text-align: right;\">\n",
              "      <th></th>\n",
              "      <th>0</th>\n",
              "      <th>1</th>\n",
              "      <th>2</th>\n",
              "      <th>3</th>\n",
              "      <th>4</th>\n",
              "      <th>5</th>\n",
              "      <th>6</th>\n",
              "      <th>7</th>\n",
              "      <th>8</th>\n",
              "      <th>9</th>\n",
              "    </tr>\n",
              "  </thead>\n",
              "  <tbody>\n",
              "    <tr>\n",
              "      <th>Topic 1</th>\n",
              "      <td>(0.026, onlin)</td>\n",
              "      <td>(0.025, digit)</td>\n",
              "      <td>(0.025, exam)</td>\n",
              "      <td>(0.022, candid)</td>\n",
              "      <td>(0.020, internet)</td>\n",
              "      <td>(0.019, network)</td>\n",
              "      <td>(0.017, port)</td>\n",
              "      <td>(0.015, baccalaur)</td>\n",
              "      <td>(0.015, facebook)</td>\n",
              "      <td>(0.014, survey)</td>\n",
              "    </tr>\n",
              "    <tr>\n",
              "      <th>Topic 2</th>\n",
              "      <td>(0.017, polisario)</td>\n",
              "      <td>(0.013, spanish)</td>\n",
              "      <td>(0.009, trump)</td>\n",
              "      <td>(0.008, resolut)</td>\n",
              "      <td>(0.006, migrant)</td>\n",
              "      <td>(0.006, migrat)</td>\n",
              "      <td>(0.005, vote)</td>\n",
              "      <td>(0.005, secretari)</td>\n",
              "      <td>(0.005, autonomi)</td>\n",
              "      <td>(0.005, sovereignti)</td>\n",
              "    </tr>\n",
              "    <tr>\n",
              "      <th>Topic 3</th>\n",
              "      <td>(0.029, learner)</td>\n",
              "      <td>(0.016, classroom)</td>\n",
              "      <td>(0.014, method)</td>\n",
              "      <td>(0.011, grammar)</td>\n",
              "      <td>(0.011, text)</td>\n",
              "      <td>(0.010, target)</td>\n",
              "      <td>(0.009, reader)</td>\n",
              "      <td>(0.009, facebook)</td>\n",
              "      <td>(0.008, comprehens)</td>\n",
              "      <td>(0.007, border)</td>\n",
              "    </tr>\n",
              "    <tr>\n",
              "      <th>Topic 4</th>\n",
              "      <td>(0.008, discours)</td>\n",
              "      <td>(0.007, attitud)</td>\n",
              "      <td>(0.007, book)</td>\n",
              "      <td>(0.006, concept)</td>\n",
              "      <td>(0.006, influenc)</td>\n",
              "      <td>(0.006, theori)</td>\n",
              "      <td>(0.006, principl)</td>\n",
              "      <td>(0.006, ident)</td>\n",
              "      <td>(0.006, linguist)</td>\n",
              "      <td>(0.005, religion)</td>\n",
              "    </tr>\n",
              "    <tr>\n",
              "      <th>Topic 5</th>\n",
              "      <td>(0.014, vaccin)</td>\n",
              "      <td>(0.011, bank)</td>\n",
              "      <td>(0.010, agricultur)</td>\n",
              "      <td>(0.009, travel)</td>\n",
              "      <td>(0.008, price)</td>\n",
              "      <td>(0.008, tourism)</td>\n",
              "      <td>(0.008, export)</td>\n",
              "      <td>(0.007, food)</td>\n",
              "      <td>(0.007, test)</td>\n",
              "      <td>(0.007, flight)</td>\n",
              "    </tr>\n",
              "    <tr>\n",
              "      <th>Topic 6</th>\n",
              "      <td>(0.015, parent)</td>\n",
              "      <td>(0.012, classroom)</td>\n",
              "      <td>(0.009, exam)</td>\n",
              "      <td>(0.007, applic)</td>\n",
              "      <td>(0.006, write)</td>\n",
              "      <td>(0.005, answer)</td>\n",
              "      <td>(0.005, graduat)</td>\n",
              "      <td>(0.005, degre)</td>\n",
              "      <td>(0.005, motiv)</td>\n",
              "      <td>(0.005, grade)</td>\n",
              "    </tr>\n",
              "    <tr>\n",
              "      <th>Topic 7</th>\n",
              "      <td>(0.007, violenc)</td>\n",
              "      <td>(0.005, sexual)</td>\n",
              "      <td>(0.004, polic)</td>\n",
              "      <td>(0.004, love)</td>\n",
              "      <td>(0.004, girl)</td>\n",
              "      <td>(0.004, religion)</td>\n",
              "      <td>(0.004, victim)</td>\n",
              "      <td>(0.003, protest)</td>\n",
              "      <td>(0.003, stori)</td>\n",
              "      <td>(0.003, street)</td>\n",
              "    </tr>\n",
              "    <tr>\n",
              "      <th>Topic 8</th>\n",
              "      <td>(0.015, rank)</td>\n",
              "      <td>(0.011, innov)</td>\n",
              "      <td>(0.010, youth)</td>\n",
              "      <td>(0.009, confer)</td>\n",
              "      <td>(0.008, competit)</td>\n",
              "      <td>(0.006, british)</td>\n",
              "      <td>(0.006, team)</td>\n",
              "      <td>(0.006, vocat)</td>\n",
              "      <td>(0.006, professor)</td>\n",
              "      <td>(0.005, engin)</td>\n",
              "    </tr>\n",
              "    <tr>\n",
              "      <th>Topic 9</th>\n",
              "      <td>(0.013, algerian)</td>\n",
              "      <td>(0.012, israel)</td>\n",
              "      <td>(0.008, terror)</td>\n",
              "      <td>(0.007, iran)</td>\n",
              "      <td>(0.007, regim)</td>\n",
              "      <td>(0.007, terrorist)</td>\n",
              "      <td>(0.007, isra)</td>\n",
              "      <td>(0.006, democraci)</td>\n",
              "      <td>(0.006, saudi)</td>\n",
              "      <td>(0.006, west)</td>\n",
              "    </tr>\n",
              "    <tr>\n",
              "      <th>Topic 10</th>\n",
              "      <td>(0.021, mother)</td>\n",
              "      <td>(0.016, tongu)</td>\n",
              "      <td>(0.013, literaci)</td>\n",
              "      <td>(0.011, tamazight)</td>\n",
              "      <td>(0.010, curriculum)</td>\n",
              "      <td>(0.008, linguist)</td>\n",
              "      <td>(0.007, amazigh)</td>\n",
              "      <td>(0.007, unesco)</td>\n",
              "      <td>(0.007, programm)</td>\n",
              "      <td>(0.007, coloni)</td>\n",
              "    </tr>\n",
              "  </tbody>\n",
              "</table>\n",
              "</div>\n",
              "      <button class=\"colab-df-convert\" onclick=\"convertToInteractive('df-1434303d-b79e-4232-9a10-1f42b7da4ccd')\"\n",
              "              title=\"Convert this dataframe to an interactive table.\"\n",
              "              style=\"display:none;\">\n",
              "        \n",
              "  <svg xmlns=\"http://www.w3.org/2000/svg\" height=\"24px\"viewBox=\"0 0 24 24\"\n",
              "       width=\"24px\">\n",
              "    <path d=\"M0 0h24v24H0V0z\" fill=\"none\"/>\n",
              "    <path d=\"M18.56 5.44l.94 2.06.94-2.06 2.06-.94-2.06-.94-.94-2.06-.94 2.06-2.06.94zm-11 1L8.5 8.5l.94-2.06 2.06-.94-2.06-.94L8.5 2.5l-.94 2.06-2.06.94zm10 10l.94 2.06.94-2.06 2.06-.94-2.06-.94-.94-2.06-.94 2.06-2.06.94z\"/><path d=\"M17.41 7.96l-1.37-1.37c-.4-.4-.92-.59-1.43-.59-.52 0-1.04.2-1.43.59L10.3 9.45l-7.72 7.72c-.78.78-.78 2.05 0 2.83L4 21.41c.39.39.9.59 1.41.59.51 0 1.02-.2 1.41-.59l7.78-7.78 2.81-2.81c.8-.78.8-2.07 0-2.86zM5.41 20L4 18.59l7.72-7.72 1.47 1.35L5.41 20z\"/>\n",
              "  </svg>\n",
              "      </button>\n",
              "      \n",
              "  <style>\n",
              "    .colab-df-container {\n",
              "      display:flex;\n",
              "      flex-wrap:wrap;\n",
              "      gap: 12px;\n",
              "    }\n",
              "\n",
              "    .colab-df-convert {\n",
              "      background-color: #E8F0FE;\n",
              "      border: none;\n",
              "      border-radius: 50%;\n",
              "      cursor: pointer;\n",
              "      display: none;\n",
              "      fill: #1967D2;\n",
              "      height: 32px;\n",
              "      padding: 0 0 0 0;\n",
              "      width: 32px;\n",
              "    }\n",
              "\n",
              "    .colab-df-convert:hover {\n",
              "      background-color: #E2EBFA;\n",
              "      box-shadow: 0px 1px 2px rgba(60, 64, 67, 0.3), 0px 1px 3px 1px rgba(60, 64, 67, 0.15);\n",
              "      fill: #174EA6;\n",
              "    }\n",
              "\n",
              "    [theme=dark] .colab-df-convert {\n",
              "      background-color: #3B4455;\n",
              "      fill: #D2E3FC;\n",
              "    }\n",
              "\n",
              "    [theme=dark] .colab-df-convert:hover {\n",
              "      background-color: #434B5C;\n",
              "      box-shadow: 0px 1px 3px 1px rgba(0, 0, 0, 0.15);\n",
              "      filter: drop-shadow(0px 1px 2px rgba(0, 0, 0, 0.3));\n",
              "      fill: #FFFFFF;\n",
              "    }\n",
              "  </style>\n",
              "\n",
              "      <script>\n",
              "        const buttonEl =\n",
              "          document.querySelector('#df-1434303d-b79e-4232-9a10-1f42b7da4ccd button.colab-df-convert');\n",
              "        buttonEl.style.display =\n",
              "          google.colab.kernel.accessAllowed ? 'block' : 'none';\n",
              "\n",
              "        async function convertToInteractive(key) {\n",
              "          const element = document.querySelector('#df-1434303d-b79e-4232-9a10-1f42b7da4ccd');\n",
              "          const dataTable =\n",
              "            await google.colab.kernel.invokeFunction('convertToInteractive',\n",
              "                                                     [key], {});\n",
              "          if (!dataTable) return;\n",
              "\n",
              "          const docLinkHtml = 'Like what you see? Visit the ' +\n",
              "            '<a target=\"_blank\" href=https://colab.research.google.com/notebooks/data_table.ipynb>data table notebook</a>'\n",
              "            + ' to learn more about interactive tables.';\n",
              "          element.innerHTML = '';\n",
              "          dataTable['output_type'] = 'display_data';\n",
              "          await google.colab.output.renderOutput(dataTable, element);\n",
              "          const docLink = document.createElement('div');\n",
              "          docLink.innerHTML = docLinkHtml;\n",
              "          element.appendChild(docLink);\n",
              "        }\n",
              "      </script>\n",
              "    </div>\n",
              "  </div>\n",
              "  "
            ]
          },
          "metadata": {},
          "execution_count": 176
        }
      ]
    },
    {
      "cell_type": "code",
      "source": [
        "df_topic_model.to_csv('topic_model_morocco_world_news.csv')"
      ],
      "metadata": {
        "id": "j8LQYDKhGjgj"
      },
      "execution_count": 177,
      "outputs": []
    },
    {
      "cell_type": "markdown",
      "source": [
        "## Visualisation des résultats"
      ],
      "metadata": {
        "id": "IGa70IJjG_N0"
      }
    },
    {
      "cell_type": "code",
      "source": [
        "!pip install pyLDAvis"
      ],
      "metadata": {
        "id": "ESQRQbH_IJjS"
      },
      "execution_count": null,
      "outputs": []
    },
    {
      "cell_type": "code",
      "source": [
        "import pyLDAvis.gensim_models"
      ],
      "metadata": {
        "id": "TTmEWILpLIf-"
      },
      "execution_count": 179,
      "outputs": []
    },
    {
      "cell_type": "code",
      "source": [
        "pyLDAvis.enable_notebook()\n",
        "pyLDAvis.gensim_models.prepare(lda_model, bow_corpus, dictionary)"
      ],
      "metadata": {
        "id": "U9Yj83T7OJVM"
      },
      "execution_count": null,
      "outputs": []
    }
  ]
}