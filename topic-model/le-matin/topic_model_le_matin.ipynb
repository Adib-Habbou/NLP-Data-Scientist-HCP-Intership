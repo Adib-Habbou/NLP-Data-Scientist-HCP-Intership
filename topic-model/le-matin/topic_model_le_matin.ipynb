{
  "nbformat": 4,
  "nbformat_minor": 0,
  "metadata": {
    "colab": {
      "name": "topic_model_le_matin.ipynb",
      "provenance": [],
      "collapsed_sections": []
    },
    "kernelspec": {
      "name": "python3",
      "display_name": "Python 3"
    },
    "language_info": {
      "name": "python"
    }
  },
  "cells": [
    {
      "cell_type": "markdown",
      "source": [
        "# Topic Modeling Le Matin"
      ],
      "metadata": {
        "id": "NvJz9_7-_4Qc"
      }
    },
    {
      "cell_type": "markdown",
      "source": [
        "## Importation des données"
      ],
      "metadata": {
        "id": "ayzaDXN__1t0"
      }
    },
    {
      "cell_type": "code",
      "source": [
        "import pandas as pd"
      ],
      "metadata": {
        "id": "-La4PsmS-FFe"
      },
      "execution_count": 3,
      "outputs": []
    },
    {
      "cell_type": "code",
      "source": [
        "le_matin = pd.read_csv('le_matin_articles.csv', engine='python', error_bad_lines=False)"
      ],
      "metadata": {
        "id": "W0Wzndak-E6i"
      },
      "execution_count": null,
      "outputs": []
    },
    {
      "cell_type": "code",
      "source": [
        "le_matin.head()"
      ],
      "metadata": {
        "id": "q557CiCc-4jB",
        "colab": {
          "base_uri": "https://localhost:8080/",
          "height": 206
        },
        "outputId": "bdc28600-1504-41e2-8baf-16ab17ecf6fb"
      },
      "execution_count": 5,
      "outputs": [
        {
          "output_type": "execute_result",
          "data": {
            "text/plain": [
              "   Unnamed: 0  Unnamed: 0.1           category  \\\n",
              "0           0           0.0  activites-royales   \n",
              "1           1           1.0  activites-royales   \n",
              "2           2           2.0  activites-royales   \n",
              "3           3           3.0  activites-royales   \n",
              "4           4           4.0  activites-royales   \n",
              "\n",
              "                                             content  \n",
              "0  Le porte-parole du Palais Royal a annoncé, jeu...  \n",
              "1  Sa Majesté le Roi Mohammed VI, que Dieu L'assi...  \n",
              "2  Sa Majesté le Roi Mohammed VI, que Dieu L'assi...  \n",
              "3  Sa Majesté le Roi Mohammed VI a adressé un mes...  \n",
              "4  The origin web server timed out responding to ...  "
            ],
            "text/html": [
              "\n",
              "  <div id=\"df-f1c6e1ad-86d8-4e9b-abae-5db3c6e2b656\">\n",
              "    <div class=\"colab-df-container\">\n",
              "      <div>\n",
              "<style scoped>\n",
              "    .dataframe tbody tr th:only-of-type {\n",
              "        vertical-align: middle;\n",
              "    }\n",
              "\n",
              "    .dataframe tbody tr th {\n",
              "        vertical-align: top;\n",
              "    }\n",
              "\n",
              "    .dataframe thead th {\n",
              "        text-align: right;\n",
              "    }\n",
              "</style>\n",
              "<table border=\"1\" class=\"dataframe\">\n",
              "  <thead>\n",
              "    <tr style=\"text-align: right;\">\n",
              "      <th></th>\n",
              "      <th>Unnamed: 0</th>\n",
              "      <th>Unnamed: 0.1</th>\n",
              "      <th>category</th>\n",
              "      <th>content</th>\n",
              "    </tr>\n",
              "  </thead>\n",
              "  <tbody>\n",
              "    <tr>\n",
              "      <th>0</th>\n",
              "      <td>0</td>\n",
              "      <td>0.0</td>\n",
              "      <td>activites-royales</td>\n",
              "      <td>Le porte-parole du Palais Royal a annoncé, jeu...</td>\n",
              "    </tr>\n",
              "    <tr>\n",
              "      <th>1</th>\n",
              "      <td>1</td>\n",
              "      <td>1.0</td>\n",
              "      <td>activites-royales</td>\n",
              "      <td>Sa Majesté le Roi Mohammed VI, que Dieu L'assi...</td>\n",
              "    </tr>\n",
              "    <tr>\n",
              "      <th>2</th>\n",
              "      <td>2</td>\n",
              "      <td>2.0</td>\n",
              "      <td>activites-royales</td>\n",
              "      <td>Sa Majesté le Roi Mohammed VI, que Dieu L'assi...</td>\n",
              "    </tr>\n",
              "    <tr>\n",
              "      <th>3</th>\n",
              "      <td>3</td>\n",
              "      <td>3.0</td>\n",
              "      <td>activites-royales</td>\n",
              "      <td>Sa Majesté le Roi Mohammed VI a adressé un mes...</td>\n",
              "    </tr>\n",
              "    <tr>\n",
              "      <th>4</th>\n",
              "      <td>4</td>\n",
              "      <td>4.0</td>\n",
              "      <td>activites-royales</td>\n",
              "      <td>The origin web server timed out responding to ...</td>\n",
              "    </tr>\n",
              "  </tbody>\n",
              "</table>\n",
              "</div>\n",
              "      <button class=\"colab-df-convert\" onclick=\"convertToInteractive('df-f1c6e1ad-86d8-4e9b-abae-5db3c6e2b656')\"\n",
              "              title=\"Convert this dataframe to an interactive table.\"\n",
              "              style=\"display:none;\">\n",
              "        \n",
              "  <svg xmlns=\"http://www.w3.org/2000/svg\" height=\"24px\"viewBox=\"0 0 24 24\"\n",
              "       width=\"24px\">\n",
              "    <path d=\"M0 0h24v24H0V0z\" fill=\"none\"/>\n",
              "    <path d=\"M18.56 5.44l.94 2.06.94-2.06 2.06-.94-2.06-.94-.94-2.06-.94 2.06-2.06.94zm-11 1L8.5 8.5l.94-2.06 2.06-.94-2.06-.94L8.5 2.5l-.94 2.06-2.06.94zm10 10l.94 2.06.94-2.06 2.06-.94-2.06-.94-.94-2.06-.94 2.06-2.06.94z\"/><path d=\"M17.41 7.96l-1.37-1.37c-.4-.4-.92-.59-1.43-.59-.52 0-1.04.2-1.43.59L10.3 9.45l-7.72 7.72c-.78.78-.78 2.05 0 2.83L4 21.41c.39.39.9.59 1.41.59.51 0 1.02-.2 1.41-.59l7.78-7.78 2.81-2.81c.8-.78.8-2.07 0-2.86zM5.41 20L4 18.59l7.72-7.72 1.47 1.35L5.41 20z\"/>\n",
              "  </svg>\n",
              "      </button>\n",
              "      \n",
              "  <style>\n",
              "    .colab-df-container {\n",
              "      display:flex;\n",
              "      flex-wrap:wrap;\n",
              "      gap: 12px;\n",
              "    }\n",
              "\n",
              "    .colab-df-convert {\n",
              "      background-color: #E8F0FE;\n",
              "      border: none;\n",
              "      border-radius: 50%;\n",
              "      cursor: pointer;\n",
              "      display: none;\n",
              "      fill: #1967D2;\n",
              "      height: 32px;\n",
              "      padding: 0 0 0 0;\n",
              "      width: 32px;\n",
              "    }\n",
              "\n",
              "    .colab-df-convert:hover {\n",
              "      background-color: #E2EBFA;\n",
              "      box-shadow: 0px 1px 2px rgba(60, 64, 67, 0.3), 0px 1px 3px 1px rgba(60, 64, 67, 0.15);\n",
              "      fill: #174EA6;\n",
              "    }\n",
              "\n",
              "    [theme=dark] .colab-df-convert {\n",
              "      background-color: #3B4455;\n",
              "      fill: #D2E3FC;\n",
              "    }\n",
              "\n",
              "    [theme=dark] .colab-df-convert:hover {\n",
              "      background-color: #434B5C;\n",
              "      box-shadow: 0px 1px 3px 1px rgba(0, 0, 0, 0.15);\n",
              "      filter: drop-shadow(0px 1px 2px rgba(0, 0, 0, 0.3));\n",
              "      fill: #FFFFFF;\n",
              "    }\n",
              "  </style>\n",
              "\n",
              "      <script>\n",
              "        const buttonEl =\n",
              "          document.querySelector('#df-f1c6e1ad-86d8-4e9b-abae-5db3c6e2b656 button.colab-df-convert');\n",
              "        buttonEl.style.display =\n",
              "          google.colab.kernel.accessAllowed ? 'block' : 'none';\n",
              "\n",
              "        async function convertToInteractive(key) {\n",
              "          const element = document.querySelector('#df-f1c6e1ad-86d8-4e9b-abae-5db3c6e2b656');\n",
              "          const dataTable =\n",
              "            await google.colab.kernel.invokeFunction('convertToInteractive',\n",
              "                                                     [key], {});\n",
              "          if (!dataTable) return;\n",
              "\n",
              "          const docLinkHtml = 'Like what you see? Visit the ' +\n",
              "            '<a target=\"_blank\" href=https://colab.research.google.com/notebooks/data_table.ipynb>data table notebook</a>'\n",
              "            + ' to learn more about interactive tables.';\n",
              "          element.innerHTML = '';\n",
              "          dataTable['output_type'] = 'display_data';\n",
              "          await google.colab.output.renderOutput(dataTable, element);\n",
              "          const docLink = document.createElement('div');\n",
              "          docLink.innerHTML = docLinkHtml;\n",
              "          element.appendChild(docLink);\n",
              "        }\n",
              "      </script>\n",
              "    </div>\n",
              "  </div>\n",
              "  "
            ]
          },
          "metadata": {},
          "execution_count": 5
        }
      ]
    },
    {
      "cell_type": "markdown",
      "source": [
        "## Installation des packages"
      ],
      "metadata": {
        "id": "E-XVmypjAn9R"
      }
    },
    {
      "cell_type": "code",
      "source": [
        "!pip install nltk\n",
        "!pip install gensim"
      ],
      "metadata": {
        "id": "MEyH2opHApYY"
      },
      "execution_count": null,
      "outputs": []
    },
    {
      "cell_type": "markdown",
      "source": [
        "## Importation des librairies"
      ],
      "metadata": {
        "id": "JhDUR85-__id"
      }
    },
    {
      "cell_type": "code",
      "execution_count": 7,
      "metadata": {
        "id": "6-4P9gIX9ekd"
      },
      "outputs": [],
      "source": [
        "import numpy as np"
      ]
    },
    {
      "cell_type": "code",
      "source": [
        "import gensim\n",
        "from gensim.utils import simple_preprocess\n",
        "from gensim.parsing.preprocessing import STOPWORDS\n",
        "from gensim.models import CoherenceModel"
      ],
      "metadata": {
        "id": "nyvBTN8N93rP"
      },
      "execution_count": 8,
      "outputs": []
    },
    {
      "cell_type": "code",
      "source": [
        "import nltk\n",
        "from nltk.stem import WordNetLemmatizer, SnowballStemmer\n",
        "from nltk.stem.porter import *\n",
        "nltk.download('wordnet')\n",
        "nltk.download('omw-1.4')"
      ],
      "metadata": {
        "id": "uKR_ffSO95C0"
      },
      "execution_count": null,
      "outputs": []
    },
    {
      "cell_type": "markdown",
      "source": [
        "## Fonction de preprocessing"
      ],
      "metadata": {
        "id": "Pyg6ZSXqADWM"
      }
    },
    {
      "cell_type": "markdown",
      "source": [
        "* on supprime tous les stopwords (this, that, where...)\n",
        "* on supprime les mots de moins de 3 lettres\n",
        "* on applique la lemmatisation"
      ],
      "metadata": {
        "id": "rx_1DduoDCfy"
      }
    },
    {
      "cell_type": "code",
      "source": [
        "stemmer = SnowballStemmer('french')"
      ],
      "metadata": {
        "id": "r1BI286C96Jd"
      },
      "execution_count": 10,
      "outputs": []
    },
    {
      "cell_type": "code",
      "source": [
        "def lemmatize_stemming(text) :\n",
        "  return stemmer.stem(WordNetLemmatizer().lemmatize(text, pos='n'))"
      ],
      "metadata": {
        "id": "nAvay7BvB2_d"
      },
      "execution_count": 11,
      "outputs": []
    },
    {
      "cell_type": "code",
      "source": [
        "def preprocess(text) :\n",
        "  result = []\n",
        "  for token in gensim.utils.simple_preprocess(text) :\n",
        "    if token not in gensim.parsing.preprocessing.STOPWORDS and len(token) > 3 :\n",
        "      result.append(lemmatize_stemming(token))\n",
        "  return result"
      ],
      "metadata": {
        "id": "6fX84XyfB3Fm"
      },
      "execution_count": 12,
      "outputs": []
    },
    {
      "cell_type": "markdown",
      "source": [
        "## Prepocessing des données"
      ],
      "metadata": {
        "id": "YBd3AEGrAIpB"
      }
    },
    {
      "cell_type": "markdown",
      "source": [
        "* on supprime les valeurs NAN de nos données\n",
        "* on applique la fonction de preprocessing"
      ],
      "metadata": {
        "id": "q44zRr0aDViq"
      }
    },
    {
      "cell_type": "code",
      "source": [
        "le_matin.dropna(subset = [\"content\"], inplace=True)"
      ],
      "metadata": {
        "id": "rUxfcf9UBMHo"
      },
      "execution_count": 13,
      "outputs": []
    },
    {
      "cell_type": "code",
      "source": [
        "processed_docs = [preprocess(doc) for doc in le_matin['content']]"
      ],
      "metadata": {
        "id": "vSjz7kVLAVnd"
      },
      "execution_count": 14,
      "outputs": []
    },
    {
      "cell_type": "code",
      "source": [
        "processed_docs[10][:10]"
      ],
      "metadata": {
        "id": "_HITiaJCFPbx",
        "colab": {
          "base_uri": "https://localhost:8080/"
        },
        "outputId": "137ad9a5-abf1-42a6-f23a-280ac82bc6d9"
      },
      "execution_count": 15,
      "outputs": [
        {
          "output_type": "execute_result",
          "data": {
            "text/plain": [
              "['voic',\n",
              " 'communiqu',\n",
              " 'cabinet',\n",
              " 'royal',\n",
              " 'suit',\n",
              " 'trist',\n",
              " 'nouvel',\n",
              " 'déces',\n",
              " 'cheikh',\n",
              " 'khalif']"
            ]
          },
          "metadata": {},
          "execution_count": 15
        }
      ]
    },
    {
      "cell_type": "markdown",
      "source": [
        "## Stockage des données après preprocessing"
      ],
      "metadata": {
        "id": "VnXUBOEMCueQ"
      }
    },
    {
      "cell_type": "markdown",
      "source": [
        "* on utilise un dictionnaire qui contient le mot comme clé et son nombre d'occurences comme valeur"
      ],
      "metadata": {
        "id": "BK6dyZPQEVxR"
      }
    },
    {
      "cell_type": "code",
      "source": [
        "dictionary = gensim.corpora.Dictionary(processed_docs)"
      ],
      "metadata": {
        "id": "zda4vHejC1iR"
      },
      "execution_count": 16,
      "outputs": []
    },
    {
      "cell_type": "markdown",
      "source": [
        "## Nettoyage du dictionnaire"
      ],
      "metadata": {
        "id": "WGwFlHekC52L"
      }
    },
    {
      "cell_type": "markdown",
      "source": [
        "* on supprime les mots trop rares qui appraîssent moins de 15 fois\n",
        "* on supprime les mots trop fréquents qui apparaîssent dans plus de 10% des documents\n",
        "* à la fin on ne garde que les 100 000 mots les plus fréquents "
      ],
      "metadata": {
        "id": "Rem9c9NrDABK"
      }
    },
    {
      "cell_type": "code",
      "source": [
        "dictionary.filter_extremes(no_below=15, no_above=0.1, keep_n=100000)"
      ],
      "metadata": {
        "id": "1CJcS0q7C5fo"
      },
      "execution_count": 17,
      "outputs": []
    },
    {
      "cell_type": "markdown",
      "source": [
        "## Conversion en Bag-Of-Words"
      ],
      "metadata": {
        "id": "DOSqfbwyElKn"
      }
    },
    {
      "cell_type": "markdown",
      "source": [
        "* on convertit notre dictionnaire en couple mot et nombres d'occurrences : format bag-of-words"
      ],
      "metadata": {
        "id": "a7pNl7vvEqq7"
      }
    },
    {
      "cell_type": "code",
      "source": [
        "bow_corpus = [dictionary.doc2bow(doc) for doc in processed_docs]"
      ],
      "metadata": {
        "id": "dPv6zXCgEqOS"
      },
      "execution_count": 18,
      "outputs": []
    },
    {
      "cell_type": "code",
      "source": [
        "for i in range(10) :\n",
        "    print(\"Word {} (\\\"{}\\\") appears {} time.\".format(bow_corpus[10][i][0], dictionary[bow_corpus[10][i][0]], bow_corpus[10][i][1]))"
      ],
      "metadata": {
        "id": "7CbuerrEE60U",
        "colab": {
          "base_uri": "https://localhost:8080/"
        },
        "outputId": "fb9b00f0-b303-4b3a-d1d1-a4fb22f94229"
      },
      "execution_count": 19,
      "outputs": [
        {
          "output_type": "stream",
          "name": "stdout",
          "text": [
            "Word 1 (\"altess\") appears 1 time.\n",
            "Word 11 (\"dieu\") appears 4 time.\n",
            "Word 14 (\"famill\") appears 2 time.\n",
            "Word 18 (\"glorif\") appears 1 time.\n",
            "Word 23 (\"hériti\") appears 2 time.\n",
            "Word 24 (\"illustr\") appears 2 time.\n",
            "Word 40 (\"peupl\") appears 3 time.\n",
            "Word 42 (\"princ\") appears 2 time.\n",
            "Word 44 (\"préserv\") appears 1 time.\n",
            "Word 47 (\"royal\") appears 1 time.\n"
          ]
        }
      ]
    },
    {
      "cell_type": "markdown",
      "source": [
        "## Exécution du LDA"
      ],
      "metadata": {
        "id": "nwmjzGDgFmAd"
      }
    },
    {
      "cell_type": "markdown",
      "source": [
        "* LdaMulticore pour utiliser tout les coeurs du CPU afin de gagner en temps d'exécution\n",
        "\n",
        "* num_topics : nombre de topic à extraire du corpus\n",
        "\n",
        "* id2word : mapping des identifiants de mots (entiers) aux mots (chaînes de caractères)\n",
        "\n",
        "* passes : nombre d'itération d'entraînement sur le corpus"
      ],
      "metadata": {
        "id": "qDx5HVejFsPP"
      }
    },
    {
      "cell_type": "code",
      "source": [
        "lda_model = gensim.models.LdaMulticore(bow_corpus, num_topics = 10, id2word = dictionary, passes = 1000)"
      ],
      "metadata": {
        "id": "cNtC5SJ0Foax"
      },
      "execution_count": 20,
      "outputs": []
    },
    {
      "cell_type": "code",
      "source": [
        "topics = []\n",
        "for idx, topic in lda_model.print_topics(-1) :\n",
        "    print(\"Topic: {} -> Words: {}\".format(idx, topic))\n",
        "    topics.append(topic)"
      ],
      "metadata": {
        "id": "coACO9bKF591",
        "colab": {
          "base_uri": "https://localhost:8080/"
        },
        "outputId": "faf10cec-5060-48fc-aa8e-8ec0f240522d"
      },
      "execution_count": 21,
      "outputs": [
        {
          "output_type": "stream",
          "name": "stdout",
          "text": [
            "Topic: 0 -> Words: 0.039*\"alopec\" + 0.025*\"médic\" + 0.022*\"cheveux\" + 0.019*\"cultur\" + 0.017*\"fréquent\" + 0.017*\"repouss\" + 0.017*\"poil\" + 0.014*\"agad\" + 0.014*\"corp\" + 0.013*\"américain\"\n",
            "Topic: 1 -> Words: 0.042*\"logist\" + 0.026*\"digitalis\" + 0.024*\"transport\" + 0.020*\"salon\" + 0.015*\"variol\" + 0.014*\"sing\" + 0.014*\"adapt\" + 0.014*\"professionnel\" + 0.009*\"urgenc\" + 0.009*\"tedros\"\n",
            "Topic: 2 -> Words: 0.071*\"cybersécur\" + 0.044*\"hackathon\" + 0.035*\"lmp\" + 0.021*\"startup\" + 0.020*\"numer\" + 0.020*\"météorolog\" + 0.019*\"orag\" + 0.018*\"security\" + 0.018*\"cyb\" + 0.018*\"enjeux\"\n",
            "Topic: 3 -> Words: 0.041*\"taux\" + 0.020*\"heur\" + 0.015*\"mainten\" + 0.015*\"immun\" + 0.015*\"majest\" + 0.014*\"instant\" + 0.012*\"plateform\" + 0.012*\"réclam\" + 0.012*\"médical\" + 0.011*\"royal\"\n",
            "Topic: 4 -> Words: 0.033*\"franklin\" + 0.019*\"personnag\" + 0.019*\"américain\" + 0.018*\"britann\" + 0.018*\"incarn\" + 0.018*\"franco\" + 0.017*\"pierr\" + 0.017*\"épisod\" + 0.017*\"michael\" + 0.016*\"benjamin\"\n",
            "Topic: 5 -> Words: 0.006*\"format\" + 0.006*\"conseil\" + 0.005*\"relat\" + 0.005*\"gouvern\" + 0.005*\"régional\" + 0.004*\"commun\" + 0.004*\"domain\" + 0.004*\"initi\" + 0.004*\"professionnel\" + 0.004*\"univers\"\n",
            "Topic: 6 -> Words: 0.006*\"vari\" + 0.006*\"enfant\" + 0.005*\"femm\" + 0.005*\"omicron\" + 0.004*\"risqu\" + 0.004*\"médecin\" + 0.004*\"prix\" + 0.004*\"expliqu\" + 0.004*\"sanitair\" + 0.004*\"faut\"\n",
            "Topic: 7 -> Words: 0.022*\"hybrid\" + 0.022*\"aircross\" + 0.016*\"conduit\" + 0.016*\"styl\" + 0.016*\"confort\" + 0.015*\"motoris\" + 0.013*\"conducteur\" + 0.013*\"litr\" + 0.013*\"bord\" + 0.013*\"moteur\"\n",
            "Topic: 8 -> Words: 0.029*\"rir\" + 0.025*\"afric\" + 0.025*\"startup\" + 0.019*\"talent\" + 0.019*\"spectacl\" + 0.018*\"forum\" + 0.018*\"catégor\" + 0.018*\"char\" + 0.013*\"francophon\" + 0.012*\"nomm\"\n",
            "Topic: 9 -> Words: 0.026*\"trafic\" + 0.019*\"euro\" + 0.018*\"perform\" + 0.018*\"nador\" + 0.017*\"west\" + 0.015*\"aéroport\" + 0.015*\"banqu\" + 0.015*\"commercial\" + 0.014*\"sal\" + 0.014*\"régional\"\n"
          ]
        }
      ]
    },
    {
      "cell_type": "markdown",
      "source": [
        "## Cohérence du topic modeling"
      ],
      "metadata": {
        "id": "qUcxjBWvGAQS"
      }
    },
    {
      "cell_type": "markdown",
      "source": [
        "* Les mesures de cohérence évaluent le degré de similitude sémantique entre les mots les mieux notés dans le topics\n",
        "* Ces mesures aident à faire la distinction entre les topics sémantiquement interprétables et les topics dû à des inférences statistiques\n",
        "* Pour un bon modèle LDA la cohérence doit être comprise entre 0.4 et 0.7 au delà le modèle est probablement erroné"
      ],
      "metadata": {
        "id": "chJtpqUoWu4l"
      }
    },
    {
      "cell_type": "code",
      "source": [
        "coherence_model_lda = CoherenceModel(model=lda_model, texts=processed_docs, dictionary=dictionary)\n",
        "coherence_lda = coherence_model_lda.get_coherence()\n",
        "print('\\nCoherence Score: ', coherence_lda)"
      ],
      "metadata": {
        "id": "6AkJGEy6WwwW",
        "colab": {
          "base_uri": "https://localhost:8080/"
        },
        "outputId": "adb5b1f8-b847-4bf8-f319-ca55f8ce4ba8"
      },
      "execution_count": 22,
      "outputs": [
        {
          "output_type": "stream",
          "name": "stdout",
          "text": [
            "\n",
            "Coherence Score:  0.4774890245987187\n"
          ]
        }
      ]
    },
    {
      "cell_type": "markdown",
      "source": [
        "## Stockage des résultats"
      ],
      "metadata": {
        "id": "K9dKZV6lGaXo"
      }
    },
    {
      "cell_type": "code",
      "source": [
        "all_topic_model = []\n",
        "for i in range(len(topics)):\n",
        "  str = topics[i].split(' + ')\n",
        "  topic_model = []\n",
        "  for j in range(10):\n",
        "    weight = str[j][0:5]\n",
        "    word = str[j][7:len(str[j])-1]\n",
        "    topic_model.append((weight, word))\n",
        "  all_topic_model.append(topic_model)"
      ],
      "metadata": {
        "id": "aJ3JuoeJGDKe"
      },
      "execution_count": 23,
      "outputs": []
    },
    {
      "cell_type": "code",
      "source": [
        "df_topic_model = pd.DataFrame(all_topic_model)\n",
        "df_topic_model.rename(index = {0: \"Topic 1\", 1: \"Topic 2\", 2: \"Topic 3\", 3: \"Topic 4\", 4: \"Topic 5\", 5: \"Topic 6\", 6: \"Topic 7\", 7: \"Topic 8\", 8: \"Topic 9\", 9: \"Topic 10\"}, inplace = True)"
      ],
      "metadata": {
        "id": "n8uTQobBGJBy"
      },
      "execution_count": 24,
      "outputs": []
    },
    {
      "cell_type": "code",
      "source": [
        "df_topic_model"
      ],
      "metadata": {
        "id": "1oJVAfq3GePr",
        "colab": {
          "base_uri": "https://localhost:8080/",
          "height": 363
        },
        "outputId": "93eca6c4-1b16-4cbb-f8eb-27912865b4c1"
      },
      "execution_count": 25,
      "outputs": [
        {
          "output_type": "execute_result",
          "data": {
            "text/plain": [
              "                            0                   1                   2  \\\n",
              "Topic 1       (0.039, alopec)      (0.025, médic)    (0.022, cheveux)   \n",
              "Topic 2       (0.042, logist)  (0.026, digitalis)  (0.024, transport)   \n",
              "Topic 3   (0.071, cybersécur)  (0.044, hackathon)        (0.035, lmp)   \n",
              "Topic 4         (0.041, taux)       (0.020, heur)    (0.015, mainten)   \n",
              "Topic 5     (0.033, franklin)  (0.019, personnag)  (0.019, américain)   \n",
              "Topic 6       (0.006, format)    (0.006, conseil)      (0.005, relat)   \n",
              "Topic 7         (0.006, vari)     (0.006, enfant)       (0.005, femm)   \n",
              "Topic 8       (0.022, hybrid)   (0.022, aircross)    (0.016, conduit)   \n",
              "Topic 9          (0.029, rir)      (0.025, afric)    (0.025, startup)   \n",
              "Topic 10      (0.026, trafic)       (0.019, euro)    (0.018, perform)   \n",
              "\n",
              "                         3                  4                    5  \\\n",
              "Topic 1    (0.019, cultur)  (0.017, fréquent)     (0.017, repouss)   \n",
              "Topic 2     (0.020, salon)    (0.015, variol)        (0.014, sing)   \n",
              "Topic 3   (0.021, startup)     (0.020, numer)  (0.020, météorolog)   \n",
              "Topic 4     (0.015, immun)    (0.015, majest)     (0.014, instant)   \n",
              "Topic 5   (0.018, britann)    (0.018, incarn)      (0.018, franco)   \n",
              "Topic 6   (0.005, gouvern)  (0.005, régional)      (0.004, commun)   \n",
              "Topic 7   (0.005, omicron)     (0.004, risqu)     (0.004, médecin)   \n",
              "Topic 8      (0.016, styl)   (0.016, confort)     (0.015, motoris)   \n",
              "Topic 9    (0.019, talent)  (0.019, spectacl)       (0.018, forum)   \n",
              "Topic 10    (0.018, nador)      (0.017, west)    (0.015, aéroport)   \n",
              "\n",
              "                            6                       7                       8  \\\n",
              "Topic 1         (0.017, poil)           (0.014, agad)           (0.014, corp)   \n",
              "Topic 2        (0.014, adapt)  (0.014, professionnel)         (0.009, urgenc)   \n",
              "Topic 3         (0.019, orag)       (0.018, security)            (0.018, cyb)   \n",
              "Topic 4    (0.012, plateform)         (0.012, réclam)        (0.012, médical)   \n",
              "Topic 5        (0.017, pierr)         (0.017, épisod)        (0.017, michael)   \n",
              "Topic 6       (0.004, domain)          (0.004, initi)  (0.004, professionnel)   \n",
              "Topic 7         (0.004, prix)        (0.004, expliqu)       (0.004, sanitair)   \n",
              "Topic 8   (0.013, conducteur)           (0.013, litr)           (0.013, bord)   \n",
              "Topic 9      (0.018, catégor)           (0.018, char)     (0.013, francophon)   \n",
              "Topic 10       (0.015, banqu)     (0.015, commercial)            (0.014, sal)   \n",
              "\n",
              "                           9  \n",
              "Topic 1   (0.013, américain)  \n",
              "Topic 2      (0.009, tedros)  \n",
              "Topic 3      (0.018, enjeux)  \n",
              "Topic 4       (0.011, royal)  \n",
              "Topic 5    (0.016, benjamin)  \n",
              "Topic 6     (0.004, univers)  \n",
              "Topic 7        (0.004, faut)  \n",
              "Topic 8      (0.013, moteur)  \n",
              "Topic 9        (0.012, nomm)  \n",
              "Topic 10   (0.014, régional)  "
            ],
            "text/html": [
              "\n",
              "  <div id=\"df-0ec29baa-2a88-407b-abaf-2928abbe4485\">\n",
              "    <div class=\"colab-df-container\">\n",
              "      <div>\n",
              "<style scoped>\n",
              "    .dataframe tbody tr th:only-of-type {\n",
              "        vertical-align: middle;\n",
              "    }\n",
              "\n",
              "    .dataframe tbody tr th {\n",
              "        vertical-align: top;\n",
              "    }\n",
              "\n",
              "    .dataframe thead th {\n",
              "        text-align: right;\n",
              "    }\n",
              "</style>\n",
              "<table border=\"1\" class=\"dataframe\">\n",
              "  <thead>\n",
              "    <tr style=\"text-align: right;\">\n",
              "      <th></th>\n",
              "      <th>0</th>\n",
              "      <th>1</th>\n",
              "      <th>2</th>\n",
              "      <th>3</th>\n",
              "      <th>4</th>\n",
              "      <th>5</th>\n",
              "      <th>6</th>\n",
              "      <th>7</th>\n",
              "      <th>8</th>\n",
              "      <th>9</th>\n",
              "    </tr>\n",
              "  </thead>\n",
              "  <tbody>\n",
              "    <tr>\n",
              "      <th>Topic 1</th>\n",
              "      <td>(0.039, alopec)</td>\n",
              "      <td>(0.025, médic)</td>\n",
              "      <td>(0.022, cheveux)</td>\n",
              "      <td>(0.019, cultur)</td>\n",
              "      <td>(0.017, fréquent)</td>\n",
              "      <td>(0.017, repouss)</td>\n",
              "      <td>(0.017, poil)</td>\n",
              "      <td>(0.014, agad)</td>\n",
              "      <td>(0.014, corp)</td>\n",
              "      <td>(0.013, américain)</td>\n",
              "    </tr>\n",
              "    <tr>\n",
              "      <th>Topic 2</th>\n",
              "      <td>(0.042, logist)</td>\n",
              "      <td>(0.026, digitalis)</td>\n",
              "      <td>(0.024, transport)</td>\n",
              "      <td>(0.020, salon)</td>\n",
              "      <td>(0.015, variol)</td>\n",
              "      <td>(0.014, sing)</td>\n",
              "      <td>(0.014, adapt)</td>\n",
              "      <td>(0.014, professionnel)</td>\n",
              "      <td>(0.009, urgenc)</td>\n",
              "      <td>(0.009, tedros)</td>\n",
              "    </tr>\n",
              "    <tr>\n",
              "      <th>Topic 3</th>\n",
              "      <td>(0.071, cybersécur)</td>\n",
              "      <td>(0.044, hackathon)</td>\n",
              "      <td>(0.035, lmp)</td>\n",
              "      <td>(0.021, startup)</td>\n",
              "      <td>(0.020, numer)</td>\n",
              "      <td>(0.020, météorolog)</td>\n",
              "      <td>(0.019, orag)</td>\n",
              "      <td>(0.018, security)</td>\n",
              "      <td>(0.018, cyb)</td>\n",
              "      <td>(0.018, enjeux)</td>\n",
              "    </tr>\n",
              "    <tr>\n",
              "      <th>Topic 4</th>\n",
              "      <td>(0.041, taux)</td>\n",
              "      <td>(0.020, heur)</td>\n",
              "      <td>(0.015, mainten)</td>\n",
              "      <td>(0.015, immun)</td>\n",
              "      <td>(0.015, majest)</td>\n",
              "      <td>(0.014, instant)</td>\n",
              "      <td>(0.012, plateform)</td>\n",
              "      <td>(0.012, réclam)</td>\n",
              "      <td>(0.012, médical)</td>\n",
              "      <td>(0.011, royal)</td>\n",
              "    </tr>\n",
              "    <tr>\n",
              "      <th>Topic 5</th>\n",
              "      <td>(0.033, franklin)</td>\n",
              "      <td>(0.019, personnag)</td>\n",
              "      <td>(0.019, américain)</td>\n",
              "      <td>(0.018, britann)</td>\n",
              "      <td>(0.018, incarn)</td>\n",
              "      <td>(0.018, franco)</td>\n",
              "      <td>(0.017, pierr)</td>\n",
              "      <td>(0.017, épisod)</td>\n",
              "      <td>(0.017, michael)</td>\n",
              "      <td>(0.016, benjamin)</td>\n",
              "    </tr>\n",
              "    <tr>\n",
              "      <th>Topic 6</th>\n",
              "      <td>(0.006, format)</td>\n",
              "      <td>(0.006, conseil)</td>\n",
              "      <td>(0.005, relat)</td>\n",
              "      <td>(0.005, gouvern)</td>\n",
              "      <td>(0.005, régional)</td>\n",
              "      <td>(0.004, commun)</td>\n",
              "      <td>(0.004, domain)</td>\n",
              "      <td>(0.004, initi)</td>\n",
              "      <td>(0.004, professionnel)</td>\n",
              "      <td>(0.004, univers)</td>\n",
              "    </tr>\n",
              "    <tr>\n",
              "      <th>Topic 7</th>\n",
              "      <td>(0.006, vari)</td>\n",
              "      <td>(0.006, enfant)</td>\n",
              "      <td>(0.005, femm)</td>\n",
              "      <td>(0.005, omicron)</td>\n",
              "      <td>(0.004, risqu)</td>\n",
              "      <td>(0.004, médecin)</td>\n",
              "      <td>(0.004, prix)</td>\n",
              "      <td>(0.004, expliqu)</td>\n",
              "      <td>(0.004, sanitair)</td>\n",
              "      <td>(0.004, faut)</td>\n",
              "    </tr>\n",
              "    <tr>\n",
              "      <th>Topic 8</th>\n",
              "      <td>(0.022, hybrid)</td>\n",
              "      <td>(0.022, aircross)</td>\n",
              "      <td>(0.016, conduit)</td>\n",
              "      <td>(0.016, styl)</td>\n",
              "      <td>(0.016, confort)</td>\n",
              "      <td>(0.015, motoris)</td>\n",
              "      <td>(0.013, conducteur)</td>\n",
              "      <td>(0.013, litr)</td>\n",
              "      <td>(0.013, bord)</td>\n",
              "      <td>(0.013, moteur)</td>\n",
              "    </tr>\n",
              "    <tr>\n",
              "      <th>Topic 9</th>\n",
              "      <td>(0.029, rir)</td>\n",
              "      <td>(0.025, afric)</td>\n",
              "      <td>(0.025, startup)</td>\n",
              "      <td>(0.019, talent)</td>\n",
              "      <td>(0.019, spectacl)</td>\n",
              "      <td>(0.018, forum)</td>\n",
              "      <td>(0.018, catégor)</td>\n",
              "      <td>(0.018, char)</td>\n",
              "      <td>(0.013, francophon)</td>\n",
              "      <td>(0.012, nomm)</td>\n",
              "    </tr>\n",
              "    <tr>\n",
              "      <th>Topic 10</th>\n",
              "      <td>(0.026, trafic)</td>\n",
              "      <td>(0.019, euro)</td>\n",
              "      <td>(0.018, perform)</td>\n",
              "      <td>(0.018, nador)</td>\n",
              "      <td>(0.017, west)</td>\n",
              "      <td>(0.015, aéroport)</td>\n",
              "      <td>(0.015, banqu)</td>\n",
              "      <td>(0.015, commercial)</td>\n",
              "      <td>(0.014, sal)</td>\n",
              "      <td>(0.014, régional)</td>\n",
              "    </tr>\n",
              "  </tbody>\n",
              "</table>\n",
              "</div>\n",
              "      <button class=\"colab-df-convert\" onclick=\"convertToInteractive('df-0ec29baa-2a88-407b-abaf-2928abbe4485')\"\n",
              "              title=\"Convert this dataframe to an interactive table.\"\n",
              "              style=\"display:none;\">\n",
              "        \n",
              "  <svg xmlns=\"http://www.w3.org/2000/svg\" height=\"24px\"viewBox=\"0 0 24 24\"\n",
              "       width=\"24px\">\n",
              "    <path d=\"M0 0h24v24H0V0z\" fill=\"none\"/>\n",
              "    <path d=\"M18.56 5.44l.94 2.06.94-2.06 2.06-.94-2.06-.94-.94-2.06-.94 2.06-2.06.94zm-11 1L8.5 8.5l.94-2.06 2.06-.94-2.06-.94L8.5 2.5l-.94 2.06-2.06.94zm10 10l.94 2.06.94-2.06 2.06-.94-2.06-.94-.94-2.06-.94 2.06-2.06.94z\"/><path d=\"M17.41 7.96l-1.37-1.37c-.4-.4-.92-.59-1.43-.59-.52 0-1.04.2-1.43.59L10.3 9.45l-7.72 7.72c-.78.78-.78 2.05 0 2.83L4 21.41c.39.39.9.59 1.41.59.51 0 1.02-.2 1.41-.59l7.78-7.78 2.81-2.81c.8-.78.8-2.07 0-2.86zM5.41 20L4 18.59l7.72-7.72 1.47 1.35L5.41 20z\"/>\n",
              "  </svg>\n",
              "      </button>\n",
              "      \n",
              "  <style>\n",
              "    .colab-df-container {\n",
              "      display:flex;\n",
              "      flex-wrap:wrap;\n",
              "      gap: 12px;\n",
              "    }\n",
              "\n",
              "    .colab-df-convert {\n",
              "      background-color: #E8F0FE;\n",
              "      border: none;\n",
              "      border-radius: 50%;\n",
              "      cursor: pointer;\n",
              "      display: none;\n",
              "      fill: #1967D2;\n",
              "      height: 32px;\n",
              "      padding: 0 0 0 0;\n",
              "      width: 32px;\n",
              "    }\n",
              "\n",
              "    .colab-df-convert:hover {\n",
              "      background-color: #E2EBFA;\n",
              "      box-shadow: 0px 1px 2px rgba(60, 64, 67, 0.3), 0px 1px 3px 1px rgba(60, 64, 67, 0.15);\n",
              "      fill: #174EA6;\n",
              "    }\n",
              "\n",
              "    [theme=dark] .colab-df-convert {\n",
              "      background-color: #3B4455;\n",
              "      fill: #D2E3FC;\n",
              "    }\n",
              "\n",
              "    [theme=dark] .colab-df-convert:hover {\n",
              "      background-color: #434B5C;\n",
              "      box-shadow: 0px 1px 3px 1px rgba(0, 0, 0, 0.15);\n",
              "      filter: drop-shadow(0px 1px 2px rgba(0, 0, 0, 0.3));\n",
              "      fill: #FFFFFF;\n",
              "    }\n",
              "  </style>\n",
              "\n",
              "      <script>\n",
              "        const buttonEl =\n",
              "          document.querySelector('#df-0ec29baa-2a88-407b-abaf-2928abbe4485 button.colab-df-convert');\n",
              "        buttonEl.style.display =\n",
              "          google.colab.kernel.accessAllowed ? 'block' : 'none';\n",
              "\n",
              "        async function convertToInteractive(key) {\n",
              "          const element = document.querySelector('#df-0ec29baa-2a88-407b-abaf-2928abbe4485');\n",
              "          const dataTable =\n",
              "            await google.colab.kernel.invokeFunction('convertToInteractive',\n",
              "                                                     [key], {});\n",
              "          if (!dataTable) return;\n",
              "\n",
              "          const docLinkHtml = 'Like what you see? Visit the ' +\n",
              "            '<a target=\"_blank\" href=https://colab.research.google.com/notebooks/data_table.ipynb>data table notebook</a>'\n",
              "            + ' to learn more about interactive tables.';\n",
              "          element.innerHTML = '';\n",
              "          dataTable['output_type'] = 'display_data';\n",
              "          await google.colab.output.renderOutput(dataTable, element);\n",
              "          const docLink = document.createElement('div');\n",
              "          docLink.innerHTML = docLinkHtml;\n",
              "          element.appendChild(docLink);\n",
              "        }\n",
              "      </script>\n",
              "    </div>\n",
              "  </div>\n",
              "  "
            ]
          },
          "metadata": {},
          "execution_count": 25
        }
      ]
    },
    {
      "cell_type": "code",
      "source": [
        "df_topic_model.to_csv('topic_model_morocco_world_news.csv')"
      ],
      "metadata": {
        "id": "j8LQYDKhGjgj"
      },
      "execution_count": 26,
      "outputs": []
    },
    {
      "cell_type": "markdown",
      "source": [
        "## Visualisation des résultats"
      ],
      "metadata": {
        "id": "_XauehNMWzx3"
      }
    },
    {
      "cell_type": "code",
      "source": [
        "!pip install pyLDAvis"
      ],
      "metadata": {
        "id": "e3WBIBk1W641"
      },
      "execution_count": null,
      "outputs": []
    },
    {
      "cell_type": "code",
      "source": [
        "import pyLDAvis.gensim_models"
      ],
      "metadata": {
        "id": "ctVelgpWW8CX"
      },
      "execution_count": null,
      "outputs": []
    },
    {
      "cell_type": "code",
      "source": [
        "pyLDAvis.enable_notebook()\n",
        "pyLDAvis.gensim_models.prepare(lda_model, bow_corpus, dictionary)"
      ],
      "metadata": {
        "id": "slv7QxK_W9Df"
      },
      "execution_count": null,
      "outputs": []
    }
  ]
}