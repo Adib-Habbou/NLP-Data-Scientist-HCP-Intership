{
  "nbformat": 4,
  "nbformat_minor": 0,
  "metadata": {
    "colab": {
      "name": "web_scraping_hespress.ipynb",
      "provenance": [],
      "collapsed_sections": []
    },
    "kernelspec": {
      "name": "python3",
      "display_name": "Python 3"
    },
    "language_info": {
      "name": "python"
    }
  },
  "cells": [
    {
      "cell_type": "markdown",
      "source": [
        "# Web Scraping Hespress"
      ],
      "metadata": {
        "id": "lgFCim2XzLGk"
      }
    },
    {
      "cell_type": "markdown",
      "source": [
        "## Installation du package selenium et du chromedriver"
      ],
      "metadata": {
        "id": "J_1dWUx7E2SY"
      }
    },
    {
      "cell_type": "code",
      "execution_count": null,
      "metadata": {
        "id": "yRCiyVm6Ey7u"
      },
      "outputs": [],
      "source": [
        "# installation du package selenium\n",
        "!pip install selenium\n",
        "# installation du chormedriver\n",
        "!apt install chromium-chromedriver\n",
        "# copie du chromedriver\n",
        "!cp C:\\Users\\Adib\\Documents\\Stage\\Stage 1A\\Selenium\\chromedriver.exe"
      ]
    },
    {
      "cell_type": "markdown",
      "source": [
        "## Importation des librairies nécessaires"
      ],
      "metadata": {
        "id": "ETjk9VWXE4J9"
      }
    },
    {
      "cell_type": "code",
      "source": [
        "from selenium import webdriver\n",
        "import pandas as pd"
      ],
      "metadata": {
        "id": "0__rpeUUE5ay"
      },
      "execution_count": null,
      "outputs": []
    },
    {
      "cell_type": "markdown",
      "source": [
        "## Modification des options du chromedriver"
      ],
      "metadata": {
        "id": "A50-5VWpE6SS"
      }
    },
    {
      "cell_type": "code",
      "source": [
        "# options chromedriver pour l'utiliser dans un notebook\n",
        "options = webdriver.ChromeOptions()\n",
        "options.add_argument('-headless')\n",
        "options.add_argument('-no-sandbox')\n",
        "options.add_argument('-disable-dev-shm-usage')"
      ],
      "metadata": {
        "id": "DG4FKg3rE7ZY"
      },
      "execution_count": null,
      "outputs": []
    },
    {
      "cell_type": "markdown",
      "source": [
        "## Instanciation du WebDriver de Chrome"
      ],
      "metadata": {
        "id": "xySU4yVjE8kB"
      }
    },
    {
      "cell_type": "code",
      "source": [
        "# création de l'instance WebDriver de Chrome\n",
        "driver = webdriver.Chrome('chromedriver', options = options)\n",
        "# lien du site Hespress\n",
        "website = 'https://www.hespress.com/'"
      ],
      "metadata": {
        "id": "m68y4qYME9nP"
      },
      "execution_count": null,
      "outputs": []
    },
    {
      "cell_type": "markdown",
      "source": [
        "## Liste des catégories du site"
      ],
      "metadata": {
        "id": "1Jzjt6AoE-3d"
      }
    },
    {
      "cell_type": "code",
      "source": [
        "# catégories du Hespress\n",
        "categories = ['politique', 'regions', 'societe', 'economie', 'faits-divers', 'medias', 'art-et-culture', 'tamazight', 'sport', 'international', 'marocains-du-monde', 'automoto', 'varieties']"
      ],
      "metadata": {
        "id": "EJZGyIebFAH2"
      },
      "execution_count": null,
      "outputs": []
    },
    {
      "cell_type": "markdown",
      "source": [
        "## Récupération des liens d'articles"
      ],
      "metadata": {
        "id": "f-E9b2yLFBUg"
      }
    },
    {
      "cell_type": "code",
      "source": [
        "# liste des liens vers les articles\n",
        "articles_links = []\n",
        "# parcours des catégories\n",
        "for category in categories:\n",
        "  category_link = website + category\n",
        "  # parcours des articles de chaque catégorie\n",
        "  driver.get(category_link)\n",
        "  href_links = driver.find_elements_by_xpath('//div/div/div/div/div/div/a[@href]')\n",
        "  for href_link in href_links:\n",
        "    articles_links.append(href_link.get_attribute('href'))"
      ],
      "metadata": {
        "id": "5rq6RejDFClQ"
      },
      "execution_count": null,
      "outputs": []
    },
    {
      "cell_type": "markdown",
      "source": [
        "## Vérification de la liste de liens"
      ],
      "metadata": {
        "id": "TwP_rc3DFpec"
      }
    },
    {
      "cell_type": "code",
      "source": [
        "# affichage de 5 liens pris au hasard\n",
        "articles_links[95:100]"
      ],
      "metadata": {
        "colab": {
          "base_uri": "https://localhost:8080/"
        },
        "id": "XhQGQXKFFpl0",
        "outputId": "2332e61a-1921-4572-dc0d-e2a0bf0b88ee"
      },
      "execution_count": null,
      "outputs": [
        {
          "output_type": "execute_result",
          "data": {
            "text/plain": [
              "['https://www.hespress.com/%d9%85%d8%b3%d9%84%d8%b3%d9%84-%d8%a8%d8%a7%d8%a8%d8%a7-%d8%b9%d9%84%d9%8a-%d9%8a%d8%ad%d8%b5%d8%af-%d8%aa%d9%81%d8%a7%d8%b9%d9%84-%d9%85%d8%aa%d8%a7%d8%a8%d8%b9%d9%8a-%d8%a7%d9%84%d8%af%d8%b1-983564.html',\n",
              " 'https://www.hespress.com/%d8%a7%d9%84%d8%a8%d8%af%d8%b1%d8%a7%d9%88%d9%8a-%d9%8a%d9%83%d8%b4%d9%81-%d9%82%d9%8a%d9%85%d8%a9-%d8%af%d9%8a%d9%88%d9%86-%d8%a7%d9%84%d8%b1%d8%ac%d8%a7%d8%a1-%d8%a7%d9%84%d8%a8%d9%8a%d8%b6%d8%a7-1001739.html',\n",
              " 'https://www.hespress.com/%d8%ac%d8%a7%d9%85%d8%b9%d8%a9-%d9%83%d8%b1%d8%a9-%d8%a7%d9%84%d9%82%d8%af%d9%85-%d8%aa%d8%a8%d8%ad%d8%ab-%d8%b9%d9%86-%d8%a5%d8%b4%d8%b9%d8%a7%d8%b9-%d8%a3%d9%83%d8%a8%d8%b1-1001579.html',\n",
              " 'https://www.hespress.com/%d8%a7%d9%84%d9%86%d8%b5%d9%8a%d8%b1%d9%8a-%d8%a8%d8%b1-%d8%a7%d9%84%d9%88%d8%a7%d9%84%d8%af-%d8%a3%d8%b9%d8%b8%d9%85-%d9%88%d8%a7%d9%84%d9%88%d8%a7%d9%84%d8%af%d8%a9-%d8%a3%d9%84%d8%b2%d9%85-1001643.html',\n",
              " 'https://www.hespress.com/%d9%85%d8%b5%d8%a7%d8%af%d8%b1-%d8%a7%d9%84%d8%ac%d8%a7%d9%85%d8%b9%d8%a9-%d8%aa%d9%82%d8%aa%d8%b1%d8%a8-%d9%85%d9%86-%d8%a5%d9%82%d8%a7%d9%84%d8%a9-%d8%ae%d8%a7%d9%84%d9%8a%d9%84%d9%88%d8%b2%d9%8a-1001742.html']"
            ]
          },
          "metadata": {},
          "execution_count": 54
        }
      ]
    },
    {
      "cell_type": "code",
      "source": [
        "# affichage du nombre total de liens\n",
        "len(articles_links)"
      ],
      "metadata": {
        "colab": {
          "base_uri": "https://localhost:8080/"
        },
        "id": "jdnSUKdbFpvq",
        "outputId": "72e55b23-e680-4eb9-f71b-80857347af51"
      },
      "execution_count": null,
      "outputs": [
        {
          "output_type": "execute_result",
          "data": {
            "text/plain": [
              "156"
            ]
          },
          "metadata": {},
          "execution_count": 55
        }
      ]
    },
    {
      "cell_type": "markdown",
      "source": [
        "## Récupération du contenu des articles"
      ],
      "metadata": {
        "id": "u_3sp00-LjYk"
      }
    },
    {
      "cell_type": "code",
      "source": [
        "# data frame des données collectés\n",
        "df_articles = pd.DataFrame()\n",
        "# parcours des liens collectés\n",
        "for article_link in articles_links:\n",
        "  # accès à la page de l'article\n",
        "  driver.get(article_link)\n",
        "  # récupération du titre de l'article\n",
        "  title = driver.find_element_by_class_name('post-title').text\n",
        "  # récupération de l'auteur de l'article\n",
        "  author = driver.find_element_by_class_name('author').text\n",
        "  # récupération de la date de publication de l'article\n",
        "  date = driver.find_element_by_class_name('date-post').text\n",
        "  # récupération du contenu de l'article\n",
        "  content = driver.find_elements_by_class_name('article-content')[0].text\n",
        "  # création de la liste de nos données\n",
        "  article = {'title' : title, 'author' : author, 'date' : date, 'content' : content}\n",
        "  # transformation en data frame\n",
        "  df_article = pd.DataFrame(article, index = [0])\n",
        "  # transformation en data frame\n",
        "  df_articles = df_articles.append(df_article, ignore_index=True)"
      ],
      "metadata": {
        "id": "kVAs67c2WyOs"
      },
      "execution_count": null,
      "outputs": []
    },
    {
      "cell_type": "markdown",
      "source": [
        "## Vérification des données collectés"
      ],
      "metadata": {
        "id": "ss6HpbLPXBQ0"
      }
    },
    {
      "cell_type": "code",
      "source": [
        "# affichage des premières valeurs\n",
        "df_articles.head()"
      ],
      "metadata": {
        "colab": {
          "base_uri": "https://localhost:8080/",
          "height": 206
        },
        "id": "gO_FavDdXCuE",
        "outputId": "4bffeb56-1d70-4fcc-d687-ae83aed68732"
      },
      "execution_count": null,
      "outputs": [
        {
          "output_type": "execute_result",
          "data": {
            "text/plain": [
              "                                               title                author  \\\n",
              "0  ورقة بحثية تقارب تحوّلات علاقة الولاة برؤساء ا...  هسبريس - يوسف يعكوبي   \n",
              "1  \"أغلبية المستشارين\" تستعد لتعديل مشروع الدفع ب...  هسبريس - الشرقي لحرش   \n",
              "2  بنطلحة: دينامية ملف الصحراء المغربية تشكل صدمة...      هسبريس من الرباط   \n",
              "3                السلطة القضائية تبسط خطة إستراتيجية      هسبريس من الرباط   \n",
              "4                   ميارة يلاقي مجلس الشيوخ بالمكسيك      هسبريس من الرباط   \n",
              "\n",
              "                           date  \\\n",
              "0   السبت 11 يونيو 2022 - 11:00   \n",
              "1   السبت 11 يونيو 2022 - 09:00   \n",
              "2   السبت 11 يونيو 2022 - 07:00   \n",
              "3   السبت 11 يونيو 2022 - 00:36   \n",
              "4  الجمعة 10 يونيو 2022 - 23:17   \n",
              "\n",
              "                                             content  \n",
              "0  ورقةُ سياسات جديدة تبحث في تحولات علاقة الولاة...  \n",
              "1  قررت لجنة العدل والتشريع وحقوق الإنسان بمجلس ا...  \n",
              "2  قال الدكتور محمد بنطلحة الدكالي، أستاذ العلوم ...  \n",
              "3  قدم المجلس الأعلى للسلطة القضائية، الجمعة، برو...  \n",
              "4  استقبل النعم ميارة، رئيس مجلس المستشارين، الجم...  "
            ],
            "text/html": [
              "\n",
              "  <div id=\"df-aecc04eb-9ffb-4fd8-93a1-5b0b9bad104c\">\n",
              "    <div class=\"colab-df-container\">\n",
              "      <div>\n",
              "<style scoped>\n",
              "    .dataframe tbody tr th:only-of-type {\n",
              "        vertical-align: middle;\n",
              "    }\n",
              "\n",
              "    .dataframe tbody tr th {\n",
              "        vertical-align: top;\n",
              "    }\n",
              "\n",
              "    .dataframe thead th {\n",
              "        text-align: right;\n",
              "    }\n",
              "</style>\n",
              "<table border=\"1\" class=\"dataframe\">\n",
              "  <thead>\n",
              "    <tr style=\"text-align: right;\">\n",
              "      <th></th>\n",
              "      <th>title</th>\n",
              "      <th>author</th>\n",
              "      <th>date</th>\n",
              "      <th>content</th>\n",
              "    </tr>\n",
              "  </thead>\n",
              "  <tbody>\n",
              "    <tr>\n",
              "      <th>0</th>\n",
              "      <td>ورقة بحثية تقارب تحوّلات علاقة الولاة برؤساء ا...</td>\n",
              "      <td>هسبريس - يوسف يعكوبي</td>\n",
              "      <td>السبت 11 يونيو 2022 - 11:00</td>\n",
              "      <td>ورقةُ سياسات جديدة تبحث في تحولات علاقة الولاة...</td>\n",
              "    </tr>\n",
              "    <tr>\n",
              "      <th>1</th>\n",
              "      <td>\"أغلبية المستشارين\" تستعد لتعديل مشروع الدفع ب...</td>\n",
              "      <td>هسبريس - الشرقي لحرش</td>\n",
              "      <td>السبت 11 يونيو 2022 - 09:00</td>\n",
              "      <td>قررت لجنة العدل والتشريع وحقوق الإنسان بمجلس ا...</td>\n",
              "    </tr>\n",
              "    <tr>\n",
              "      <th>2</th>\n",
              "      <td>بنطلحة: دينامية ملف الصحراء المغربية تشكل صدمة...</td>\n",
              "      <td>هسبريس من الرباط</td>\n",
              "      <td>السبت 11 يونيو 2022 - 07:00</td>\n",
              "      <td>قال الدكتور محمد بنطلحة الدكالي، أستاذ العلوم ...</td>\n",
              "    </tr>\n",
              "    <tr>\n",
              "      <th>3</th>\n",
              "      <td>السلطة القضائية تبسط خطة إستراتيجية</td>\n",
              "      <td>هسبريس من الرباط</td>\n",
              "      <td>السبت 11 يونيو 2022 - 00:36</td>\n",
              "      <td>قدم المجلس الأعلى للسلطة القضائية، الجمعة، برو...</td>\n",
              "    </tr>\n",
              "    <tr>\n",
              "      <th>4</th>\n",
              "      <td>ميارة يلاقي مجلس الشيوخ بالمكسيك</td>\n",
              "      <td>هسبريس من الرباط</td>\n",
              "      <td>الجمعة 10 يونيو 2022 - 23:17</td>\n",
              "      <td>استقبل النعم ميارة، رئيس مجلس المستشارين، الجم...</td>\n",
              "    </tr>\n",
              "  </tbody>\n",
              "</table>\n",
              "</div>\n",
              "      <button class=\"colab-df-convert\" onclick=\"convertToInteractive('df-aecc04eb-9ffb-4fd8-93a1-5b0b9bad104c')\"\n",
              "              title=\"Convert this dataframe to an interactive table.\"\n",
              "              style=\"display:none;\">\n",
              "        \n",
              "  <svg xmlns=\"http://www.w3.org/2000/svg\" height=\"24px\"viewBox=\"0 0 24 24\"\n",
              "       width=\"24px\">\n",
              "    <path d=\"M0 0h24v24H0V0z\" fill=\"none\"/>\n",
              "    <path d=\"M18.56 5.44l.94 2.06.94-2.06 2.06-.94-2.06-.94-.94-2.06-.94 2.06-2.06.94zm-11 1L8.5 8.5l.94-2.06 2.06-.94-2.06-.94L8.5 2.5l-.94 2.06-2.06.94zm10 10l.94 2.06.94-2.06 2.06-.94-2.06-.94-.94-2.06-.94 2.06-2.06.94z\"/><path d=\"M17.41 7.96l-1.37-1.37c-.4-.4-.92-.59-1.43-.59-.52 0-1.04.2-1.43.59L10.3 9.45l-7.72 7.72c-.78.78-.78 2.05 0 2.83L4 21.41c.39.39.9.59 1.41.59.51 0 1.02-.2 1.41-.59l7.78-7.78 2.81-2.81c.8-.78.8-2.07 0-2.86zM5.41 20L4 18.59l7.72-7.72 1.47 1.35L5.41 20z\"/>\n",
              "  </svg>\n",
              "      </button>\n",
              "      \n",
              "  <style>\n",
              "    .colab-df-container {\n",
              "      display:flex;\n",
              "      flex-wrap:wrap;\n",
              "      gap: 12px;\n",
              "    }\n",
              "\n",
              "    .colab-df-convert {\n",
              "      background-color: #E8F0FE;\n",
              "      border: none;\n",
              "      border-radius: 50%;\n",
              "      cursor: pointer;\n",
              "      display: none;\n",
              "      fill: #1967D2;\n",
              "      height: 32px;\n",
              "      padding: 0 0 0 0;\n",
              "      width: 32px;\n",
              "    }\n",
              "\n",
              "    .colab-df-convert:hover {\n",
              "      background-color: #E2EBFA;\n",
              "      box-shadow: 0px 1px 2px rgba(60, 64, 67, 0.3), 0px 1px 3px 1px rgba(60, 64, 67, 0.15);\n",
              "      fill: #174EA6;\n",
              "    }\n",
              "\n",
              "    [theme=dark] .colab-df-convert {\n",
              "      background-color: #3B4455;\n",
              "      fill: #D2E3FC;\n",
              "    }\n",
              "\n",
              "    [theme=dark] .colab-df-convert:hover {\n",
              "      background-color: #434B5C;\n",
              "      box-shadow: 0px 1px 3px 1px rgba(0, 0, 0, 0.15);\n",
              "      filter: drop-shadow(0px 1px 2px rgba(0, 0, 0, 0.3));\n",
              "      fill: #FFFFFF;\n",
              "    }\n",
              "  </style>\n",
              "\n",
              "      <script>\n",
              "        const buttonEl =\n",
              "          document.querySelector('#df-aecc04eb-9ffb-4fd8-93a1-5b0b9bad104c button.colab-df-convert');\n",
              "        buttonEl.style.display =\n",
              "          google.colab.kernel.accessAllowed ? 'block' : 'none';\n",
              "\n",
              "        async function convertToInteractive(key) {\n",
              "          const element = document.querySelector('#df-aecc04eb-9ffb-4fd8-93a1-5b0b9bad104c');\n",
              "          const dataTable =\n",
              "            await google.colab.kernel.invokeFunction('convertToInteractive',\n",
              "                                                     [key], {});\n",
              "          if (!dataTable) return;\n",
              "\n",
              "          const docLinkHtml = 'Like what you see? Visit the ' +\n",
              "            '<a target=\"_blank\" href=https://colab.research.google.com/notebooks/data_table.ipynb>data table notebook</a>'\n",
              "            + ' to learn more about interactive tables.';\n",
              "          element.innerHTML = '';\n",
              "          dataTable['output_type'] = 'display_data';\n",
              "          await google.colab.output.renderOutput(dataTable, element);\n",
              "          const docLink = document.createElement('div');\n",
              "          docLink.innerHTML = docLinkHtml;\n",
              "          element.appendChild(docLink);\n",
              "        }\n",
              "      </script>\n",
              "    </div>\n",
              "  </div>\n",
              "  "
            ]
          },
          "metadata": {},
          "execution_count": 31
        }
      ]
    },
    {
      "cell_type": "code",
      "source": [
        "# affichage de la taille de ntore data frame\n",
        "len(df_articles)"
      ],
      "metadata": {
        "colab": {
          "base_uri": "https://localhost:8080/"
        },
        "id": "UKBA0b0eXD4I",
        "outputId": "a7b2a6e0-6b1a-4583-8278-698360196fff"
      },
      "execution_count": null,
      "outputs": [
        {
          "output_type": "execute_result",
          "data": {
            "text/plain": [
              "120"
            ]
          },
          "metadata": {},
          "execution_count": 32
        }
      ]
    },
    {
      "cell_type": "markdown",
      "source": [
        "## Conversion en fichier csv"
      ],
      "metadata": {
        "id": "WemcpkxcXE22"
      }
    },
    {
      "cell_type": "code",
      "source": [
        "# transformation du data frame en fichier csv\n",
        "df_articles.to_csv('hespress_articles.csv')"
      ],
      "metadata": {
        "id": "RHxShTB1XGNN"
      },
      "execution_count": null,
      "outputs": []
    }
  ]
}